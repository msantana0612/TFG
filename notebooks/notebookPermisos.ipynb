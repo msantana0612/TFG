{
 "cells": [
  {
   "cell_type": "markdown",
   "id": "56371638-880a-4e02-9544-c2f9709c0372",
   "metadata": {
    "id": "56371638-880a-4e02-9544-c2f9709c0372"
   },
   "source": [
    "<!--NAVIGATION-->\n",
    "\n",
    "\n",
    "<a href=\"https://colab.research.google.com/github/msantana0612/TFG/blob/main/notebooks/notebookPermisos.ipynb\" target=\"_blank\" rel=\"noopener noreferrer\"><img align=\"left\" src=\"https://colab.research.google.com/assets/colab-badge.svg\" alt=\"Open in Colab\" title=\"Open and Execute in Google Colaboratory\"></a>"
   ]
  },
  {
   "cell_type": "markdown",
   "id": "2288f56a-1d55-40e3-ae6d-62865d2d5242",
   "metadata": {
    "id": "2288f56a-1d55-40e3-ae6d-62865d2d5242",
    "tags": []
   },
   "source": [
    "<h1>Permisos</h1>"
   ]
  },
  {
   "cell_type": "markdown",
   "id": "6c5676ae-0e7c-44d7-9fba-65728b63b5b8",
   "metadata": {
    "id": "6c5676ae-0e7c-44d7-9fba-65728b63b5b8"
   },
   "source": [
    "<div style=\"font-size: 17px\">\n",
    "Al usar el comando <code>ls -l</code>, se muestran más detalles sobre los archivos y directorios. Entre ellos, al principio se muestra una cadena de letras:\n",
    "</div>"
   ]
  },
  {
   "cell_type": "code",
   "execution_count": null,
   "id": "xV4E_oSSZKsP",
   "metadata": {
    "colab": {
     "base_uri": "https://localhost:8080/"
    },
    "id": "xV4E_oSSZKsP",
    "outputId": "46a8a2fc-6da8-4504-ad0b-0be3c9ca1eb2"
   },
   "outputs": [
    {
     "name": "stdout",
     "output_type": "stream",
     "text": [
      "total 104\n",
      "lrwxrwxrwx   1 root root     7 Oct  4  2023 bin -> usr/bin\n",
      "drwxr-xr-x   2 root root  4096 Apr 18  2022 boot\n",
      "drwxr-xr-x   1 root root  4096 Aug 23 13:20 content\n",
      "-rw-r--r--   1 root root  4332 Nov 10  2023 cuda-keyring_1.0-1_all.deb\n",
      "drwxr-xr-x   1 root root  4096 Aug 23 13:40 datalab\n",
      "drwxr-xr-x   5 root root   360 Aug 27 15:28 dev\n",
      "drwxr-xr-x   1 root root  4096 Aug 27 15:28 etc\n",
      "drwxr-xr-x   2 root root  4096 Apr 18  2022 home\n",
      "lrwxrwxrwx   1 root root     7 Oct  4  2023 lib -> usr/lib\n",
      "lrwxrwxrwx   1 root root     9 Oct  4  2023 lib32 -> usr/lib32\n",
      "lrwxrwxrwx   1 root root     9 Oct  4  2023 lib64 -> usr/lib64\n",
      "lrwxrwxrwx   1 root root    10 Oct  4  2023 libx32 -> usr/libx32\n",
      "drwxr-xr-x   2 root root  4096 Oct  4  2023 media\n",
      "drwxr-xr-x   2 root root  4096 Oct  4  2023 mnt\n",
      "-rw-r--r--   1 root root 17294 Nov 10  2023 NGC-DL-CONTAINER-LICENSE\n",
      "drwxr-xr-x   1 root root  4096 Aug 23 13:55 opt\n",
      "dr-xr-xr-x 205 root root     0 Aug 27 15:28 proc\n",
      "drwxr-xr-x  15 root root  4096 Aug 23 13:18 python-apt\n",
      "drwx------   1 root root  4096 Aug 27 15:28 root\n",
      "drwxr-xr-x   1 root root  4096 Aug 23 13:12 run\n",
      "lrwxrwxrwx   1 root root     8 Oct  4  2023 sbin -> usr/sbin\n",
      "drwxr-xr-x   2 root root  4096 Oct  4  2023 srv\n",
      "dr-xr-xr-x  13 root root     0 Aug 27 15:28 sys\n",
      "drwxrwxrwt   1 root root  4096 Aug 27 15:29 tmp\n",
      "drwxr-xr-x   1 root root  4096 Aug 23 13:39 tools\n",
      "drwxr-xr-x   1 root root  4096 Aug 23 13:41 usr\n",
      "drwxr-xr-x   1 root root  4096 Aug 23 13:40 var\n"
     ]
    },
    {
     "data": {
      "text/plain": []
     },
     "execution_count": 1,
     "metadata": {},
     "output_type": "execute_result"
    }
   ],
   "source": [
    "%%shell\n",
    "ls -l /"
   ]
  },
  {
   "cell_type": "markdown",
   "id": "S_jOQs5UZSki",
   "metadata": {
    "id": "S_jOQs5UZSki"
   },
   "source": [
    "<div style=\"font-size: 17px\">\n",
    "\n",
    "Estas letras son los **permisos** de cada archivo o directorio. Estos permisos indican qué usuarios pueden leer (r), escribir (w) o ejecutar (x) cada archivo. Además, la primera letra sirve para indicar el tipo de archivo.\n",
    "\n",
    "Cada uno de estos tres permisos (rwx) se indican para tres tipos de usuarios:\n",
    "\n",
    "  -  Permisos del propietario del archivo\n",
    "  -  Permisos de los usuarios pertenecientes al mismo grupo del propietario del archivo\n",
    "  -  Permisos del resto de usuarios distintos del sistema\n",
    "\n",
    "Para indicar que un usuario no tiene un permiso concreto, se indica con <code>-</code> en vez de la letra correspondiente\n",
    "</div>"
   ]
  },
  {
   "cell_type": "markdown",
   "id": "z7q_I329Z8lM",
   "metadata": {
    "id": "z7q_I329Z8lM"
   },
   "source": [
    "![Permisos](https://raw.githubusercontent.com/msantana0612/TFG/gh-pages/images/permisos.jpg)"
   ]
  },
  {
   "cell_type": "markdown",
   "id": "w0gGu8TJbHbX",
   "metadata": {
    "id": "w0gGu8TJbHbX"
   },
   "source": [
    "<div style=\"font-size: 17px\">\n",
    "Para poder manejar estos permisos, existen los siguientes comandos:\n",
    "\n",
    "  - **<code>chmod</code>**: Cambia los permisos de un archivo o directorio. Sólo puede ser utilizado por el propietario de ese archivo o por el superusuario. Se puede indicar de dos formas:\n",
    "\n",
    "    - **Notación Simbólica**: Se indica primero a qué usuarios vamos a cambiarle los permisos (user, group, others o all), seguido de qué acción se hará (añadir, quitar o establecer) y finalmente los permisos a modificar (rwx): \n",
    "      - <code>chmod [ugoa][+-=][rwx] archivo</code>\n",
    "\n",
    "    - **Notación Octal**: Mediante tres números (uno para cada tipo de usuarios) se indica qué permisos tendrá el archivo. Estos números son de 3 bits (de 0 a 7). Esta representación binaria indica qué permisos se pondrán a verdadero (a un 1) y cuáles a falso (a un 0). Por ejemplo, el 7 (111) indica que los tres permisos estarán a verdadero, mientras que el 3 (011) indica que la lectura está deshabilitada pero la escritura y la ejecución estarán a verdadero.\n",
    "</div>"
   ]
  },
  {
   "cell_type": "markdown",
   "id": "UoSf7OBjggNX",
   "metadata": {
    "id": "UoSf7OBjggNX"
   },
   "source": [
    "![Notacion Octal](https://raw.githubusercontent.com/msantana0612/TFG/gh-pages/images/notacionoctal.png)"
   ]
  },
  {
   "cell_type": "code",
   "execution_count": null,
   "id": "QV8flbNtdPab",
   "metadata": {
    "colab": {
     "base_uri": "https://localhost:8080/"
    },
    "id": "QV8flbNtdPab",
    "outputId": "c8b856b2-5e3b-409a-8fc0-37e65ce2439a"
   },
   "outputs": [
    {
     "name": "stdout",
     "output_type": "stream",
     "text": [
      "total 4\n",
      "-rwxr-xr-x 1 root   root    0 Aug 27 15:52 archivoOctal.txt\n",
      "-r-xr-xr-x 1 root   root    0 Aug 27 15:52 archivoSimbolico.txt\n",
      "drwxr-xr-x 1 alumno root 4096 Aug 23 13:20 sample_data\n"
     ]
    },
    {
     "data": {
      "text/plain": []
     },
     "execution_count": 20,
     "metadata": {},
     "output_type": "execute_result"
    }
   ],
   "source": [
    "%%shell\n",
    "touch archivoSimbolico.txt\n",
    "touch archivoOctal.txt\n",
    "chmod a=rx archivoSimbolico.txt\n",
    "chmod 755 archivoOctal.txt\n",
    "ls -l\n",
    "rm archivoOctal.txt\n",
    "rm archivoSimbolico.txt"
   ]
  },
  {
   "cell_type": "markdown",
   "id": "46IkVa_FdO9G",
   "metadata": {
    "id": "46IkVa_FdO9G"
   },
   "source": [
    "<div style=\"font-size: 17px\">\n",
    "\n",
    "  - **<code>chown</code>**: Indicando un usuario y un archivo, cambia el dueño de ese archivo o directorio al usuario indicado. También puede cambiar su grupo si en vez de indicar sólo el usuario se indica el grupo (usuario:grupo).\n",
    "</div>"
   ]
  },
  {
   "cell_type": "code",
   "execution_count": null,
   "id": "YDAR-QP_ctSZ",
   "metadata": {
    "colab": {
     "base_uri": "https://localhost:8080/"
    },
    "id": "YDAR-QP_ctSZ",
    "outputId": "3a6d80b2-185c-4bf6-e1cf-697b4554b11e"
   },
   "outputs": [
    {
     "name": "stdout",
     "output_type": "stream",
     "text": [
      "total 4\n",
      "-rwxr-xr-x 1 root root    0 Aug 27 15:52 archivoOctal.txt\n",
      "-r-xr-xr-x 1 root root    0 Aug 27 15:52 archivoSimbolico.txt\n",
      "drwxr-xr-x 1 root root 4096 Aug 23 13:20 sample_data\n",
      "total 4\n",
      "-rwxr-xr-x 1 root   root    0 Aug 27 15:52 archivoOctal.txt\n",
      "-r-xr-xr-x 1 root   root    0 Aug 27 15:52 archivoSimbolico.txt\n",
      "drwxr-xr-x 1 alumno root 4096 Aug 23 13:20 sample_data\n"
     ]
    },
    {
     "data": {
      "text/plain": []
     },
     "execution_count": 25,
     "metadata": {},
     "output_type": "execute_result"
    }
   ],
   "source": [
    "%%shell\n",
    "ls -l\n",
    "useradd alumno #Crea un nuevo usuario\n",
    "chown alumno sample_data/\n",
    "ls -l"
   ]
  },
  {
   "cell_type": "markdown",
   "id": "6FCkf5IHeaf0",
   "metadata": {
    "id": "6FCkf5IHeaf0"
   },
   "source": [
    "<div style=\"font-size: 17px\">\n",
    "\n",
    "  - **<code>chgrp</code>**: Cambia el grupo de un archivo o directorio.\n",
    "  </div>"
   ]
  },
  {
   "cell_type": "code",
   "execution_count": null,
   "id": "qu6TC8hGeaxf",
   "metadata": {
    "colab": {
     "base_uri": "https://localhost:8080/"
    },
    "id": "qu6TC8hGeaxf",
    "outputId": "20e2f735-3d41-4782-d677-7138a9abf9ae"
   },
   "outputs": [
    {
     "name": "stdout",
     "output_type": "stream",
     "text": [
      "total 4\n",
      "-rwxr-xr-x 1 root   root    0 Aug 27 15:52 archivoOctal.txt\n",
      "-r-xr-xr-x 1 root   root    0 Aug 27 15:52 archivoSimbolico.txt\n",
      "drwxr-xr-x 1 alumno root 4096 Aug 23 13:20 sample_data\n",
      "total 4\n",
      "-rwxr-xr-x 1 root   root     0 Aug 27 15:52 archivoOctal.txt\n",
      "-r-xr-xr-x 1 root   root     0 Aug 27 15:52 archivoSimbolico.txt\n",
      "drwxr-xr-x 1 alumno grupo 4096 Aug 23 13:20 sample_data\n"
     ]
    },
    {
     "data": {
      "text/plain": []
     },
     "execution_count": 26,
     "metadata": {},
     "output_type": "execute_result"
    }
   ],
   "source": [
    "%%shell\n",
    "ls -l\n",
    "groupadd grupo #Crea un nuevo grupo\n",
    "chgrp grupo sample_data/\n",
    "ls -l"
   ]
  },
  {
   "cell_type": "markdown",
   "id": "HDnEW6qnea4W",
   "metadata": {
    "id": "HDnEW6qnea4W"
   },
   "source": [
    "<div style=\"font-size: 17px\">\n",
    "\n",
    "  - **<code>umask</code>**: Cambia la máscara por defecto al crear archivos y directorios. Si no se le introduce ningún argumento, muestra la máscara actual. Esta máscara indica con notación octal qué permisos no se darán por defecto cuando se cree un archivo. Por defecto, para los archivos los permisos máximos son 666 (sólo escritura y lectura, pero no ejecución) mientras que para los directorios es 777 (todos los permisos). Al aplicar la máscara, se determinan qué permisos tendrá al crearse: 666 - 026 = 640 (rw-r-----)\n",
    "</div>"
   ]
  },
  {
   "cell_type": "code",
   "execution_count": null,
   "id": "5okpan9Lea9-",
   "metadata": {
    "colab": {
     "base_uri": "https://localhost:8080/"
    },
    "id": "5okpan9Lea9-",
    "outputId": "863a353c-332a-41f8-cb7e-9d0e456f773d"
   },
   "outputs": [
    {
     "name": "stdout",
     "output_type": "stream",
     "text": [
      "total 4\n",
      "-rwxr-xr-x 1 root   root     0 Aug 27 15:52 archivoOctal.txt\n",
      "-r-xr-xr-x 1 root   root     0 Aug 27 15:52 archivoSimbolico.txt\n",
      "-rw-r----- 1 root   root     0 Aug 27 16:01 mascara.txt\n",
      "drwxr-xr-x 1 alumno grupo 4096 Aug 23 13:20 sample_data\n"
     ]
    },
    {
     "data": {
      "text/plain": []
     },
     "execution_count": 31,
     "metadata": {},
     "output_type": "execute_result"
    }
   ],
   "source": [
    "%%shell\n",
    "umask 0026\n",
    "touch mascara.txt\n",
    "ls -l\n",
    "rm mascara.txt\n"
   ]
  },
  {
   "cell_type": "markdown",
   "id": "ludnUy4OkuII",
   "metadata": {
    "id": "ludnUy4OkuII"
   },
   "source": [
    "<h3>Ejercicio</h3>"
   ]
  },
  {
   "cell_type": "markdown",
   "id": "36e79cab",
   "metadata": {},
   "source": [
    "<div style=\"font-size: 17px\">\n",
    "Modifica los permisos del siguiente archivo para que pueda ser leído por todos los usuarios, pero solo modificado y ejecutado por el creador. Además modifica su propietario y su grupo por tu nombre y apellido:\n",
    "</div>"
   ]
  },
  {
   "cell_type": "code",
   "execution_count": null,
   "id": "19wkTXlplRWU",
   "metadata": {
    "id": "19wkTXlplRWU"
   },
   "outputs": [],
   "source": [
    "%%shell\n",
    "mkdir ejercicio\n",
    "cd ejercicio\n",
    "touch ejercicio.txt\n",
    "#Borra este comentario e introduce aquí el/los comando/s necesario/s\n",
    "ls -l\n",
    "rm ejercicio.txt\n",
    "cd ..\n",
    "rmdir ejercicio"
   ]
  },
  {
   "cell_type": "markdown",
   "id": "5a38135f",
   "metadata": {},
   "source": [
    "<div style=\"font-size: 17px\">\n",
    "Crea el archivo \"ejercicio.txt\" con los siguientes permisos: -rw-rw-r--\n",
    "</div>"
   ]
  },
  {
   "cell_type": "code",
   "execution_count": null,
   "id": "0ebaa795",
   "metadata": {},
   "outputs": [],
   "source": [
    "%%shell\n",
    "mkdir ejercicio\n",
    "cd ejercicio\n",
    "#Borra este comentario e introduce aquí el/los comando/s necesario/s\n",
    "touch ejercicio.txt\n",
    "ls -l\n",
    "rm ejercicio.txt\n",
    "cd ..\n",
    "rmdir ejercicio"
   ]
  }
 ],
 "metadata": {
  "colab": {
   "provenance": []
  },
  "kernelspec": {
   "display_name": "Python 3 (ipykernel)",
   "language": "python",
   "name": "python3"
  },
  "language_info": {
   "codemirror_mode": {
    "name": "ipython",
    "version": 3
   },
   "file_extension": ".py",
   "mimetype": "text/x-python",
   "name": "python",
   "nbconvert_exporter": "python",
   "pygments_lexer": "ipython3",
   "version": "3.11.4"
  }
 },
 "nbformat": 4,
 "nbformat_minor": 5
}
