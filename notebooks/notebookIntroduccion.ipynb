{
 "cells": [
  {
   "cell_type": "markdown",
   "id": "2288f56a-1d55-40e3-ae6d-62865d2d5242",
   "metadata": {
    "id": "2288f56a-1d55-40e3-ae6d-62865d2d5242",
    "tags": []
   },
   "source": [
    "<h1>Introducción</h1>"
   ]
  },
  {
   "cell_type": "markdown",
   "id": "3TPmaiKJ0fbu",
   "metadata": {
    "id": "3TPmaiKJ0fbu"
   },
   "source": [
    "<h2>¿Qué es un Sistema Operativo?</h2>"
   ]
  },
  {
   "cell_type": "markdown",
   "id": "g_SWuLhg0mgj",
   "metadata": {
    "id": "g_SWuLhg0mgj"
   },
   "source": [
    "<div style=\"font-size: 17px\">\n",
    "Un sistema operativo (SO) es el software que actúa como intermediario entre el hardware de un computador y las aplicaciones que utiliza el usuario. Su función principal es gestionar los recursos del sistema, como la memoria, el procesador, los dispositivos de almacenamiento, y garantizar que los programas se ejecuten de manera eficiente y sin conflictos.\n",
    "\n",
    "Los sistemas operativos más comunes incluyen Windows, MacOS, y Linux, aunque hay muchos otros diseñados para usos específicos. Entre sus tareas se encuentran:\n",
    "\n",
    "- Gestión de procesos: asignación de tiempo de procesador a las aplicaciones.\n",
    "- Gestión de memoria: asignación de memoria para que las aplicaciones se ejecuten correctamente.\n",
    "- Gestión de archivos: control sobre la lectura, escritura y almacenamiento de datos en discos.\n",
    "- Control de dispositivos: comunicación entre el software y el hardware como impresoras, discos duros, teclados, etc.\n",
    "</div>"
   ]
  },
  {
   "cell_type": "markdown",
   "id": "64b49852-cf45-445b-b334-26674f3ef795",
   "metadata": {
    "id": "64b49852-cf45-445b-b334-26674f3ef795"
   },
   "source": [
    "![Sistema Operativo](https://raw.githubusercontent.com/msantana0612/TFG/gh-pages/images/ssoo.jpeg)"
   ]
  },
  {
   "cell_type": "markdown",
   "id": "86ad0dbb",
   "metadata": {},
   "source": [
    "<h2>Historia de Linux</h2>"
   ]
  },
  {
   "cell_type": "markdown",
   "id": "af1ad32e",
   "metadata": {},
   "source": [
    "<div style=\"font-size: 17px\">\n",
    "Linux es un sistema operativo de tipo Unix que fue creado por Linus Torvalds en 1991. La historia de Linux está íntimamente ligada a Unix, que es uno de los primeros sistemas operativos multitarea y multiusuario desarrollados en los años 70.\n",
    "\n",
    "- **Unix**: En los años 70, los laboratorios Bell desarrollaron Unix, un sistema operativo que influenció enormemente a los sistemas modernos. Su filosofía se basa en la simplicidad y modularidad, con herramientas que realizan una tarea específica.\n",
    "- **Minix**: En los años 80, Andrew S. Tanenbaum creó Minix, un sistema similar a Unix para fines educativos. Este proyecto sirvió de inspiración para Linus Torvalds.\n",
    "- **Creación de Linux (1991)**: En 1991, Linus Torvalds, un estudiante de informática finlandés, comenzó a desarrollar su propio kernel inspirado en Minix. Publicó el código bajo una licencia abierta, lo que permitió a otros desarrolladores colaborar y mejorar el sistema.\n",
    "- **GNU y la unión con Linux**: Paralelamente, el proyecto GNU, iniciado por Richard Stallman en 1983, había desarrollado una serie de herramientas y programas de software libre para un sistema operativo similar a Unix, pero faltaba un núcleo o kernel. Cuando el kernel de Linux fue liberado, se combinó con las herramientas del proyecto GNU, lo que dio lugar a lo que hoy conocemos como GNU/Linux.\n",
    "\n",
    "Desde su creación, Linux ha crecido y se ha consolidado como un sistema operativo robusto y flexible, ampliamente utilizado en servidores, supercomputadoras, dispositivos móviles (como Android), y cada vez más en entornos de escritorio.\n",
    "</div>"
   ]
  },
  {
   "cell_type": "markdown",
   "id": "8V8eXpcB4hfI",
   "metadata": {
    "id": "8V8eXpcB4hfI"
   },
   "source": [
    "<h2>Diferencias entre sistema operativo y distribución</h2>"
   ]
  },
  {
   "cell_type": "markdown",
   "id": "3bsNCD6v4qRO",
   "metadata": {
    "id": "3bsNCD6v4qRO"
   },
   "source": [
    "<div style=\"font-size: 17px\">\n",
    "Mientras que el sistema operativo es el núcleo que gestiona los recursos y la interacción entre el hardware y el software, una distribución se refiere a una versión específica de ese sistema operativo, empaquetada con un conjunto particular de aplicaciones, herramientas y configuraciones. Las distribuciones están diseñadas para cumplir con diferentes propósitos o preferencias de los usuarios.\n",
    "\n",
    "Por ejemplo, en el ecosistema de Linux (Sistema Operativo) existen diversas distribuciones como Ubuntu, Fedora y Debian. Cada una de estas distribuciones ofrece una experiencia de usuario distinta, con diferentes entornos de escritorio, gestores de paquetes y configuraciones predeterminadas, aunque todas comparten el mismo núcleo Linux.\n",
    "\n",
    "Para saber en qué distribucion estamos trabajando, se puede usar el siguiente comando:\n",
    "</div>"
   ]
  },
  {
   "cell_type": "code",
   "execution_count": 3,
   "id": "9a9dc33a-14ab-46b4-ade3-6a1afb1d65d1",
   "metadata": {
    "colab": {
     "base_uri": "https://localhost:8080/"
    },
    "id": "9a9dc33a-14ab-46b4-ade3-6a1afb1d65d1",
    "outputId": "c61a961e-49a6-4fc7-f64d-faf98472e010"
   },
   "outputs": [
    {
     "name": "stdout",
     "output_type": "stream",
     "text": [
      "Description:\tUbuntu 22.04.3 LTS\n"
     ]
    },
    {
     "data": {
      "text/plain": []
     },
     "execution_count": 3,
     "metadata": {},
     "output_type": "execute_result"
    }
   ],
   "source": [
    "%%shell\n",
    "lsb_release -d"
   ]
  },
  {
   "cell_type": "markdown",
   "id": "RlX6ayAu6qTU",
   "metadata": {
    "id": "RlX6ayAu6qTU"
   },
   "source": [
    "<h2>La terminal bash</h2>"
   ]
  },
  {
   "cell_type": "markdown",
   "id": "431FEE4A61Wa",
   "metadata": {
    "id": "431FEE4A61Wa"
   },
   "source": [
    "<div style=\"font-size: 17px\">\n",
    "Bash (Bourne Again Shell) es un intérprete de comandos que forma parte del sistema operativo Linux. Un intérprete de comandos o shell es un programa que recibe órdenes del usuario, las interpreta, y las ejecuta.<br>\n",
    "Bash fue desarrollado por Brian Fox en 1989 como parte del proyecto GNU. Es una mejora del antiguo Bourne Shell (sh), con características adicionales como la edición de línea de comandos, el historial de comandos, y la capacidad de manejar scripts más complejos. Bash no solo permite ejecutar comandos del sistema operativo, sino que también permite escribir scripts que automatizan tareas repetitivas o complejas. Un script de Bash es simplemente una secuencia de comandos ejecutados de forma secuencial.\n",
    "\n",
    "Algunas de las características clave de Bash incluyen:\n",
    "\n",
    "- **Interpretación de comandos**: El usuario puede ejecutar comandos simples como ls (listar archivos) o pwd (mostrar el directorio actual).\n",
    "- **Automatización mediante scripts**: Permite escribir archivos de texto con secuencias de comandos que se ejecutan automáticamente.\n",
    "- **Variables y control de flujo**: Bash admite el uso de variables y construcciones de control de flujo, como bucles y condicionales (if, for, while).\n",
    "- **Personalización**: El entorno de Bash se puede personalizar mediante archivos como .bashrc o .bash_profile, que permiten configurar alias, variables de entorno, y más.\n",
    "\n",
    "Por ejemplo, para ver la version de bash que se está ejecutando se puede introducir la siguiente orden:\n",
    "</div>"
   ]
  },
  {
   "cell_type": "code",
   "execution_count": 4,
   "id": "4bgOKNde7s21",
   "metadata": {
    "colab": {
     "base_uri": "https://localhost:8080/"
    },
    "id": "4bgOKNde7s21",
    "outputId": "fd255f44-d868-41e1-ab83-4c353dd20564"
   },
   "outputs": [
    {
     "name": "stdout",
     "output_type": "stream",
     "text": [
      "GNU bash, version 5.1.16(1)-release (x86_64-pc-linux-gnu)\n",
      "Copyright (C) 2020 Free Software Foundation, Inc.\n",
      "License GPLv3+: GNU GPL version 3 or later <http://gnu.org/licenses/gpl.html>\n",
      "\n",
      "This is free software; you are free to change and redistribute it.\n",
      "There is NO WARRANTY, to the extent permitted by law.\n"
     ]
    },
    {
     "data": {
      "text/plain": []
     },
     "execution_count": 4,
     "metadata": {},
     "output_type": "execute_result"
    }
   ],
   "source": [
    "%%shell\n",
    "bash --version"
   ]
  }
 ],
 "metadata": {
  "colab": {
   "provenance": []
  },
  "kernelspec": {
   "display_name": "Python 3 (ipykernel)",
   "language": "python",
   "name": "python3"
  },
  "language_info": {
   "codemirror_mode": {
    "name": "ipython",
    "version": 3
   },
   "file_extension": ".py",
   "mimetype": "text/x-python",
   "name": "python",
   "nbconvert_exporter": "python",
   "pygments_lexer": "ipython3",
   "version": "3.11.4"
  }
 },
 "nbformat": 4,
 "nbformat_minor": 5
}
