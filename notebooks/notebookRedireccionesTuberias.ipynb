{
  "cells": [
    {
      "cell_type": "markdown",
      "id": "56371638-880a-4e02-9544-c2f9709c0372",
      "metadata": {
        "id": "56371638-880a-4e02-9544-c2f9709c0372"
      },
      "source": [
        "<!--NAVIGATION-->\n",
        "\n",
        "\n",
        "<a href=\"https://colab.research.google.com/github/msantana0612/TFG/blob/main/notebooks/notebookRedireccionesTuberias.ipynb\" target=\"_blank\" rel=\"noopener noreferrer\"><img align=\"left\" src=\"https://colab.research.google.com/assets/colab-badge.svg\" alt=\"Open in Colab\" title=\"Open and Execute in Google Colaboratory\"></a>"
      ]
    },
    {
      "cell_type": "markdown",
      "id": "WRJyTw3Zhs_B",
      "metadata": {
        "id": "WRJyTw3Zhs_B"
      },
      "source": [
        "<h1>Redirecciones y tuberías</h1>"
      ]
    },
    {
      "cell_type": "markdown",
      "id": "dd2efa14",
      "metadata": {},
      "source": [
        "<h2>Redirecciones</h2>"
      ]
    },
    {
      "cell_type": "markdown",
      "id": "ZurIahLNeLG9",
      "metadata": {
        "id": "ZurIahLNeLG9"
      },
      "source": [
        "<h3>Entrada y salida estándar</h3>"
      ]
    },
    {
      "cell_type": "markdown",
      "id": "aJuCxQlxocsz",
      "metadata": {
        "id": "aJuCxQlxocsz"
      },
      "source": [
        "<div style=\"font-size: 17px\">\n",
        "\n",
        "Cada proceso tiene definido por defecto varios **descriptores de archivos**, que indican a qué archivo o dispositivo accederán para leer o escribir los datos. Los descriptores **por defecto** son los siguientes:\n",
        "\n",
        "| Descriptor | Archivo |            Dispositivo             | Descripción |\n",
        "|------------|---------|------------------------------------|-------------|\n",
        "|      0     |  `stdin`  | Teclado del terminal por defecto   | Entrada de datos estándar que utiliza el proceso     |\n",
        "|      1     |  `stdout` | Pantalla del terminal por defecto  | Salida de datos estándar que utiliza el proceso     |\n",
        "|      2     |  `stderr` | Pantalla del terminal por defecto  | Salida de datos que utiliza el proceso en caso de encontrar algún error     |\n",
        "\n",
        "Para cambiar estos descriptores, se usan las **redirecciones**. Una redirección permite cambiar los dispositivos por defecto antes mencionados. Por ejemplo, se puede realizar lo siguiente:\n",
        "\n",
        "- Leer datos desde un archivo en lugar del teclado.\n",
        "- Guardar la salida de un comando en un archivo.\n",
        "- Registrar errores en un archivo específico para analizarlos más tarde.\n",
        "</div>"
      ]
    },
    {
      "cell_type": "markdown",
      "id": "b1350620",
      "metadata": {
        "id": "b1350620"
      },
      "source": [
        "<div style=\"text-align: center;\">\n",
        "    <img src=\"https://raw.githubusercontent.com/msantana0612/TFG/gh-pages/images/sinRedir.png\" alt=\"Sin Redirecciones\" width=\"648\" height=\"337\">\n",
        "</div>"
      ]
    },
    {
      "cell_type": "markdown",
      "id": "358c1ad0",
      "metadata": {},
      "source": [
        "<h3>Tipos de Redirecciones</h3>"
      ]
    },
    {
      "cell_type": "markdown",
      "id": "fd7fabca",
      "metadata": {
        "id": "fd7fabca"
      },
      "source": [
        "<div style=\"font-size: 17px\">\n",
        "\n",
        "Existen tres tipos de redirecciones:\n",
        "  - **Entrada estándar (<code>stdin</code>)**: Se usa con <code><</code>, y sustituye al teclado como entrada estándar.\n",
        "  \n",
        "**Ejemplo**: Al usar la orden <code>sort</code> junto con <code><</code>, toma como entrada el archivo y muestra su contenido ordenado alfabéticamente:\n",
        "</div>"
      ]
    },
    {
      "cell_type": "code",
      "execution_count": null,
      "id": "uCV50uyDujJp",
      "metadata": {
        "colab": {
          "base_uri": "https://localhost:8080/"
        },
        "id": "uCV50uyDujJp",
        "outputId": "afe231e8-1b01-4d88-edf7-49eab72da4df"
      },
      "outputs": [
        {
          "name": "stdout",
          "output_type": "stream",
          "text": [
            "_apt:x:100:65534::/nonexistent:/usr/sbin/nologin\n",
            "backup:x:34:34:backup:/var/backups:/usr/sbin/nologin\n",
            "bin:x:2:2:bin:/bin:/usr/sbin/nologin\n",
            "daemon:x:1:1:daemon:/usr/sbin:/usr/sbin/nologin\n",
            "games:x:5:60:games:/usr/games:/usr/sbin/nologin\n",
            "gnats:x:41:41:Gnats Bug-Reporting System (admin):/var/lib/gnats:/usr/sbin/nologin\n",
            "irc:x:39:39:ircd:/run/ircd:/usr/sbin/nologin\n",
            "list:x:38:38:Mailing List Manager:/var/list:/usr/sbin/nologin\n",
            "lp:x:7:7:lp:/var/spool/lpd:/usr/sbin/nologin\n",
            "mail:x:8:8:mail:/var/mail:/usr/sbin/nologin\n",
            "man:x:6:12:man:/var/cache/man:/usr/sbin/nologin\n",
            "messagebus:x:103:104::/nonexistent:/usr/sbin/nologin\n",
            "news:x:9:9:news:/var/spool/news:/usr/sbin/nologin\n",
            "nobody:x:65534:65534:nobody:/nonexistent:/usr/sbin/nologin\n",
            "proxy:x:13:13:proxy:/bin:/usr/sbin/nologin\n",
            "root:x:0:0:root:/root:/bin/bash\n",
            "sync:x:4:65534:sync:/bin:/bin/sync\n",
            "systemd-network:x:101:102:systemd Network Management,,,:/run/systemd:/usr/sbin/nologin\n",
            "systemd-resolve:x:102:103:systemd Resolver,,,:/run/systemd:/usr/sbin/nologin\n",
            "sys:x:3:3:sys:/dev:/usr/sbin/nologin\n",
            "uucp:x:10:10:uucp:/var/spool/uucp:/usr/sbin/nologin\n",
            "www-data:x:33:33:www-data:/var/www:/usr/sbin/nologin\n"
          ]
        },
        {
          "data": {
            "text/plain": []
          },
          "execution_count": 1,
          "metadata": {},
          "output_type": "execute_result"
        }
      ],
      "source": [
        "%%shell\n",
        "sort < /etc/passwd"
      ]
    },
    {
      "cell_type": "markdown",
      "id": "cefbeed9",
      "metadata": {
        "id": "cefbeed9"
      },
      "source": [
        "<div style=\"text-align: center;\">\n",
        "    <img src=\"https://raw.githubusercontent.com/msantana0612/TFG/gh-pages/images/inputRedir.png\" alt=\"Redirección de entrada\" width=\"636\" height=\"202\">\n",
        "</div>"
      ]
    },
    {
      "cell_type": "markdown",
      "id": "qCGsyMz6uhVs",
      "metadata": {
        "id": "qCGsyMz6uhVs"
      },
      "source": [
        "<div style=\"font-size: 17px\">\n",
        "  \n",
        "  - **Salida estándar (<code>stdout</code>)**: Se usa con <code>></code> o <code>>></code>, y permite guardar el resultado que se mostraría en la terminal en un archivo. La diferencia entre usar <code>></code> y <code>>></code> es que al usar solo un carácter sustituye el contenido del archivo por el nuevo (**sobreescribe** el archivo), mientras que si se usan dos añade el nuevo contenido al archivo.\n",
        "\n",
        "**Ejemplo**: Se guarda la salida de dos comandos <code>echo</code> distintos, sin sobreescribir el contenido anterior y se muestra:\n",
        "</div>"
      ]
    },
    {
      "cell_type": "code",
      "execution_count": null,
      "id": "rvEF0YJqt-dz",
      "metadata": {
        "colab": {
          "base_uri": "https://localhost:8080/"
        },
        "id": "rvEF0YJqt-dz",
        "outputId": "2a1d2df8-925c-416c-8b58-cca0d11a514e"
      },
      "outputs": [
        {
          "name": "stdout",
          "output_type": "stream",
          "text": [
            "Hola, mundo!\n",
            "Si uso dos, no borra el contenido\n"
          ]
        },
        {
          "data": {
            "text/plain": []
          },
          "execution_count": 2,
          "metadata": {},
          "output_type": "execute_result"
        }
      ],
      "source": [
        "%%shell\n",
        "echo \"Hola, mundo!\" >> salida.txt\n",
        "echo \"Si uso dos, no borra el contenido\" >> salida.txt\n",
        "cat salida.txt"
      ]
    },
    {
      "cell_type": "markdown",
      "id": "46993bbc",
      "metadata": {
        "id": "46993bbc"
      },
      "source": [
        "<div style=\"text-align: center;\">\n",
        "    <img src=\"https://raw.githubusercontent.com/msantana0612/TFG/gh-pages/images/outputRedir.png\" alt=\"Redirección de salida\" width=\"636\" height=\"202\">\n",
        "</div>"
      ]
    },
    {
      "cell_type": "markdown",
      "id": "Tmv5cCGnv8Am",
      "metadata": {
        "id": "Tmv5cCGnv8Am"
      },
      "source": [
        "<div style=\"font-size: 17px\">\n",
        "\n",
        " - **Salida de errores estándar (<code>stderr</code>)**: Se usa con <code>2></code> o <code>2>></code>, y permite guardar el resultado que se mostraría en la terminal en caso de encontrar un error en un archivo. La diferencia entre <code>2></code> y <code>2>></code> es la misma que en el caso de la salida estándar.\n",
        " \n",
        "**Ejemplo**: Al mover un archivo que no existe, saltará un error, que se guarda en un archivo. Como se usa <code>2></code>, aunque se haga dos veces, el archivo sólo contiene el texto de la segunda ejecución porque sustituye el contenido anterior:\n",
        "</div>"
      ]
    },
    {
      "cell_type": "code",
      "execution_count": null,
      "id": "Q-9djxNBv8JB",
      "metadata": {
        "colab": {
          "base_uri": "https://localhost:8080/"
        },
        "id": "Q-9djxNBv8JB",
        "outputId": "071199bf-482a-4921-c1f7-173a6cb285ff"
      },
      "outputs": [
        {
          "name": "stdout",
          "output_type": "stream",
          "text": [
            "mv: cannot stat 'noexisto.txt': No such file or directory\n"
          ]
        },
        {
          "data": {
            "text/plain": []
          },
          "execution_count": 5,
          "metadata": {},
          "output_type": "execute_result"
        }
      ],
      "source": [
        "%%shell\n",
        "mv noexisto.txt fichero.txt 2> salida.txt\n",
        "mv noexisto.txt fichero.txt 2> salida.txt\n",
        "cat salida.txt"
      ]
    },
    {
      "cell_type": "markdown",
      "id": "12811a98",
      "metadata": {
        "id": "12811a98"
      },
      "source": [
        "<div style=\"text-align: center;\">\n",
        "    <img src=\"https://raw.githubusercontent.com/msantana0612/TFG/gh-pages/images/errRedir.png\" alt=\"Redirección de errores\" width=\"636\" height=\"202\">\n",
        "</div>"
      ]
    },
    {
      "cell_type": "markdown",
      "id": "596f2118",
      "metadata": {},
      "source": [
        "<h3>Ejemplos de uso</h3>"
      ]
    },
    {
      "cell_type": "markdown",
      "id": "e3711414",
      "metadata": {},
      "source": [
        "<div style=\"font-size: 17px\">\n",
        "\n",
        "| Uso                                                                     | Comando                                     | Descripción                                            |\n",
        "|-------------------------------------------------------------------------|---------------------------------------------|--------------------------------------------------------|\n",
        "| Redirigir <code>stdin</code> a un archivo                               | <code>comando < input.txt</code>            | Toma la entrada desde el archivo \"input.txt\" en lugar de la entrada estándar (<code>stdin</code>). |\n",
        "| Redirigir <code>stdout</code> a un archivo                              | <code>comando > output.txt</code>           | Guarda la salida estándar (<code>stdout</code>) en \"output.txt\", reemplazando el archivo si existe. |\n",
        "| Añadir <code>stdout</code> a un archivo                                 | <code>comando >> output.txt</code>          | Añade la salida estándar al final de \"output.txt\" sin sobrescribirlo. |\n",
        "| Redirigir <code>stderr</code> a un archivo                              | <code>comando 2> error.log</code>           | Redirige la salida de errores estándar (<code>stderr</code>) a \"error.log\".                    |\n",
        "| Redirigir <code>stdout</code> y <code>stderr</code> al mismo archivo    | <code>comando > all.log 2>&amp;1</code>     | Combina la salida estándar y la salida de errores estándar en \"all.log\".                |\n",
        "| Separar <code>stdout</code> y <code>stderr</code> en archivos distintos | <code>comando > out.log 2> err.log</code>   | Guarda la salida estándar en \"out.log\" y la salida de errores estándar en \"err.log\".          |\n",
        "| Suprimir toda la salida (<code>stdout</code> + <code>stderr</code>)     | <code>comando > /dev/null 2>&amp;1</code>   | Silencia todas las salidas.               |\n",
        "| Redirigir <code>stdout</code> a archivo, ignorar <code>stderr</code>    | <code>comando > out.log 2> /dev/null</code> | Captura la salida estándar en \"out.log\", pero ignora la salida de errores estándar.                 |\n",
        "\n",
        "</div>"
      ]
    },
    {
      "cell_type": "markdown",
      "id": "94TUsZ0BhzaC",
      "metadata": {
        "id": "94TUsZ0BhzaC"
      },
      "source": [
        "<h2>Tuberías</h2>"
      ]
    },
    {
      "cell_type": "markdown",
      "id": "uj-8AhY_yCKA",
      "metadata": {
        "id": "uj-8AhY_yCKA"
      },
      "source": [
        "<div style=\"font-size: 17px\">\n",
        "\n",
        "Las **tuberías** o ***pipelines*** (<code>|</code>) son un mecanismo de comunicación de procesos que permite conectar la **salida estándar** de un comando con la **entrada estándar** de otro. Esto hace posible encadenar varios comandos para realizar tareas complejas sin necesidad de crear archivos temporales.  \n",
        "\n",
        "Como ejemplo de su potencialidad, supóngase que se desea mostrar el número total de archivos de un directorio. Inicialmente, puede pensarse en usar las redirecciones vistas anteriormente. Este mecanismo permite comunicar los procesos entre sí, usando un archivo temporal entre medias. De este modo, primero se obtienen todos los archivos del directorio raíz con la orden <code>ls</code> y luego se redirecciona su salida al archivo \"tmp\". A continuación, se puede redireccionar la entrada de la orden <code>wc -w</code> (comando de tipo filtro que se verá más adelante, y que cuenta todas las palabras) al archivo \"tmp\" y, finalmente, se borra el archivo temporal cuando deja de ser útil.\n",
        "</div>"
      ]
    },
    {
      "cell_type": "code",
      "execution_count": null,
      "id": "7_zzst-HxpCM",
      "metadata": {
        "colab": {
          "base_uri": "https://localhost:8080/"
        },
        "id": "7_zzst-HxpCM",
        "outputId": "fe2defb7-28f0-43c3-9d8e-912c9def629d"
      },
      "outputs": [
        {
          "name": "stdout",
          "output_type": "stream",
          "text": [
            "27\n"
          ]
        },
        {
          "data": {
            "text/plain": []
          },
          "execution_count": 24,
          "metadata": {},
          "output_type": "execute_result"
        }
      ],
      "source": [
        "%%shell\n",
        "ls / > temp\n",
        "wc -w < temp\n",
        "rm temp"
      ]
    },
    {
      "cell_type": "markdown",
      "id": "gENoAXZrzZJV",
      "metadata": {
        "id": "gENoAXZrzZJV"
      },
      "source": [
        "<div style=\"font-size: 17px\">\n",
        "\n",
        "Esta misma acción se puede completar en una sola línea usando tuberías y **sin usar archivos temporales**:\n",
        "</div>"
      ]
    },
    {
      "cell_type": "code",
      "execution_count": null,
      "id": "jqx5hGA8x4Y9",
      "metadata": {
        "colab": {
          "base_uri": "https://localhost:8080/"
        },
        "id": "jqx5hGA8x4Y9",
        "outputId": "7c28e12c-a532-499c-962c-3c68bfc77076"
      },
      "outputs": [
        {
          "name": "stdout",
          "output_type": "stream",
          "text": [
            "27\n"
          ]
        },
        {
          "data": {
            "text/plain": []
          },
          "execution_count": 23,
          "metadata": {},
          "output_type": "execute_result"
        }
      ],
      "source": [
        "%%shell\n",
        "ls / | wc -w"
      ]
    },
    {
      "cell_type": "markdown",
      "id": "gsLIKzMpziJh",
      "metadata": {
        "id": "gsLIKzMpziJh"
      },
      "source": [
        "<div style=\"font-size: 17px\">\n",
        "\n",
        "Como se puede observar, las tuberías permiten realizar **cadenas de comandos** que, en una sola línea, pueden llevar a cabo múltiples operaciones de manera eficiente. Se pueden combinar diferentes comandos con funciones específicas de forma sencilla para obtener un resultado concreto.\n",
        "</div>"
      ]
    },
    {
      "cell_type": "markdown",
      "id": "219c234d",
      "metadata": {
        "id": "219c234d"
      },
      "source": [
        "<div style=\"text-align: center;\">\n",
        "    <img src=\"https://raw.githubusercontent.com/msantana0612/TFG/gh-pages/images/tuberia.png\" alt=\"Uso de tuberías\" width=\"988\" height=\"196\">\n",
        "</div>"
      ]
    },
    {
      "cell_type": "markdown",
      "id": "JnPK2ZUL0eAd",
      "metadata": {
        "id": "JnPK2ZUL0eAd"
      },
      "source": [
        "<h3>Ejercicios</h3>"
      ]
    },
    {
      "cell_type": "markdown",
      "id": "290fc011",
      "metadata": {},
      "source": [
        "<div style=\"font-size: 17px\">\n",
        "\n",
        "Usando redirecciones, guarda en un archivo el contenido detallado de los archivos y directorios del directorio raíz y muestra el contenido ordenado:\n",
        "</div>"
      ]
    },
    {
      "cell_type": "code",
      "execution_count": null,
      "id": "e319ad5a",
      "metadata": {},
      "outputs": [],
      "source": [
        "%%shell\n",
        "#Borra este comentario e introduce aquí el comando necesario"
      ]
    },
    {
      "cell_type": "markdown",
      "id": "4125fe79",
      "metadata": {},
      "source": [
        "<div style=\"font-size: 17px\">\n",
        "\n",
        "Muestra el contenido del directorio <code>/directorio_inexistente</code> (no existe) y guarda la salida en el archivo \"errores.log\" con la redirección necesaria:\n",
        "</div>"
      ]
    },
    {
      "cell_type": "code",
      "execution_count": null,
      "id": "e275c30b",
      "metadata": {},
      "outputs": [
        {
          "data": {
            "text/plain": []
          },
          "metadata": {},
          "output_type": "display_data"
        }
      ],
      "source": [
        "%%shell\n",
        "#Borra este comentario e introduce aquí el/los comando/s necesario/s\n",
        "cat errores.log\n",
        "rm errores.log"
      ]
    },
    {
      "cell_type": "markdown",
      "id": "3UJk8mPi0eaZ",
      "metadata": {
        "id": "3UJk8mPi0eaZ"
      },
      "source": [
        "<div style=\"font-size: 17px\">\n",
        "Usando tanto redirecciones como tuberías, guarda en un archivo \"ejercicio.txt\" todos los archivos del directorio raíz que contengan la letra \"a\" (usando la orden <code>grep a</code>, que se explicará en la siguiente unidad) y muestra el contenido del archivo:\n",
        "</div>"
      ]
    },
    {
      "cell_type": "code",
      "execution_count": null,
      "id": "4yCm2vM60v4j",
      "metadata": {
        "id": "4yCm2vM60v4j"
      },
      "outputs": [],
      "source": [
        "%%shell\n",
        "#Borra este comentario e introduce aquí el comando necesario"
      ]
    }
  ],
  "metadata": {
    "colab": {
      "provenance": []
    },
    "kernelspec": {
      "display_name": "Python 3 (ipykernel)",
      "language": "python",
      "name": "python3"
    },
    "language_info": {
      "codemirror_mode": {
        "name": "ipython",
        "version": 3
      },
      "file_extension": ".py",
      "mimetype": "text/x-python",
      "name": "python",
      "nbconvert_exporter": "python",
      "pygments_lexer": "ipython3",
      "version": "3.11.4"
    }
  },
  "nbformat": 4,
  "nbformat_minor": 5
}
