{
  "cells": [
    {
      "cell_type": "markdown",
      "id": "56371638-880a-4e02-9544-c2f9709c0372",
      "metadata": {
        "id": "56371638-880a-4e02-9544-c2f9709c0372"
      },
      "source": [
        "<!--NAVIGATION-->\n",
        "\n",
        "\n",
        "<a href=\"https://colab.research.google.com/github/msantana0612/TFG/blob/main/notebooks/notebookEmpaquetado.ipynb\" target=\"_blank\" rel=\"noopener noreferrer\"><img align=\"left\" src=\"https://colab.research.google.com/assets/colab-badge.svg\" alt=\"Open in Colab\" title=\"Open and Execute in Google Colaboratory\"></a>"
      ]
    },
    {
      "cell_type": "markdown",
      "id": "WRJyTw3Zhs_B",
      "metadata": {
        "id": "WRJyTw3Zhs_B"
      },
      "source": [
        "<h1>Empaquetado de archivos</h1>"
      ]
    },
    {
      "cell_type": "markdown",
      "id": "QtDuVETCJQu2",
      "metadata": {
        "id": "QtDuVETCJQu2"
      },
      "source": [
        "<div style=\"font-size: 17px\">\n",
        "Dos de las herramientas más populares en Linux para la compresión y empaquetado de archivos son <code>tar</code> y <code>gzip</code>. Aunque cumplen funciones diferentes, a menudo se usan en conjunto para agrupar y comprimir archivos eficientemente.\n",
        "\n",
        "  - <code>tar</code>: Empaqueta varios archivos y directorios en un único archivo sin comprimir, manteniendo su estructura de directorios. Con la opción <code>-f</code> indicamos el nombre del archivo. Se puede ejecutar con varios modos:\n",
        "    - **<code>--create</code> (<code>-c</code>)**: Crea un .tar nuevo.\n",
        "    - **<code>--extract</code> (<code>-x</code>)**: Extrae los archivos de un .tar existente.\n",
        "    - **<code>--list</code> (<code>-t</code>)**: Muestra una lista de los archivos del .tar especificado. Si se añade la opción <code>-v</code> al crear o extraer archivos se obtiene la misma salida.\n",
        "</div>"
      ]
    },
    {
      "cell_type": "code",
      "execution_count": 5,
      "id": "cOqy7spkJo2r",
      "metadata": {
        "colab": {
          "base_uri": "https://localhost:8080/"
        },
        "id": "cOqy7spkJo2r",
        "outputId": "057a1110-3056-42f3-ffc4-d1d7418ade89"
      },
      "outputs": [
        {
          "output_type": "stream",
          "name": "stdout",
          "text": [
            "directorio/\n",
            "directorio/subdirectorio/\n",
            "directorio/subdirectorio/prueba2.txt\n",
            "directorio/prueba1.txt\n"
          ]
        },
        {
          "output_type": "execute_result",
          "data": {
            "text/plain": []
          },
          "metadata": {},
          "execution_count": 5
        }
      ],
      "source": [
        "%%shell\n",
        "#Creación de la estructura de directorios y archivos a empaquetar\n",
        "mkdir directorio\n",
        "mkdir directorio/subdirectorio\n",
        "echo \"Primer archivo\" > directorio/prueba1.txt\n",
        "echo \"Segundo archivo\" > directorio/subdirectorio/prueba2.txt\n",
        "#Creación del archivo .tar\n",
        "tar -cf prueba.tar directorio/\n",
        "tar -tf prueba.tar\n",
        "#Borrar los archivos resultantes\n",
        "rm directorio/prueba1.txt\n",
        "rm directorio/subdirectorio/prueba2.txt\n",
        "rm prueba.tar\n",
        "rmdir directorio/subdirectorio\n",
        "rmdir directorio"
      ]
    },
    {
      "cell_type": "markdown",
      "id": "ayULuL4PMfpt",
      "metadata": {
        "id": "ayULuL4PMfpt"
      },
      "source": [
        "<div style=\"font-size: 17px\">\n",
        "\n",
        "  - **<code>gzip</code>**: Comprime archivos individuales, reduciendo el espacio que ocupan en el sistema. Puede comprimir archivos .tar.\n",
        "  - **<code>gunzip</code>**: Descomprime archivos de extensión .gz.\n",
        "</div>"
      ]
    },
    {
      "cell_type": "code",
      "execution_count": 4,
      "id": "mgxt6WUgyGNv",
      "metadata": {
        "colab": {
          "base_uri": "https://localhost:8080/"
        },
        "id": "mgxt6WUgyGNv",
        "outputId": "d7cda90d-d918-49f2-bb96-306d904e565d"
      },
      "outputs": [
        {
          "output_type": "stream",
          "name": "stdout",
          "text": [
            "Archivo .tar creado:\n",
            "-rw-r--r-- 1 root root 10240 Jan  9 06:25 prueba.tar\n",
            "Comprimido en .gz:\n",
            "-rw-r--r-- 1 root root  173 Jan  9 06:25 prueba.tar.gz\n",
            "Descomprimido:\n",
            "-rw-r--r-- 1 root root 10240 Jan  9 06:25 prueba.tar\n"
          ]
        },
        {
          "output_type": "execute_result",
          "data": {
            "text/plain": []
          },
          "metadata": {},
          "execution_count": 4
        }
      ],
      "source": [
        "%%shell\n",
        "#Creación de la estructura de directorios y archivos a empaquetar\n",
        "mkdir directorio\n",
        "echo \"Prueba\" > directorio/prueba.txt\n",
        "#Creación del archivo .tar\n",
        "tar -cf prueba.tar directorio/\n",
        "echo \"Archivo .tar creado:\"\n",
        "ls -l | grep prueba\n",
        "#Compresión en formato .gz\n",
        "gzip prueba.tar\n",
        "echo \"Comprimido en .gz:\"\n",
        "ls -l | grep prueba\n",
        "#Borrar los archivos resultantes\n",
        "rm directorio/prueba.txt\n",
        "rmdir directorio\n",
        "#Descomprimir\n",
        "gunzip prueba.tar.gz\n",
        "echo \"Descomprimido:\"\n",
        "ls -l | grep prueba\n",
        "#Borrar los archivos resultantes\n",
        "rm prueba.tar"
      ]
    },
    {
      "cell_type": "markdown",
      "id": "sNns30tkNOTN",
      "metadata": {
        "id": "sNns30tkNOTN"
      },
      "source": [
        "<div style=\"font-size: 17px\">\n",
        "Existe una opción en la orden <code>tar</code> (<code>-z</code>) que comprime los archivos directamente (genera el archivo .tar y lo comprime, sin borrar el .tar):\n",
        "</div>"
      ]
    },
    {
      "cell_type": "code",
      "execution_count": 3,
      "id": "D8Tb5ClbNOcX",
      "metadata": {
        "colab": {
          "base_uri": "https://localhost:8080/"
        },
        "id": "D8Tb5ClbNOcX",
        "outputId": "b83bfe1b-c571-434b-e7a2-9b5d3077c2d5"
      },
      "outputs": [
        {
          "output_type": "stream",
          "name": "stdout",
          "text": [
            "Archivo empaquetado y comprimido:\n",
            "-rw-r--r-- 1 root root  163 Jan  9 06:22 prueba.tar.gz\n",
            "Descomprimido:\n",
            "-rw-r--r-- 1 root root 10240 Jan  9 06:22 prueba.tar\n"
          ]
        },
        {
          "output_type": "execute_result",
          "data": {
            "text/plain": []
          },
          "metadata": {},
          "execution_count": 3
        }
      ],
      "source": [
        "%%shell\n",
        "#Creación de la estructura de directorios y archivos a empaquetar\n",
        "mkdir directorio\n",
        "echo \"Prueba\" > directorio/prueba.txt\n",
        "#Empaquetado y compresión directa\n",
        "tar -czf prueba.tar.gz directorio/\n",
        "echo \"Archivo empaquetado y comprimido:\"\n",
        "ls -l | grep prueba\n",
        "#Borrar los archivos resultantes\n",
        "rm directorio/prueba.txt\n",
        "rmdir directorio\n",
        "#Descomprimir\n",
        "gunzip prueba.tar.gz\n",
        "echo \"Descomprimido:\"\n",
        "ls -l | grep prueba\n",
        "#Borrar los archivos resultantes\n",
        "rm prueba.tar"
      ]
    },
    {
      "cell_type": "markdown",
      "source": [
        "<h3>Ejercicio</h3>"
      ],
      "metadata": {
        "id": "vVi-Abnfvl-Q"
      },
      "id": "vVi-Abnfvl-Q"
    },
    {
      "cell_type": "markdown",
      "source": [
        "<div style=\"font-size: 17px\">\n",
        "\n",
        "Genera la siguiente estructura de archivos y comprímela en un único archivo de dos formas diferentes:\n",
        "\n",
        "![Arbol de directorios](https://raw.githubusercontent.com/msantana0612/TFG/gh-pages/images/ejercicioSistArch.png)\n",
        "</div>\n",
        "\n"
      ],
      "metadata": {
        "id": "CkLvwTSqvmEW"
      },
      "id": "CkLvwTSqvmEW"
    },
    {
      "cell_type": "code",
      "source": [
        "%%shell\n",
        "#Borra este comentario e introduce aquí el comando necesario"
      ],
      "metadata": {
        "id": "n94_1bBBvmYA"
      },
      "id": "n94_1bBBvmYA",
      "execution_count": null,
      "outputs": []
    },
    {
      "cell_type": "code",
      "source": [
        "%%shell\n",
        "#Borra este comentario e introduce aquí el comando necesario"
      ],
      "metadata": {
        "id": "7FhyC9pbvwjp"
      },
      "id": "7FhyC9pbvwjp",
      "execution_count": null,
      "outputs": []
    }
  ],
  "metadata": {
    "colab": {
      "provenance": []
    },
    "kernelspec": {
      "display_name": "Python 3 (ipykernel)",
      "language": "python",
      "name": "python3"
    },
    "language_info": {
      "codemirror_mode": {
        "name": "ipython",
        "version": 3
      },
      "file_extension": ".py",
      "mimetype": "text/x-python",
      "name": "python",
      "nbconvert_exporter": "python",
      "pygments_lexer": "ipython3",
      "version": "3.11.4"
    }
  },
  "nbformat": 4,
  "nbformat_minor": 5
}