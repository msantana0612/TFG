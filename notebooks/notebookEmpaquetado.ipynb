{
  "cells": [
    {
      "cell_type": "markdown",
      "id": "56371638-880a-4e02-9544-c2f9709c0372",
      "metadata": {
        "id": "56371638-880a-4e02-9544-c2f9709c0372"
      },
      "source": [
        "<!--NAVIGATION-->\n",
        "\n",
        "\n",
        "<a href=\"https://colab.research.google.com/github/msantana0612/TFG/blob/main/notebooks/notebook6.ipynb\" target=\"_blank\" rel=\"noopener noreferrer\"><img align=\"left\" src=\"https://colab.research.google.com/assets/colab-badge.svg\" alt=\"Open in Colab\" title=\"Open and Execute in Google Colaboratory\"></a>"
      ]
    },
    {
      "cell_type": "markdown",
      "id": "WRJyTw3Zhs_B",
      "metadata": {
        "id": "WRJyTw3Zhs_B"
      },
      "source": [
        "<h1>Empaquetado de archivos</h1>"
      ]
    },
    {
      "cell_type": "markdown",
      "source": [
        "Dos de las herramientas más populares en Linux para la compresión y empaquetado de archivos son **tar** y **gzip**. Aunque cumplen funciones diferentes, a menudo se usan en conjunto para agrupar y comprimir archivos eficientemente.\n",
        "\n",
        "  - **tar**: Empaqueta varios archivos y directorios en un único archivo sin comprimir, manteniendo su estructura de directorios. Con la opción \"-f\" indicamos el nombre del archivo. Se puede ejecutar con varios modos:\n",
        "    - **--create (-c)**: Crea un .tar nuevo.\n",
        "    - **--extract (-x)**: Extrae los archivos de un .tar existente.\n",
        "    - **--list (-t)**: Muestra una lista de los archivos del .tar especificado. Si se añade la opción \"-v\" al crear o extraer archivos se obtiene la misma salida."
      ],
      "metadata": {
        "id": "QtDuVETCJQu2"
      },
      "id": "QtDuVETCJQu2"
    },
    {
      "cell_type": "code",
      "source": [
        "%%shell\n",
        "#Creación de la estructura de directorios y archivos a empaquetar\n",
        "mkdir directorio\n",
        "mkdir directorio/subdirectorio\n",
        "echo \"Primer archivo\" > directorio/prueba1.txt\n",
        "echo \"Segundo archivo\" > directorio/subdirectorio/prueba2.txt\n",
        "#Creación del archivo .tar\n",
        "tar -cf prueba.tar directorio/\n",
        "tar -tf prueba.tar\n",
        "#Borrar los archivos resultantes\n",
        "rm directorio/prueba1.txt\n",
        "rm directorio/subdirectorio/prueba2.txt\n",
        "rm prueba.tar\n",
        "rmdir directorio/subdirectorio\n",
        "rmdir directorio"
      ],
      "metadata": {
        "id": "cOqy7spkJo2r",
        "outputId": "535a8fcf-5fd6-4907-e167-2d658940201c",
        "colab": {
          "base_uri": "https://localhost:8080/"
        }
      },
      "id": "cOqy7spkJo2r",
      "execution_count": 54,
      "outputs": [
        {
          "output_type": "stream",
          "name": "stdout",
          "text": [
            "directorio/\n",
            "directorio/subdirectorio/\n",
            "directorio/subdirectorio/prueba2.txt\n",
            "directorio/prueba1.txt\n"
          ]
        },
        {
          "output_type": "execute_result",
          "data": {
            "text/plain": []
          },
          "metadata": {},
          "execution_count": 54
        }
      ]
    },
    {
      "cell_type": "markdown",
      "source": [
        "  - **gzip**: Comprime archivos individuales, reduciendo el espacio que ocupan en el sistema. Puede comprimir archivos .tar.\n",
        "  - **gunzip**: Descomprime archivos de extensión .gz."
      ],
      "metadata": {
        "id": "ayULuL4PMfpt"
      },
      "id": "ayULuL4PMfpt"
    },
    {
      "cell_type": "code",
      "execution_count": 64,
      "id": "mgxt6WUgyGNv",
      "metadata": {
        "colab": {
          "base_uri": "https://localhost:8080/"
        },
        "id": "mgxt6WUgyGNv",
        "outputId": "4c0ff662-cba0-4835-9581-f39c996fdbda"
      },
      "outputs": [
        {
          "output_type": "stream",
          "name": "stdout",
          "text": [
            "Archivo .tar creado:\n",
            "-rw-r--r-- 1 root root 10240 Oct 17 06:44 prueba.tar\n",
            "Comprimido en .gz:\n",
            "-rw-r--r-- 1 root root  175 Oct 17 06:44 prueba.tar.gz\n",
            "Descomprimido:\n",
            "-rw-r--r-- 1 root root 10240 Oct 17 06:44 prueba.tar\n"
          ]
        },
        {
          "output_type": "execute_result",
          "data": {
            "text/plain": []
          },
          "metadata": {},
          "execution_count": 64
        }
      ],
      "source": [
        "%%shell\n",
        "#Creación de la estructura de directorios y archivos a empaquetar\n",
        "mkdir directorio\n",
        "echo \"Prueba\" > directorio/prueba.txt\n",
        "#Creación del archivo .tar\n",
        "tar -cf prueba.tar directorio/\n",
        "echo \"Archivo .tar creado:\"\n",
        "ls -l | grep prueba\n",
        "#Compresión en formato .gz\n",
        "gzip prueba.tar\n",
        "echo \"Comprimido en .gz:\"\n",
        "ls -l | grep prueba\n",
        "#Borrar los archivos resultantes\n",
        "rm directorio/prueba.txt\n",
        "rmdir directorio\n",
        "#Descomprimir\n",
        "gunzip prueba.tar.gz\n",
        "echo \"Descomprimido:\"\n",
        "ls -l | grep prueba\n",
        "#Borrar los archivos resultantes\n",
        "rm prueba.tar"
      ]
    },
    {
      "cell_type": "markdown",
      "source": [
        "Existe una opción en la orden **tar** (-z) que comprime los archivos directamente (genera el archivo .tar y lo comprime, sin borrar el .tar):"
      ],
      "metadata": {
        "id": "sNns30tkNOTN"
      },
      "id": "sNns30tkNOTN"
    },
    {
      "cell_type": "code",
      "source": [
        "%%shell\n",
        "#Creación de la estructura de directorios y archivos a empaquetar\n",
        "mkdir directorio\n",
        "echo \"Prueba\" > directorio/prueba.txt\n",
        "#Empaquetado y compresión directa\n",
        "tar -czf prueba.tar.gz directorio/\n",
        "echo \"Archivo empaquetado y comprimido:\"\n",
        "ls -l | grep prueba\n",
        "#Borrar los archivos resultantes\n",
        "rm prueba.tar\n",
        "rm directorio/prueba.txt\n",
        "rmdir directorio\n",
        "#Descomprimir\n",
        "gunzip prueba.tar.gz\n",
        "echo \"Descomprimido:\"\n",
        "ls -l | grep prueba\n",
        "#Borrar los archivos resultantes\n",
        "rm prueba.tar"
      ],
      "metadata": {
        "id": "D8Tb5ClbNOcX",
        "outputId": "bdc2d1e5-c440-480f-e98e-fe806e6e5ba7",
        "colab": {
          "base_uri": "https://localhost:8080/"
        }
      },
      "id": "D8Tb5ClbNOcX",
      "execution_count": 70,
      "outputs": [
        {
          "output_type": "stream",
          "name": "stdout",
          "text": [
            "Archivo empaquetado y comprimido:\n",
            "-rw-r--r-- 1 root root 10240 Oct 17 06:45 prueba.tar\n",
            "-rw-r--r-- 1 root root   163 Oct 17 06:47 prueba.tar.gz\n",
            "Descomprimido:\n",
            "-rw-r--r-- 1 root root 10240 Oct 17 06:47 prueba.tar\n"
          ]
        },
        {
          "output_type": "execute_result",
          "data": {
            "text/plain": []
          },
          "metadata": {},
          "execution_count": 70
        }
      ]
    }
  ],
  "metadata": {
    "colab": {
      "provenance": []
    },
    "kernelspec": {
      "display_name": "Python 3 (ipykernel)",
      "language": "python",
      "name": "python3"
    },
    "language_info": {
      "codemirror_mode": {
        "name": "ipython",
        "version": 3
      },
      "file_extension": ".py",
      "mimetype": "text/x-python",
      "name": "python",
      "nbconvert_exporter": "python",
      "pygments_lexer": "ipython3",
      "version": "3.11.4"
    }
  },
  "nbformat": 4,
  "nbformat_minor": 5
}