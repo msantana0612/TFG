{
  "cells": [
    {
      "cell_type": "markdown",
      "metadata": {
        "id": "ibb3h7PhJhnz"
      },
      "source": [
        "<!--NAVIGATION-->\n",
        "\n",
        "\n",
        "<a href=\"https://colab.research.google.com/github/msantana0612/TFG/blob/main/notebooks/notebookSeñales.ipynb\" target=\"_blank\" rel=\"noopener noreferrer\"><img align=\"left\" src=\"https://colab.research.google.com/assets/colab-badge.svg\" alt=\"Open in Colab\" title=\"Open and Execute in Google Colaboratory\"></a>"
      ]
    },
    {
      "cell_type": "markdown",
      "metadata": {
        "id": "dpRVNreeJhn3"
      },
      "source": [
        "<h1>Comunicación entre procesos</h1>"
      ]
    },
    {
      "cell_type": "markdown",
      "metadata": {
        "id": "7AUKwapWms-b"
      },
      "source": [
        "<div style=\"font-size: 17px\">\n",
        "\n",
        "La **comunicación entre procesos** (*IPC* por sus siglas en inglés ***Inter-Process Communication***) en *Linux* es un conjunto de mecanismos que permiten que dos o más procesos se intercambien datos, se coordinen o se sincronicen mientras se ejecutan. Dado que cada proceso en *Linux* tiene su propio espacio de memoria, no pueden compartir información directamente, por lo que necesitan mecanismos específicos para comunicarse.\n",
        "\n",
        "Existen diferentes métodos de comunicación entre procesos, cada uno adecuado para distintos tipos de interacción. Entre los mecanismos más comunes se encuentran las **tuberías**, utilizadas para enviar información entre procesos (se explicarán más adelante en otra sección), y las **señales**, empleadas para notificar eventos o cambios de estado.\n",
        "\n",
        "</div>"
      ]
    },
    {
      "cell_type": "markdown",
      "metadata": {
        "id": "2MlKEwfIms-b"
      },
      "source": [
        "<h2>Señales</h2>"
      ]
    },
    {
      "cell_type": "markdown",
      "metadata": {
        "id": "5DHg6onUJhn4"
      },
      "source": [
        "<div style=\"font-size: 17px\">\n",
        "\n",
        "Las **señales** son una forma de comunicación entre procesos que permite enviar órdenes simples, como finalizar, pausar o reanudar un proceso. Cada señal está identificada por un nombre simbólico (como <code>SIGKILL</code>) y un número asociado. Cuando un proceso recibe una señal, puede reaccionar según su programación, o en algunos casos, no puede evitar la acción.  \n",
        "\n",
        "Se puede pensar en una **señal** en *Linux* como una forma de \"interrupción de *software*\". Tiene en común con las interrupciones hardware las siguientes características:  \n",
        "\n",
        "- Son **asíncronos**: pueden ocurrir en cualquier momento.\n",
        "- Interrumpen el flujo normal de ejecución para que se realice una acción inmediata.\n",
        "- Requieren que el sistema (o el proceso) **reaccione** de alguna forma.\n",
        "\n",
        "<h3>Comparación: Interrupción de hardware VS Señal</h3>\n",
        "\n",
        "| Característica           | Interrupción de hardware         | Señal (software)                      |\n",
        "|--------------------------|----------------------------------|--------------------------------------|\n",
        "| **Origen**               | Dispositivo físico (teclado, red, reloj, etc.) | Proceso, usuario o *kernel*             |\n",
        "| **Destino**              | *CPU* o sistema operativo          | Un proceso específico                |\n",
        "| **Ejemplo**              | Pulsar una tecla                | <code>SIGINT</code> (cuando presionas <code>Ctrl + C</code>) |\n",
        "| **Manejador (handler)**  | Rutina de atención a interrupciones (*ISR*) | Rutina de manejo de señales (<code>trap</code>, en *Bash*) |\n",
        "| **Puede ser ignorada**   | No                               | Algunas sí (<code>SIGTERM</code>), otras no (<code>SIGKILL</code>) |\n",
        "\n",
        "Las señales más comunes son:\n",
        "\n",
        "| Número | Señal    | Descripción                                                                         |\n",
        "|--------|----------|-------------------------------------------------------------------------------------|\n",
        "| 0      | `EXIT`   | Señal que se envía cuando un *script* finaliza. |\n",
        "| 1      | `SIGHUP` | Señal de \"cuelgue\" o desconexión. Reinicia el proceso o recarga su configuración.    |\n",
        "| 2      | `SIGINT` | Señal de interrupción. Generalmente activada al presionar `Ctrl + C`.                |\n",
        "| 9      | `SIGKILL`| Termina el proceso de inmediato. No puede ser ignorada ni manejada.   |\n",
        "| 15     | `SIGTERM`| Señal de terminación estándar, permite al proceso finalizar de forma ordenada.       |\n",
        "| 17     | `SIGSTOP`| Pausa la ejecución del proceso. No puede ser ignorada por el proceso.                |\n",
        "| 18     | `SIGCONT`| Reanuda la ejecución de un proceso que fue pausado con `SIGSTOP`.                    |\n",
        "\n",
        "Para mandar estas señales, existen los siguientes comandos:\n",
        "\n",
        "  - **<code>kill PID</code>**: Envía una señal al proceso identificado con el *PID* correspondiente. Aunque su nombre sugiere que solo se usa para terminar procesos, en realidad puede enviar distintas señales.\n",
        "    - <code>-NUM</code> o <code>-NOMBRE</code>: Manda una señal concreta (por ejemplo, <code>-9</code> o <code>-SIGKILL</code> para mandar <code>SIGKILL</code>). Si no se indica, se envía por defecto <code>SIGTERM</code>.\n",
        "    - <code>-l</code>: Esta opción lista todas las señales disponibles, mostrando tanto su número como su nombre. En caso de pasar como argumento un número, mostrará el nombre correspondiente a este número y viceversa\n",
        "\n",
        "**Ejemplo**: Primero se muestra el nombre de la señal asociada al número 18, y luego se listan todas las señales:\n",
        "</div>\n"
      ]
    },
    {
      "cell_type": "code",
      "execution_count": 2,
      "metadata": {
        "colab": {
          "base_uri": "https://localhost:8080/"
        },
        "id": "XWriEw4Yms-b",
        "outputId": "84c9e522-1ddf-4e67-94d2-468cde59dc9a",
        "vscode": {
          "languageId": "plaintext"
        }
      },
      "outputs": [
        {
          "name": "stdout",
          "output_type": "stream",
          "text": [
            "El nombre de la señal con el número 18 es:\n",
            "CONT\n",
            "Estas son todas las señales:\n",
            " 1) SIGHUP\t 2) SIGINT\t 3) SIGQUIT\t 4) SIGILL\t 5) SIGTRAP\n",
            " 6) SIGABRT\t 7) SIGBUS\t 8) SIGFPE\t 9) SIGKILL\t10) SIGUSR1\n",
            "11) SIGSEGV\t12) SIGUSR2\t13) SIGPIPE\t14) SIGALRM\t15) SIGTERM\n",
            "16) SIGSTKFLT\t17) SIGCHLD\t18) SIGCONT\t19) SIGSTOP\t20) SIGTSTP\n",
            "21) SIGTTIN\t22) SIGTTOU\t23) SIGURG\t24) SIGXCPU\t25) SIGXFSZ\n",
            "26) SIGVTALRM\t27) SIGPROF\t28) SIGWINCH\t29) SIGIO\t30) SIGPWR\n",
            "31) SIGSYS\t34) SIGRTMIN\t35) SIGRTMIN+1\t36) SIGRTMIN+2\t37) SIGRTMIN+3\n",
            "38) SIGRTMIN+4\t39) SIGRTMIN+5\t40) SIGRTMIN+6\t41) SIGRTMIN+7\t42) SIGRTMIN+8\n",
            "43) SIGRTMIN+9\t44) SIGRTMIN+10\t45) SIGRTMIN+11\t46) SIGRTMIN+12\t47) SIGRTMIN+13\n",
            "48) SIGRTMIN+14\t49) SIGRTMIN+15\t50) SIGRTMAX-14\t51) SIGRTMAX-13\t52) SIGRTMAX-12\n",
            "53) SIGRTMAX-11\t54) SIGRTMAX-10\t55) SIGRTMAX-9\t56) SIGRTMAX-8\t57) SIGRTMAX-7\n",
            "58) SIGRTMAX-6\t59) SIGRTMAX-5\t60) SIGRTMAX-4\t61) SIGRTMAX-3\t62) SIGRTMAX-2\n",
            "63) SIGRTMAX-1\t64) SIGRTMAX\t\n"
          ]
        },
        {
          "data": {
            "text/plain": []
          },
          "execution_count": 2,
          "metadata": {},
          "output_type": "execute_result"
        }
      ],
      "source": [
        "%%shell\n",
        "echo \"El nombre de la señal con el número 18 es:\"\n",
        "kill -l 18\n",
        "echo \"Estas son todas las señales:\"\n",
        "kill -l"
      ]
    },
    {
      "cell_type": "markdown",
      "metadata": {
        "id": "LnFi9PUdms-c"
      },
      "source": [
        "<div style=\"font-size: 17px\">\n",
        "\n",
        "  - **<code>killall nombre</code>**: Envía señales a todos los procesos que coincidan con un nombre específico, sin necesidad de conocer su *PID*.\n",
        "\n",
        "**Ejemplo**: Se crea un proceso <code>sleep</code>, y se envía una señal a todos los procesos <code>sleep</code> para que acaben:"
      ]
    },
    {
      "cell_type": "code",
      "execution_count": 3,
      "metadata": {
        "colab": {
          "base_uri": "https://localhost:8080/"
        },
        "id": "6tZ2cH7rJhn5",
        "outputId": "392b7980-f9c5-40e9-8f71-96b03c42a1ec",
        "vscode": {
          "languageId": "plaintext"
        }
      },
      "outputs": [
        {
          "data": {
            "text/plain": []
          },
          "execution_count": 3,
          "metadata": {},
          "output_type": "execute_result"
        }
      ],
      "source": [
        "%%shell\n",
        "sleep 5 &\n",
        "killall sleep"
      ]
    },
    {
      "cell_type": "markdown",
      "metadata": {
        "id": "nMlRTRlkJhn6"
      },
      "source": [
        "<div style=\"font-size: 17px\">\n",
        "\n",
        "Para capturar señales:\n",
        "\n",
        "- **<code>trap</code>**: Permite ejecutar un comando específico cuando llega una señal determinada.\n",
        "\n",
        "**Ejemplo**: Se establece una acción con <code>trap</code> (<code>echo</code> muestra un mensaje) que solo se ejecuta al recibir la señal <code>EXIT</code>:\n",
        "</div>"
      ]
    },
    {
      "cell_type": "code",
      "execution_count": null,
      "metadata": {
        "colab": {
          "base_uri": "https://localhost:8080/"
        },
        "id": "lNU-sr9CJhn6",
        "outputId": "baa157a8-f546-4b36-9e80-218e71bb4a4e",
        "vscode": {
          "languageId": "plaintext"
        }
      },
      "outputs": [
        {
          "name": "stdout",
          "output_type": "stream",
          "text": [
            "Done sleeping\n",
            "Script is exiting!\n"
          ]
        },
        {
          "data": {
            "text/plain": []
          },
          "execution_count": 2,
          "metadata": {},
          "output_type": "execute_result"
        }
      ],
      "source": [
        "%%shell\n",
        "trap 'echo \"Script is exiting!\"' EXIT\n",
        "sleep 2\n",
        "echo \"Done sleeping\"\n",
        "exit"
      ]
    },
    {
      "cell_type": "markdown",
      "metadata": {
        "id": "aMgkRAjSJhn7"
      },
      "source": [
        "<div style=\"font-size: 17px\">\n",
        "\n",
        "Pese a que la orden <code>trap</code> esté la primera, el comando <code>echo</code> no se ejecuta hasta que detecte la señal de <code>EXIT</code>, es decir, acabe el programa.\n",
        "</div>"
      ]
    },
    {
      "cell_type": "markdown",
      "metadata": {
        "id": "M1Xm1GO6Jhn7"
      },
      "source": [
        "<h3>Ejercicio</h3>"
      ]
    },
    {
      "cell_type": "markdown",
      "metadata": {
        "id": "kfymtJkrJhn8"
      },
      "source": [
        "<div style=\"font-size: 17px\">\n",
        "\n",
        "El siguiente *shell script*, denominado \"scriptprueba.sh\", que muestra por pantalla la frase \"Soy solo un bucle\" cada segundo 10 veces. Usando señales, añade en la línea 2 del *script* una orden para que cuando se mate el proceso muestre un mensaje:\n",
        "```\n",
        "1. #!/bin/bash\n",
        "2.\n",
        "3. for i in {1..10}\n",
        "4. do\n",
        "5.     echo \"Soy solo un bucle\"\n",
        "6.     sleep 1\n",
        "7. done\n",
        "```\n",
        "\n",
        "</div>"
      ]
    },
    {
      "cell_type": "code",
      "execution_count": null,
      "metadata": {
        "id": "S37d9yiPJhn8",
        "vscode": {
          "languageId": "plaintext"
        }
      },
      "outputs": [],
      "source": [
        "%%shell\n",
        "echo '#!/bin/bash' >> scriptprueba.sh\n",
        "echo '' >> scriptprueba.sh #Introduce aquí la orden necesaria\n",
        "echo 'for i in {1..10}' >> scriptprueba.sh\n",
        "echo 'do' >> scriptprueba.sh\n",
        "echo '    echo \"Soy solo un bucle\"' >> scriptprueba.sh\n",
        "echo '    sleep 1' >> scriptprueba.sh\n",
        "echo 'done' >> scriptprueba.sh\n",
        "\n",
        "bash scriptprueba.sh & #Ejecuta el script en segundo plano\n",
        "PID=$!\n",
        "sleep 4\n",
        "kill -SIGTERM $PID\n",
        "\n",
        "rm scriptprueba.sh"
      ]
    },
    {
      "cell_type": "markdown",
      "metadata": {
        "id": "qMeohELxms-d"
      },
      "source": [
        "<div style=\"font-size: 17px\">\n",
        "\n",
        "Teniendo el *script* anterior, manda la señal necesaria para pararlo a mitad de su ejecución y continuarlo pasados 3 segundos:\n",
        "\n",
        "</div>"
      ]
    },
    {
      "cell_type": "code",
      "execution_count": null,
      "metadata": {
        "id": "_Ggf09tvms-d",
        "vscode": {
          "languageId": "plaintext"
        }
      },
      "outputs": [],
      "source": [
        "%%shell\n",
        "echo '#!/bin/bash' >> scriptprueba.sh\n",
        "echo 'for i in {1..10}' >> scriptprueba.sh\n",
        "echo 'do' >> scriptprueba.sh\n",
        "echo '    echo \"Soy solo un bucle\"' >> scriptprueba.sh\n",
        "echo '    sleep 1' >> scriptprueba.sh\n",
        "echo 'done' >> scriptprueba.sh\n",
        "\n",
        "bash scriptprueba.sh & #Ejecuta el script en segundo plano\n",
        "PID=$!\n",
        "sleep 5\n",
        "#Borra este comentario e introduce aquí el/los comando/s necesario/s\n",
        "\n",
        "rm scriptprueba.sh"
      ]
    }
  ],
  "metadata": {
    "colab": {
      "provenance": []
    },
    "kernelspec": {
      "display_name": "Python 3",
      "name": "python3"
    },
    "language_info": {
      "name": "python"
    }
  },
  "nbformat": 4,
  "nbformat_minor": 0
}
