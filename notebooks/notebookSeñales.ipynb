{
 "cells": [
  {
   "cell_type": "markdown",
   "metadata": {},
   "source": [
    "<!--NAVIGATION-->\n",
    "\n",
    "\n",
    "<a href=\"https://colab.research.google.com/github/msantana0612/TFG/blob/main/notebooks/notebookSeñales.ipynb\" target=\"_blank\" rel=\"noopener noreferrer\"><img align=\"left\" src=\"https://colab.research.google.com/assets/colab-badge.svg\" alt=\"Open in Colab\" title=\"Open and Execute in Google Colaboratory\"></a>"
   ]
  },
  {
   "cell_type": "markdown",
   "metadata": {},
   "source": [
    "<h1>Señales</h1>"
   ]
  },
  {
   "cell_type": "markdown",
   "metadata": {},
   "source": [
    "<div style=\"font-size: 17px\">\n",
    "Las señales son una forma de comunicación entre procesos que permite enviar órdenes simples como finalizar, pausar, o reiniciar un proceso. Estas señales están identificadas mediante un número, que indica al proceso que la recibe qué debe hacer. Las señales más comunes son:\n",
    "\n",
    "| Número | Señal    | Descripción                                                                         |\n",
    "|--------|----------|-------------------------------------------------------------------------------------|\n",
    "| 0      | `EXIT`   | Señal que se envía cuando un script finaliza. |\n",
    "| 1      | `SIGHUP` | Señal de \"cuelgue\" o desconexión. Reinicia el proceso o recarga su configuración.    |\n",
    "| 2      | `SIGINT` | Señal de interrupción. Generalmente activada al presionar `Ctrl + C`.                |\n",
    "| 9      | `SIGKILL`| Termina el proceso de inmediato, sin permitir limpieza o guardado de estado.         |\n",
    "| 15     | `SIGTERM`| Señal de terminación estándar, permite al proceso finalizar de forma ordenada.       |\n",
    "| 17     | `SIGSTOP`| Pausa la ejecución del proceso. No puede ser ignorada por el proceso.                |\n",
    "| 18     | `SIGCONT`| Reanuda la ejecución de un proceso que fue pausado con `SIGSTOP`.                    |\n",
    "\n",
    "Para mandar estas señales, existen los siguientes comandos:\n",
    "\n",
    "  - **<code>kill PID</code>**: Manda una señal al proceso identificado con el PID correspondiente.Aunque su nombre sugiere que solo se usa para terminar procesos, en realidad puede enviar varias señales. Si no se indica explícitamente mediante un guión y el número de la señal (<code>-9</code> manda un <code>SIGKILL</code>), manda por defecto un <code>SIGTERM</code>.\n",
    "  - **<code>killall nombre</code>**: Envía señales a todos los procesos que coincidan con un nombre específico, en lugar de tener que buscar un PID concreto.\n",
    "</div>\n"
   ]
  },
  {
   "cell_type": "code",
   "execution_count": null,
   "metadata": {
    "vscode": {
     "languageId": "plaintext"
    }
   },
   "outputs": [],
   "source": [
    "%%shell\n",
    "sleep 5 &\n",
    "killall sleep"
   ]
  },
  {
   "cell_type": "markdown",
   "metadata": {},
   "source": [
    "<div style=\"font-size: 17px\">\n",
    "\n",
    "Para capturar estas señales, el comando <code>trap</code> nos permite ejecutar un comando concreto solo con la llegada de una señal:\n",
    "</div>"
   ]
  },
  {
   "cell_type": "code",
   "execution_count": null,
   "metadata": {
    "vscode": {
     "languageId": "plaintext"
    }
   },
   "outputs": [],
   "source": [
    "%%shell\n",
    "trap 'echo \"Script is exiting!\"' EXIT\n",
    "sleep 2\n",
    "echo \"Done sleeping\"\n",
    "exit"
   ]
  },
  {
   "cell_type": "markdown",
   "metadata": {},
   "source": [
    "<div style=\"font-size: 17px\">\n",
    "\n",
    "Pese a que la orden <code>trap</code> esté la primera, el comando <code>echo</code> no se ejecuta hasta que detecte la señal de EXIT, es decir, acabe el programa.\n",
    "</div>"
   ]
  },
  {
   "cell_type": "markdown",
   "metadata": {},
   "source": [
    "<h3>Ejercicio</h3>"
   ]
  },
  {
   "cell_type": "markdown",
   "metadata": {},
   "source": [
    "<div style=\"font-size: 17px\">\n",
    "\n",
    "El siguiente shell script, denominado \"scriptprueba.sh\", que muestra por pantalla la frase \"Soy solo un bucle\" cada segundo 10 veces. Usando señales, añade en la línea 2 del script una orden para que cuando se mate el proceso muestre un mensaje:\n",
    "```\n",
    "1. #!/bin/bash\n",
    "2.\n",
    "3. for i in {1..10}\n",
    "4. do\n",
    "5.     echo \"Soy solo un bucle\"\n",
    "6.     sleep 1\n",
    "7. done\n",
    "```\n",
    "\n",
    "</div>"
   ]
  },
  {
   "cell_type": "code",
   "execution_count": null,
   "metadata": {
    "vscode": {
     "languageId": "plaintext"
    }
   },
   "outputs": [],
   "source": [
    "%%shell\n",
    "#Creación del archivo\n",
    "echo '#!/bin/bash' >> scriptprueba.sh\n",
    "echo '' >> scriptprueba.sh #Introduce aquí la orden necesaria\n",
    "echo 'for i in {1..10}' >> scriptprueba.sh\n",
    "echo 'do' >> scriptprueba.sh\n",
    "echo '    echo \"Soy solo un bucle\"' >> scriptprueba.sh\n",
    "echo '    sleep 1' >> scriptprueba.sh\n",
    "echo 'done' >> scriptprueba.sh\n",
    "\n",
    "bash scriptprueba.sh & #Ejecuta el script en segundo plano\n",
    "PID=$!\n",
    "sleep 4\n",
    "kill -SIGTERM $PID\n",
    "\n",
    "rm scriptprueba.sh"
   ]
  }
 ],
 "metadata": {
  "language_info": {
   "name": "python"
  }
 },
 "nbformat": 4,
 "nbformat_minor": 2
}
