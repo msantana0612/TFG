{
  "cells": [
    {
      "cell_type": "markdown",
      "metadata": {
        "id": "ibb3h7PhJhnz"
      },
      "source": [
        "<!--NAVIGATION-->\n",
        "\n",
        "\n",
        "<a href=\"https://colab.research.google.com/github/msantana0612/TFG/blob/main/notebooks/notebookSeñales.ipynb\" target=\"_blank\" rel=\"noopener noreferrer\"><img align=\"left\" src=\"https://colab.research.google.com/assets/colab-badge.svg\" alt=\"Open in Colab\" title=\"Open and Execute in Google Colaboratory\"></a>"
      ]
    },
    {
      "cell_type": "markdown",
      "metadata": {
        "id": "dpRVNreeJhn3"
      },
      "source": [
        "<h1>Comunicación entre procesos</h1>"
      ]
    },
    {
      "cell_type": "markdown",
      "metadata": {
        "id": "5DHg6onUJhn4"
      },
      "source": [
        "<div style=\"font-size: 17px\">\n",
        "Las señales son una forma de comunicación entre procesos que permite enviar órdenes simples como finalizar, pausar, o reiniciar un proceso. Estas señales están identificadas mediante un número, que indica al proceso que la recibe qué debe hacer. Las señales más comunes son:\n",
        "\n",
        "| Número | Señal    | Descripción                                                                         |\n",
        "|--------|----------|-------------------------------------------------------------------------------------|\n",
        "| 0      | `EXIT`   | Señal que se envía cuando un script finaliza. |\n",
        "| 1      | `SIGHUP` | Señal de \"cuelgue\" o desconexión. Reinicia el proceso o recarga su configuración.    |\n",
        "| 2      | `SIGINT` | Señal de interrupción. Generalmente activada al presionar `Ctrl + C`.                |\n",
        "| 9      | `SIGKILL`| Termina el proceso de inmediato, sin permitir limpieza o guardado de estado.         |\n",
        "| 15     | `SIGTERM`| Señal de terminación estándar, permite al proceso finalizar de forma ordenada.       |\n",
        "| 17     | `SIGSTOP`| Pausa la ejecución del proceso. No puede ser ignorada por el proceso.                |\n",
        "| 18     | `SIGCONT`| Reanuda la ejecución de un proceso que fue pausado con `SIGSTOP`.                    |\n",
        "\n",
        "Para mandar estas señales, existen los siguientes comandos:\n",
        "\n",
        "  - **<code>kill PID</code>**: Manda una señal al proceso identificado con el PID correspondiente.Aunque su nombre sugiere que solo se usa para terminar procesos, en realidad puede enviar varias señales. Si no se indica explícitamente mediante un guión y el número de la señal (<code>-9</code> manda un <code>SIGKILL</code>), manda por defecto un <code>SIGTERM</code>.\n",
        "  - **<code>killall nombre</code>**: Envía señales a todos los procesos que coincidan con un nombre específico, en lugar de tener que buscar un PID concreto.\n",
        "\n",
        "**Ejemplo**: Se crea un proceso <code>sleep</code>, y se envía una señal a todos los procesos <code>sleep</code> para que acaben:\n",
        "</div>\n"
      ]
    },
    {
      "cell_type": "code",
      "execution_count": 1,
      "metadata": {
        "colab": {
          "base_uri": "https://localhost:8080/"
        },
        "id": "6tZ2cH7rJhn5",
        "outputId": "259d728a-20d0-4d52-ff2a-221bc0767bc7",
        "vscode": {
          "languageId": "plaintext"
        }
      },
      "outputs": [
        {
          "data": {
            "text/plain": []
          },
          "execution_count": 1,
          "metadata": {},
          "output_type": "execute_result"
        }
      ],
      "source": [
        "%%shell\n",
        "sleep 5 &\n",
        "killall sleep"
      ]
    },
    {
      "cell_type": "markdown",
      "metadata": {
        "id": "nMlRTRlkJhn6"
      },
      "source": [
        "<div style=\"font-size: 17px\">\n",
        "\n",
        "Para capturar estas señales, el comando <code>trap</code> nos permite ejecutar un comando concreto solo con la llegada de una señal:\n",
        "\n",
        "**Ejemplo**: Se establece una acción con <code>trap</code> (<code>echo</code> muestra un mensaje) que solo se ejecuta al recibir la señal <code>EXIT</code>:\n",
        "</div>"
      ]
    },
    {
      "cell_type": "code",
      "execution_count": 2,
      "metadata": {
        "colab": {
          "base_uri": "https://localhost:8080/"
        },
        "id": "lNU-sr9CJhn6",
        "outputId": "baa157a8-f546-4b36-9e80-218e71bb4a4e",
        "vscode": {
          "languageId": "plaintext"
        }
      },
      "outputs": [
        {
          "name": "stdout",
          "output_type": "stream",
          "text": [
            "Done sleeping\n",
            "Script is exiting!\n"
          ]
        },
        {
          "data": {
            "text/plain": []
          },
          "execution_count": 2,
          "metadata": {},
          "output_type": "execute_result"
        }
      ],
      "source": [
        "%%shell\n",
        "trap 'echo \"Script is exiting!\"' EXIT\n",
        "sleep 2\n",
        "echo \"Done sleeping\"\n",
        "exit"
      ]
    },
    {
      "cell_type": "markdown",
      "metadata": {
        "id": "aMgkRAjSJhn7"
      },
      "source": [
        "<div style=\"font-size: 17px\">\n",
        "\n",
        "Pese a que la orden <code>trap</code> esté la primera, el comando <code>echo</code> no se ejecuta hasta que detecte la señal de <code>EXIT</code>, es decir, acabe el programa.\n",
        "</div>"
      ]
    },
    {
      "cell_type": "markdown",
      "metadata": {
        "id": "M1Xm1GO6Jhn7"
      },
      "source": [
        "<h3>Ejercicio</h3>"
      ]
    },
    {
      "cell_type": "markdown",
      "metadata": {
        "id": "kfymtJkrJhn8"
      },
      "source": [
        "<div style=\"font-size: 17px\">\n",
        "\n",
        "El siguiente *shell script*, denominado \"scriptprueba.sh\", que muestra por pantalla la frase \"Soy solo un bucle\" cada segundo 10 veces. Usando señales, añade en la línea 2 del *script* una orden para que cuando se mate el proceso muestre un mensaje:\n",
        "```\n",
        "1. #!/bin/bash\n",
        "2.\n",
        "3. for i in {1..10}\n",
        "4. do\n",
        "5.     echo \"Soy solo un bucle\"\n",
        "6.     sleep 1\n",
        "7. done\n",
        "```\n",
        "\n",
        "</div>"
      ]
    },
    {
      "cell_type": "code",
      "execution_count": null,
      "metadata": {
        "id": "S37d9yiPJhn8",
        "vscode": {
          "languageId": "plaintext"
        }
      },
      "outputs": [],
      "source": [
        "%%shell\n",
        "echo '#!/bin/bash' >> scriptprueba.sh\n",
        "echo '' >> scriptprueba.sh #Introduce aquí la orden necesaria\n",
        "echo 'for i in {1..10}' >> scriptprueba.sh\n",
        "echo 'do' >> scriptprueba.sh\n",
        "echo '    echo \"Soy solo un bucle\"' >> scriptprueba.sh\n",
        "echo '    sleep 1' >> scriptprueba.sh\n",
        "echo 'done' >> scriptprueba.sh\n",
        "\n",
        "bash scriptprueba.sh & #Ejecuta el script en segundo plano\n",
        "PID=$!\n",
        "sleep 4\n",
        "kill -SIGTERM $PID\n",
        "\n",
        "rm scriptprueba.sh"
      ]
    },
    {
      "cell_type": "markdown",
      "metadata": {},
      "source": [
        "<div style=\"font-size: 17px\">\n",
        "\n",
        "Teniendo el *script* anterior, manda la señal necesaria para pararlo a mitad de su ejecución y continuarlo pasados 3 segundos:\n",
        "\n",
        "</div>"
      ]
    },
    {
      "cell_type": "code",
      "execution_count": null,
      "metadata": {
        "vscode": {
          "languageId": "plaintext"
        }
      },
      "outputs": [],
      "source": [
        "%%shell\n",
        "echo '#!/bin/bash' >> scriptprueba.sh\n",
        "echo 'for i in {1..10}' >> scriptprueba.sh\n",
        "echo 'do' >> scriptprueba.sh\n",
        "echo '    echo \"Soy solo un bucle\"' >> scriptprueba.sh\n",
        "echo '    sleep 1' >> scriptprueba.sh\n",
        "echo 'done' >> scriptprueba.sh\n",
        "\n",
        "bash scriptprueba.sh & #Ejecuta el script en segundo plano\n",
        "PID=$!\n",
        "sleep 5\n",
        "#Borra este comentario e introduce aquí el/los comando/s necesario/s\n",
        "\n",
        "rm scriptprueba.sh"
      ]
    }
  ],
  "metadata": {
    "colab": {
      "provenance": []
    },
    "kernelspec": {
      "display_name": "Python 3",
      "name": "python3"
    },
    "language_info": {
      "name": "python"
    }
  },
  "nbformat": 4,
  "nbformat_minor": 0
}
