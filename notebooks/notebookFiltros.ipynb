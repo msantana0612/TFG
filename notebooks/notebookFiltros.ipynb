{
  "cells": [
    {
      "cell_type": "markdown",
      "id": "56371638-880a-4e02-9544-c2f9709c0372",
      "metadata": {
        "id": "56371638-880a-4e02-9544-c2f9709c0372"
      },
      "source": [
        "<!--NAVIGATION-->\n",
        "\n",
        "\n",
        "<a href=\"https://colab.research.google.com/github/msantana0612/TFG/blob/main/notebooks/notebookFiltros.ipynb\" target=\"_blank\" rel=\"noopener noreferrer\"><img align=\"left\" src=\"https://colab.research.google.com/assets/colab-badge.svg\" alt=\"Open in Colab\" title=\"Open and Execute in Google Colaboratory\"></a>"
      ]
    },
    {
      "cell_type": "markdown",
      "id": "WRJyTw3Zhs_B",
      "metadata": {
        "id": "WRJyTw3Zhs_B"
      },
      "source": [
        "<h1>Uso de filtros</h1>"
      ]
    },
    {
      "cell_type": "markdown",
      "id": "1LtO-KPDwkVA",
      "metadata": {
        "id": "1LtO-KPDwkVA"
      },
      "source": [
        "Los filtros son todos los comandos que reciben datos a través de la entrada estándar y luego transforman esos datos antes de enviarlos a la salida estándar. Tienen funcionalidades muy específicas y modulares, pero gracias a las herramientas vistas anteriormente se pueden combinar para obtener resultados más potentes. Los filtros más utilizados son:\n",
        "  - **cat**: Muestra por la salida estándar el contenido de un archivo. Si no se indica ningún archivo, se comporta como un comando interactivo, esperando una cadena de caracteres por la entrada estándar como entrada."
      ]
    },
    {
      "cell_type": "code",
      "execution_count": 31,
      "id": "bkK884ennIGb",
      "metadata": {
        "colab": {
          "base_uri": "https://localhost:8080/"
        },
        "id": "bkK884ennIGb",
        "outputId": "b44a51d7-4a96-4f88-f094-66c01e98e33c"
      },
      "outputs": [
        {
          "name": "stdout",
          "output_type": "stream",
          "text": [
            "Prueba para comando cat\n"
          ]
        },
        {
          "data": {
            "text/plain": []
          },
          "execution_count": 31,
          "metadata": {},
          "output_type": "execute_result"
        }
      ],
      "source": [
        "%%shell\n",
        "echo \"Prueba para comando cat\" > cat.txt\n",
        "cat cat.txt\n",
        "rm cat.txt"
      ]
    },
    {
      "cell_type": "markdown",
      "id": "JT1xgxvFnIPl",
      "metadata": {
        "id": "JT1xgxvFnIPl"
      },
      "source": [
        "  - **tee**: Transcribe su entrada estándar a su salida estándar además copiar su contenido en uno o varios archivos. Con la opción \"-a\", añade la información al archivo en vez de sobreescribirlo"
      ]
    },
    {
      "cell_type": "code",
      "execution_count": 33,
      "id": "fbHTiWslnIX_",
      "metadata": {
        "colab": {
          "base_uri": "https://localhost:8080/"
        },
        "id": "fbHTiWslnIX_",
        "outputId": "0565acce-00ab-4f88-dd9d-3e64bf74f7fd"
      },
      "outputs": [
        {
          "name": "stdout",
          "output_type": "stream",
          "text": [
            "root\n",
            "Prueba para comando tee:\n",
            "root\n"
          ]
        },
        {
          "data": {
            "text/plain": []
          },
          "execution_count": 33,
          "metadata": {},
          "output_type": "execute_result"
        }
      ],
      "source": [
        "%%shell\n",
        "echo \"Prueba para comando tee:\" > tee.txt\n",
        "whoami | tee -a tee.txt #Muestra por pantalla el usuario actual y lo escribe en el archivo tee.txt\n",
        "cat tee.txt #Muestra el contenido del archivo, que como se ha usado la opción \"-a\", no ha sobreescrito el contenido anterior\n",
        "rm tee.txt"
      ]
    },
    {
      "cell_type": "markdown",
      "id": "cTO0N-vRnHN3",
      "metadata": {
        "id": "cTO0N-vRnHN3"
      },
      "source": [
        "  - **wc**: Cuenta el número de caracteres, palabras y líneas de un archivo\n",
        "pasado como parámetro y lo muestra por pantalla. Se pueden introducir los modificadores \"-c\" (caracteres), \"-l\" (líneas) o \"-w\" (palabras) para que cuente sólo uno de ellos."
      ]
    },
    {
      "cell_type": "code",
      "execution_count": null,
      "id": "mgxt6WUgyGNv",
      "metadata": {
        "colab": {
          "base_uri": "https://localhost:8080/"
        },
        "id": "mgxt6WUgyGNv",
        "outputId": "dee7812c-0248-4eb0-da4c-88517b1e157c"
      },
      "outputs": [
        {
          "name": "stdout",
          "output_type": "stream",
          "text": [
            "  285  2678 17294 /NGC-DL-CONTAINER-LICENSE\n"
          ]
        },
        {
          "data": {
            "text/plain": []
          },
          "execution_count": 1,
          "metadata": {},
          "output_type": "execute_result"
        }
      ],
      "source": [
        "%%shell\n",
        "wc /NGC-DL-CONTAINER-LICENSE"
      ]
    },
    {
      "cell_type": "markdown",
      "id": "u-HilOObyk1L",
      "metadata": {
        "id": "u-HilOObyk1L"
      },
      "source": [
        "  - **sort**: Ordena (por defecto alfabéticamente) las líneas de un archivo. Se pueden introducir los modificadores \"-n\" (ordenación numérica), \"-r\" (invierte la ordenación) o \"-o\" (escribe el resultado en un archivo) para cambiar su comportamiento."
      ]
    },
    {
      "cell_type": "code",
      "execution_count": null,
      "id": "W7kzor_Eyahk",
      "metadata": {
        "colab": {
          "base_uri": "https://localhost:8080/"
        },
        "id": "W7kzor_Eyahk",
        "outputId": "081e7766-7e2c-4568-f4f2-3821d33d19eb"
      },
      "outputs": [
        {
          "name": "stdout",
          "output_type": "stream",
          "text": [
            "_apt:x:100:65534::/nonexistent:/usr/sbin/nologin\n",
            "backup:x:34:34:backup:/var/backups:/usr/sbin/nologin\n",
            "bin:x:2:2:bin:/bin:/usr/sbin/nologin\n",
            "daemon:x:1:1:daemon:/usr/sbin:/usr/sbin/nologin\n",
            "games:x:5:60:games:/usr/games:/usr/sbin/nologin\n",
            "gnats:x:41:41:Gnats Bug-Reporting System (admin):/var/lib/gnats:/usr/sbin/nologin\n",
            "irc:x:39:39:ircd:/run/ircd:/usr/sbin/nologin\n",
            "list:x:38:38:Mailing List Manager:/var/list:/usr/sbin/nologin\n",
            "lp:x:7:7:lp:/var/spool/lpd:/usr/sbin/nologin\n",
            "mail:x:8:8:mail:/var/mail:/usr/sbin/nologin\n",
            "man:x:6:12:man:/var/cache/man:/usr/sbin/nologin\n",
            "messagebus:x:103:104::/nonexistent:/usr/sbin/nologin\n",
            "news:x:9:9:news:/var/spool/news:/usr/sbin/nologin\n",
            "nobody:x:65534:65534:nobody:/nonexistent:/usr/sbin/nologin\n",
            "proxy:x:13:13:proxy:/bin:/usr/sbin/nologin\n",
            "root:x:0:0:root:/root:/bin/bash\n",
            "sync:x:4:65534:sync:/bin:/bin/sync\n",
            "systemd-network:x:101:102:systemd Network Management,,,:/run/systemd:/usr/sbin/nologin\n",
            "systemd-resolve:x:102:103:systemd Resolver,,,:/run/systemd:/usr/sbin/nologin\n",
            "sys:x:3:3:sys:/dev:/usr/sbin/nologin\n",
            "uucp:x:10:10:uucp:/var/spool/uucp:/usr/sbin/nologin\n",
            "www-data:x:33:33:www-data:/var/www:/usr/sbin/nologin\n"
          ]
        },
        {
          "data": {
            "text/plain": []
          },
          "execution_count": 6,
          "metadata": {},
          "output_type": "execute_result"
        }
      ],
      "source": [
        "%%shell\n",
        "sort /etc/passwd -o ordenado.txt\n",
        "cat ordenado.txt"
      ]
    },
    {
      "cell_type": "markdown",
      "id": "6QM-J4yrzhav",
      "metadata": {
        "id": "6QM-J4yrzhav"
      },
      "source": [
        "  - **cut**: Extrae una cantidad variable de caracteres de cada línea de un archivo. Se puede indicar de dos formas:\n",
        "    - **cut -f lista [-d carácter] [-s] [archivo1 ...]**: La separación se hará mediante delimitadores (-d y/o -s).\n",
        "    - **cut -c lista [archivo1 ...]**: Extrae los caracteres de las posiciones indicadas en lista de cada línea.\n"
      ]
    },
    {
      "cell_type": "code",
      "execution_count": 24,
      "id": "ni8p_Jxnzhsz",
      "metadata": {
        "colab": {
          "base_uri": "https://localhost:8080/"
        },
        "id": "ni8p_Jxnzhsz",
        "outputId": "b7159629-76e0-4aee-a5c8-885326605416"
      },
      "outputs": [
        {
          "name": "stdout",
          "output_type": "stream",
          "text": [
            "es una\n",
            "dos lineas\n",
            "Esta s un\n",
            "con ds li\n"
          ]
        },
        {
          "data": {
            "text/plain": []
          },
          "execution_count": 24,
          "metadata": {},
          "output_type": "execute_result"
        }
      ],
      "source": [
        "%%shell\n",
        "echo -e \"Esta es una prueba\\ncon dos lineas diferentes\" | cut -d ' ' -f 2,3 #Tomando como separadores los espacios, coge la segunda y tercera columna\n",
        "echo -e \"Esta es una prueba\\ncon dos lineas diferentes\" | cut -c 1-5,7,8-10\n",
        "\n"
      ]
    },
    {
      "cell_type": "markdown",
      "id": "G81TDaLple38",
      "metadata": {
        "id": "G81TDaLple38"
      },
      "source": [
        "  - **tr**: Reemplaza los caracteres de la entrada estándar indicados en el primer conjunto por los caracteres indicados en el segundo conjunto, e imprime el resultado por la salida estándar:\n",
        "  \n",
        "  ```bash\n",
        "  tr [opciones] CONJUNTO1 CONJUNTO2\n",
        "  ```\n",
        "  Usando la opción -d, borra los caracteres del primer conjunto, sin indicar un segundo conjunto:\n",
        "\n"
      ]
    },
    {
      "cell_type": "code",
      "execution_count": 32,
      "id": "QGkovnkAlfCf",
      "metadata": {
        "colab": {
          "base_uri": "https://localhost:8080/"
        },
        "id": "QGkovnkAlfCf",
        "outputId": "36d15b69-b9d7-48d8-dccf-8295954e3cbf"
      },
      "outputs": [
        {
          "name": "stdout",
          "output_type": "stream",
          "text": [
            "PRUBA PARA L COMANDO TR\n"
          ]
        },
        {
          "data": {
            "text/plain": []
          },
          "execution_count": 32,
          "metadata": {},
          "output_type": "execute_result"
        }
      ],
      "source": [
        "%%shell\n",
        "echo \"Prueba para el comando tr\" | tr 'a-z' 'A-Z' > tr.txt #Convierte en mayúsculas todas las letras\n",
        "cat tr.txt | tr -d \"E\" #Elimina las \"E\"\n",
        "rm tr.txt"
      ]
    },
    {
      "cell_type": "markdown",
      "id": "o16BkMeU2FI7",
      "metadata": {
        "id": "o16BkMeU2FI7"
      },
      "source": [
        "  - **grep**: Busca en un texto un patrón especificado y muestra las líneas que contengan ese patrón. Entre otros, se le pueden introducir los siguientes modificadores:\n",
        "    - \"-i\": Ignora la diferencia entre mayúsculas y minúsculas\n",
        "    - \"-n\": Muestra el número de línea junto con la línea con el patrón\n",
        "    - \"-v\": Muestra las líneas que **NO** coinciden con el patrón\n",
        "    - \"-c\": Cuenta el número de líneas que coinciden con el patrón y muestra el número\n",
        "    - \"-e\": Permite especificar varios patrones a la vez\n",
        "    - \"-f\": Indica en qué archivo se encuentran los patrones a buscar"
      ]
    },
    {
      "cell_type": "markdown",
      "id": "EHaf8j0i4Pne",
      "metadata": {
        "id": "EHaf8j0i4Pne"
      },
      "source": [
        "**Ejemplo**: Se crea un archivo con el patrón a buscar y con la opción -f se indica que el patrón se encuentra en ese archivo:"
      ]
    },
    {
      "cell_type": "code",
      "execution_count": null,
      "id": "cCzcMiVJ2FPP",
      "metadata": {
        "colab": {
          "base_uri": "https://localhost:8080/"
        },
        "id": "cCzcMiVJ2FPP",
        "outputId": "2c78f453-036a-4861-c077-19d38cd775fb"
      },
      "outputs": [
        {
          "name": "stdout",
          "output_type": "stream",
          "text": [
            "Busco las lineas \n",
            " y solo muestro las que NO la tengan\n"
          ]
        },
        {
          "data": {
            "text/plain": []
          },
          "execution_count": 49,
          "metadata": {},
          "output_type": "execute_result"
        }
      ],
      "source": [
        "%%shell\n",
        "echo \"palabra\" > busqueda.txt\n",
        "echo -e \"Busco las lineas \\n que contengan la palabra \\n y solo muestro las que NO la tengan\" | grep -vf busqueda.txt"
      ]
    },
    {
      "cell_type": "markdown",
      "id": "cezpUW5P5YfC",
      "metadata": {
        "id": "cezpUW5P5YfC"
      },
      "source": [
        "<h3>Ejercicio</h3>"
      ]
    },
    {
      "cell_type": "markdown",
      "id": "AxaIuIK85dSJ",
      "metadata": {
        "id": "AxaIuIK85dSJ"
      },
      "source": [
        "Dado el archivo ejercicio.txt, muestra por pantalla el número de líneas en las que sus dos primeros caracteres sean \"la\" o \"La\" usando varios filtros:"
      ]
    },
    {
      "cell_type": "code",
      "execution_count": null,
      "id": "ALBgjJJq5ptf",
      "metadata": {
        "id": "ALBgjJJq5ptf"
      },
      "outputs": [],
      "source": [
        "%%shell\n",
        "echo -e \"La terminal de Linux \\nes una herramienta muy util para \\nla programacion.\" > ejercicio.txt\n",
        "#Borra este comentario e introduce aquí el/los comando/s necesario/s"
      ]
    }
  ],
  "metadata": {
    "colab": {
      "provenance": []
    },
    "kernelspec": {
      "display_name": "Python 3 (ipykernel)",
      "language": "python",
      "name": "python3"
    },
    "language_info": {
      "codemirror_mode": {
        "name": "ipython",
        "version": 3
      },
      "file_extension": ".py",
      "mimetype": "text/x-python",
      "name": "python",
      "nbconvert_exporter": "python",
      "pygments_lexer": "ipython3",
      "version": "3.11.4"
    }
  },
  "nbformat": 4,
  "nbformat_minor": 5
}
