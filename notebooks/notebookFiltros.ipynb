{
  "cells": [
    {
      "cell_type": "markdown",
      "id": "56371638-880a-4e02-9544-c2f9709c0372",
      "metadata": {
        "id": "56371638-880a-4e02-9544-c2f9709c0372"
      },
      "source": [
        "<!--NAVIGATION-->\n",
        "\n",
        "\n",
        "<a href=\"https://colab.research.google.com/github/msantana0612/TFG/blob/main/notebooks/notebookFiltros.ipynb\" target=\"_blank\" rel=\"noopener noreferrer\"><img align=\"left\" src=\"https://colab.research.google.com/assets/colab-badge.svg\" alt=\"Open in Colab\" title=\"Open and Execute in Google Colaboratory\"></a>"
      ]
    },
    {
      "cell_type": "markdown",
      "id": "WRJyTw3Zhs_B",
      "metadata": {
        "id": "WRJyTw3Zhs_B"
      },
      "source": [
        "<h1>Uso de filtros</h1>"
      ]
    },
    {
      "cell_type": "markdown",
      "id": "1LtO-KPDwkVA",
      "metadata": {
        "id": "1LtO-KPDwkVA"
      },
      "source": [
        "<div style=\"font-size: 17px\">\n",
        "\n",
        "Los **filtros** son comandos que procesan datos: reciben información desde la entrada estándar (normalmente el teclado o la salida de otro comando), aplican alguna transformación o análisis, y envían el resultado a la salida estándar (normalmente la pantalla o la entrada de otro comando).  \n",
        "\n",
        "Son herramientas que realizan funcionalidades sencillas y específicas, diseñadas por lo tanto para hacer bien una sola tarea, pero su verdadero potencial consiste en que se pueden combinar usando redirecciones (<code>></code>, <code><</code>) y tuberías (<code>|</code>), construyendo flujos de procesamiento complejos a partir de operaciones simples.  Los filtros más utilizados son:\n",
        "\n",
        "  - **<code>cat</code>**: Muestra por la salida estándar el contenido de uno o varios archivos.  Si no se especifica ningún archivo, lee desde la entrada estándar, lo que permite usarlo de forma interactiva o entre tuberías. Se pueden usar las siguientes opciones:\n",
        "    - <code>-n</code>: Numera las líneas.\n",
        "    - <code>-b</code>: Numera las líneas, **sin contar las líneas vacías**.\n",
        "\n",
        "**Ejemplo**: Muestra las líneas del archivo \"cat.txt\" numeradas, ignorando las líneas vacías:\n",
        "</div>"
      ]
    },
    {
      "cell_type": "code",
      "execution_count": 1,
      "id": "bkK884ennIGb",
      "metadata": {
        "colab": {
          "base_uri": "https://localhost:8080/"
        },
        "id": "bkK884ennIGb",
        "outputId": "9e4ebd00-cdf8-453e-f7c1-2042cdd59504"
      },
      "outputs": [
        {
          "output_type": "stream",
          "name": "stdout",
          "text": [
            "     1\tPrueba para comando cat\n",
            "\n",
            "     2\tUltima línea\n"
          ]
        },
        {
          "output_type": "execute_result",
          "data": {
            "text/plain": []
          },
          "metadata": {},
          "execution_count": 1
        }
      ],
      "source": [
        "%%shell\n",
        "echo -e \"Prueba para comando cat\\n\\nUltima línea\" > cat.txt\n",
        "cat -b cat.txt\n",
        "rm cat.txt"
      ]
    },
    {
      "cell_type": "markdown",
      "id": "JT1xgxvFnIPl",
      "metadata": {
        "id": "JT1xgxvFnIPl"
      },
      "source": [
        "<div style=\"font-size: 17px\">\n",
        "\n",
        "  - **<code>tee</code>**: Transcribe su entrada estándar tanto a la salida estándar como a uno o varios archivos. Por defecto, sobrescribe el archivo de destino. Si se usa la opción <code>-a</code>, añade la información al final del archivo en lugar de sobrescribirlo.\n",
        "\n",
        "**Ejemplo**: Muestra el usuario actual y lo añade al archivo \"tee.txt\" sin sobreescribirlo, y se muestra su contenido:\n",
        "</div>"
      ]
    },
    {
      "cell_type": "code",
      "execution_count": 2,
      "id": "fbHTiWslnIX_",
      "metadata": {
        "colab": {
          "base_uri": "https://localhost:8080/"
        },
        "id": "fbHTiWslnIX_",
        "outputId": "185355a5-fd6e-4e55-bcaa-0ff20638027f"
      },
      "outputs": [
        {
          "output_type": "stream",
          "name": "stdout",
          "text": [
            "root\n",
            "Prueba para comando tee:\n",
            "root\n"
          ]
        },
        {
          "output_type": "execute_result",
          "data": {
            "text/plain": []
          },
          "metadata": {},
          "execution_count": 2
        }
      ],
      "source": [
        "%%shell\n",
        "echo \"Prueba para comando tee:\" > tee.txt\n",
        "whoami | tee -a tee.txt\n",
        "cat tee.txt\n",
        "rm tee.txt"
      ]
    },
    {
      "cell_type": "markdown",
      "id": "cTO0N-vRnHN3",
      "metadata": {
        "id": "cTO0N-vRnHN3"
      },
      "source": [
        "<div style=\"font-size: 17px\">\n",
        "\n",
        "- **<code>wc</code>**: Cuenta líneas, palabras y caracteres de uno o varios archivos, mostrando los resultados por pantalla. Se pueden usar opciones para mostrar sólo un tipo de conteo:\n",
        "  - `-l`: cuenta solo líneas.\n",
        "  - `-w`: cuenta solo palabras.\n",
        "  - `-c`: cuenta solo caracteres.\n",
        "\n",
        "**Ejemplo**: Muestra la cantidad de líneas, palabras y caracteres del archivo \"NGC-DL-CONTAINER-LICENSE\":\n",
        "</div>"
      ]
    },
    {
      "cell_type": "code",
      "execution_count": 3,
      "id": "mgxt6WUgyGNv",
      "metadata": {
        "colab": {
          "base_uri": "https://localhost:8080/"
        },
        "id": "mgxt6WUgyGNv",
        "outputId": "131807bd-9788-47a9-92c3-8e6f53cc83d4"
      },
      "outputs": [
        {
          "output_type": "stream",
          "name": "stdout",
          "text": [
            "  285  2678 17294 /NGC-DL-CONTAINER-LICENSE\n"
          ]
        },
        {
          "output_type": "execute_result",
          "data": {
            "text/plain": []
          },
          "metadata": {},
          "execution_count": 3
        }
      ],
      "source": [
        "%%shell\n",
        "wc /NGC-DL-CONTAINER-LICENSE"
      ]
    },
    {
      "cell_type": "markdown",
      "id": "u-HilOObyk1L",
      "metadata": {
        "id": "u-HilOObyk1L"
      },
      "source": [
        "<div style=\"font-size: 17px\">\n",
        "\n",
        "- **<code>sort</code>**: Ordena las líneas de texto de un archivo. Por defecto, realiza una ordenación alfabética ascendente. Se puede modificar su comportamiento con las siguientes opciones:\n",
        "  - <code>-n</code>: Ordena numéricamente.\n",
        "  - <code>-r</code>: invierte el orden (orden descendente).\n",
        "  - <code>-o archivo</code>: guarda el resultado en un archivo.\n",
        "\n",
        "**Ejemplo**: Ordena el archivo \"passwd\", guarda el resultado en el archivo \"ordenado.txt\" y se muestra:\n",
        "</div>"
      ]
    },
    {
      "cell_type": "code",
      "execution_count": 4,
      "id": "W7kzor_Eyahk",
      "metadata": {
        "colab": {
          "base_uri": "https://localhost:8080/"
        },
        "id": "W7kzor_Eyahk",
        "outputId": "2b74bdd5-e76c-4670-f41e-86b6b79b674b"
      },
      "outputs": [
        {
          "output_type": "stream",
          "name": "stdout",
          "text": [
            "_apt:x:100:65534::/nonexistent:/usr/sbin/nologin\n",
            "backup:x:34:34:backup:/var/backups:/usr/sbin/nologin\n",
            "bin:x:2:2:bin:/bin:/usr/sbin/nologin\n",
            "daemon:x:1:1:daemon:/usr/sbin:/usr/sbin/nologin\n",
            "games:x:5:60:games:/usr/games:/usr/sbin/nologin\n",
            "gnats:x:41:41:Gnats Bug-Reporting System (admin):/var/lib/gnats:/usr/sbin/nologin\n",
            "irc:x:39:39:ircd:/run/ircd:/usr/sbin/nologin\n",
            "list:x:38:38:Mailing List Manager:/var/list:/usr/sbin/nologin\n",
            "lp:x:7:7:lp:/var/spool/lpd:/usr/sbin/nologin\n",
            "mail:x:8:8:mail:/var/mail:/usr/sbin/nologin\n",
            "man:x:6:12:man:/var/cache/man:/usr/sbin/nologin\n",
            "messagebus:x:103:104::/nonexistent:/usr/sbin/nologin\n",
            "news:x:9:9:news:/var/spool/news:/usr/sbin/nologin\n",
            "nobody:x:65534:65534:nobody:/nonexistent:/usr/sbin/nologin\n",
            "proxy:x:13:13:proxy:/bin:/usr/sbin/nologin\n",
            "root:x:0:0:root:/root:/bin/bash\n",
            "sync:x:4:65534:sync:/bin:/bin/sync\n",
            "systemd-network:x:101:102:systemd Network Management,,,:/run/systemd:/usr/sbin/nologin\n",
            "systemd-resolve:x:102:103:systemd Resolver,,,:/run/systemd:/usr/sbin/nologin\n",
            "sys:x:3:3:sys:/dev:/usr/sbin/nologin\n",
            "uucp:x:10:10:uucp:/var/spool/uucp:/usr/sbin/nologin\n",
            "www-data:x:33:33:www-data:/var/www:/usr/sbin/nologin\n"
          ]
        },
        {
          "output_type": "execute_result",
          "data": {
            "text/plain": []
          },
          "metadata": {},
          "execution_count": 4
        }
      ],
      "source": [
        "%%shell\n",
        "sort /etc/passwd -o ordenado.txt\n",
        "cat ordenado.txt"
      ]
    },
    {
      "cell_type": "markdown",
      "id": "6QM-J4yrzhav",
      "metadata": {
        "id": "6QM-J4yrzhav"
      },
      "source": [
        "<div style=\"font-size: 17px\">\n",
        "\n",
        "  - **<code>cut</code>**: Extrae una cantidad variable de caracteres de cada línea de un archivo. Se puede indicar de dos formas:\n",
        "    - **Por delimitador y campos**:  \n",
        "      Usar la opción `-f` para seleccionar campos y `-d` para indicar el carácter delimitador (por ejemplo, espacios, comas, etc.).  \n",
        "      La opción `-s` evita mostrar líneas que no contengan el delimitador.\n",
        "\n",
        "    - **Por posición de caracteres**:  \n",
        "      Usa la opción `-c` para indicar un rango o conjunto de posiciones de caracteres a extraer.\n",
        "\n",
        "**Ejemplo**: Tomando como separadores los espacios, coge la segunda y tercera columna.\n",
        "\n",
        "</div>"
      ]
    },
    {
      "cell_type": "code",
      "execution_count": 5,
      "id": "ni8p_Jxnzhsz",
      "metadata": {
        "colab": {
          "base_uri": "https://localhost:8080/"
        },
        "id": "ni8p_Jxnzhsz",
        "outputId": "2fef5d86-b6d8-4c88-c7b5-5bf12aaf47d5"
      },
      "outputs": [
        {
          "output_type": "stream",
          "name": "stdout",
          "text": [
            "es una\n",
            "dos lineas\n"
          ]
        },
        {
          "output_type": "execute_result",
          "data": {
            "text/plain": []
          },
          "metadata": {},
          "execution_count": 5
        }
      ],
      "source": [
        "%%shell\n",
        "echo -e \"Esta es una prueba\\ncon dos lineas diferentes\" | cut -d ' ' -f 2,3"
      ]
    },
    {
      "cell_type": "markdown",
      "id": "73f86c33",
      "metadata": {
        "id": "73f86c33"
      },
      "source": [
        "<div style=\"font-size: 17px\">\n",
        "\n",
        "**Ejemplo**: Extrae los caracteres en las posiciones 1 a 5, luego el 7, y del 8 al 10 de cada línea\n",
        "</div>"
      ]
    },
    {
      "cell_type": "code",
      "execution_count": 6,
      "id": "2adece69",
      "metadata": {
        "colab": {
          "base_uri": "https://localhost:8080/"
        },
        "id": "2adece69",
        "outputId": "20fb2b8f-18e5-4cf7-b303-d70d6c3518c2"
      },
      "outputs": [
        {
          "output_type": "stream",
          "name": "stdout",
          "text": [
            "Esta s un\n",
            "con ds li\n"
          ]
        },
        {
          "output_type": "execute_result",
          "data": {
            "text/plain": []
          },
          "metadata": {},
          "execution_count": 6
        }
      ],
      "source": [
        "%%shell\n",
        "echo -e \"Esta es una prueba\\ncon dos lineas diferentes\" | cut -c 1-5,7,8-10"
      ]
    },
    {
      "cell_type": "markdown",
      "id": "277412d2",
      "metadata": {
        "id": "277412d2"
      },
      "source": [
        "<div style=\"font-size: 17px\">\n",
        "\n",
        "- **<code>uniq</code>**: Elimina líneas duplicadas consecutivas en un archivo o entrada de texto. Se usa generalmente junto con `sort`, ya que `uniq` solo elimina duplicados si están **uno detrás de otro**. Algunas de sus principales opciones son las siguientes:\n",
        "\n",
        "    - `-c`: muestra el número de repeticiones de cada línea.\n",
        "    - `-d`: muestra solo las líneas que están duplicadas.\n",
        "    - `-u`: muestra solo las líneas únicas (no repetidas).\n",
        "\n",
        "**Ejemplo**: Ordena las líneas y luego elimina los duplicados consecutivos con <code>uniq</code>:\n",
        "</div>"
      ]
    },
    {
      "cell_type": "code",
      "execution_count": 7,
      "id": "116ff036",
      "metadata": {
        "colab": {
          "base_uri": "https://localhost:8080/"
        },
        "id": "116ff036",
        "outputId": "3bc7fd33-4b8c-4a00-d0c9-5efe59be39b3"
      },
      "outputs": [
        {
          "output_type": "stream",
          "name": "stdout",
          "text": [
            "Tarea1 Pendiente\n",
            "Tarea2 En Progreso\n",
            "Tarea3 Completada\n"
          ]
        },
        {
          "output_type": "execute_result",
          "data": {
            "text/plain": []
          },
          "metadata": {},
          "execution_count": 7
        }
      ],
      "source": [
        "%%shell\n",
        "echo -e \"Tarea1 Pendiente\\nTarea2 En Progreso\\nTarea1 Pendiente\\nTarea3 Completada\\nTarea2 En Progreso\" | sort | uniq"
      ]
    },
    {
      "cell_type": "markdown",
      "id": "G81TDaLple38",
      "metadata": {
        "id": "G81TDaLple38"
      },
      "source": [
        "<div style=\"font-size: 17px\">\n",
        "\n",
        "  - **<code>tr</code>**: Reemplaza los caracteres de la entrada estándar indicados en el primer conjunto por los caracteres indicados en el segundo conjunto, e imprime el resultado por la salida estándar: <br>\n",
        "    - <code>tr [opciones] CONJUNTO1 CONJUNTO2</code>\n",
        "  \n",
        "    Algunas de las principales opciones son las siguientes:  \n",
        "\n",
        "    - <code>-d</code>: Elimina los caracteres que se encuentren en el primer conjunto (<code>CONJUNTO1</code>). No es necesario especificar un segundo conjunto.\n",
        "\n",
        "    - <code>-s</code>: Comprime las repeticiones consecutivas de un carácter, reemplazándolas por una sola instancia de ese carácter.\n",
        "\n",
        "**Ejemplo**: Convierte todas las letras minúsculas (a-z) a mayúsculas (A-Z), y luego elimina todas las \"E\":\n",
        "</div>"
      ]
    },
    {
      "cell_type": "code",
      "execution_count": 8,
      "id": "QGkovnkAlfCf",
      "metadata": {
        "colab": {
          "base_uri": "https://localhost:8080/"
        },
        "id": "QGkovnkAlfCf",
        "outputId": "f3e4b056-61aa-4590-f1c1-61b3d946fed8"
      },
      "outputs": [
        {
          "output_type": "stream",
          "name": "stdout",
          "text": [
            "PRUBA PARA L COMANDO TR\n"
          ]
        },
        {
          "output_type": "execute_result",
          "data": {
            "text/plain": []
          },
          "metadata": {},
          "execution_count": 8
        }
      ],
      "source": [
        "%%shell\n",
        "echo \"Prueba para el comando tr\" | tr 'a-z' 'A-Z' > tr.txt\n",
        "cat tr.txt | tr -d \"E\"\n",
        "rm tr.txt"
      ]
    },
    {
      "cell_type": "markdown",
      "id": "o16BkMeU2FI7",
      "metadata": {
        "id": "o16BkMeU2FI7"
      },
      "source": [
        "<div style=\"font-size: 17px\">\n",
        "\n",
        "  - **<code>grep</code>**: Busca líneas que coincidan con un patrón dentro de un archivo o la entrada estándar. Entre otros, se le pueden introducir los siguientes modificadores:\n",
        "    - <code>-i</code>: Ignora la diferencia entre mayúsculas y minúsculas\n",
        "    - <code>-n</code>: Muestra el número de línea junto con la línea con el patrón\n",
        "    - <code>-v</code>: Muestra las líneas que **NO** coinciden con el patrón\n",
        "    - <code>-c</code>: Cuenta el número de líneas que coinciden con el patrón y muestra el número\n",
        "    - <code>-e</code>: Permite especificar varios patrones a la vez\n",
        "    - <code>-f</code>: Indica en qué archivo se encuentran los patrones a buscar\n",
        "</div>    "
      ]
    },
    {
      "cell_type": "markdown",
      "id": "EHaf8j0i4Pne",
      "metadata": {
        "id": "EHaf8j0i4Pne"
      },
      "source": [
        "<div style=\"font-size: 17px\">\n",
        "\n",
        "**Ejemplo**: Se crea un archivo con el patrón a buscar y con la opción -f se indica que el patrón se encuentra en ese archivo:\n",
        "</div>"
      ]
    },
    {
      "cell_type": "code",
      "execution_count": 9,
      "id": "cCzcMiVJ2FPP",
      "metadata": {
        "colab": {
          "base_uri": "https://localhost:8080/"
        },
        "id": "cCzcMiVJ2FPP",
        "outputId": "6dcbcba9-14ea-40c7-c481-06766c5af690"
      },
      "outputs": [
        {
          "output_type": "stream",
          "name": "stdout",
          "text": [
            "Busco las lineas \n",
            " y solo muestro las que NO la tengan\n"
          ]
        },
        {
          "output_type": "execute_result",
          "data": {
            "text/plain": []
          },
          "metadata": {},
          "execution_count": 9
        }
      ],
      "source": [
        "%%shell\n",
        "echo \"palabra\" > busqueda.txt\n",
        "echo -e \"Busco las lineas \\n que contengan la palabra \\n y solo muestro las que NO la tengan\" | grep -vf busqueda.txt"
      ]
    },
    {
      "cell_type": "markdown",
      "id": "cezpUW5P5YfC",
      "metadata": {
        "id": "cezpUW5P5YfC"
      },
      "source": [
        "<h3>Ejercicio</h3>"
      ]
    },
    {
      "cell_type": "markdown",
      "id": "AxaIuIK85dSJ",
      "metadata": {
        "id": "AxaIuIK85dSJ"
      },
      "source": [
        "<div style=\"font-size: 17px\">\n",
        "Dado el archivo \"ejercicio.txt\", muestra por pantalla el número de líneas en las que sus dos primeros caracteres sean \"la\" o \"La\" usando varios filtros:\n",
        "</div>"
      ]
    },
    {
      "cell_type": "code",
      "execution_count": null,
      "id": "ALBgjJJq5ptf",
      "metadata": {
        "id": "ALBgjJJq5ptf"
      },
      "outputs": [],
      "source": [
        "%%shell\n",
        "echo -e \"La terminal de Linux \\nes una herramienta muy util para \\nla programacion.\" > ejercicio.txt\n",
        "#Borra este comentario e introduce aquí el/los comando/s necesario/s"
      ]
    },
    {
      "cell_type": "markdown",
      "id": "wYPEewR4vFn3",
      "metadata": {
        "id": "wYPEewR4vFn3"
      },
      "source": [
        "<div style=\"font-size: 17px\">\n",
        "Dado el archivo \"empleados.txt\", que muestra los datos de los empleados de una empresa, muestra el nombre y el departamento de los empleados cuyo departamento es IT usando filtros:\n",
        "</div>"
      ]
    },
    {
      "cell_type": "code",
      "execution_count": null,
      "id": "s9h7H4KSvFxc",
      "metadata": {
        "id": "s9h7H4KSvFxc"
      },
      "outputs": [],
      "source": [
        "%%shell\n",
        "echo \"ID,Nombre,Departamento,Salario\" >> empleados.txt\n",
        "echo \"1,Juan Pérez,Administración,50000\" >> empleados.txt\n",
        "echo \"2,Ana López,Recursos Humanos,60000\" >> empleados.txt\n",
        "echo \"3,Fernando Fernandez,IT,70000\" >> empleados.txt\n",
        "echo \"4,Paula Garcia,Administración,55000\" >> empleados.txt\n",
        "echo \"5,Rodrigo Rodriguez,IT,72000\" >> empleados.txt\n",
        "\n",
        "#Borra este comentario e introduce aquí el/los comando/s necesario/s\n",
        "\n",
        "rm empleados.txt"
      ]
    }
  ],
  "metadata": {
    "colab": {
      "provenance": []
    },
    "kernelspec": {
      "display_name": "Python 3 (ipykernel)",
      "language": "python",
      "name": "python3"
    },
    "language_info": {
      "codemirror_mode": {
        "name": "ipython",
        "version": 3
      },
      "file_extension": ".py",
      "mimetype": "text/x-python",
      "name": "python",
      "nbconvert_exporter": "python",
      "pygments_lexer": "ipython3",
      "version": "3.11.4"
    }
  },
  "nbformat": 4,
  "nbformat_minor": 5
}