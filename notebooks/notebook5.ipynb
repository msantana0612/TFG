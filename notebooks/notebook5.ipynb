{
  "cells": [
    {
      "cell_type": "markdown",
      "id": "56371638-880a-4e02-9544-c2f9709c0372",
      "metadata": {
        "id": "56371638-880a-4e02-9544-c2f9709c0372"
      },
      "source": [
        "<!--NAVIGATION-->\n",
        "\n",
        "\n",
        "<a href=\"https://colab.research.google.com/github/marcossantana0612/TFG/blob/main/notebooks/notebook5.ipynb\" target=\"_blank\" rel=\"noopener noreferrer\"><img align=\"left\" src=\"https://colab.research.google.com/assets/colab-badge.svg\" alt=\"Open in Colab\" title=\"Open and Execute in Google Colaboratory\"></a>"
      ]
    },
    {
      "cell_type": "markdown",
      "id": "WRJyTw3Zhs_B",
      "metadata": {
        "id": "WRJyTw3Zhs_B"
      },
      "source": [
        "<h1>Redirecciones y tuberías</h1>"
      ]
    },
    {
      "cell_type": "markdown",
      "id": "ZurIahLNeLG9",
      "metadata": {
        "id": "ZurIahLNeLG9"
      },
      "source": [
        "<h2>Entrada y salida estándar</h2>"
      ]
    },
    {
      "cell_type": "markdown",
      "id": "aJuCxQlxocsz",
      "metadata": {
        "id": "aJuCxQlxocsz"
      },
      "source": [
        "Cada proceso tiene definido por defecto varios descriptores de archivos, que indicán a qué archivo o dispositivo accederán para leer o mostrar los datos. Los descriptores por defecto son los siguientes:"
      ]
    },
    {
      "cell_type": "markdown",
      "id": "QykMHBFMrkWE",
      "metadata": {
        "id": "QykMHBFMrkWE"
      },
      "source": [
        "| Descriptor | Archivo |            Dispositivo             | Descripcion |\n",
        "|------------|---------|------------------------------------|-------------|\n",
        "|      0     |  stdin  | Teclado del terminal por defecto   | Entrada de datos estándar que utiliza el proceso     |\n",
        "|      1     |  stdout | Pantalla del terminal por defecto  | Salida de datos estándar que utiliza el proceso     |\n",
        "|      2     |  stderr | Pantalla del terminal por defecto  | Salida de datos que utiliza el proceso en caso de encontrar algún error     |\n"
      ]
    },
    {
      "cell_type": "markdown",
      "id": "QF3CX6AbtEdC",
      "metadata": {
        "id": "QF3CX6AbtEdC"
      },
      "source": [
        "Para cambiar estos descriptores, se usan las **redirecciones**. Las redirecciones ayudan a cambiar estos descriptores por defecto por otros que nos interesen, como tomar datos de un archivo concreto en vez de el teclado, o guardar el resultado de un comando en un archivo para poder visualizarlo o registrarlo. \\\n",
        "Existen tres tipos de redirecciones:\n",
        "  - **Entrada estándar (stdin)**: Se usa con \"<\", y sustituye al teclado como entrada estándar. Por ejemplo, al usar la orden **sort** junto con la \"<\", toma como entrada el archivo y muestra su contenido ordenado alfabéticamente:"
      ]
    },
    {
      "cell_type": "code",
      "execution_count": 1,
      "id": "uCV50uyDujJp",
      "metadata": {
        "colab": {
          "base_uri": "https://localhost:8080/"
        },
        "id": "uCV50uyDujJp",
        "outputId": "afe231e8-1b01-4d88-edf7-49eab72da4df"
      },
      "outputs": [
        {
          "name": "stdout",
          "output_type": "stream",
          "text": [
            "_apt:x:100:65534::/nonexistent:/usr/sbin/nologin\n",
            "backup:x:34:34:backup:/var/backups:/usr/sbin/nologin\n",
            "bin:x:2:2:bin:/bin:/usr/sbin/nologin\n",
            "daemon:x:1:1:daemon:/usr/sbin:/usr/sbin/nologin\n",
            "games:x:5:60:games:/usr/games:/usr/sbin/nologin\n",
            "gnats:x:41:41:Gnats Bug-Reporting System (admin):/var/lib/gnats:/usr/sbin/nologin\n",
            "irc:x:39:39:ircd:/run/ircd:/usr/sbin/nologin\n",
            "list:x:38:38:Mailing List Manager:/var/list:/usr/sbin/nologin\n",
            "lp:x:7:7:lp:/var/spool/lpd:/usr/sbin/nologin\n",
            "mail:x:8:8:mail:/var/mail:/usr/sbin/nologin\n",
            "man:x:6:12:man:/var/cache/man:/usr/sbin/nologin\n",
            "messagebus:x:103:104::/nonexistent:/usr/sbin/nologin\n",
            "news:x:9:9:news:/var/spool/news:/usr/sbin/nologin\n",
            "nobody:x:65534:65534:nobody:/nonexistent:/usr/sbin/nologin\n",
            "proxy:x:13:13:proxy:/bin:/usr/sbin/nologin\n",
            "root:x:0:0:root:/root:/bin/bash\n",
            "sync:x:4:65534:sync:/bin:/bin/sync\n",
            "systemd-network:x:101:102:systemd Network Management,,,:/run/systemd:/usr/sbin/nologin\n",
            "systemd-resolve:x:102:103:systemd Resolver,,,:/run/systemd:/usr/sbin/nologin\n",
            "sys:x:3:3:sys:/dev:/usr/sbin/nologin\n",
            "uucp:x:10:10:uucp:/var/spool/uucp:/usr/sbin/nologin\n",
            "www-data:x:33:33:www-data:/var/www:/usr/sbin/nologin\n"
          ]
        },
        {
          "data": {
            "text/plain": []
          },
          "execution_count": 1,
          "metadata": {},
          "output_type": "execute_result"
        }
      ],
      "source": [
        "%%shell\n",
        "sort < /etc/passwd"
      ]
    },
    {
      "cell_type": "markdown",
      "id": "qCGsyMz6uhVs",
      "metadata": {
        "id": "qCGsyMz6uhVs"
      },
      "source": [
        "  - **Salida estándar (stdout)**: Se usa con \">\" o \">>\", y permite guardar el resultado que se mostraría en la terminal en un archivo. La diferencia entre usar \">\" y \">>\" es que al usar solo un carácter sustituye el contenido del archivo por el nuevo, mientras que si se usan dos añade el nuevo contenido al archivo."
      ]
    },
    {
      "cell_type": "code",
      "execution_count": 2,
      "id": "rvEF0YJqt-dz",
      "metadata": {
        "colab": {
          "base_uri": "https://localhost:8080/"
        },
        "id": "rvEF0YJqt-dz",
        "outputId": "2a1d2df8-925c-416c-8b58-cca0d11a514e"
      },
      "outputs": [
        {
          "name": "stdout",
          "output_type": "stream",
          "text": [
            "Hola, mundo!\n",
            "Si uso dos, no borra el contenido\n"
          ]
        },
        {
          "data": {
            "text/plain": []
          },
          "execution_count": 2,
          "metadata": {},
          "output_type": "execute_result"
        }
      ],
      "source": [
        "%%shell\n",
        "echo \"Hola, mundo!\" >> salida.txt\n",
        "echo \"Si uso dos, no borra el contenido\" >> salida.txt\n",
        "cat salida.txt"
      ]
    },
    {
      "cell_type": "markdown",
      "id": "Tmv5cCGnv8Am",
      "metadata": {
        "id": "Tmv5cCGnv8Am"
      },
      "source": [
        " - **Salida de errores estándar (stderr)**: Se usa con \"2>\" o \"2>>\", y permite guardar el resultado que se mostraría en la terminal en caso de encontrar un error en un archivo. La diferencia entre \"2>\" y \"2>>\" es la misma que en el caso de la salida estándar. Por ejemplo, si intentamos mover un archivo que no existe, saltará un error, que se guarda en un archivo. Como se usa \"2>\", aunque se haga dos veces, el archivo sólo contiene el texto de la segunda ejecución porque sustituye el contenido anterior:"
      ]
    },
    {
      "cell_type": "code",
      "execution_count": 5,
      "id": "Q-9djxNBv8JB",
      "metadata": {
        "colab": {
          "base_uri": "https://localhost:8080/"
        },
        "id": "Q-9djxNBv8JB",
        "outputId": "071199bf-482a-4921-c1f7-173a6cb285ff"
      },
      "outputs": [
        {
          "name": "stdout",
          "output_type": "stream",
          "text": [
            "mv: cannot stat 'noexisto.txt': No such file or directory\n"
          ]
        },
        {
          "data": {
            "text/plain": []
          },
          "execution_count": 5,
          "metadata": {},
          "output_type": "execute_result"
        }
      ],
      "source": [
        "%%shell\n",
        "mv noexisto.txt fichero.txt 2> salida.txt\n",
        "mv noexisto.txt fichero.txt 2> salida.txt\n",
        "cat salida.txt"
      ]
    },
    {
      "cell_type": "markdown",
      "id": "bSllJLSHwy1U",
      "metadata": {
        "id": "bSllJLSHwy1U"
      },
      "source": [
        "<h3>Ejercicio</h3>"
      ]
    },
    {
      "cell_type": "markdown",
      "id": "wdnMlLvKw42V",
      "metadata": {
        "id": "wdnMlLvKw42V"
      },
      "source": [
        "Guarda en un archivo usando redirecciones el contenido detallado de los archivos y directorios del directorio raíz y muestra el archivo"
      ]
    },
    {
      "cell_type": "code",
      "execution_count": null,
      "id": "OXAaQd4jwypd",
      "metadata": {
        "id": "OXAaQd4jwypd"
      },
      "outputs": [],
      "source": [
        "%%shell\n",
        "#Borra este comentario e introduce aquí el comando necesario"
      ]
    },
    {
      "cell_type": "markdown",
      "id": "94TUsZ0BhzaC",
      "metadata": {
        "id": "94TUsZ0BhzaC"
      },
      "source": [
        "<h2>Tuberías</h2>"
      ]
    },
    {
      "cell_type": "markdown",
      "id": "uj-8AhY_yCKA",
      "metadata": {
        "id": "uj-8AhY_yCKA"
      },
      "source": [
        "Para poder mostrar el número total de archivos de un directorio, se pueden usar las redirecciones vistas anteriormente para poder comunicar los procesos entre sí, usando un archivo temporal entre medias. Primero obtenemos todos los archivos del directorio raíz por la orden **ls** y redireccionamos su salida al archivo tmp, redireccionamos la entrada de la orden **wc -w** (cuenta todas las palabras) al archivo tmp y finalmente borramos el archivo temporal:"
      ]
    },
    {
      "cell_type": "code",
      "execution_count": 24,
      "id": "7_zzst-HxpCM",
      "metadata": {
        "colab": {
          "base_uri": "https://localhost:8080/"
        },
        "id": "7_zzst-HxpCM",
        "outputId": "fe2defb7-28f0-43c3-9d8e-912c9def629d"
      },
      "outputs": [
        {
          "name": "stdout",
          "output_type": "stream",
          "text": [
            "27\n"
          ]
        },
        {
          "data": {
            "text/plain": []
          },
          "execution_count": 24,
          "metadata": {},
          "output_type": "execute_result"
        }
      ],
      "source": [
        "%%shell\n",
        "ls / > temp\n",
        "wc -w < temp\n",
        "rm temp"
      ]
    },
    {
      "cell_type": "markdown",
      "id": "gENoAXZrzZJV",
      "metadata": {
        "id": "gENoAXZrzZJV"
      },
      "source": [
        "Esta misma acción se puede completar en una sola línea usando tuberías y sin usar archivos temporales:"
      ]
    },
    {
      "cell_type": "code",
      "execution_count": 23,
      "id": "jqx5hGA8x4Y9",
      "metadata": {
        "colab": {
          "base_uri": "https://localhost:8080/"
        },
        "id": "jqx5hGA8x4Y9",
        "outputId": "7c28e12c-a532-499c-962c-3c68bfc77076"
      },
      "outputs": [
        {
          "name": "stdout",
          "output_type": "stream",
          "text": [
            "27\n"
          ]
        },
        {
          "data": {
            "text/plain": []
          },
          "execution_count": 23,
          "metadata": {},
          "output_type": "execute_result"
        }
      ],
      "source": [
        "%%shell\n",
        "ls / | wc -w"
      ]
    },
    {
      "cell_type": "markdown",
      "id": "gsLIKzMpziJh",
      "metadata": {
        "id": "gsLIKzMpziJh"
      },
      "source": [
        "Las tuberías (\"|\") conectan la salida estándar de un proceso con la entrada estándar de otro, permitiendo hacer cadenas de comandos que, en una sola línea, pueden realizar múltiples operaciones de manera eficiente. Esto nos permite combinar diferentes comandos con funciones específicas para sacar un resultado específico de forma concisa."
      ]
    },
    {
      "cell_type": "markdown",
      "id": "JnPK2ZUL0eAd",
      "metadata": {
        "id": "JnPK2ZUL0eAd"
      },
      "source": [
        "<h3>Ejercicio</h3>"
      ]
    },
    {
      "cell_type": "markdown",
      "id": "3UJk8mPi0eaZ",
      "metadata": {
        "id": "3UJk8mPi0eaZ"
      },
      "source": [
        "Usando tanto redirecciones como tuberías, guarda en un archivo \"ejercicio.txt\" todos los archivos del directorio raíz que contengan la letra \"a\" (usando la orden **grep a**, que se explicará en la siguiente unidad) y muestra el contenido del archivo:"
      ]
    },
    {
      "cell_type": "code",
      "execution_count": null,
      "id": "4yCm2vM60v4j",
      "metadata": {
        "id": "4yCm2vM60v4j"
      },
      "outputs": [],
      "source": [
        "%%shell\n",
        "#Borra este comentario e introduce aquí el comando necesario"
      ]
    }
  ],
  "metadata": {
    "colab": {
      "provenance": []
    },
    "kernelspec": {
      "display_name": "Python 3 (ipykernel)",
      "language": "python",
      "name": "python3"
    },
    "language_info": {
      "codemirror_mode": {
        "name": "ipython",
        "version": 3
      },
      "file_extension": ".py",
      "mimetype": "text/x-python",
      "name": "python",
      "nbconvert_exporter": "python",
      "pygments_lexer": "ipython3",
      "version": "3.11.4"
    }
  },
  "nbformat": 4,
  "nbformat_minor": 5
}
