{
  "cells": [
    {
      "cell_type": "markdown",
      "id": "2288f56a-1d55-40e3-ae6d-62865d2d5242",
      "metadata": {
        "id": "2288f56a-1d55-40e3-ae6d-62865d2d5242",
        "tags": []
      },
      "source": [
        "<a href=\"https://colab.research.google.com/github/msantana0612/TFG/blob/main/notebooks/notebookComandosBasicos.ipynb\" target=\"_blank\" rel=\"noopener noreferrer\"><img align=\"left\" src=\"https://colab.research.google.com/assets/colab-badge.svg\" alt=\"Open in Colab\" title=\"Open and Execute in Google Colaboratory\"></a>"
      ]
    },
    {
      "cell_type": "markdown",
      "id": "521585b7",
      "metadata": {
        "id": "521585b7"
      },
      "source": [
        "<h1>Comandos básicos</h1>"
      ]
    },
    {
      "cell_type": "markdown",
      "id": "g_SWuLhg0mgj",
      "metadata": {
        "id": "g_SWuLhg0mgj"
      },
      "source": [
        "<div style=\"font-size: 17px\"> \n",
        "\n",
        "Un **comando** es una instrucción que se introduce a través de la línea de comandos o terminal. Cada comando tiene un nombre específico, que indica al sistema qué debe hacer, y puede ir acompañado de **argumentos** (que especifican sobre qué objetos o archivos operar) y **opciones** (también llamadas *flags* o *switches*, que modifican el comportamiento del comando).\n",
        "\n",
        "- <code>comando [opciones] [argumentos]</code>\n",
        "\n",
        "Existe una gran variedad de comandos, con diferentes funciones que ayudan a administrar el sistema y realizar tareas de todo tipo. Algunos comandos permiten navegar por el sistema de archivos, manipular archivos y directorios, y otros facilitan la gestión de usuarios, permisos y procesos. La flexibilidad y potencia de los comandos hacen de la terminal una herramienta esencial para los usuarios de *Linux*. Varios comandos con diferentes utilidades son:\n",
        "</div>\n"
      ]
    },
    {
      "cell_type": "markdown",
      "id": "b5ea1c70",
      "metadata": {
        "id": "b5ea1c70"
      },
      "source": [
        "<div style=\"font-size: 17px\">\n",
        "\n",
        "- **<code>uname</code>**: Proporciona detalles básicos sobre el sistema, como el nombre del *kernel* y su versión. Este comando es útil para verificar la configuración general del entorno de trabajo, lo que es especialmente relevante al solucionar problemas o instalar *software*. Si no se introduce ninguna opción, muestra el nombre del sistema operativo\n",
        "    - **<code>-a</code>**: Muestra más detalles, como la versión del *kernel*, el nombre del *host*, la arquitectura del sistema y más.\n",
        "\n",
        "**Ejemplo**: Muestra el sistema operativo instalado:\n",
        "</div>"
      ]
    },
    {
      "cell_type": "code",
      "execution_count": null,
      "id": "461bca40",
      "metadata": {
        "colab": {
          "base_uri": "https://localhost:8080/"
        },
        "id": "461bca40",
        "outputId": "34c69b3a-d054-4028-cd58-c74f8a6f2470",
        "vscode": {
          "languageId": "plaintext"
        }
      },
      "outputs": [
        {
          "name": "stdout",
          "output_type": "stream",
          "text": [
            "Linux\n"
          ]
        },
        {
          "data": {
            "text/plain": []
          },
          "execution_count": 1,
          "metadata": {},
          "output_type": "execute_result"
        }
      ],
      "source": [
        "%%shell\n",
        "uname"
      ]
    },
    {
      "cell_type": "markdown",
      "id": "16b759a7",
      "metadata": {
        "id": "16b759a7"
      },
      "source": [
        "<div style=\"font-size: 17px\">\n",
        "\n",
        "**Ejemplo**: Muestra más detalles del sistema operativo instalado:\n",
        "</div>"
      ]
    },
    {
      "cell_type": "code",
      "execution_count": null,
      "id": "02df469d",
      "metadata": {
        "colab": {
          "base_uri": "https://localhost:8080/"
        },
        "id": "02df469d",
        "outputId": "a2eb63fd-45d9-4083-edc2-0c6939ef11e8",
        "vscode": {
          "languageId": "plaintext"
        }
      },
      "outputs": [
        {
          "name": "stdout",
          "output_type": "stream",
          "text": [
            "Linux 01d279cb7727 6.1.85+ #1 SMP PREEMPT_DYNAMIC Thu Jun 27 21:05:47 UTC 2024 x86_64 x86_64 x86_64 GNU/Linux\n"
          ]
        },
        {
          "data": {
            "text/plain": []
          },
          "execution_count": 2,
          "metadata": {},
          "output_type": "execute_result"
        }
      ],
      "source": [
        "%%shell\n",
        "uname -a"
      ]
    },
    {
      "cell_type": "markdown",
      "id": "d3296b7d",
      "metadata": {
        "id": "d3296b7d"
      },
      "source": [
        "<div style=\"font-size: 17px\">\n",
        "\n",
        "- **<code>whoami</code>**: Sirve para ver qué usuario está ejecutando la sesión actual.\n",
        "\n",
        "**Ejemplo**: Muestra por pantalla el nombre del usuario actual:\n",
        "</div>"
      ]
    },
    {
      "cell_type": "code",
      "execution_count": null,
      "id": "eb778f97",
      "metadata": {
        "colab": {
          "base_uri": "https://localhost:8080/"
        },
        "id": "eb778f97",
        "outputId": "d1b9a1f7-fb11-4093-ba7c-35ea47b47fb6",
        "vscode": {
          "languageId": "plaintext"
        }
      },
      "outputs": [
        {
          "name": "stdout",
          "output_type": "stream",
          "text": [
            "root\n"
          ]
        },
        {
          "data": {
            "text/plain": []
          },
          "execution_count": 3,
          "metadata": {},
          "output_type": "execute_result"
        }
      ],
      "source": [
        "%%shell\n",
        "whoami"
      ]
    },
    {
      "cell_type": "markdown",
      "id": "47c998f1",
      "metadata": {
        "id": "47c998f1"
      },
      "source": [
        "<div style=\"font-size: 17px\">\n",
        "\n",
        "- **<code>date</code>**: Obtiene la fecha y hora del sistema actuales. Se puede especificar un formato concreto.\n",
        "\n",
        "**Ejemplo**: Muestra la fecha actual con el formato por defecto:\n",
        "</div>"
      ]
    },
    {
      "cell_type": "code",
      "execution_count": null,
      "id": "ece26ee6",
      "metadata": {
        "colab": {
          "base_uri": "https://localhost:8080/"
        },
        "id": "ece26ee6",
        "outputId": "d2578f07-464f-436c-e943-4a368a7c732a",
        "vscode": {
          "languageId": "plaintext"
        }
      },
      "outputs": [
        {
          "name": "stdout",
          "output_type": "stream",
          "text": [
            "Wed Nov  6 06:28:13 AM UTC 2024\n"
          ]
        },
        {
          "data": {
            "text/plain": []
          },
          "execution_count": 4,
          "metadata": {},
          "output_type": "execute_result"
        }
      ],
      "source": [
        "%%shell\n",
        "date"
      ]
    },
    {
      "cell_type": "markdown",
      "id": "b400c692",
      "metadata": {},
      "source": [
        "<div style=\"font-size: 17px\">\n",
        "\n",
        "**Ejemplo**: Da un formato a la fecha a mostrar:\n",
        "</div>"
      ]
    },
    {
      "cell_type": "code",
      "execution_count": null,
      "id": "0a2fbf90",
      "metadata": {
        "colab": {
          "base_uri": "https://localhost:8080/"
        },
        "id": "0a2fbf90",
        "outputId": "df88dd07-96b3-4932-88fe-33b2cfd08496",
        "vscode": {
          "languageId": "plaintext"
        }
      },
      "outputs": [
        {
          "name": "stdout",
          "output_type": "stream",
          "text": [
            "2024-11-06 06:28:15\n"
          ]
        },
        {
          "data": {
            "text/plain": []
          },
          "execution_count": 5,
          "metadata": {},
          "output_type": "execute_result"
        }
      ],
      "source": [
        "%%shell\n",
        "date \"+%Y-%m-%d %H:%M:%S\""
      ]
    },
    {
      "cell_type": "markdown",
      "id": "5f29c9c4",
      "metadata": {
        "id": "5f29c9c4"
      },
      "source": [
        "<div style=\"font-size: 17px\">\n",
        "\n",
        "- **<code>cal</code>**: Enseña el calendario del mes actual.\n",
        "\n",
        "**Ejemplo**: Muestra el calendario del mes del sistema actual:\n",
        "</div>"
      ]
    },
    {
      "cell_type": "code",
      "execution_count": 4,
      "id": "7f16bf4a",
      "metadata": {
        "colab": {
          "base_uri": "https://localhost:8080/"
        },
        "id": "7f16bf4a",
        "outputId": "f5dc105d-c4c3-4284-8637-722f1a49b158",
        "vscode": {
          "languageId": "plaintext"
        }
      },
      "outputs": [
        {
          "name": "stdout",
          "output_type": "stream",
          "text": [
            "    January 2025      \n",
            "Su Mo Tu We Th Fr Sa  \n",
            "          1  2  3  4  \n",
            " 5  6  7  8  9 10 11  \n",
            "12 13 14 15 16 17 18  \n",
            "19 20 21 22 23 24 25  \n",
            "26 27 28 29 30 31     \n",
            "                      \n"
          ]
        },
        {
          "data": {
            "text/plain": []
          },
          "execution_count": 4,
          "metadata": {},
          "output_type": "execute_result"
        }
      ],
      "source": [
        "%%shell\n",
        "cal"
      ]
    },
    {
      "cell_type": "markdown",
      "id": "184b6491",
      "metadata": {
        "id": "184b6491"
      },
      "source": [
        "<div style=\"font-size: 17px\">\n",
        "\n",
        "- **<code>echo</code>**: Imprime en la terminal un texto.\n",
        "    - **<code>-e</code>**: Habilita el procesamiento de secuencias de escape. Esto permite, por ejemplo, interpretar saltos de línea(<code>\\n</code>), tabulaciones(<code>\\t</code>) u otros caracteres especiales.\n",
        "\n",
        "**Ejemplo**: Imprime el mensaje \"Hola, mundo\" por la terminal:\n",
        "</div>"
      ]
    },
    {
      "cell_type": "code",
      "execution_count": null,
      "id": "9377c878",
      "metadata": {
        "colab": {
          "base_uri": "https://localhost:8080/"
        },
        "id": "9377c878",
        "outputId": "ac80c082-ef2b-499f-e68a-d36a0765a759",
        "vscode": {
          "languageId": "plaintext"
        }
      },
      "outputs": [
        {
          "name": "stdout",
          "output_type": "stream",
          "text": [
            "Hola, mundo\n"
          ]
        },
        {
          "data": {
            "text/plain": []
          },
          "execution_count": 6,
          "metadata": {},
          "output_type": "execute_result"
        }
      ],
      "source": [
        "%%shell\n",
        "echo \"Hola, mundo\""
      ]
    },
    {
      "cell_type": "markdown",
      "id": "9b0a9fc3",
      "metadata": {
        "id": "9b0a9fc3"
      },
      "source": [
        "<div style=\"font-size: 17px\">\n",
        "\n",
        "**Ejemplo**: Imprime un mensaje con dos líneas, procesando la secuencia de salto de línea entre medias:\n",
        "</div>"
      ]
    },
    {
      "cell_type": "code",
      "execution_count": null,
      "id": "30f0cd04",
      "metadata": {
        "colab": {
          "base_uri": "https://localhost:8080/"
        },
        "id": "30f0cd04",
        "outputId": "e4ff4615-8214-4cdb-8aca-2ef212124496",
        "vscode": {
          "languageId": "plaintext"
        }
      },
      "outputs": [
        {
          "name": "stdout",
          "output_type": "stream",
          "text": [
            "Primera línea\n",
            "Segunda línea\n"
          ]
        },
        {
          "data": {
            "text/plain": []
          },
          "execution_count": 7,
          "metadata": {},
          "output_type": "execute_result"
        }
      ],
      "source": [
        "%%shell\n",
        "echo -e \"Primera línea\\nSegunda línea\""
      ]
    },
    {
      "cell_type": "markdown",
      "id": "c6b905f2",
      "metadata": {
        "id": "c6b905f2"
      },
      "source": [
        "<div style=\"font-size: 17px\">\n",
        "Linux cuenta con manuales que permiten acceder a información detallada sobre cada comando, ayudando a los usuarios a entender su funcionamiento y opciones. Para acceder a esta información existen diferentes comandos, entre los que destacan <code>apropos</code>, <code>man</code> e <code>info</code>:\n",
        "</div>"
      ]
    },
    {
      "cell_type": "markdown",
      "id": "44e1ac32",
      "metadata": {
        "id": "44e1ac32"
      },
      "source": [
        "<div style=\"font-size: 17px\">\n",
        "\n",
        "- **<code>apropos</code>**: Busca en las páginas del manual las entradas que coincidan con el argumento dado, mostrando el nombre y una breve descripción, que ayuda a tener una pequeña idea de cómo funciona.\n",
        "\n",
        "**Ejemplo**: Muestra una breve descripción del comando <code>apt-get</code>:\n",
        "</div>"
      ]
    },
    {
      "cell_type": "code",
      "execution_count": null,
      "id": "4c248f91",
      "metadata": {
        "colab": {
          "base_uri": "https://localhost:8080/"
        },
        "id": "4c248f91",
        "outputId": "7d5b2910-a54f-48b8-8d54-8ecfdf5c2e20",
        "vscode": {
          "languageId": "plaintext"
        }
      },
      "outputs": [
        {
          "name": "stdout",
          "output_type": "stream",
          "text": [
            "apt-get (8)          - APT package handling utility -- command-line interface\n"
          ]
        },
        {
          "data": {
            "text/plain": []
          },
          "execution_count": 8,
          "metadata": {},
          "output_type": "execute_result"
        }
      ],
      "source": [
        "%%shell\n",
        "apropos apt-get"
      ]
    },
    {
      "cell_type": "markdown",
      "id": "e54b9625",
      "metadata": {
        "id": "e54b9625"
      },
      "source": [
        "<div style=\"font-size: 17px\">\n",
        "\n",
        "- **<code>man</code>**: Accede al manual de usuario de los comandos y programas disponibles en el sistema. Al ejecutar <code>man</code> seguido de un comando, se muestra una página del manual con información detallada sobre su uso, opciones y sintaxis. El manual de *Linux* está organizado en secciones numeradas, donde cada número representa un tipo de contenido distinto, como comandos de usuario (**sección <code>1</code>**), llamadas al sistema (**sección <code>2</code>**) o funciones de biblioteca (**sección <code>3</code>**). Por ejemplo, <code>man 1 ls</code> muestra la documentación del comando <code>ls</code>, mientras que <code>man 3 printf</code> accede a la función de biblioteca <code>printf</code>.\n",
        "\n",
        "\n",
        "    - **<code>-k</code>**: Obtiene el mismo resultado que al ejecutar <code>apropos</code>.\n",
        "\n",
        "    **Ejemplos**:\n",
        "    - **<code>man apt-get</code>**: Entrada completa del comando apt-get (<code>apt-get</code> en la web).\n",
        "    - **<code>man -k apt-get</code>**: Nombre y breve descripción del comando <code>apt-get</code> (<code>-k apt-get</code> en la web).\n",
        "\n",
        "    En *Google Colab* no es posible ejecutar este comando, pero se pueden ver las entradas del manual en una <a href=\"http://man.he.net/\" target=\"_blank\">página web</a> introduciendo las opciones y el comando del que se quiere ver la información (escribiendo la orden completa omitiendo <code>man</code>).\n",
        "\n",
        "- **<code>info</code>**: Muestra documentación detallada sobre comandos y programas del sistema. Es una alternativa aún completa al comando <code>man</code>, ya que ofrece documentación en formato hipertextual, permitiendo navegar entre secciones y seguir enlaces dentro de la misma documentación.\n",
        "</div>"
      ]
    },
    {
      "cell_type": "markdown",
      "id": "c4912055",
      "metadata": {
        "id": "c4912055"
      },
      "source": [
        "<div style=\"font-size: 17px\">\n",
        "\n",
        "El comando <code>clear</code> limpia la terminal y borra todo lo anterior. Finalmente, con el comando <code>exit</code>, finaliza la sesión actual y cierra la terminal.\n",
        "</div>"
      ]
    },
    {
      "cell_type": "code",
      "execution_count": 6,
      "id": "615EzcZd4a4_",
      "metadata": {
        "colab": {
          "base_uri": "https://localhost:8080/"
        },
        "id": "615EzcZd4a4_",
        "outputId": "ecf609b8-4a35-4929-ba57-ece908327760"
      },
      "outputs": [
        {
          "data": {
            "text/plain": []
          },
          "execution_count": 6,
          "metadata": {},
          "output_type": "execute_result"
        }
      ],
      "source": [
        "%%shell\n",
        "exit"
      ]
    },
    {
      "cell_type": "markdown",
      "id": "27552b8c",
      "metadata": {},
      "source": [
        "<h3>Ejercicios</h3>"
      ]
    },
    {
      "cell_type": "markdown",
      "id": "c63fdd35",
      "metadata": {},
      "source": [
        "<div style=\"font-size: 17px\">\n",
        "\n",
        "Muestra un mensaje de, al menos, 3 líneas:\n",
        "</div>"
      ]
    },
    {
      "cell_type": "code",
      "execution_count": null,
      "id": "7de3a859",
      "metadata": {},
      "outputs": [],
      "source": [
        "%%shell\n",
        "#Borra este comentario e introduce aquí el/los comando/s necesario/s"
      ]
    },
    {
      "cell_type": "markdown",
      "id": "aaddb5cc",
      "metadata": {},
      "source": [
        "<div style=\"font-size: 17px\">\n",
        "\n",
        "Busca en las ***man pages*** el comando <code>seq</code> para ver su funcionamiento, y genera una secuencia de números:\n",
        "</div>"
      ]
    },
    {
      "cell_type": "code",
      "execution_count": null,
      "id": "9b555d39",
      "metadata": {},
      "outputs": [],
      "source": [
        "%%shell\n",
        "#Borra este comentario e introduce aquí el/los comando/s necesario/s"
      ]
    }
  ],
  "metadata": {
    "colab": {
      "provenance": []
    },
    "kernelspec": {
      "display_name": "Python 3 (ipykernel)",
      "language": "python",
      "name": "python3"
    },
    "language_info": {
      "codemirror_mode": {
        "name": "ipython",
        "version": 3
      },
      "file_extension": ".py",
      "mimetype": "text/x-python",
      "name": "python",
      "nbconvert_exporter": "python",
      "pygments_lexer": "ipython3",
      "version": "3.11.4"
    }
  },
  "nbformat": 4,
  "nbformat_minor": 5
}
