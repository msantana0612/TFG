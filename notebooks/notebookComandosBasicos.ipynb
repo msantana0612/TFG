{
 "cells": [
  {
   "cell_type": "markdown",
   "id": "2288f56a-1d55-40e3-ae6d-62865d2d5242",
   "metadata": {
    "id": "2288f56a-1d55-40e3-ae6d-62865d2d5242",
    "tags": []
   },
   "source": [
    "<a href=\"https://colab.research.google.com/github/msantana0612/TFG/blob/main/notebooks/notebookComandosBasicos.ipynb\" target=\"_blank\" rel=\"noopener noreferrer\"><img align=\"left\" src=\"https://colab.research.google.com/assets/colab-badge.svg\" alt=\"Open in Colab\" title=\"Open and Execute in Google Colaboratory\"></a>"
   ]
  },
  {
   "cell_type": "markdown",
   "id": "521585b7",
   "metadata": {},
   "source": [
    "<h1>Comandos básicos</h1>"
   ]
  },
  {
   "cell_type": "markdown",
   "id": "g_SWuLhg0mgj",
   "metadata": {
    "id": "g_SWuLhg0mgj"
   },
   "source": [
    "<div style=\"font-size: 17px\">\n",
    "Un comando es una instrucción que se introduce a través de la línea de comandos o terminal. Cada comando tiene un nombre específico, que indica al sistema qué debe hacer, y puede ir acompañado de argumentos (que especifican sobre qué objetos o archivos operar) y opciones (también llamadas flags o switches, que modifican el comportamiento del comando). \n",
    "\n",
    "<code>comando [opciones] [argumentos]</code>\n",
    "\n",
    "Existe una gran variedad de comandos, con diferentes funciones que ayudan a administrar el sistema y realizar tareas de todo tipo. Algunos comandos permiten navegar por el sistema de archivos, manipulan archivos y directorios, y otros facilitan la gestión de usuarios, permisos y procesos. La flexibilidad y potencia de los comandos hacen de la terminal una herramienta esencial para los usuarios de Linux.\n",
    "</div>\n"
   ]
  },
  {
   "cell_type": "markdown",
   "id": "b5ea1c70",
   "metadata": {},
   "source": [
    "<div style=\"font-size: 17px\">\n",
    "Cuando trabajas en Linux, a veces necesitas obtener información sobre el sistema operativo y la arquitectura del equipo en el que estás trabajando. El comando <code>name</code> es ideal para esto, ya que proporciona detalles básicos sobre el sistema, como el nombre del kernel y su versión. Este comando es útil para verificar la configuración general de tu entorno de trabajo, lo que es especialmente relevante al solucionar problemas o instalar software.\n",
    "</div>"
   ]
  },
  {
   "cell_type": "code",
   "execution_count": null,
   "id": "461bca40",
   "metadata": {
    "vscode": {
     "languageId": "plaintext"
    }
   },
   "outputs": [],
   "source": [
    "%%shell\n",
    "uname"
   ]
  },
  {
   "cell_type": "markdown",
   "id": "16b759a7",
   "metadata": {},
   "source": [
    "<div style=\"font-size: 17px\">\n",
    "Si necesitas obtener más detalles, como la versión del kernel, el nombre del host, la arquitectura del sistema y más, puedes usar la opción <code>-a</code>:\n",
    "</div>"
   ]
  },
  {
   "cell_type": "code",
   "execution_count": null,
   "id": "02df469d",
   "metadata": {
    "vscode": {
     "languageId": "plaintext"
    }
   },
   "outputs": [],
   "source": [
    "%%shell\n",
    "uname -a"
   ]
  },
  {
   "cell_type": "markdown",
   "id": "d3296b7d",
   "metadata": {},
   "source": [
    "<div style=\"font-size: 17px\">\n",
    "Para iniciar sesión en Linux, igual que en Windows, cada usuario debe autenticarse con un nombre de usuario y una contraseña. Un comando sencillo para ver con qué usuario se está ejecutando la sesión es <code>whoami</code>, que muestra por pantalla qué usuario es con el que estás trabajando en ese momento:\n",
    "</div>"
   ]
  },
  {
   "cell_type": "code",
   "execution_count": null,
   "id": "eb778f97",
   "metadata": {
    "vscode": {
     "languageId": "plaintext"
    }
   },
   "outputs": [],
   "source": [
    "%%shell\n",
    "whoami"
   ]
  },
  {
   "cell_type": "markdown",
   "id": "47c998f1",
   "metadata": {},
   "source": [
    "<div style=\"font-size: 17px\">\n",
    "Para ver la fecha actual, existe el comando <code>date</code>, con el que se puede indicar un formato concreto:\n",
    "</div>"
   ]
  },
  {
   "cell_type": "code",
   "execution_count": null,
   "id": "ece26ee6",
   "metadata": {
    "vscode": {
     "languageId": "plaintext"
    }
   },
   "outputs": [],
   "source": [
    "%%shell\n",
    "date"
   ]
  },
  {
   "cell_type": "code",
   "execution_count": null,
   "id": "0a2fbf90",
   "metadata": {
    "vscode": {
     "languageId": "plaintext"
    }
   },
   "outputs": [],
   "source": [
    "%%shell\n",
    "date \"+%Y-%m-%d %H:%M:%S\""
   ]
  },
  {
   "cell_type": "markdown",
   "id": "184b6491",
   "metadata": {},
   "source": [
    "<div style=\"font-size: 17px\">\n",
    "En comando muy útil es <code>echo</code>, que imprime en la terminal un texto:\n",
    "</div>"
   ]
  },
  {
   "cell_type": "code",
   "execution_count": null,
   "id": "9377c878",
   "metadata": {
    "vscode": {
     "languageId": "plaintext"
    }
   },
   "outputs": [],
   "source": [
    "%%shell\n",
    "echo \"Hola, mundo\""
   ]
  },
  {
   "cell_type": "markdown",
   "id": "9b0a9fc3",
   "metadata": {},
   "source": [
    "<div style=\"font-size: 17px\">\n",
    "Una característica importante de <code>echo</code> es el parámetro <code>-e</code>, que habilita el procesamiento de secuencias de escape. Esto permite, por ejemplo, incluir saltos de línea(\\n), tabulaciones(\\t) u otros caracteres especiales:\n",
    "</div>"
   ]
  },
  {
   "cell_type": "code",
   "execution_count": null,
   "id": "30f0cd04",
   "metadata": {
    "vscode": {
     "languageId": "plaintext"
    }
   },
   "outputs": [],
   "source": [
    "%%shell\n",
    "echo -e \"Primera línea\\nSegunda línea\""
   ]
  },
  {
   "cell_type": "markdown",
   "id": "c6b905f2",
   "metadata": {},
   "source": [
    "<div style=\"font-size: 17px\">\n",
    "Linux cuenta con manuales que permiten acceder a información detallada sobre cada comando, ayudando a los usuarios a entender su funcionamiento y opciones. Para acceder a esta información existen diferentes comandos que muestran información relevante para entender la funcionalidad y el uso de los comandos, entre los que dstacan <code>apropos</code>, <code>man</code> e <code>info</code>.\n",
    "</div>"
   ]
  },
  {
   "cell_type": "markdown",
   "id": "44e1ac32",
   "metadata": {},
   "source": [
    "<div style=\"font-size: 17px\">\n",
    "<code>apropos</code> busca en las páginas del manual las entradas que coincidan con el argumento dado, pro muestra sólo el nombre y una breve descripción, que nos ayuda a tener una pequeña idea de cómo funciona:\n",
    "</div>"
   ]
  },
  {
   "cell_type": "code",
   "execution_count": null,
   "id": "4c248f91",
   "metadata": {
    "vscode": {
     "languageId": "plaintext"
    }
   },
   "outputs": [],
   "source": [
    "%%shell\n",
    "apropos apt-get"
   ]
  },
  {
   "cell_type": "markdown",
   "id": "e54b9625",
   "metadata": {},
   "source": [
    "<div style=\"font-size: 17px\">\n",
    "Una opción con más información es <code>man</code>, que además de mostrar nombre y descripción, enseña las posibles opciones y para qué sirven, así como qué argumentos son necesarios. \\\n",
    "En Google Colab no es posible ejecutar este comando, pero se pueden ver las entradas del manual en una <a href=\"http://man.he.net/\" target=\"_blank\">página web</a> introduciendo las opciones y el comando del que se quiere ver la información.\n",
    "\n",
    "Otra opción útil del comando es <code>-k</code>, que tiene la misma salida que ejecutar apropos.\n",
    "\n",
    "- **<code>man apt-get</code>**: Entrada completa del comando apt-get.\n",
    "- **<code>man -k apt-get</code>**: Nombre y breve descripción del comando apt-get.\n",
    "</div>"
   ]
  }
 ],
 "metadata": {
  "colab": {
   "provenance": []
  },
  "kernelspec": {
   "display_name": "Python 3 (ipykernel)",
   "language": "python",
   "name": "python3"
  },
  "language_info": {
   "codemirror_mode": {
    "name": "ipython",
    "version": 3
   },
   "file_extension": ".py",
   "mimetype": "text/x-python",
   "name": "python",
   "nbconvert_exporter": "python",
   "pygments_lexer": "ipython3",
   "version": "3.11.4"
  }
 },
 "nbformat": 4,
 "nbformat_minor": 5
}
