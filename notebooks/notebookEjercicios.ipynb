{
  "cells": [
    {
      "cell_type": "markdown",
      "id": "56371638-880a-4e02-9544-c2f9709c0372",
      "metadata": {
        "id": "56371638-880a-4e02-9544-c2f9709c0372"
      },
      "source": [
        "<!--NAVIGATION-->\n",
        "\n",
        "\n",
        "<a href=\"https://colab.research.google.com/github/msantana0612/TFG/blob/main/notebooks/notebookEjercicios.ipynb\" target=\"_blank\" rel=\"noopener noreferrer\"><img align=\"left\" src=\"https://colab.research.google.com/assets/colab-badge.svg\" alt=\"Open in Colab\" title=\"Open and Execute in Google Colaboratory\"></a>"
      ]
    },
    {
      "cell_type": "markdown",
      "id": "WRJyTw3Zhs_B",
      "metadata": {
        "id": "WRJyTw3Zhs_B"
      },
      "source": [
        "<h1>Autoevaluación</h1>"
      ]
    },
    {
      "cell_type": "markdown",
      "id": "xLS_fc9stCwK",
      "metadata": {
        "id": "xLS_fc9stCwK"
      },
      "source": [
        "<h2>Ejercicio 1</h2>"
      ]
    },
    {
      "cell_type": "markdown",
      "id": "g43LWHpwvU_y",
      "metadata": {
        "id": "g43LWHpwvU_y"
      },
      "source": [
        "![Arbol de directorios](https://raw.githubusercontent.com/msantana0612/TFG/gh-pages/images/ejercicio1.jpg)"
      ]
    },
    {
      "cell_type": "markdown",
      "id": "_HgBRmh137ST",
      "metadata": {
        "id": "_HgBRmh137ST"
      },
      "source": [
        "<div style=\"font-size: 18px\">\n",
        "Para todo el ejercicio, será necesario situarse en el directorio de conexión a menos que se indique lo contrario.\n",
        "</div>"
      ]
    },
    {
      "cell_type": "markdown",
      "id": "ZM7m2Cxiv0m9",
      "metadata": {
        "id": "ZM7m2Cxiv0m9"
      },
      "source": [
        "<h3>1.1</h3>"
      ]
    },
    {
      "cell_type": "markdown",
      "id": "Chm2VUoWvgZc",
      "metadata": {
        "id": "Chm2VUoWvgZc"
      },
      "source": [
        "<div style=\"font-size: 18px\">\n",
        "Crear la estructura de archivos de la imagen anterior sin moverse de directorio y muestra el árbol resultante:\n",
        "</div>"
      ]
    },
    {
      "cell_type": "code",
      "execution_count": null,
      "id": "E7rB8QebtC3e",
      "metadata": {
        "id": "E7rB8QebtC3e"
      },
      "outputs": [],
      "source": [
        "%%shell\n",
        "#Borra este comentario e introduce aquí el/los comando/s necesario/s"
      ]
    },
    {
      "cell_type": "markdown",
      "id": "NJJGZKBawCnh",
      "metadata": {
        "id": "NJJGZKBawCnh"
      },
      "source": [
        "<h3>1.2</h3>"
      ]
    },
    {
      "cell_type": "markdown",
      "id": "9fKyqv-FwBLS",
      "metadata": {
        "id": "9fKyqv-FwBLS"
      },
      "source": [
        "<div style=\"font-size: 18px\">\n",
        "Situarse en el directorio <code>~/Trabajos/modelos/informes</code> y crear un archivo \"informe.txt\" con el contenido \"Este es el primer informe\":\n",
        "</div>"
      ]
    },
    {
      "cell_type": "code",
      "execution_count": null,
      "id": "x1bMqs_fwBRW",
      "metadata": {
        "id": "x1bMqs_fwBRW"
      },
      "outputs": [],
      "source": [
        "%%shell\n",
        "#Borra este comentario e introduce aquí el/los comando/s necesario/s"
      ]
    },
    {
      "cell_type": "markdown",
      "id": "M6Xolq9ewiJh",
      "metadata": {
        "id": "M6Xolq9ewiJh"
      },
      "source": [
        "<h3>1.3</h3>"
      ]
    },
    {
      "cell_type": "markdown",
      "id": "RCj026wmwiM3",
      "metadata": {
        "id": "RCj026wmwiM3"
      },
      "source": [
        "<div style=\"font-size: 18px\">\n",
        "Situarse en el directorio <code>~/Trabajos/modelos/informes</code> y cambiar los permisos de ese archivo para que todos los usuarios puedan leer el archivo, pero solo el propietario pueda modificarlo:\n",
        "</div>"
      ]
    },
    {
      "cell_type": "code",
      "execution_count": null,
      "id": "yLaoklK3wiUb",
      "metadata": {
        "id": "yLaoklK3wiUb"
      },
      "outputs": [],
      "source": [
        "%%shell\n",
        "#Borra este comentario e introduce aquí el/los comando/s necesario/s"
      ]
    },
    {
      "cell_type": "markdown",
      "id": "5vdZS_oRxPd3",
      "metadata": {
        "id": "5vdZS_oRxPd3"
      },
      "source": [
        "<h3>1.4</h3>"
      ]
    },
    {
      "cell_type": "markdown",
      "id": "8Ud7cr8vxPkB",
      "metadata": {
        "id": "8Ud7cr8vxPkB"
      },
      "source": [
        "<div style=\"font-size: 18px\">\n",
        "Situarse en el directorio <code>~/Trabajos/modelos/informes</code> y crear un enlace del archivo creado anteriormente en la carpeta <code>~/TEMPORAL/Informes</code> utilizando rutas relativas. El enlace debe permitir que, si se borra el archivo original, se pueda seguir accediendo al archivo:\n",
        "</div>"
      ]
    },
    {
      "cell_type": "code",
      "execution_count": null,
      "id": "4_eZkHYKxPp4",
      "metadata": {
        "id": "4_eZkHYKxPp4"
      },
      "outputs": [],
      "source": [
        "%%shell\n",
        "#Borra este comentario e introduce aquí el/los comando/s necesario/s"
      ]
    },
    {
      "cell_type": "markdown",
      "id": "dD4N4tnqxkjo",
      "metadata": {
        "id": "dD4N4tnqxkjo"
      },
      "source": [
        "<h3>1.5</h3>"
      ]
    },
    {
      "cell_type": "markdown",
      "id": "kv32DTLuxkpq",
      "metadata": {
        "id": "kv32DTLuxkpq"
      },
      "source": [
        "<div style=\"font-size: 18px\">\n",
        "Borrar toda la estructura de archivos creada en el apartado 1.1\n",
        "</div>"
      ]
    },
    {
      "cell_type": "code",
      "execution_count": null,
      "id": "1c7HSv0kxkw3",
      "metadata": {
        "id": "1c7HSv0kxkw3"
      },
      "outputs": [],
      "source": [
        "%%shell\n",
        "#Borra este comentario e introduce aquí el/los comando/s necesario/s"
      ]
    },
    {
      "cell_type": "markdown",
      "id": "zwoXzCEkx4Ic",
      "metadata": {
        "id": "zwoXzCEkx4Ic"
      },
      "source": [
        "<h2>Ejercicio 2</h2>"
      ]
    },
    {
      "cell_type": "markdown",
      "id": "4rQzzFWWx6jW",
      "metadata": {
        "id": "4rQzzFWWx6jW"
      },
      "source": [
        "<h3>2.1</h3>"
      ]
    },
    {
      "cell_type": "markdown",
      "id": "IbO33bR2zm4o",
      "metadata": {
        "id": "IbO33bR2zm4o"
      },
      "source": [
        "<div style=\"font-size: 18px\">\n",
        "Utilizando redirecciones, obtener el número de usuarios en <code>/etc/passwd</code> que tienen como intérprete de órdenes <code>/bin/bash</code> en la columna 7 del archivo (cada columna está separada por un \":\").\n",
        "</div>"
      ]
    },
    {
      "cell_type": "code",
      "execution_count": null,
      "id": "z2esOT5lzC5s",
      "metadata": {
        "id": "z2esOT5lzC5s"
      },
      "outputs": [],
      "source": [
        "%%shell\n",
        "#Borra este comentario e introduce aquí el/los comando/s necesario/s"
      ]
    },
    {
      "cell_type": "markdown",
      "id": "TuTeWD_P04PY",
      "metadata": {
        "id": "TuTeWD_P04PY"
      },
      "source": [
        "<h3>2.2</h3>"
      ]
    },
    {
      "cell_type": "markdown",
      "id": "mCtATbbn04VO",
      "metadata": {
        "id": "mCtATbbn04VO"
      },
      "source": [
        "<div style=\"font-size: 18px\">\n",
        "Utilizando tuberías, obtener el número de usuarios en <code>/etc/passwd</code> que tienen como intérprete de órdenes <code>/bin/bash</code> en la columna 7 del archivo (cada columna está separada por un \":\").\n",
        "</div>"
      ]
    },
    {
      "cell_type": "code",
      "execution_count": null,
      "id": "QoUA5MwL04a6",
      "metadata": {
        "id": "QoUA5MwL04a6"
      },
      "outputs": [],
      "source": [
        "%%shell\n",
        "#Borra este comentario e introduce aquí el/los comando/s necesario/s"
      ]
    }
  ],
  "metadata": {
    "colab": {
      "provenance": []
    },
    "kernelspec": {
      "display_name": "Python 3 (ipykernel)",
      "language": "python",
      "name": "python3"
    },
    "language_info": {
      "codemirror_mode": {
        "name": "ipython",
        "version": 3
      },
      "file_extension": ".py",
      "mimetype": "text/x-python",
      "name": "python",
      "nbconvert_exporter": "python",
      "pygments_lexer": "ipython3",
      "version": "3.11.4"
    }
  },
  "nbformat": 4,
  "nbformat_minor": 5
}
