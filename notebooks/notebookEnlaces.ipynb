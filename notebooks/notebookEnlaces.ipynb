{
  "cells": [
    {
      "cell_type": "markdown",
      "id": "56371638-880a-4e02-9544-c2f9709c0372",
      "metadata": {
        "id": "56371638-880a-4e02-9544-c2f9709c0372"
      },
      "source": [
        "<!--NAVIGATION-->\n",
        "\n",
        "\n",
        "<a href=\"https://colab.research.google.com/github/msantana0612/TFG/blob/main/notebooks/notebookEnlaces.ipynb\" target=\"_blank\" rel=\"noopener noreferrer\"><img align=\"left\" src=\"https://colab.research.google.com/assets/colab-badge.svg\" alt=\"Open in Colab\" title=\"Open and Execute in Google Colaboratory\"></a>"
      ]
    },
    {
      "cell_type": "markdown",
      "id": "juaeQr9elxe7",
      "metadata": {
        "id": "juaeQr9elxe7"
      },
      "source": [
        "<h1>Enlaces</h1>"
      ]
    },
    {
      "cell_type": "markdown",
      "id": "b48910ef",
      "metadata": {
        "id": "b48910ef"
      },
      "source": [
        "<h2>I-nodes</h2>"
      ]
    },
    {
      "cell_type": "markdown",
      "id": "f377cda8",
      "metadata": {
        "id": "f377cda8"
      },
      "source": [
        "<div style=\"font-size: 17px\">\n",
        "\n",
        "Un ***i-node*** (abreviatura de *\"index node\"*) es una estructura de datos utilizada para gestionar la información de los archivos y directorios. Cada archivo y directorio está asociado a un *i-node*, que contiene metadatos sobre el archivo, pero no su contenido ni su nombre. En lugar de almacenar estos datos en una tabla de asignación de archivos centralizada, los *i-nodes* están distribuidos en el disco y organizados de manera eficiente para facilitar el acceso a los archivos. Cuando un usuario accede a un archivo, el sistema operativo primero localiza su *i-node* para obtener estos datos antes de recuperar la información real.<br>\n",
        "Contiene información clave como los permisos de acceso, el propietario, el grupo, las marcas de tiempo de creación y modificación, el tamaño del archivo y los punteros a los bloques de datos donde se almacena el contenido del archivo en el disco. Sin embargo, un *i-node* no almacena el **nombre del archivo**, ya que este se guarda en la estructura del directorio donde el archivo está ubicado. Esto permite que múltiples nombres de archivo (en diferentes ubicaciones) apunten al mismo *i-node* mediante **enlaces duros**.\n",
        "\n",
        "</div>"
      ]
    },
    {
      "cell_type": "markdown",
      "id": "19fe23e6",
      "metadata": {
        "id": "19fe23e6"
      },
      "source": [
        "<h2>Enlaces duros</h2>"
      ]
    },
    {
      "cell_type": "markdown",
      "id": "85bec434",
      "metadata": {
        "id": "85bec434"
      },
      "source": [
        "<div style=\"font-size: 17px\">\n",
        "\n",
        "Un **enlace duro** o enlace fuerte (*hard link*) es una referencia directa al *i-node* del archivo original, por lo que su contenido será el mismo. Esto significa que aunque se borre el archivo original, no se borrará el contenido del archivo siempre que haya al menos un enlace duro que lo apunte. Además, cualquier modificación realizada a través de un enlace duro afecta al mismo contenido del archivo, sin importar desde qué nombre se acceda. Sin embargo, tienen ciertas limitaciones: no se pueden crear enlaces duros a directorios ni entre diferentes sistemas de archivos.\n",
        "</div>"
      ]
    },
    {
      "cell_type": "markdown",
      "id": "00b9252b",
      "metadata": {
        "id": "00b9252b"
      },
      "source": [
        "<div style=\"text-align: center;\">\n",
        "    <img src=\"https://raw.githubusercontent.com/msantana0612/TFG/gh-pages/images/hardLink.png\" alt=\"Enlace duro\"  width=\"858\" height=\"577\">\n",
        "</div>"
      ]
    },
    {
      "cell_type": "markdown",
      "id": "4a65c7c4",
      "metadata": {
        "id": "4a65c7c4"
      },
      "source": [
        "<div style=\"font-size: 17px\">\n",
        "\n",
        "Para crear un enlace duro, se usa el comando <code>ln</code>: <br>\n",
        "- <code>ln archivo_origen enlace_fuerte</code>\n",
        "\n",
        "**Ejemplo**: Se crea un enlace fuerte sobre el archivo \"original\" y se muestran sus *i-nodes*:\n",
        "</div>"
      ]
    },
    {
      "cell_type": "code",
      "execution_count": 3,
      "id": "afd526b5",
      "metadata": {
        "colab": {
          "base_uri": "https://localhost:8080/"
        },
        "id": "afd526b5",
        "outputId": "ae08f7fd-40c8-4652-8387-ee8924c53323"
      },
      "outputs": [
        {
          "name": "stdout",
          "output_type": "stream",
          "text": [
            "total 4\n",
            "5116126 -rw-r--r-- 2 root root    0 Apr  4 05:33 enlace_duro\n",
            "5116126 -rw-r--r-- 2 root root    0 Apr  4 05:33 original\n",
            "3538969 drwxr-xr-x 1 root root 4096 Apr  2 13:35 sample_data\n"
          ]
        },
        {
          "data": {
            "text/plain": []
          },
          "execution_count": 3,
          "metadata": {},
          "output_type": "execute_result"
        }
      ],
      "source": [
        "%%shell\n",
        "touch original\n",
        "ln original enlace_duro\n",
        "ls -li\n",
        "\n",
        "unlink enlace_duro\n",
        "rm original"
      ]
    },
    {
      "cell_type": "markdown",
      "id": "823feec8",
      "metadata": {
        "id": "823feec8"
      },
      "source": [
        "<div style=\"font-size: 17px\">\n",
        "\n",
        "**Ejemplo**: Si se tiene un archivo \"archivo\" y se crea un enlace duro \"enlace_duro\" que lo referencie, cualquier modificación realizada en \"enlace_duro\" afectará directamente al archivo original (ambos apuntan al mismo espacio de almacenamiento en disco):\n",
        "</div>"
      ]
    },
    {
      "cell_type": "code",
      "execution_count": 4,
      "id": "d7fb1de8",
      "metadata": {
        "colab": {
          "base_uri": "https://localhost:8080/"
        },
        "id": "d7fb1de8",
        "outputId": "efed202b-377c-48f5-ed2c-bcbd41ed2d94"
      },
      "outputs": [
        {
          "name": "stdout",
          "output_type": "stream",
          "text": [
            "5116833 -rw-r--r-- 2 root root 51 Apr  4 05:33 archivo\n",
            "5116833 -rw-r--r-- 2 root root 51 Apr  4 05:33 enlace_duro\n",
            "Primera parte al archivo,\n",
            "segunda parte al enlace.\n"
          ]
        },
        {
          "data": {
            "text/plain": []
          },
          "execution_count": 4,
          "metadata": {},
          "output_type": "execute_result"
        }
      ],
      "source": [
        "%%shell\n",
        "touch archivo #Se crea un archivo\n",
        "echo \"Primera parte al archivo,\" > archivo\n",
        "ln archivo enlace_duro #Se crea el enlace\n",
        "echo \"segunda parte al enlace.\" >> enlace_duro\n",
        "ls -li archivo enlace_duro #El i-node es el mismo\n",
        "cat archivo #Se muestran el archivo original\n",
        "\n",
        "unlink enlace_duro\n",
        "rm archivo"
      ]
    },
    {
      "cell_type": "markdown",
      "id": "bbc81acd",
      "metadata": {
        "id": "bbc81acd"
      },
      "source": [
        "<h2>Enlaces débiles</h2>"
      ]
    },
    {
      "cell_type": "markdown",
      "id": "0f995d42",
      "metadata": {
        "id": "0f995d42"
      },
      "source": [
        "<div style=\"font-size: 17px\">\n",
        "\n",
        "Un **enlace débil** o simbólico (*soft link* o *symbolic link*) es un archivo especial que actúa como un puntero hacia otro archivo o directorio. A diferencia de los enlaces duros, un enlace débil no referencia directamente al *i-node* del archivo original, sino que contiene la ruta del archivo objetivo. Esto implica que si el archivo original se elimina o se mueve, el enlace débil quedará roto y no podrá acceder al contenido. Los enlaces débiles pueden enlazar tanto a archivos como a directorios y pueden apuntar a archivos en distintos sistemas de archivos.\n",
        "\n",
        "</div>"
      ]
    },
    {
      "cell_type": "markdown",
      "id": "0416e589",
      "metadata": {
        "id": "0416e589"
      },
      "source": [
        "<div style=\"text-align: center;\">\n",
        "    <img src=\"https://raw.githubusercontent.com/msantana0612/TFG/gh-pages/images/softLink.png\" alt=\"Enlace debil\"  width=\"858\" height=\"577\">\n",
        "</div>"
      ]
    },
    {
      "cell_type": "markdown",
      "id": "ILQWA6FLoa-X",
      "metadata": {
        "id": "ILQWA6FLoa-X"
      },
      "source": [
        "<div style=\"font-size: 17px\">\n",
        "\n",
        "Para crear un enlace débil, se añade la opción <code>-s</code> al comando <code>ln</code>: <br>\n",
        "- <code>ln -s archivo_origen enlace_debil</code>\n",
        "\n",
        "\n",
        "Para borrar los enlaces, existe el comando <code>unlink</code>, aunque también se pueden borrar con el comando <code>rm</code>.\n",
        "</div>"
      ]
    },
    {
      "cell_type": "markdown",
      "id": "45426c17",
      "metadata": {
        "id": "45426c17"
      },
      "source": [
        "<div style=\"font-size: 17px\">\n",
        "\n",
        "**Ejemplo**: Se crea un archivo y dos enlaces: uno débil y otro fuerte. Con la orden <code>ls -li</code> mostramos los detalles de los archivos (<code>-l</code>) y sus ***i-nodes*** (<code>-i</code>):\n",
        "</div>"
      ]
    },
    {
      "cell_type": "code",
      "execution_count": 5,
      "id": "eab035fb",
      "metadata": {
        "colab": {
          "base_uri": "https://localhost:8080/"
        },
        "id": "eab035fb",
        "outputId": "73fb3bb7-8dbd-45dd-8bfa-104b9b613573"
      },
      "outputs": [
        {
          "name": "stdout",
          "output_type": "stream",
          "text": [
            "5116833 -rw-r--r-- 2 root root 18 Apr  4 05:33 archivoEnlace\n",
            "5116834 lrwxrwxrwx 1 root root 13 Apr  4 05:33 debil -> archivoEnlace\n",
            "5116833 -rw-r--r-- 2 root root 18 Apr  4 05:33 fuerte\n"
          ]
        },
        {
          "data": {
            "text/plain": []
          },
          "execution_count": 5,
          "metadata": {},
          "output_type": "execute_result"
        }
      ],
      "source": [
        "%%shell\n",
        "echo \"Archivo de prueba\" > archivoEnlace\n",
        "ln archivoEnlace fuerte\n",
        "ln -s archivoEnlace debil\n",
        "ls -li archivoEnlace fuerte debil\n",
        "\n",
        "unlink fuerte\n",
        "unlink debil\n",
        "rm archivoEnlace"
      ]
    },
    {
      "cell_type": "markdown",
      "id": "a0f15895",
      "metadata": {
        "id": "a0f15895"
      },
      "source": [
        "<div style=\"font-size: 17px\">\n",
        "\n",
        "Se ve como el enlace simbólico tiene un ***i-node*** diferente al archivo original y ocupa menos espacio (solo contiene la dirección al archivo original), mientras que el enlace fuerte tiene el mismo ***i-node*** y ocupa el mismo espacio (apunta a la misma información que el archivo original). Además, se muestra el número de referencias a cada archivo: para el archivo original y para el enlace fuerte hay un total de 2 referencias (referencian el mismo *i-node*), mientras que para el enlace simbólico solo hay 1 (referencia un *i-node* diferente).\n",
        "</div>"
      ]
    },
    {
      "cell_type": "markdown",
      "id": "d74782b4",
      "metadata": {
        "id": "d74782b4"
      },
      "source": [
        "<div style=\"font-size: 17px\">\n",
        "\n",
        "**Ejemplo**: Se crea un archivo y dos enlaces: uno débil y otro fuerte. Al borrar el archivo original y comprobar el estado de los enlaces con la instrucción <code>file</code>, se observa que el enlace simbólico (débil) está roto.\n",
        "</div>"
      ]
    },
    {
      "cell_type": "code",
      "execution_count": 6,
      "id": "pldQXt9kpZHa",
      "metadata": {
        "colab": {
          "base_uri": "https://localhost:8080/"
        },
        "id": "pldQXt9kpZHa",
        "outputId": "5b052ace-1ed6-4874-c174-049970b01aca"
      },
      "outputs": [
        {
          "name": "stdout",
          "output_type": "stream",
          "text": [
            "fuerte: ASCII text\n",
            "debil: broken symbolic link to archivoEnlace\n"
          ]
        },
        {
          "data": {
            "text/plain": []
          },
          "execution_count": 6,
          "metadata": {},
          "output_type": "execute_result"
        }
      ],
      "source": [
        "%%shell\n",
        "echo \"Archivo de prueba\" > archivoEnlace\n",
        "ln archivoEnlace fuerte\n",
        "ln -s archivoEnlace debil\n",
        "rm archivoEnlace\n",
        "\n",
        "file fuerte\n",
        "file debil\n",
        "\n",
        "unlink fuerte\n",
        "unlink debil"
      ]
    },
    {
      "cell_type": "markdown",
      "id": "966996c1",
      "metadata": {
        "id": "966996c1"
      },
      "source": [
        "<h2>Ejercicio</h2>"
      ]
    },
    {
      "cell_type": "markdown",
      "id": "ff1fb824",
      "metadata": {
        "id": "ff1fb824"
      },
      "source": [
        "<div style=\"font-size: 17px\">\n",
        "\n",
        "Crea un enlace al directorio <code>/etc</code> y, a través de ese enlace, muestra el contenido del archivo \"passwd\". Asegúrate de que puedas leer el contenido del archivo correctamente usando el enlace.\n",
        "</div>"
      ]
    },
    {
      "cell_type": "code",
      "execution_count": null,
      "id": "9936eb28",
      "metadata": {
        "id": "9936eb28"
      },
      "outputs": [],
      "source": [
        "%%shell\n",
        "#Borra este comentario e introduce aquí el/los comando/s necesario/s"
      ]
    },
    {
      "cell_type": "markdown",
      "id": "54520464",
      "metadata": {},
      "source": [
        "<div style=\"font-size: 17px\">\n",
        "\n",
        " Crea un enlace \"enlace\" a el archivo \"/root/config.txt\" para que, tras borrarse, se pueda seguir accediendo a la información:\n",
        "\n",
        "</div>"
      ]
    },
    {
      "cell_type": "code",
      "execution_count": null,
      "id": "9cb1c7c5",
      "metadata": {},
      "outputs": [],
      "source": [
        "%%shell\n",
        "echo \"Archivo de configuracion\" > /root/config.txt\n",
        "#Borra este comentario e introduce aquí el/los comando/s necesario/s\n",
        "rm /root/config.txt\n",
        "cat enlace\n",
        "\n",
        "unlink enlace"
      ]
    }
  ],
  "metadata": {
    "colab": {
      "provenance": []
    },
    "kernelspec": {
      "display_name": "Python 3 (ipykernel)",
      "language": "python",
      "name": "python3"
    },
    "language_info": {
      "codemirror_mode": {
        "name": "ipython",
        "version": 3
      },
      "file_extension": ".py",
      "mimetype": "text/x-python",
      "name": "python",
      "nbconvert_exporter": "python",
      "pygments_lexer": "ipython3",
      "version": "3.11.4"
    }
  },
  "nbformat": 4,
  "nbformat_minor": 5
}
