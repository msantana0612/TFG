{
 "cells": [
  {
   "cell_type": "markdown",
   "id": "56371638-880a-4e02-9544-c2f9709c0372",
   "metadata": {
    "id": "56371638-880a-4e02-9544-c2f9709c0372"
   },
   "source": [
    "<!--NAVIGATION-->\n",
    "\n",
    "\n",
    "<a href=\"https://colab.research.google.com/github/msantana0612/TFG/blob/main/notebooks/notebookEnlaces.ipynb\" target=\"_blank\" rel=\"noopener noreferrer\"><img align=\"left\" src=\"https://colab.research.google.com/assets/colab-badge.svg\" alt=\"Open in Colab\" title=\"Open and Execute in Google Colaboratory\"></a>"
   ]
  },
  {
   "cell_type": "markdown",
   "id": "juaeQr9elxe7",
   "metadata": {
    "id": "juaeQr9elxe7"
   },
   "source": [
    "<h1>Enlaces</h1>"
   ]
  },
  {
   "cell_type": "markdown",
   "id": "tqJhfdwYmxn5",
   "metadata": {
    "id": "tqJhfdwYmxn5"
   },
   "source": [
    "<div style=\"font-size: 17px\">\n",
    "En los sistemas Unix y Linux, los enlaces son una característica poderosa del sistema de archivos, que permiten crear múltiples referencias a archivos y directorios sin necesidad de duplicar su contenido. Este concepto es análogo a los \"accesos directos\" en Windows, pero con diferencias significativas en cómo funcionan a nivel interno. Existen dos tipos de enlaces:\n",
    "\n",
    "  - **Enlace fuerte**: Un enlace fuerte es una referencia directa al contenido de un archivo. Todos los enlaces fuertes a un archivo comparten el mismo **inode**, que es el identificador del archivo en el sistema de archivos. Esto implica que:\n",
    "\n",
    "    - El archivo original y el enlace fuerte son indistinguibles; ambos apuntan al mismo contenido en el disco.\n",
    "    - Si se elimina el archivo original, el contenido del archivo seguirá existiendo mientras haya al menos un enlace fuerte que lo apunte.\n",
    "    - Puedes crear varios enlaces fuertes a un archivo, y el contenido sólo se eliminará cuando el último enlace sea borrado.\n",
    "    - No se pueden crear enlaces fuertes a directorios ni entre diferentes sistemas de archivos.\n",
    "  - **Enlace débil**: Es el equivalente a un acceso directo de Windows. Un enlace débil o simbólico es un archivo especial que contiene una ruta al archivo o directorio al que apunta. A diferencia de los enlaces fuertes, los enlaces simbólicos:\n",
    "\n",
    "    - Funcionan como punteros a otro archivo o directorio.\n",
    "    - Si el archivo original se elimina o se mueve, el enlace débil se rompe y queda \"huérfano\", ya que simplemente contiene la referencia a la ubicación del archivo.\n",
    "    - Puedes crear enlaces simbólicos a directorios o incluso a archivos en otros sistemas de archivos.\n",
    "</div>"
   ]
  },
  {
   "cell_type": "markdown",
   "id": "tMwvqp0fn3-1",
   "metadata": {
    "id": "tMwvqp0fn3-1"
   },
   "source": [
    "![Mi imagen](https://raw.githubusercontent.com/msantana0612/TFG/gh-pages/images/enlaces.jpg)"
   ]
  },
  {
   "cell_type": "markdown",
   "id": "WlyXdM0k8PDP",
   "metadata": {
    "id": "WlyXdM0k8PDP"
   },
   "source": [
    "<div style=\"font-size: 17px\">\n",
    "Los archivos en Linux se gestionan mediante **inodos** (inodes), que contienen la información sobre los archivos, como su tamaño, permisos, y las ubicaciones de los bloques de datos en el disco. Cada archivo tiene un **inode** asociado, pero los enlaces fuertes permiten que varios nombres de archivo compartan el mismo **inode**, apuntando al mismo conjunto de bloques de datos en el disco.\n",
    "\n",
    "Por otro lado, los enlaces simbólicos son archivos normales que contienen el nombre o la ruta del archivo al que apuntan. No comparten el **inode** con el archivo original; en lugar de ello, tienen su propio **inode** que contiene la referencia a otro archivo.\n",
    "</div>"
   ]
  },
  {
   "cell_type": "markdown",
   "id": "ILQWA6FLoa-X",
   "metadata": {
    "id": "ILQWA6FLoa-X"
   },
   "source": [
    "<div style=\"font-size: 17px\">\n",
    "Para crear ambos tipos de enlaces, se usa la orden <code>ln</code> seguida del archivo original y del nombre que tendrá el archivo enlace (para los enlaces débiles hay que añadir el modificador <code>-s</code>).\n",
    "\n",
    "  - Para crear un enlace fuerte:<br>\n",
    "  <code>ln archivo_origen enlace_fuerte</code>\n",
    "\n",
    "  - Para crear un enlace débil:<br>\n",
    "  <code>ln -s archivo_origen enlace_debil</code>\n",
    "\n",
    "**Ejemplo**: Se crea un archivo y dos enlaces: uno débil y otro fuerte. Si borramos el archivo original y comprobamos el estado de los enlaces con la instrucción <code>file</code>, observamos que el enlace simbólico (débil) está roto.\n",
    "</div>"
   ]
  },
  {
   "cell_type": "code",
   "execution_count": 2,
   "id": "pldQXt9kpZHa",
   "metadata": {
    "colab": {
     "base_uri": "https://localhost:8080/"
    },
    "id": "pldQXt9kpZHa",
    "outputId": "c7d85747-a8d6-45e7-e431-6f1f30237f17"
   },
   "outputs": [
    {
     "name": "stdout",
     "output_type": "stream",
     "text": [
      "fuerte: ASCII text\n",
      "debil: broken symbolic link to archivoEnlace.txt\n"
     ]
    },
    {
     "data": {
      "text/plain": []
     },
     "execution_count": 2,
     "metadata": {},
     "output_type": "execute_result"
    }
   ],
   "source": [
    "%%shell\n",
    "echo \"Archivo de prueba\" > archivoEnlace.txt\n",
    "ln archivoEnlace.txt fuerte\n",
    "ln -s archivoEnlace.txt debil\n",
    "rm archivoEnlace.txt\n",
    "file fuerte\n",
    "file debil"
   ]
  }
 ],
 "metadata": {
  "colab": {
   "provenance": []
  },
  "kernelspec": {
   "display_name": "Python 3 (ipykernel)",
   "language": "python",
   "name": "python3"
  },
  "language_info": {
   "codemirror_mode": {
    "name": "ipython",
    "version": 3
   },
   "file_extension": ".py",
   "mimetype": "text/x-python",
   "name": "python",
   "nbconvert_exporter": "python",
   "pygments_lexer": "ipython3",
   "version": "3.11.4"
  }
 },
 "nbformat": 4,
 "nbformat_minor": 5
}
