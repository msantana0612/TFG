{
  "cells": [
    {
      "cell_type": "markdown",
      "id": "56371638-880a-4e02-9544-c2f9709c0372",
      "metadata": {
        "id": "56371638-880a-4e02-9544-c2f9709c0372"
      },
      "source": [
        "<!--NAVIGATION-->\n",
        "\n",
        "\n",
        "<a href=\"https://colab.research.google.com/github/msantana0612/TFG/blob/main/notebooks/notebookPaquetes.ipynb\" target=\"_blank\" rel=\"noopener noreferrer\"><img align=\"left\" src=\"https://colab.research.google.com/assets/colab-badge.svg\" alt=\"Open in Colab\" title=\"Open and Execute in Google Colaboratory\"></a>"
      ]
    },
    {
      "cell_type": "markdown",
      "id": "WRJyTw3Zhs_B",
      "metadata": {
        "id": "WRJyTw3Zhs_B"
      },
      "source": [
        "<h1>Instalación de paquetes</h1>"
      ]
    },
    {
      "cell_type": "markdown",
      "id": "1LtO-KPDwkVA",
      "metadata": {
        "id": "1LtO-KPDwkVA"
      },
      "source": [
        "<div style=\"font-size: 17px\">\n",
        "\n",
        "Un **paquete** es un archivo que contiene todo lo necesario para instalar un programa en un sistema operativo, en este caso, *Linux*. Un paquete no solo incluye los **archivos binarios** del programa (es decir, el ejecutable que se instala), sino también **metadatos** que describen el *software*, sus dependencias (otros paquetes que el *software* necesita para funcionar), *scripts* de instalación, archivos de configuración y documentación. <br>\n",
        "La instalación y gestión de paquetes se realiza a través de un gestor de paquetes: una herramienta que automatiza el proceso de instalación, actualización, y eliminación de *software*. El gestor de paquetes no solo se encarga de descargar el paquete solicitado desde un repositorio (una colección centralizada de *software*), sino que también verifica y gestiona las dependencias necesarias para que el programa funcione correctamente. Si un paquete requiere otros componentes, el gestor de paquetes los instalará automáticamente. <br>\n",
        "Esta estructura es diferente a cómo se instala el *software* en *Windows*, que distribuye sus programas como archivos ejecutables o instaladores, por lo que en caso de tener dependencias de otros programas, el usuario debe instalarlos manualmente.\n",
        "\n",
        "Sin embargo, al existir tantos tipos de distribuciones de *Linux*, cada distribución usa un tipo de paquetes distinto. Los principales son los siguientes:\n",
        "  - **<code>.deb</code>**: Usados en distribuciones basadas en *Debian* como *Ubuntu* o *Mint*.\n",
        "  - **<code>.rpm</code>**: Usados en distribuciones basadas en *Red Hat* como *Fedora*, *CentOS*, *RHEL* o *openSUSE*.\n",
        "\n",
        "Para manejar paquetes <code>.deb</code>, existe la herramienta <code>apt</code>:\n",
        "\n",
        "  - **<code>apt update</code>**: Actualiza la lista de paquetes disponibles desde los repositorios.\n",
        "</div>"
      ]
    },
    {
      "cell_type": "code",
      "execution_count": 1,
      "id": "_LRtNepYA1B6",
      "metadata": {
        "colab": {
          "base_uri": "https://localhost:8080/"
        },
        "id": "_LRtNepYA1B6",
        "outputId": "71704291-aa8e-4f4d-dea7-1a6aef4e275f"
      },
      "outputs": [
        {
          "name": "stdout",
          "output_type": "stream",
          "text": [
            "\u001b[33m\r0% [Working]\u001b[0m\r            \rGet:1 https://cloud.r-project.org/bin/linux/ubuntu jammy-cran40/ InRelease [3,626 B]\n",
            "\u001b[33m\r0% [Connecting to archive.ubuntu.com (91.189.91.81)] [Connecting to security.ubuntu.com (185.125.190\u001b[0m\r                                                                                                    \rHit:2 https://developer.download.nvidia.com/compute/cuda/repos/ubuntu2204/x86_64  InRelease\n",
            "\u001b[33m\r0% [Connecting to archive.ubuntu.com (91.189.91.81)] [Connecting to security.ubuntu.com (185.125.190\u001b[0m\u001b[33m\r0% [Waiting for headers] [Waiting for headers] [Waiting for headers] [Connecting to ppa.launchpadcon\u001b[0m\r                                                                                                    \rHit:3 http://archive.ubuntu.com/ubuntu jammy InRelease\n",
            "\u001b[33m\r0% [Waiting for headers] [Waiting for headers] [Connecting to ppa.launchpadcontent.net (185.125.190.\u001b[0m\u001b[33m\r0% [Waiting for headers] [Waiting for headers] [Waiting for headers] [Connecting to ppa.launchpadcon\u001b[0m\r                                                                                                    \rGet:4 http://archive.ubuntu.com/ubuntu jammy-updates InRelease [128 kB]\n",
            "Get:5 http://security.ubuntu.com/ubuntu jammy-security InRelease [129 kB]\n",
            "Get:6 https://r2u.stat.illinois.edu/ubuntu jammy InRelease [6,555 B]\n",
            "Get:7 https://cloud.r-project.org/bin/linux/ubuntu jammy-cran40/ Packages [61.9 kB]\n",
            "Get:8 http://archive.ubuntu.com/ubuntu jammy-backports InRelease [127 kB]\n",
            "Hit:9 https://ppa.launchpadcontent.net/deadsnakes/ppa/ubuntu jammy InRelease\n",
            "Hit:10 https://ppa.launchpadcontent.net/graphics-drivers/ppa/ubuntu jammy InRelease\n",
            "Get:11 https://r2u.stat.illinois.edu/ubuntu jammy/main all Packages [8,580 kB]\n",
            "Hit:12 https://ppa.launchpadcontent.net/ubuntugis/ppa/ubuntu jammy InRelease\n",
            "Get:13 http://archive.ubuntu.com/ubuntu jammy-updates/restricted amd64 Packages [3,663 kB]\n",
            "Get:14 http://archive.ubuntu.com/ubuntu jammy-updates/universe amd64 Packages [1,517 kB]\n",
            "Get:15 http://archive.ubuntu.com/ubuntu jammy-updates/main amd64 Packages [2,859 kB]\n",
            "Get:16 https://r2u.stat.illinois.edu/ubuntu jammy/main amd64 Packages [2,637 kB]\n",
            "Get:17 http://security.ubuntu.com/ubuntu jammy-security/main amd64 Packages [2,560 kB]\n",
            "Get:18 http://security.ubuntu.com/ubuntu jammy-security/universe amd64 Packages [1,226 kB]\n",
            "Get:19 http://security.ubuntu.com/ubuntu jammy-security/restricted amd64 Packages [3,526 kB]\n",
            "Fetched 27.0 MB in 7s (4,064 kB/s)\n",
            "Reading package lists... Done\n",
            "Building dependency tree... Done\n",
            "Reading state information... Done\n",
            "53 packages can be upgraded. Run 'apt list --upgradable' to see them.\n",
            "\u001b[1;33mW: \u001b[0mSkipping acquire of configured file 'main/source/Sources' as repository 'https://r2u.stat.illinois.edu/ubuntu jammy InRelease' does not seem to provide it (sources.list entry misspelt?)\u001b[0m\n"
          ]
        },
        {
          "data": {
            "text/plain": []
          },
          "execution_count": 1,
          "metadata": {},
          "output_type": "execute_result"
        }
      ],
      "source": [
        "%%shell\n",
        "apt update"
      ]
    },
    {
      "cell_type": "markdown",
      "id": "vXBkdzp6A1NG",
      "metadata": {
        "id": "vXBkdzp6A1NG"
      },
      "source": [
        "<div style=\"font-size: 17px\">\n",
        "\n",
        "  - **<code>apt install</code>**: Instala el paquete con el nombre indicado como argumento.\n",
        "\n",
        "**Ejemplo**: Instala la aplicación *firefox*:\n",
        "</div>"
      ]
    },
    {
      "cell_type": "code",
      "execution_count": 2,
      "id": "4UxBpDz3Asgl",
      "metadata": {
        "colab": {
          "base_uri": "https://localhost:8080/"
        },
        "id": "4UxBpDz3Asgl",
        "outputId": "cdce658d-29c2-4079-c6d4-6d08f355d0f5"
      },
      "outputs": [
        {
          "name": "stdout",
          "output_type": "stream",
          "text": [
            "Reading package lists... Done\n",
            "Building dependency tree... Done\n",
            "Reading state information... Done\n",
            "The following additional packages will be installed:\n",
            "  apparmor libfuse3-3 liblzo2-2 libudev1 snapd squashfs-tools systemd-hwe-hwdb udev\n",
            "Suggested packages:\n",
            "  apparmor-profiles-extra apparmor-utils fuse3 zenity | kdialog\n",
            "The following NEW packages will be installed:\n",
            "  apparmor firefox libfuse3-3 liblzo2-2 snapd squashfs-tools systemd-hwe-hwdb udev\n",
            "The following packages will be upgraded:\n",
            "  libudev1\n",
            "1 upgraded, 8 newly installed, 0 to remove and 52 not upgraded.\n",
            "Need to get 30.2 MB of archives.\n",
            "After this operation, 123 MB of additional disk space will be used.\n",
            "Get:1 http://archive.ubuntu.com/ubuntu jammy-updates/main amd64 apparmor amd64 3.0.4-2ubuntu2.4 [598 kB]\n",
            "Get:2 http://archive.ubuntu.com/ubuntu jammy/main amd64 liblzo2-2 amd64 2.10-2build3 [53.7 kB]\n",
            "Get:3 http://archive.ubuntu.com/ubuntu jammy/main amd64 squashfs-tools amd64 1:4.5-3build1 [159 kB]\n",
            "Get:4 http://archive.ubuntu.com/ubuntu jammy-updates/main amd64 libudev1 amd64 249.11-0ubuntu3.12 [78.2 kB]\n",
            "Get:5 http://archive.ubuntu.com/ubuntu jammy-updates/main amd64 udev amd64 249.11-0ubuntu3.12 [1,557 kB]\n",
            "Get:6 http://archive.ubuntu.com/ubuntu jammy/main amd64 libfuse3-3 amd64 3.10.5-1build1 [81.2 kB]\n",
            "Get:7 http://archive.ubuntu.com/ubuntu jammy-updates/main amd64 snapd amd64 2.66.1+22.04 [27.6 MB]\n",
            "Get:8 http://archive.ubuntu.com/ubuntu jammy/main amd64 firefox amd64 1:1snap1-0ubuntu2 [72.3 kB]\n",
            "Get:9 http://archive.ubuntu.com/ubuntu jammy-updates/main amd64 systemd-hwe-hwdb all 249.11.5 [3,228 B]\n",
            "Fetched 30.2 MB in 1s (24.0 MB/s)\n",
            "Preconfiguring packages ...\n",
            "Selecting previously unselected package apparmor.\n",
            "(Reading database ... 123632 files and directories currently installed.)\n",
            "Preparing to unpack .../apparmor_3.0.4-2ubuntu2.4_amd64.deb ...\n",
            "Unpacking apparmor (3.0.4-2ubuntu2.4) ...\n",
            "Selecting previously unselected package liblzo2-2:amd64.\n",
            "Preparing to unpack .../liblzo2-2_2.10-2build3_amd64.deb ...\n",
            "Unpacking liblzo2-2:amd64 (2.10-2build3) ...\n",
            "Selecting previously unselected package squashfs-tools.\n",
            "Preparing to unpack .../squashfs-tools_1%3a4.5-3build1_amd64.deb ...\n",
            "Unpacking squashfs-tools (1:4.5-3build1) ...\n",
            "Preparing to unpack .../libudev1_249.11-0ubuntu3.12_amd64.deb ...\n",
            "Unpacking libudev1:amd64 (249.11-0ubuntu3.12) over (249.11-0ubuntu3.10) ...\n",
            "Setting up libudev1:amd64 (249.11-0ubuntu3.12) ...\n",
            "Selecting previously unselected package udev.\n",
            "(Reading database ... 123840 files and directories currently installed.)\n",
            "Preparing to unpack .../udev_249.11-0ubuntu3.12_amd64.deb ...\n",
            "Unpacking udev (249.11-0ubuntu3.12) ...\n",
            "Selecting previously unselected package libfuse3-3:amd64.\n",
            "Preparing to unpack .../libfuse3-3_3.10.5-1build1_amd64.deb ...\n",
            "Unpacking libfuse3-3:amd64 (3.10.5-1build1) ...\n",
            "Selecting previously unselected package snapd.\n",
            "Preparing to unpack .../snapd_2.66.1+22.04_amd64.deb ...\n",
            "Unpacking snapd (2.66.1+22.04) ...\n",
            "Setting up apparmor (3.0.4-2ubuntu2.4) ...\n",
            "Created symlink /etc/systemd/system/sysinit.target.wants/apparmor.service → /lib/systemd/system/apparmor.service.\n",
            "Setting up liblzo2-2:amd64 (2.10-2build3) ...\n",
            "Setting up squashfs-tools (1:4.5-3build1) ...\n",
            "Setting up udev (249.11-0ubuntu3.12) ...\n",
            "invoke-rc.d: could not determine current runlevel\n",
            "invoke-rc.d: policy-rc.d denied execution of start.\n",
            "Setting up libfuse3-3:amd64 (3.10.5-1build1) ...\n",
            "Setting up snapd (2.66.1+22.04) ...\n",
            "Created symlink /etc/systemd/system/multi-user.target.wants/snapd.apparmor.service → /lib/systemd/system/snapd.apparmor.service.\n",
            "Created symlink /etc/systemd/system/multi-user.target.wants/snapd.autoimport.service → /lib/systemd/system/snapd.autoimport.service.\n",
            "Created symlink /etc/systemd/system/multi-user.target.wants/snapd.core-fixup.service → /lib/systemd/system/snapd.core-fixup.service.\n",
            "Created symlink /etc/systemd/system/multi-user.target.wants/snapd.recovery-chooser-trigger.service → /lib/systemd/system/snapd.recovery-chooser-trigger.service.\n",
            "Created symlink /etc/systemd/system/multi-user.target.wants/snapd.seeded.service → /lib/systemd/system/snapd.seeded.service.\n",
            "Created symlink /etc/systemd/system/cloud-final.service.wants/snapd.seeded.service → /lib/systemd/system/snapd.seeded.service.\n",
            "Unit /lib/systemd/system/snapd.seeded.service is added as a dependency to a non-existent unit cloud-final.service.\n",
            "Created symlink /etc/systemd/system/multi-user.target.wants/snapd.service → /lib/systemd/system/snapd.service.\n",
            "Created symlink /etc/systemd/system/timers.target.wants/snapd.snap-repair.timer → /lib/systemd/system/snapd.snap-repair.timer.\n",
            "Created symlink /etc/systemd/system/sockets.target.wants/snapd.socket → /lib/systemd/system/snapd.socket.\n",
            "Created symlink /etc/systemd/system/final.target.wants/snapd.system-shutdown.service → /lib/systemd/system/snapd.system-shutdown.service.\n",
            "Selecting previously unselected package firefox.\n",
            "(Reading database ... 124069 files and directories currently installed.)\n",
            "Preparing to unpack .../firefox_1%3a1snap1-0ubuntu2_amd64.deb ...\n",
            "=> Installing the firefox snap\n",
            "==> Checking connectivity with the snap store\n",
            "===> System doesn't have a working snapd, skipping\n",
            "Unpacking firefox (1:1snap1-0ubuntu2) ...\n",
            "Selecting previously unselected package systemd-hwe-hwdb.\n",
            "Preparing to unpack .../systemd-hwe-hwdb_249.11.5_all.deb ...\n",
            "Unpacking systemd-hwe-hwdb (249.11.5) ...\n",
            "Setting up firefox (1:1snap1-0ubuntu2) ...\n",
            "update-alternatives: using /usr/bin/firefox to provide /usr/bin/gnome-www-browser (gnome-www-browser) in auto mode\n",
            "update-alternatives: using /usr/bin/firefox to provide /usr/bin/x-www-browser (x-www-browser) in auto mode\n",
            "Setting up systemd-hwe-hwdb (249.11.5) ...\n",
            "Processing triggers for libc-bin (2.35-0ubuntu3.4) ...\n",
            "/sbin/ldconfig.real: /usr/local/lib/libtbbmalloc_proxy.so.2 is not a symbolic link\n",
            "\n",
            "/sbin/ldconfig.real: /usr/local/lib/libur_adapter_level_zero.so.0 is not a symbolic link\n",
            "\n",
            "/sbin/ldconfig.real: /usr/local/lib/libtcm.so.1 is not a symbolic link\n",
            "\n",
            "/sbin/ldconfig.real: /usr/local/lib/libtcm_debug.so.1 is not a symbolic link\n",
            "\n",
            "/sbin/ldconfig.real: /usr/local/lib/libur_loader.so.0 is not a symbolic link\n",
            "\n",
            "/sbin/ldconfig.real: /usr/local/lib/libhwloc.so.15 is not a symbolic link\n",
            "\n",
            "/sbin/ldconfig.real: /usr/local/lib/libumf.so.0 is not a symbolic link\n",
            "\n",
            "/sbin/ldconfig.real: /usr/local/lib/libtbb.so.12 is not a symbolic link\n",
            "\n",
            "/sbin/ldconfig.real: /usr/local/lib/libtbbbind_2_0.so.3 is not a symbolic link\n",
            "\n",
            "/sbin/ldconfig.real: /usr/local/lib/libur_adapter_opencl.so.0 is not a symbolic link\n",
            "\n",
            "/sbin/ldconfig.real: /usr/local/lib/libtbbmalloc.so.2 is not a symbolic link\n",
            "\n",
            "/sbin/ldconfig.real: /usr/local/lib/libtbbbind_2_5.so.3 is not a symbolic link\n",
            "\n",
            "/sbin/ldconfig.real: /usr/local/lib/libtbbbind.so.3 is not a symbolic link\n",
            "\n",
            "Processing triggers for man-db (2.10.2-1) ...\n",
            "Processing triggers for dbus (1.12.20-2ubuntu4.1) ...\n",
            "Processing triggers for udev (249.11-0ubuntu3.12) ...\n",
            "Processing triggers for hicolor-icon-theme (0.17-2) ...\n"
          ]
        },
        {
          "data": {
            "text/plain": []
          },
          "execution_count": 2,
          "metadata": {},
          "output_type": "execute_result"
        }
      ],
      "source": [
        "%%shell\n",
        "apt install firefox"
      ]
    },
    {
      "cell_type": "markdown",
      "id": "z4uhh3KYDctt",
      "metadata": {
        "id": "z4uhh3KYDctt"
      },
      "source": [
        "<div style=\"font-size: 17px\">\n",
        "\n",
        "  - **<code>apt upgrade</code>**: Actualiza el paquete con el nombre indicado como argumento. En caso de no recibir ningún argumento, actualiza todos los paquetes.\n",
        "\n",
        "**Ejemplo**: Actualiza la aplicación *firefox*:\n",
        "</div>"
      ]
    },
    {
      "cell_type": "code",
      "execution_count": 3,
      "id": "DTVkSaBpDc2f",
      "metadata": {
        "colab": {
          "base_uri": "https://localhost:8080/"
        },
        "id": "DTVkSaBpDc2f",
        "outputId": "252ba9df-ff54-401b-be41-03d1dc4d05be"
      },
      "outputs": [
        {
          "name": "stdout",
          "output_type": "stream",
          "text": [
            "Reading package lists... Done\n",
            "Building dependency tree... Done\n",
            "Reading state information... Done\n",
            "firefox is already the newest version (1:1snap1-0ubuntu2).\n",
            "Calculating upgrade... Done\n",
            "The following packages have been kept back:\n",
            "  libcudnn8 libcudnn8-dev libnccl-dev libnccl2\n",
            "The following packages will be upgraded:\n",
            "  base-files bash binutils binutils-common binutils-x86-64-linux-gnu bsdutils coreutils\n",
            "  cuda-compat-12-2 cuda-keyring cuda-toolkit-12-config-common cuda-toolkit-config-common dpkg\n",
            "  dpkg-dev e2fsprogs libbinutils libblkid1 libc-bin libctf-nobfd0 libctf0 libdpkg-perl libext2fs2\n",
            "  libgnutls30 libldap-2.5-0 libmount1 libpam-modules libpam-modules-bin libpam-runtime libpam0g\n",
            "  libperl5.34 libprocps8 libsmartcols1 libss2 linux-libc-dev login logsave mount openssl passwd\n",
            "  perl perl-base perl-modules-5.34 procps r-cran-curl r-cran-pillar r-cran-rpart r-cran-xfun tar\n",
            "  util-linux\n",
            "48 upgraded, 0 newly installed, 0 to remove and 4 not upgraded.\n",
            "Need to get 62.6 MB of archives.\n",
            "After this operation, 998 kB of additional disk space will be used.\n",
            "Get:1 http://archive.ubuntu.com/ubuntu jammy-updates/main amd64 base-files amd64 12ubuntu4.7 [61.9 kB]\n",
            "Get:2 https://developer.download.nvidia.com/compute/cuda/repos/ubuntu2204/x86_64  cuda-compat-12-2 535.216.03-0ubuntu1 [33.6 MB]\n",
            "Get:3 https://r2u.stat.illinois.edu/ubuntu jammy/main amd64 r-cran-curl amd64 6.1.0-1.ca2204.1 [458 kB]\n",
            "Get:4 http://archive.ubuntu.com/ubuntu jammy-updates/main amd64 bash amd64 5.1-6ubuntu1.1 [769 kB]\n",
            "Get:5 https://r2u.stat.illinois.edu/ubuntu jammy/main all r-cran-pillar all 1.10.1-1.ca2204.1 [611 kB]\n",
            "Get:6 https://r2u.stat.illinois.edu/ubuntu jammy/main amd64 r-cran-rpart amd64 4.1.24-1.ca2204.1 [682 kB]\n",
            "Get:7 http://archive.ubuntu.com/ubuntu jammy-updates/main amd64 bsdutils amd64 1:2.37.2-4ubuntu3.4 [80.9 kB]\n",
            "Get:8 http://archive.ubuntu.com/ubuntu jammy-updates/main amd64 coreutils amd64 8.32-4.1ubuntu1.2 [1,437 kB]\n",
            "Get:9 https://r2u.stat.illinois.edu/ubuntu jammy/main amd64 r-cran-xfun amd64 0.50-1.ca2204.1 [566 kB]\n",
            "Get:10 http://archive.ubuntu.com/ubuntu jammy-updates/main amd64 tar amd64 1.34+dfsg-1ubuntu0.1.22.04.2 [295 kB]\n",
            "Get:11 http://archive.ubuntu.com/ubuntu jammy-updates/main amd64 dpkg amd64 1.21.1ubuntu2.3 [1,239 kB]\n",
            "Get:12 http://archive.ubuntu.com/ubuntu jammy-updates/main amd64 login amd64 1:4.8.1-2ubuntu2.2 [188 kB]\n",
            "Get:13 http://archive.ubuntu.com/ubuntu jammy-updates/main amd64 libperl5.34 amd64 5.34.0-3ubuntu1.3 [4,820 kB]\n",
            "Get:14 http://archive.ubuntu.com/ubuntu jammy-updates/main amd64 perl amd64 5.34.0-3ubuntu1.3 [232 kB]\n",
            "Get:15 http://archive.ubuntu.com/ubuntu jammy-updates/main amd64 perl-base amd64 5.34.0-3ubuntu1.3 [1,762 kB]\n",
            "Get:16 http://archive.ubuntu.com/ubuntu jammy-updates/main amd64 perl-modules-5.34 all 5.34.0-3ubuntu1.3 [2,976 kB]\n",
            "Get:17 http://archive.ubuntu.com/ubuntu jammy-updates/main amd64 util-linux amd64 2.37.2-4ubuntu3.4 [1,063 kB]\n",
            "Get:18 http://archive.ubuntu.com/ubuntu jammy-updates/main amd64 libc-bin amd64 2.35-0ubuntu3.8 [706 kB]\n",
            "Get:19 http://archive.ubuntu.com/ubuntu jammy-updates/main amd64 libpam0g amd64 1.4.0-11ubuntu2.4 [60.2 kB]\n",
            "Get:20 http://archive.ubuntu.com/ubuntu jammy-updates/main amd64 libpam-modules-bin amd64 1.4.0-11ubuntu2.4 [37.6 kB]\n",
            "Get:21 http://archive.ubuntu.com/ubuntu jammy-updates/main amd64 libpam-modules amd64 1.4.0-11ubuntu2.4 [280 kB]\n",
            "Get:22 http://archive.ubuntu.com/ubuntu jammy-updates/main amd64 logsave amd64 1.46.5-2ubuntu1.2 [10.1 kB]\n",
            "Get:23 http://archive.ubuntu.com/ubuntu jammy-updates/main amd64 libext2fs2 amd64 1.46.5-2ubuntu1.2 [208 kB]\n",
            "Get:24 http://archive.ubuntu.com/ubuntu jammy-updates/main amd64 e2fsprogs amd64 1.46.5-2ubuntu1.2 [590 kB]\n",
            "Get:25 http://archive.ubuntu.com/ubuntu jammy-updates/main amd64 mount amd64 2.37.2-4ubuntu3.4 [114 kB]\n",
            "Get:26 http://archive.ubuntu.com/ubuntu jammy-updates/main amd64 libblkid1 amd64 2.37.2-4ubuntu3.4 [103 kB]\n",
            "Get:27 http://archive.ubuntu.com/ubuntu jammy-updates/main amd64 libmount1 amd64 2.37.2-4ubuntu3.4 [122 kB]\n",
            "Get:28 http://archive.ubuntu.com/ubuntu jammy-updates/main amd64 libpam-runtime all 1.4.0-11ubuntu2.4 [40.3 kB]\n",
            "Get:29 http://archive.ubuntu.com/ubuntu jammy-updates/main amd64 libsmartcols1 amd64 2.37.2-4ubuntu3.4 [50.9 kB]\n",
            "Get:30 http://archive.ubuntu.com/ubuntu jammy-updates/main amd64 passwd amd64 1:4.8.1-2ubuntu2.2 [768 kB]\n",
            "Get:31 http://archive.ubuntu.com/ubuntu jammy-updates/main amd64 libgnutls30 amd64 3.7.3-4ubuntu1.5 [966 kB]\n",
            "Get:32 http://archive.ubuntu.com/ubuntu jammy-updates/main amd64 libprocps8 amd64 2:3.3.17-6ubuntu2.1 [36.2 kB]\n",
            "Get:33 http://archive.ubuntu.com/ubuntu jammy-updates/main amd64 libss2 amd64 1.46.5-2ubuntu1.2 [12.3 kB]\n",
            "Get:34 http://archive.ubuntu.com/ubuntu jammy-updates/main amd64 procps amd64 2:3.3.17-6ubuntu2.1 [378 kB]\n",
            "Get:35 http://archive.ubuntu.com/ubuntu jammy-updates/main amd64 openssl amd64 3.0.2-0ubuntu1.18 [1,184 kB]\n",
            "Get:36 http://archive.ubuntu.com/ubuntu jammy-updates/main amd64 libctf0 amd64 2.38-4ubuntu2.6 [103 kB]\n",
            "Get:37 http://archive.ubuntu.com/ubuntu jammy-updates/main amd64 libctf-nobfd0 amd64 2.38-4ubuntu2.6 [108 kB]\n",
            "Get:38 https://developer.download.nvidia.com/compute/cuda/repos/ubuntu2204/x86_64  cuda-keyring 1.1-1 [4,332 B]\n",
            "Get:39 http://archive.ubuntu.com/ubuntu jammy-updates/main amd64 binutils-x86-64-linux-gnu amd64 2.38-4ubuntu2.6 [2,326 kB]\n",
            "Get:40 http://archive.ubuntu.com/ubuntu jammy-updates/main amd64 libbinutils amd64 2.38-4ubuntu2.6 [662 kB]\n",
            "Get:41 http://archive.ubuntu.com/ubuntu jammy-updates/main amd64 binutils amd64 2.38-4ubuntu2.6 [3,200 B]\n",
            "Get:42 http://archive.ubuntu.com/ubuntu jammy-updates/main amd64 binutils-common amd64 2.38-4ubuntu2.6 [222 kB]\n",
            "Get:43 http://archive.ubuntu.com/ubuntu jammy-updates/main amd64 dpkg-dev all 1.21.1ubuntu2.3 [922 kB]\n",
            "Get:44 http://archive.ubuntu.com/ubuntu jammy-updates/main amd64 libdpkg-perl all 1.21.1ubuntu2.3 [237 kB]\n",
            "Get:45 https://developer.download.nvidia.com/compute/cuda/repos/ubuntu2204/x86_64  cuda-toolkit-12-config-common 12.6.77-1 [16.5 kB]\n",
            "Get:46 http://archive.ubuntu.com/ubuntu jammy-updates/main amd64 libldap-2.5-0 amd64 2.5.18+dfsg-0ubuntu0.22.04.2 [183 kB]\n",
            "Get:47 http://archive.ubuntu.com/ubuntu jammy-updates/main amd64 linux-libc-dev amd64 5.15.0-130.140 [1,314 kB]\n",
            "Get:48 https://developer.download.nvidia.com/compute/cuda/repos/ubuntu2204/x86_64  cuda-toolkit-config-common 12.6.77-1 [16.5 kB]\n",
            "Fetched 62.6 MB in 2s (35.6 MB/s)\n",
            "Extracting templates from packages: 100%\n",
            "Preconfiguring packages ...\n",
            "(Reading database ... 124091 files and directories currently installed.)\n",
            "Preparing to unpack .../base-files_12ubuntu4.7_amd64.deb ...\n",
            "Unpacking base-files (12ubuntu4.7) over (12ubuntu4.4) ...\n",
            "Setting up base-files (12ubuntu4.7) ...\n",
            "Installing new version of config file /etc/issue ...\n",
            "Installing new version of config file /etc/issue.net ...\n",
            "Installing new version of config file /etc/lsb-release ...\n",
            "Installing new version of config file /etc/update-motd.d/10-help-text ...\n",
            "(Reading database ... 124091 files and directories currently installed.)\n",
            "Preparing to unpack .../bash_5.1-6ubuntu1.1_amd64.deb ...\n",
            "Unpacking bash (5.1-6ubuntu1.1) over (5.1-6ubuntu1) ...\n",
            "Setting up bash (5.1-6ubuntu1.1) ...\n",
            "update-alternatives: using /usr/share/man/man7/bash-builtins.7.gz to provide /usr/share/man/man7/builtins.7.gz (builtins.7.gz) in auto mode\n",
            "(Reading database ... 124091 files and directories currently installed.)\n",
            "Preparing to unpack .../bsdutils_1%3a2.37.2-4ubuntu3.4_amd64.deb ...\n",
            "Unpacking bsdutils (1:2.37.2-4ubuntu3.4) over (1:2.37.2-4ubuntu3) ...\n",
            "Setting up bsdutils (1:2.37.2-4ubuntu3.4) ...\n",
            "(Reading database ... 124091 files and directories currently installed.)\n",
            "Preparing to unpack .../coreutils_8.32-4.1ubuntu1.2_amd64.deb ...\n",
            "Unpacking coreutils (8.32-4.1ubuntu1.2) over (8.32-4.1ubuntu1) ...\n",
            "Setting up coreutils (8.32-4.1ubuntu1.2) ...\n",
            "(Reading database ... 124091 files and directories currently installed.)\n",
            "Preparing to unpack .../tar_1.34+dfsg-1ubuntu0.1.22.04.2_amd64.deb ...\n",
            "Unpacking tar (1.34+dfsg-1ubuntu0.1.22.04.2) over (1.34+dfsg-1ubuntu0.1.22.04.1) ...\n",
            "Setting up tar (1.34+dfsg-1ubuntu0.1.22.04.2) ...\n",
            "update-alternatives: warning: forcing reinstallation of alternative /usr/sbin/rmt-tar because link group rmt is broken\n",
            "(Reading database ... 124091 files and directories currently installed.)\n",
            "Preparing to unpack .../dpkg_1.21.1ubuntu2.3_amd64.deb ...\n",
            "Unpacking dpkg (1.21.1ubuntu2.3) over (1.21.1ubuntu2.2) ...\n",
            "Setting up dpkg (1.21.1ubuntu2.3) ...\n",
            "(Reading database ... 124091 files and directories currently installed.)\n",
            "Preparing to unpack .../login_1%3a4.8.1-2ubuntu2.2_amd64.deb ...\n",
            "Unpacking login (1:4.8.1-2ubuntu2.2) over (1:4.8.1-2ubuntu2.1) ...\n",
            "Setting up login (1:4.8.1-2ubuntu2.2) ...\n",
            "(Reading database ... 124091 files and directories currently installed.)\n",
            "Preparing to unpack .../libperl5.34_5.34.0-3ubuntu1.3_amd64.deb ...\n",
            "Unpacking libperl5.34:amd64 (5.34.0-3ubuntu1.3) over (5.34.0-3ubuntu1.2) ...\n",
            "Preparing to unpack .../perl_5.34.0-3ubuntu1.3_amd64.deb ...\n",
            "Unpacking perl (5.34.0-3ubuntu1.3) over (5.34.0-3ubuntu1.2) ...\n",
            "Preparing to unpack .../perl-base_5.34.0-3ubuntu1.3_amd64.deb ...\n",
            "Unpacking perl-base (5.34.0-3ubuntu1.3) over (5.34.0-3ubuntu1.2) ...\n",
            "Setting up perl-base (5.34.0-3ubuntu1.3) ...\n",
            "(Reading database ... 124091 files and directories currently installed.)\n",
            "Preparing to unpack .../perl-modules-5.34_5.34.0-3ubuntu1.3_all.deb ...\n",
            "Unpacking perl-modules-5.34 (5.34.0-3ubuntu1.3) over (5.34.0-3ubuntu1.2) ...\n",
            "Preparing to unpack .../util-linux_2.37.2-4ubuntu3.4_amd64.deb ...\n",
            "Unpacking util-linux (2.37.2-4ubuntu3.4) over (2.37.2-4ubuntu3) ...\n",
            "Setting up util-linux (2.37.2-4ubuntu3.4) ...\n",
            "(Reading database ... 124091 files and directories currently installed.)\n",
            "Preparing to unpack .../libc-bin_2.35-0ubuntu3.8_amd64.deb ...\n",
            "Unpacking libc-bin (2.35-0ubuntu3.8) over (2.35-0ubuntu3.4) ...\n",
            "Setting up libc-bin (2.35-0ubuntu3.8) ...\n",
            "/sbin/ldconfig.real: /usr/local/lib/libtbbmalloc_proxy.so.2 is not a symbolic link\n",
            "\n",
            "/sbin/ldconfig.real: /usr/local/lib/libur_adapter_level_zero.so.0 is not a symbolic link\n",
            "\n",
            "/sbin/ldconfig.real: /usr/local/lib/libtcm.so.1 is not a symbolic link\n",
            "\n",
            "/sbin/ldconfig.real: /usr/local/lib/libtcm_debug.so.1 is not a symbolic link\n",
            "\n",
            "/sbin/ldconfig.real: /usr/local/lib/libur_loader.so.0 is not a symbolic link\n",
            "\n",
            "/sbin/ldconfig.real: /usr/local/lib/libhwloc.so.15 is not a symbolic link\n",
            "\n",
            "/sbin/ldconfig.real: /usr/local/lib/libumf.so.0 is not a symbolic link\n",
            "\n",
            "/sbin/ldconfig.real: /usr/local/lib/libtbb.so.12 is not a symbolic link\n",
            "\n",
            "/sbin/ldconfig.real: /usr/local/lib/libtbbbind_2_0.so.3 is not a symbolic link\n",
            "\n",
            "/sbin/ldconfig.real: /usr/local/lib/libur_adapter_opencl.so.0 is not a symbolic link\n",
            "\n",
            "/sbin/ldconfig.real: /usr/local/lib/libtbbmalloc.so.2 is not a symbolic link\n",
            "\n",
            "/sbin/ldconfig.real: /usr/local/lib/libtbbbind_2_5.so.3 is not a symbolic link\n",
            "\n",
            "/sbin/ldconfig.real: /usr/local/lib/libtbbbind.so.3 is not a symbolic link\n",
            "\n",
            "(Reading database ... 124091 files and directories currently installed.)\n",
            "Preparing to unpack .../libpam0g_1.4.0-11ubuntu2.4_amd64.deb ...\n",
            "Unpacking libpam0g:amd64 (1.4.0-11ubuntu2.4) over (1.4.0-11ubuntu2.3) ...\n",
            "Setting up libpam0g:amd64 (1.4.0-11ubuntu2.4) ...\n",
            "(Reading database ... 124091 files and directories currently installed.)\n",
            "Preparing to unpack .../libpam-modules-bin_1.4.0-11ubuntu2.4_amd64.deb ...\n",
            "Unpacking libpam-modules-bin (1.4.0-11ubuntu2.4) over (1.4.0-11ubuntu2.3) ...\n",
            "Setting up libpam-modules-bin (1.4.0-11ubuntu2.4) ...\n",
            "(Reading database ... 124091 files and directories currently installed.)\n",
            "Preparing to unpack .../libpam-modules_1.4.0-11ubuntu2.4_amd64.deb ...\n",
            "Unpacking libpam-modules:amd64 (1.4.0-11ubuntu2.4) over (1.4.0-11ubuntu2.3) ...\n",
            "Setting up libpam-modules:amd64 (1.4.0-11ubuntu2.4) ...\n",
            "(Reading database ... 124091 files and directories currently installed.)\n",
            "Preparing to unpack .../logsave_1.46.5-2ubuntu1.2_amd64.deb ...\n",
            "Unpacking logsave (1.46.5-2ubuntu1.2) over (1.46.5-2ubuntu1.1) ...\n",
            "Preparing to unpack .../libext2fs2_1.46.5-2ubuntu1.2_amd64.deb ...\n",
            "Unpacking libext2fs2:amd64 (1.46.5-2ubuntu1.2) over (1.46.5-2ubuntu1.1) ...\n",
            "Setting up libext2fs2:amd64 (1.46.5-2ubuntu1.2) ...\n",
            "(Reading database ... 124091 files and directories currently installed.)\n",
            "Preparing to unpack .../e2fsprogs_1.46.5-2ubuntu1.2_amd64.deb ...\n",
            "Unpacking e2fsprogs (1.46.5-2ubuntu1.2) over (1.46.5-2ubuntu1.1) ...\n",
            "Preparing to unpack .../mount_2.37.2-4ubuntu3.4_amd64.deb ...\n",
            "Unpacking mount (2.37.2-4ubuntu3.4) over (2.37.2-4ubuntu3) ...\n",
            "Preparing to unpack .../libblkid1_2.37.2-4ubuntu3.4_amd64.deb ...\n",
            "Unpacking libblkid1:amd64 (2.37.2-4ubuntu3.4) over (2.37.2-4ubuntu3) ...\n",
            "Setting up libblkid1:amd64 (2.37.2-4ubuntu3.4) ...\n",
            "(Reading database ... 124091 files and directories currently installed.)\n",
            "Preparing to unpack .../libmount1_2.37.2-4ubuntu3.4_amd64.deb ...\n",
            "Unpacking libmount1:amd64 (2.37.2-4ubuntu3.4) over (2.37.2-4ubuntu3) ...\n",
            "Setting up libmount1:amd64 (2.37.2-4ubuntu3.4) ...\n",
            "(Reading database ... 124091 files and directories currently installed.)\n",
            "Preparing to unpack .../libpam-runtime_1.4.0-11ubuntu2.4_all.deb ...\n",
            "Unpacking libpam-runtime (1.4.0-11ubuntu2.4) over (1.4.0-11ubuntu2.3) ...\n",
            "Setting up libpam-runtime (1.4.0-11ubuntu2.4) ...\n",
            "(Reading database ... 124091 files and directories currently installed.)\n",
            "Preparing to unpack .../libsmartcols1_2.37.2-4ubuntu3.4_amd64.deb ...\n",
            "Unpacking libsmartcols1:amd64 (2.37.2-4ubuntu3.4) over (2.37.2-4ubuntu3) ...\n",
            "Setting up libsmartcols1:amd64 (2.37.2-4ubuntu3.4) ...\n",
            "(Reading database ... 124091 files and directories currently installed.)\n",
            "Preparing to unpack .../passwd_1%3a4.8.1-2ubuntu2.2_amd64.deb ...\n",
            "Unpacking passwd (1:4.8.1-2ubuntu2.2) over (1:4.8.1-2ubuntu2.1) ...\n",
            "Setting up passwd (1:4.8.1-2ubuntu2.2) ...\n",
            "(Reading database ... 124091 files and directories currently installed.)\n",
            "Preparing to unpack .../libgnutls30_3.7.3-4ubuntu1.5_amd64.deb ...\n",
            "Unpacking libgnutls30:amd64 (3.7.3-4ubuntu1.5) over (3.7.3-4ubuntu1.2) ...\n",
            "Setting up libgnutls30:amd64 (3.7.3-4ubuntu1.5) ...\n",
            "(Reading database ... 124091 files and directories currently installed.)\n",
            "Preparing to unpack .../00-libprocps8_2%3a3.3.17-6ubuntu2.1_amd64.deb ...\n",
            "Unpacking libprocps8:amd64 (2:3.3.17-6ubuntu2.1) over (2:3.3.17-6ubuntu2) ...\n",
            "Preparing to unpack .../01-libss2_1.46.5-2ubuntu1.2_amd64.deb ...\n",
            "Unpacking libss2:amd64 (1.46.5-2ubuntu1.2) over (1.46.5-2ubuntu1.1) ...\n",
            "Preparing to unpack .../02-procps_2%3a3.3.17-6ubuntu2.1_amd64.deb ...\n",
            "Unpacking procps (2:3.3.17-6ubuntu2.1) over (2:3.3.17-6ubuntu2) ...\n",
            "Preparing to unpack .../03-openssl_3.0.2-0ubuntu1.18_amd64.deb ...\n",
            "Unpacking openssl (3.0.2-0ubuntu1.18) over (3.0.2-0ubuntu1.12) ...\n",
            "Preparing to unpack .../04-libctf0_2.38-4ubuntu2.6_amd64.deb ...\n",
            "Unpacking libctf0:amd64 (2.38-4ubuntu2.6) over (2.38-4ubuntu2.3) ...\n",
            "Preparing to unpack .../05-libctf-nobfd0_2.38-4ubuntu2.6_amd64.deb ...\n",
            "Unpacking libctf-nobfd0:amd64 (2.38-4ubuntu2.6) over (2.38-4ubuntu2.3) ...\n",
            "Preparing to unpack .../06-binutils-x86-64-linux-gnu_2.38-4ubuntu2.6_amd64.deb ...\n",
            "Unpacking binutils-x86-64-linux-gnu (2.38-4ubuntu2.6) over (2.38-4ubuntu2.3) ...\n",
            "Preparing to unpack .../07-libbinutils_2.38-4ubuntu2.6_amd64.deb ...\n",
            "Unpacking libbinutils:amd64 (2.38-4ubuntu2.6) over (2.38-4ubuntu2.3) ...\n",
            "Preparing to unpack .../08-binutils_2.38-4ubuntu2.6_amd64.deb ...\n",
            "Unpacking binutils (2.38-4ubuntu2.6) over (2.38-4ubuntu2.3) ...\n",
            "Preparing to unpack .../09-binutils-common_2.38-4ubuntu2.6_amd64.deb ...\n",
            "Unpacking binutils-common:amd64 (2.38-4ubuntu2.6) over (2.38-4ubuntu2.3) ...\n",
            "Preparing to unpack .../10-cuda-compat-12-2_535.216.03-0ubuntu1_amd64.deb ...\n",
            "Unpacking cuda-compat-12-2 (535.216.03-0ubuntu1) over (535.129.03-1) ...\n",
            "Preparing to unpack .../11-cuda-keyring_1.1-1_all.deb ...\n",
            "Unpacking cuda-keyring (1.1-1) over (1.0-1) ...\n",
            "Preparing to unpack .../12-cuda-toolkit-12-config-common_12.6.77-1_all.deb ...\n",
            "Unpacking cuda-toolkit-12-config-common (12.6.77-1) over (12.3.52-1) ...\n",
            "Preparing to unpack .../13-cuda-toolkit-config-common_12.6.77-1_all.deb ...\n",
            "Unpacking cuda-toolkit-config-common (12.6.77-1) over (12.3.52-1) ...\n",
            "Preparing to unpack .../14-dpkg-dev_1.21.1ubuntu2.3_all.deb ...\n",
            "Unpacking dpkg-dev (1.21.1ubuntu2.3) over (1.21.1ubuntu2.2) ...\n",
            "Preparing to unpack .../15-libdpkg-perl_1.21.1ubuntu2.3_all.deb ...\n",
            "Unpacking libdpkg-perl (1.21.1ubuntu2.3) over (1.21.1ubuntu2.2) ...\n",
            "Preparing to unpack .../16-libldap-2.5-0_2.5.18+dfsg-0ubuntu0.22.04.2_amd64.deb ...\n",
            "Unpacking libldap-2.5-0:amd64 (2.5.18+dfsg-0ubuntu0.22.04.2) over (2.5.16+dfsg-0ubuntu0.22.04.1) ...\n",
            "Preparing to unpack .../17-linux-libc-dev_5.15.0-130.140_amd64.deb ...\n",
            "Unpacking linux-libc-dev:amd64 (5.15.0-130.140) over (5.15.0-88.98) ...\n",
            "Preparing to unpack .../18-r-cran-curl_6.1.0-1.ca2204.1_amd64.deb ...\n",
            "Unpacking r-cran-curl (6.1.0-1.ca2204.1) over (6.0.1-1.ca2204.1) ...\n",
            "Preparing to unpack .../19-r-cran-pillar_1.10.1-1.ca2204.1_all.deb ...\n",
            "Unpacking r-cran-pillar (1.10.1-1.ca2204.1) over (1.10.0-1.ca2204.1) ...\n",
            "Preparing to unpack .../20-r-cran-rpart_4.1.24-1.ca2204.1_amd64.deb ...\n",
            "Unpacking r-cran-rpart (4.1.24-1.ca2204.1) over (4.1.23-1.ca2204.1) ...\n",
            "Preparing to unpack .../21-r-cran-xfun_0.50-1.ca2204.1_amd64.deb ...\n",
            "Unpacking r-cran-xfun (0.50-1.ca2204.1) over (0.49-1.ca2204.1) ...\n",
            "Setting up r-cran-pillar (1.10.1-1.ca2204.1) ...\n",
            "Setting up cuda-toolkit-config-common (12.6.77-1) ...\n",
            "Setting up r-cran-curl (6.1.0-1.ca2204.1) ...\n",
            "Setting up cuda-compat-12-2 (535.216.03-0ubuntu1) ...\n",
            "Setting up r-cran-xfun (0.50-1.ca2204.1) ...\n",
            "Setting up r-cran-rpart (4.1.24-1.ca2204.1) ...\n",
            "Setting up binutils-common:amd64 (2.38-4ubuntu2.6) ...\n",
            "Setting up linux-libc-dev:amd64 (5.15.0-130.140) ...\n",
            "Setting up libctf-nobfd0:amd64 (2.38-4ubuntu2.6) ...\n",
            "Setting up perl-modules-5.34 (5.34.0-3ubuntu1.3) ...\n",
            "Setting up libldap-2.5-0:amd64 (2.5.18+dfsg-0ubuntu0.22.04.2) ...\n",
            "Setting up cuda-keyring (1.1-1) ...\n",
            "Setting up libss2:amd64 (1.46.5-2ubuntu1.2) ...\n",
            "Setting up logsave (1.46.5-2ubuntu1.2) ...\n",
            "Setting up mount (2.37.2-4ubuntu3.4) ...\n",
            "Setting up libbinutils:amd64 (2.38-4ubuntu2.6) ...\n",
            "Setting up openssl (3.0.2-0ubuntu1.18) ...\n",
            "Setting up cuda-toolkit-12-config-common (12.6.77-1) ...\n",
            "Setting up libprocps8:amd64 (2:3.3.17-6ubuntu2.1) ...\n",
            "Setting up libctf0:amd64 (2.38-4ubuntu2.6) ...\n",
            "Setting up libperl5.34:amd64 (5.34.0-3ubuntu1.3) ...\n",
            "Setting up e2fsprogs (1.46.5-2ubuntu1.2) ...\n",
            "Setting up perl (5.34.0-3ubuntu1.3) ...\n",
            "Setting up libdpkg-perl (1.21.1ubuntu2.3) ...\n",
            "Setting up procps (2:3.3.17-6ubuntu2.1) ...\n",
            "Setting up binutils-x86-64-linux-gnu (2.38-4ubuntu2.6) ...\n",
            "Setting up binutils (2.38-4ubuntu2.6) ...\n",
            "Setting up dpkg-dev (1.21.1ubuntu2.3) ...\n",
            "Processing triggers for man-db (2.10.2-1) ...\n",
            "Processing triggers for libc-bin (2.35-0ubuntu3.8) ...\n",
            "/sbin/ldconfig.real: /usr/local/lib/libtbbmalloc_proxy.so.2 is not a symbolic link\n",
            "\n",
            "/sbin/ldconfig.real: /usr/local/lib/libur_adapter_level_zero.so.0 is not a symbolic link\n",
            "\n",
            "/sbin/ldconfig.real: /usr/local/lib/libtcm.so.1 is not a symbolic link\n",
            "\n",
            "/sbin/ldconfig.real: /usr/local/lib/libtcm_debug.so.1 is not a symbolic link\n",
            "\n",
            "/sbin/ldconfig.real: /usr/local/lib/libur_loader.so.0 is not a symbolic link\n",
            "\n",
            "/sbin/ldconfig.real: /usr/local/lib/libhwloc.so.15 is not a symbolic link\n",
            "\n",
            "/sbin/ldconfig.real: /usr/local/lib/libumf.so.0 is not a symbolic link\n",
            "\n",
            "/sbin/ldconfig.real: /usr/local/lib/libtbb.so.12 is not a symbolic link\n",
            "\n",
            "/sbin/ldconfig.real: /usr/local/lib/libtbbbind_2_0.so.3 is not a symbolic link\n",
            "\n",
            "/sbin/ldconfig.real: /usr/local/lib/libur_adapter_opencl.so.0 is not a symbolic link\n",
            "\n",
            "/sbin/ldconfig.real: /usr/local/lib/libtbbmalloc.so.2 is not a symbolic link\n",
            "\n",
            "/sbin/ldconfig.real: /usr/local/lib/libtbbbind_2_5.so.3 is not a symbolic link\n",
            "\n",
            "/sbin/ldconfig.real: /usr/local/lib/libtbbbind.so.3 is not a symbolic link\n",
            "\n"
          ]
        },
        {
          "data": {
            "text/plain": []
          },
          "execution_count": 3,
          "metadata": {},
          "output_type": "execute_result"
        }
      ],
      "source": [
        "%%shell\n",
        "apt upgrade firefox"
      ]
    },
    {
      "cell_type": "markdown",
      "id": "A6HeGvNIBEB0",
      "metadata": {
        "id": "A6HeGvNIBEB0"
      },
      "source": [
        "<div style=\"font-size: 17px\">\n",
        "\n",
        "  - **<code>apt remove</code>**: Desinstala el paquete con el nombre indicado como argumento.\n",
        "\n",
        "**Ejemplo**: Desinstala la aplicación *firefox*:\n",
        "</div>"
      ]
    },
    {
      "cell_type": "code",
      "execution_count": 4,
      "id": "09qBG3ZNBv0x",
      "metadata": {
        "colab": {
          "base_uri": "https://localhost:8080/"
        },
        "id": "09qBG3ZNBv0x",
        "outputId": "4a1e6e07-4b45-4b10-999e-d0cb00777464"
      },
      "outputs": [
        {
          "name": "stdout",
          "output_type": "stream",
          "text": [
            "Reading package lists... Done\n",
            "Building dependency tree... Done\n",
            "Reading state information... Done\n",
            "The following packages were automatically installed and are no longer required:\n",
            "  apparmor libfuse3-3 liblzo2-2 snapd squashfs-tools systemd-hwe-hwdb udev\n",
            "Use 'apt autoremove' to remove them.\n",
            "The following packages will be REMOVED:\n",
            "  firefox\n",
            "0 upgraded, 0 newly installed, 1 to remove and 4 not upgraded.\n",
            "After this operation, 261 kB disk space will be freed.\n",
            "(Reading database ... 124090 files and directories currently installed.)\n",
            "Removing firefox (1:1snap1-0ubuntu2) ...\n",
            "Processing triggers for hicolor-icon-theme (0.17-2) ...\n"
          ]
        },
        {
          "data": {
            "text/plain": []
          },
          "execution_count": 4,
          "metadata": {},
          "output_type": "execute_result"
        }
      ],
      "source": [
        "%%shell\n",
        "apt remove firefox"
      ]
    },
    {
      "cell_type": "markdown",
      "id": "KyVgPN99Ec0R",
      "metadata": {
        "id": "KyVgPN99Ec0R"
      },
      "source": [
        "<div style=\"font-size: 17px\">\n",
        "\n",
        "  - **<code>apt autoremove</code>**: Desinstala los paquetes que no están siendo usados\n",
        "</div>"
      ]
    },
    {
      "cell_type": "code",
      "execution_count": 5,
      "id": "l5kSwQcHEc_a",
      "metadata": {
        "colab": {
          "base_uri": "https://localhost:8080/"
        },
        "id": "l5kSwQcHEc_a",
        "outputId": "ba3eb9e7-e24e-471b-a2fd-2f0ada237979"
      },
      "outputs": [
        {
          "name": "stdout",
          "output_type": "stream",
          "text": [
            "Reading package lists... Done\n",
            "Building dependency tree... Done\n",
            "Reading state information... Done\n",
            "The following packages will be REMOVED:\n",
            "  apparmor libfuse3-3 liblzo2-2 snapd squashfs-tools systemd-hwe-hwdb udev\n",
            "0 upgraded, 0 newly installed, 7 to remove and 4 not upgraded.\n",
            "After this operation, 123 MB disk space will be freed.\n",
            "(Reading database ... 124075 files and directories currently installed.)\n",
            "Removing snapd (2.66.1+22.04) ...\n",
            "Removing apparmor (3.0.4-2ubuntu2.4) ...\n",
            "Removing libfuse3-3:amd64 (3.10.5-1build1) ...\n",
            "Removing squashfs-tools (1:4.5-3build1) ...\n",
            "Removing liblzo2-2:amd64 (2.10-2build3) ...\n",
            "Removing systemd-hwe-hwdb (249.11.5) ...\n",
            "Removing udev (249.11-0ubuntu3.12) ...\n",
            "invoke-rc.d: could not determine current runlevel\n",
            "invoke-rc.d: policy-rc.d denied execution of stop.\n",
            "Processing triggers for man-db (2.10.2-1) ...\n",
            "Processing triggers for dbus (1.12.20-2ubuntu4.1) ...\n",
            "Processing triggers for libc-bin (2.35-0ubuntu3.8) ...\n",
            "/sbin/ldconfig.real: /usr/local/lib/libtbbmalloc_proxy.so.2 is not a symbolic link\n",
            "\n",
            "/sbin/ldconfig.real: /usr/local/lib/libur_adapter_level_zero.so.0 is not a symbolic link\n",
            "\n",
            "/sbin/ldconfig.real: /usr/local/lib/libtcm.so.1 is not a symbolic link\n",
            "\n",
            "/sbin/ldconfig.real: /usr/local/lib/libtcm_debug.so.1 is not a symbolic link\n",
            "\n",
            "/sbin/ldconfig.real: /usr/local/lib/libur_loader.so.0 is not a symbolic link\n",
            "\n",
            "/sbin/ldconfig.real: /usr/local/lib/libhwloc.so.15 is not a symbolic link\n",
            "\n",
            "/sbin/ldconfig.real: /usr/local/lib/libumf.so.0 is not a symbolic link\n",
            "\n",
            "/sbin/ldconfig.real: /usr/local/lib/libtbb.so.12 is not a symbolic link\n",
            "\n",
            "/sbin/ldconfig.real: /usr/local/lib/libtbbbind_2_0.so.3 is not a symbolic link\n",
            "\n",
            "/sbin/ldconfig.real: /usr/local/lib/libur_adapter_opencl.so.0 is not a symbolic link\n",
            "\n",
            "/sbin/ldconfig.real: /usr/local/lib/libtbbmalloc.so.2 is not a symbolic link\n",
            "\n",
            "/sbin/ldconfig.real: /usr/local/lib/libtbbbind_2_5.so.3 is not a symbolic link\n",
            "\n",
            "/sbin/ldconfig.real: /usr/local/lib/libtbbbind.so.3 is not a symbolic link\n",
            "\n"
          ]
        },
        {
          "data": {
            "text/plain": []
          },
          "execution_count": 5,
          "metadata": {},
          "output_type": "execute_result"
        }
      ],
      "source": [
        "%%shell\n",
        "apt autoremove"
      ]
    },
    {
      "cell_type": "markdown",
      "id": "P29uaWFfB2io",
      "metadata": {
        "id": "P29uaWFfB2io"
      },
      "source": [
        "<div style=\"font-size: 17px\">\n",
        "\n",
        "  - **<code>apt search</code>**: Busca el paquete con el nombre indicado como argumento, y muestra los paquetes que coincidan.\n",
        "</div>"
      ]
    },
    {
      "cell_type": "code",
      "execution_count": 6,
      "id": "cbrSzlMEB2su",
      "metadata": {
        "colab": {
          "base_uri": "https://localhost:8080/"
        },
        "id": "cbrSzlMEB2su",
        "outputId": "2de6a0f5-3c40-45cb-bf23-0f94cec4d738"
      },
      "outputs": [
        {
          "name": "stdout",
          "output_type": "stream",
          "text": [
            "Sorting... Done\n",
            "Full Text Search... Done\n",
            "\u001b[32mcowsay\u001b[0m/jammy 3.03+dfsg2-8 all\n",
            "  configurable talking cow\n",
            "\n",
            "\u001b[32mcowsay-off\u001b[0m/jammy 3.03+dfsg2-8 all\n",
            "  configurable talking cow (offensive cows)\n",
            "\n",
            "\u001b[32mr-cran-cowsay\u001b[0m/jammy 1.0.0-1.ca2204.1 all\n",
            "  CRAN Package 'cowsay' (Messages, Warnings, Strings with Ascii Animals)\n",
            "\n",
            "\u001b[32mxcowsay\u001b[0m/jammy 1.6-1 amd64\n",
            "  Graphical configurable talking cow\n",
            "\n"
          ]
        },
        {
          "data": {
            "text/plain": []
          },
          "execution_count": 6,
          "metadata": {},
          "output_type": "execute_result"
        }
      ],
      "source": [
        "%%shell\n",
        "apt search cowsay"
      ]
    },
    {
      "cell_type": "markdown",
      "id": "Bd0nxVPD0aV5",
      "metadata": {
        "id": "Bd0nxVPD0aV5"
      },
      "source": [
        "<h3>Ejercicio</he3>"
      ]
    },
    {
      "cell_type": "markdown",
      "id": "XnZx4iSs0aas",
      "metadata": {
        "id": "XnZx4iSs0aas"
      },
      "source": [
        "<div style=\"font-size: 17px\">\n",
        "\n",
        "Instala el paquete <code>neofetch</code> y prueba su uso. ¿Qué muestra por pantalla?\n",
        "</div>"
      ]
    },
    {
      "cell_type": "code",
      "execution_count": null,
      "id": "pfvxAV3D0aj7",
      "metadata": {
        "id": "pfvxAV3D0aj7"
      },
      "outputs": [],
      "source": [
        "%%shell\n",
        "#Borra este comentario e introduce aquí el/los comando/s necesario/s"
      ]
    }
  ],
  "metadata": {
    "colab": {
      "provenance": []
    },
    "kernelspec": {
      "display_name": "Python 3 (ipykernel)",
      "language": "python",
      "name": "python3"
    },
    "language_info": {
      "codemirror_mode": {
        "name": "ipython",
        "version": 3
      },
      "file_extension": ".py",
      "mimetype": "text/x-python",
      "name": "python",
      "nbconvert_exporter": "python",
      "pygments_lexer": "ipython3",
      "version": "3.11.4"
    }
  },
  "nbformat": 4,
  "nbformat_minor": 5
}
