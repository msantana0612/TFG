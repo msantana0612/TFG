{
  "cells": [
    {
      "cell_type": "markdown",
      "id": "56371638-880a-4e02-9544-c2f9709c0372",
      "metadata": {
        "id": "56371638-880a-4e02-9544-c2f9709c0372"
      },
      "source": [
        "<!--NAVIGATION-->\n",
        "\n",
        "\n",
        "<a href=\"https://colab.research.google.com/github/msantana0612/TFG/blob/main/notebooks/notebookPaquetes.ipynb\" target=\"_blank\" rel=\"noopener noreferrer\"><img align=\"left\" src=\"https://colab.research.google.com/assets/colab-badge.svg\" alt=\"Open in Colab\" title=\"Open and Execute in Google Colaboratory\"></a>"
      ]
    },
    {
      "cell_type": "markdown",
      "id": "WRJyTw3Zhs_B",
      "metadata": {
        "id": "WRJyTw3Zhs_B"
      },
      "source": [
        "<h1>Instalación de paquetes</h1>"
      ]
    },
    {
      "cell_type": "markdown",
      "id": "1LtO-KPDwkVA",
      "metadata": {
        "id": "1LtO-KPDwkVA"
      },
      "source": [
        "<div style=\"font-size: 18px\">\n",
        "Un paquete es un archivo que contiene todo lo necesario para instalar un programa en un sistema operativo, en este caso, Linux. Un paquete no solo incluye los archivos binarios del programa (es decir, el ejecutable que se instala), sino también metadatos que describen el software, sus dependencias (otros paquetes que el software necesita para funcionar), scripts de instalación, archivos de configuración y documentación. <br>\n",
        "La instalación y gestión de paquetes se realiza a través de un gestor de paquetes: una herramienta que automatiza el proceso de instalación, actualización, y eliminación de software. El gestor de paquetes no solo se encarga de descargar el paquete solicitado desde un repositorio (una colección centralizada de software), sino que también verifica y gestiona las dependencias necesarias para que el programa funcione correctamente. Si un paquete requiere otros componentes, el gestor de paquetes los instalará automáticamente. <br>\n",
        "Esta estructura es diferente a cómo se instala el software en Windows, que distribuye sus programas como archivos ejecutables o instaladores, por lo que en caso de tener dependencias de otros programas, el usuario debe instalarlos manualmente.\n",
        "\n",
        "Sin embargo, al existir tantos tipos de distribuciones de Linux, cada distribución usa un tipo de paquetes distinto. Los principales son los siguientes:\n",
        "  - **<code>.deb</code>**: Usados en distribuciones basadas en Debian como Ubuntu o Mint.\n",
        "  - **<code>.rpm</code>**: Usados en distribuciones basadas en Red Hat como Fedora, CentOS, RHEL o openSUSE.\n",
        "\n",
        "Para manejar paquetes **<code>.deb</code>**, existe la herramienta **<code>apt</code>**:\n",
        "\n",
        "  - **<code>apt update</code>**: Actualiza la lista de paquetes disponibles desde los repositorios.\n",
        "</div>"
      ]
    },
    {
      "cell_type": "code",
      "execution_count": 25,
      "id": "_LRtNepYA1B6",
      "metadata": {
        "colab": {
          "base_uri": "https://localhost:8080/"
        },
        "id": "_LRtNepYA1B6",
        "outputId": "9fbf0378-1e2c-4794-bb0b-326c005e8b5a"
      },
      "outputs": [
        {
          "name": "stdout",
          "output_type": "stream",
          "text": [
            "\u001b[33m\r0% [Working]\u001b[0m\r            \rHit:1 https://cloud.r-project.org/bin/linux/ubuntu jammy-cran40/ InRelease\n",
            "Hit:2 https://developer.download.nvidia.com/compute/cuda/repos/ubuntu2204/x86_64  InRelease\n",
            "Ign:3 https://r2u.stat.illinois.edu/ubuntu jammy InRelease\n",
            "Hit:4 https://r2u.stat.illinois.edu/ubuntu jammy Release\n",
            "Hit:6 http://security.ubuntu.com/ubuntu jammy-security InRelease\n",
            "Hit:7 https://ppa.launchpadcontent.net/deadsnakes/ppa/ubuntu jammy InRelease\n",
            "Hit:8 https://ppa.launchpadcontent.net/graphics-drivers/ppa/ubuntu jammy InRelease\n",
            "Hit:9 https://ppa.launchpadcontent.net/ubuntugis/ppa/ubuntu jammy InRelease\n",
            "Hit:10 http://archive.ubuntu.com/ubuntu jammy InRelease\n",
            "Hit:11 http://archive.ubuntu.com/ubuntu jammy-updates InRelease\n",
            "Hit:12 http://archive.ubuntu.com/ubuntu jammy-backports InRelease\n",
            "Reading package lists... Done\n",
            "Building dependency tree... Done\n",
            "Reading state information... Done\n",
            "4 packages can be upgraded. Run 'apt list --upgradable' to see them.\n",
            "\u001b[1;33mW: \u001b[0mSkipping acquire of configured file 'main/source/Sources' as repository 'https://r2u.stat.illinois.edu/ubuntu jammy InRelease' does not seem to provide it (sources.list entry misspelt?)\u001b[0m\n"
          ]
        },
        {
          "data": {
            "text/plain": []
          },
          "execution_count": 25,
          "metadata": {},
          "output_type": "execute_result"
        }
      ],
      "source": [
        "%%shell\n",
        "apt update"
      ]
    },
    {
      "cell_type": "markdown",
      "id": "vXBkdzp6A1NG",
      "metadata": {
        "id": "vXBkdzp6A1NG"
      },
      "source": [
        "<div style=\"font-size: 18px\">\n",
        "\n",
        "  - **apt install**: Instala el paquete con el nombre indicado como argumento.\n",
        "  </div>"
      ]
    },
    {
      "cell_type": "code",
      "execution_count": 26,
      "id": "4UxBpDz3Asgl",
      "metadata": {
        "colab": {
          "base_uri": "https://localhost:8080/"
        },
        "id": "4UxBpDz3Asgl",
        "outputId": "b62ebc72-af72-4328-acce-d27b088807cb"
      },
      "outputs": [
        {
          "name": "stdout",
          "output_type": "stream",
          "text": [
            "Reading package lists... Done\n",
            "Building dependency tree... Done\n",
            "Reading state information... Done\n",
            "The following packages were automatically installed and are no longer required:\n",
            "  linux-headers-5.15.0-122 linux-headers-5.15.0-122-generic\n",
            "Use 'apt autoremove' to remove them.\n",
            "The following NEW packages will be installed:\n",
            "  firefox\n",
            "0 upgraded, 1 newly installed, 0 to remove and 4 not upgraded.\n",
            "Need to get 72.3 kB of archives.\n",
            "After this operation, 261 kB of additional disk space will be used.\n",
            "Get:1 http://archive.ubuntu.com/ubuntu jammy/main amd64 firefox amd64 1:1snap1-0ubuntu2 [72.3 kB]\n",
            "Fetched 72.3 kB in 8s (9,563 B/s)\n",
            "Preconfiguring packages ...\n",
            "Selecting previously unselected package firefox.\n",
            "(Reading database ... 152337 files and directories currently installed.)\n",
            "Preparing to unpack .../firefox_1%3a1snap1-0ubuntu2_amd64.deb ...\n",
            "=> Installing the firefox snap\n",
            "==> Checking connectivity with the snap store\n",
            "===> System doesn't have a working snapd, skipping\n",
            "Unpacking firefox (1:1snap1-0ubuntu2) ...\n",
            "Setting up firefox (1:1snap1-0ubuntu2) ...\n",
            "update-alternatives: using /usr/bin/firefox to provide /usr/bin/gnome-www-browser (gnome-www-browser) in auto mode\n",
            "update-alternatives: using /usr/bin/firefox to provide /usr/bin/x-www-browser (x-www-browser) in auto mode\n",
            "Processing triggers for hicolor-icon-theme (0.17-2) ...\n"
          ]
        },
        {
          "data": {
            "text/plain": []
          },
          "execution_count": 26,
          "metadata": {},
          "output_type": "execute_result"
        }
      ],
      "source": [
        "%%shell\n",
        "apt install firefox"
      ]
    },
    {
      "cell_type": "markdown",
      "id": "z4uhh3KYDctt",
      "metadata": {
        "id": "z4uhh3KYDctt"
      },
      "source": [
        "<div style=\"font-size: 18px\">\n",
        "\n",
        "  - **apt upgrade**: Actualiza el paquete con el nombre indicado como argumento. En caso de no recibir ningún argumento, actualiza todos los paquetes.\n",
        "</div>"
      ]
    },
    {
      "cell_type": "code",
      "execution_count": 27,
      "id": "DTVkSaBpDc2f",
      "metadata": {
        "colab": {
          "base_uri": "https://localhost:8080/"
        },
        "id": "DTVkSaBpDc2f",
        "outputId": "de2d67b9-2aed-4cd6-b78f-b87eaf16eb62"
      },
      "outputs": [
        {
          "name": "stdout",
          "output_type": "stream",
          "text": [
            "Reading package lists... Done\n",
            "Building dependency tree... Done\n",
            "Reading state information... Done\n",
            "firefox is already the newest version (1:1snap1-0ubuntu2).\n",
            "Calculating upgrade... Done\n",
            "The following packages were automatically installed and are no longer required:\n",
            "  linux-headers-5.15.0-122 linux-headers-5.15.0-122-generic\n",
            "Use 'apt autoremove' to remove them.\n",
            "The following packages have been kept back:\n",
            "  libcudnn8 libcudnn8-dev libnccl-dev libnccl2\n",
            "0 upgraded, 0 newly installed, 0 to remove and 4 not upgraded.\n"
          ]
        },
        {
          "data": {
            "text/plain": []
          },
          "execution_count": 27,
          "metadata": {},
          "output_type": "execute_result"
        }
      ],
      "source": [
        "%%shell\n",
        "apt upgrade firefox"
      ]
    },
    {
      "cell_type": "markdown",
      "id": "A6HeGvNIBEB0",
      "metadata": {
        "id": "A6HeGvNIBEB0"
      },
      "source": [
        "<div style=\"font-size: 18px\">\n",
        "\n",
        "  - **apt remove**: Desinstala el paquete con el nombre indicado como argumento.\n",
        "</div>"
      ]
    },
    {
      "cell_type": "code",
      "execution_count": 28,
      "id": "09qBG3ZNBv0x",
      "metadata": {
        "colab": {
          "base_uri": "https://localhost:8080/"
        },
        "id": "09qBG3ZNBv0x",
        "outputId": "45734f3f-5909-4520-8283-297d1042423f"
      },
      "outputs": [
        {
          "name": "stdout",
          "output_type": "stream",
          "text": [
            "Reading package lists... Done\n",
            "Building dependency tree... Done\n",
            "Reading state information... Done\n",
            "The following packages were automatically installed and are no longer required:\n",
            "  apparmor libfuse3-3 liblzo2-2 linux-headers-5.15.0-122 linux-headers-5.15.0-122-generic snapd\n",
            "  squashfs-tools systemd-hwe-hwdb udev\n",
            "Use 'apt autoremove' to remove them.\n",
            "The following packages will be REMOVED:\n",
            "  firefox\n",
            "0 upgraded, 0 newly installed, 1 to remove and 4 not upgraded.\n",
            "After this operation, 261 kB disk space will be freed.\n",
            "(Reading database ... 152352 files and directories currently installed.)\n",
            "Removing firefox (1:1snap1-0ubuntu2) ...\n",
            "Processing triggers for hicolor-icon-theme (0.17-2) ...\n"
          ]
        },
        {
          "data": {
            "text/plain": []
          },
          "execution_count": 28,
          "metadata": {},
          "output_type": "execute_result"
        }
      ],
      "source": [
        "%%shell\n",
        "apt remove firefox"
      ]
    },
    {
      "cell_type": "markdown",
      "id": "KyVgPN99Ec0R",
      "metadata": {
        "id": "KyVgPN99Ec0R"
      },
      "source": [
        "<div style=\"font-size: 18px\">\n",
        "\n",
        "  - **apt autoremove**: Desinstala los paquetes que no están siendo usados\n",
        "</div>"
      ]
    },
    {
      "cell_type": "code",
      "execution_count": 30,
      "id": "l5kSwQcHEc_a",
      "metadata": {
        "colab": {
          "base_uri": "https://localhost:8080/"
        },
        "id": "l5kSwQcHEc_a",
        "outputId": "8b78e1b0-685c-42d3-f189-2888b5dad345"
      },
      "outputs": [
        {
          "name": "stdout",
          "output_type": "stream",
          "text": [
            "Reading package lists... Done\n",
            "Building dependency tree... Done\n",
            "Reading state information... Done\n",
            "The following packages will be REMOVED:\n",
            "  apparmor libfuse3-3 liblzo2-2 linux-headers-5.15.0-122 linux-headers-5.15.0-122-generic snapd\n",
            "  squashfs-tools systemd-hwe-hwdb udev\n",
            "0 upgraded, 0 newly installed, 9 to remove and 4 not upgraded.\n",
            "After this operation, 222 MB disk space will be freed.\n",
            "(Reading database ... 152337 files and directories currently installed.)\n",
            "Removing snapd (2.65.3+22.04) ...\n",
            "Removing apparmor (3.0.4-2ubuntu2.4) ...\n",
            "Removing libfuse3-3:amd64 (3.10.5-1build1) ...\n",
            "Removing squashfs-tools (1:4.5-3build1) ...\n",
            "Removing liblzo2-2:amd64 (2.10-2build3) ...\n",
            "Removing linux-headers-5.15.0-122-generic (5.15.0-122.132) ...\n",
            "Removing linux-headers-5.15.0-122 (5.15.0-122.132) ...\n",
            "Removing systemd-hwe-hwdb (249.11.5) ...\n",
            "Removing udev (249.11-0ubuntu3.12) ...\n",
            "invoke-rc.d: could not determine current runlevel\n",
            "invoke-rc.d: policy-rc.d denied execution of stop.\n",
            "Processing triggers for man-db (2.10.2-1) ...\n",
            "Processing triggers for dbus (1.12.20-2ubuntu4.1) ...\n",
            "Processing triggers for libc-bin (2.35-0ubuntu3.8) ...\n",
            "/sbin/ldconfig.real: /usr/local/lib/libtbbbind.so.3 is not a symbolic link\n",
            "\n",
            "/sbin/ldconfig.real: /usr/local/lib/libtbb.so.12 is not a symbolic link\n",
            "\n",
            "/sbin/ldconfig.real: /usr/local/lib/libtbbmalloc_proxy.so.2 is not a symbolic link\n",
            "\n",
            "/sbin/ldconfig.real: /usr/local/lib/libtbbbind_2_0.so.3 is not a symbolic link\n",
            "\n",
            "/sbin/ldconfig.real: /usr/local/lib/libur_adapter_opencl.so.0 is not a symbolic link\n",
            "\n",
            "/sbin/ldconfig.real: /usr/local/lib/libur_adapter_level_zero.so.0 is not a symbolic link\n",
            "\n",
            "/sbin/ldconfig.real: /usr/local/lib/libtbbbind_2_5.so.3 is not a symbolic link\n",
            "\n",
            "/sbin/ldconfig.real: /usr/local/lib/libur_loader.so.0 is not a symbolic link\n",
            "\n",
            "/sbin/ldconfig.real: /usr/local/lib/libtbbmalloc.so.2 is not a symbolic link\n",
            "\n"
          ]
        },
        {
          "data": {
            "text/plain": []
          },
          "execution_count": 30,
          "metadata": {},
          "output_type": "execute_result"
        }
      ],
      "source": [
        "%%shell\n",
        "apt autoremove"
      ]
    },
    {
      "cell_type": "markdown",
      "id": "P29uaWFfB2io",
      "metadata": {
        "id": "P29uaWFfB2io"
      },
      "source": [
        "<div style=\"font-size: 18px\">\n",
        "\n",
        "  - **apt search**: Busca el paquete con el nombre indicado como argumento, y muestra los paquetes que coincidan.\n",
        "</div>"
      ]
    },
    {
      "cell_type": "code",
      "execution_count": 29,
      "id": "cbrSzlMEB2su",
      "metadata": {
        "colab": {
          "base_uri": "https://localhost:8080/"
        },
        "id": "cbrSzlMEB2su",
        "outputId": "a82c4fa1-75f8-45e9-d19b-a8c67020c71f"
      },
      "outputs": [
        {
          "name": "stdout",
          "output_type": "stream",
          "text": [
            "Sorting... Done\n",
            "Full Text Search... Done\n",
            "\u001b[32mfirefox\u001b[0m/jammy,now 1:1snap1-0ubuntu2 amd64 [residual-config]\n",
            "  Transitional package - firefox -> firefox snap\n",
            "\n",
            "\u001b[32mfirefox-locale-af\u001b[0m/jammy 1:1snap1-0ubuntu2 all\n",
            "  Transitional package - firefox-locale-af -> firefox snap\n",
            "\n",
            "\u001b[32mfirefox-locale-an\u001b[0m/jammy 1:1snap1-0ubuntu2 all\n",
            "  Transitional package - firefox-locale-an -> firefox snap\n",
            "\n",
            "\u001b[32mfirefox-locale-ar\u001b[0m/jammy 1:1snap1-0ubuntu2 all\n",
            "  Transitional package - firefox-locale-ar -> firefox snap\n",
            "\n",
            "\u001b[32mfirefox-locale-as\u001b[0m/jammy 1:1snap1-0ubuntu2 all\n",
            "  Transitional package - firefox-locale-as -> firefox snap\n",
            "\n",
            "\u001b[32mfirefox-locale-ast\u001b[0m/jammy 1:1snap1-0ubuntu2 all\n",
            "  Transitional package - firefox-locale-ast -> firefox snap\n",
            "\n",
            "\u001b[32mfirefox-locale-az\u001b[0m/jammy 1:1snap1-0ubuntu2 all\n",
            "  Transitional package - firefox-locale-az -> firefox snap\n",
            "\n",
            "\u001b[32mfirefox-locale-be\u001b[0m/jammy 1:1snap1-0ubuntu2 all\n",
            "  Transitional package - firefox-locale-be -> firefox snap\n",
            "\n",
            "\u001b[32mfirefox-locale-bg\u001b[0m/jammy 1:1snap1-0ubuntu2 all\n",
            "  Transitional package - firefox-locale-bg -> firefox snap\n",
            "\n",
            "\u001b[32mfirefox-locale-bn\u001b[0m/jammy 1:1snap1-0ubuntu2 all\n",
            "  Transitional package - firefox-locale-bn -> firefox snap\n",
            "\n",
            "\u001b[32mfirefox-locale-br\u001b[0m/jammy 1:1snap1-0ubuntu2 all\n",
            "  Transitional package - firefox-locale-br -> firefox snap\n",
            "\n",
            "\u001b[32mfirefox-locale-bs\u001b[0m/jammy 1:1snap1-0ubuntu2 all\n",
            "  Transitional package - firefox-locale-bs -> firefox snap\n",
            "\n",
            "\u001b[32mfirefox-locale-ca\u001b[0m/jammy 1:1snap1-0ubuntu2 all\n",
            "  Transitional package - firefox-locale-ca -> firefox snap\n",
            "\n",
            "\u001b[32mfirefox-locale-cak\u001b[0m/jammy 1:1snap1-0ubuntu2 all\n",
            "  Transitional package - firefox-locale-cak -> firefox snap\n",
            "\n",
            "\u001b[32mfirefox-locale-cs\u001b[0m/jammy 1:1snap1-0ubuntu2 all\n",
            "  Transitional package - firefox-locale-cs -> firefox snap\n",
            "\n",
            "\u001b[32mfirefox-locale-csb\u001b[0m/jammy 1:1snap1-0ubuntu2 all\n",
            "  Transitional package - firefox-locale-csb -> firefox snap\n",
            "\n",
            "\u001b[32mfirefox-locale-cy\u001b[0m/jammy 1:1snap1-0ubuntu2 all\n",
            "  Transitional package - firefox-locale-cy -> firefox snap\n",
            "\n",
            "\u001b[32mfirefox-locale-da\u001b[0m/jammy 1:1snap1-0ubuntu2 all\n",
            "  Transitional package - firefox-locale-da -> firefox snap\n",
            "\n",
            "\u001b[32mfirefox-locale-de\u001b[0m/jammy 1:1snap1-0ubuntu2 all\n",
            "  Transitional package - firefox-locale-de -> firefox snap\n",
            "\n",
            "\u001b[32mfirefox-locale-el\u001b[0m/jammy 1:1snap1-0ubuntu2 all\n",
            "  Transitional package - firefox-locale-el -> firefox snap\n",
            "\n",
            "\u001b[32mfirefox-locale-en\u001b[0m/jammy 1:1snap1-0ubuntu2 all\n",
            "  Transitional package - firefox-locale-en -> firefox snap\n",
            "\n",
            "\u001b[32mfirefox-locale-eo\u001b[0m/jammy 1:1snap1-0ubuntu2 all\n",
            "  Transitional package - firefox-locale-eo -> firefox snap\n",
            "\n",
            "\u001b[32mfirefox-locale-es\u001b[0m/jammy 1:1snap1-0ubuntu2 all\n",
            "  Transitional package - firefox-locale-es -> firefox snap\n",
            "\n",
            "\u001b[32mfirefox-locale-et\u001b[0m/jammy 1:1snap1-0ubuntu2 all\n",
            "  Transitional package - firefox-locale-et -> firefox snap\n",
            "\n",
            "\u001b[32mfirefox-locale-eu\u001b[0m/jammy 1:1snap1-0ubuntu2 all\n",
            "  Transitional package - firefox-locale-eu -> firefox snap\n",
            "\n",
            "\u001b[32mfirefox-locale-fa\u001b[0m/jammy 1:1snap1-0ubuntu2 all\n",
            "  Transitional package - firefox-locale-fa -> firefox snap\n",
            "\n",
            "\u001b[32mfirefox-locale-fi\u001b[0m/jammy 1:1snap1-0ubuntu2 all\n",
            "  Transitional package - firefox-locale-fi -> firefox snap\n",
            "\n",
            "\u001b[32mfirefox-locale-fr\u001b[0m/jammy 1:1snap1-0ubuntu2 all\n",
            "  Transitional package - firefox-locale-fr -> firefox snap\n",
            "\n",
            "\u001b[32mfirefox-locale-fy\u001b[0m/jammy 1:1snap1-0ubuntu2 all\n",
            "  Transitional package - firefox-locale-fy -> firefox snap\n",
            "\n",
            "\u001b[32mfirefox-locale-ga\u001b[0m/jammy 1:1snap1-0ubuntu2 all\n",
            "  Transitional package - firefox-locale-ga -> firefox snap\n",
            "\n",
            "\u001b[32mfirefox-locale-gd\u001b[0m/jammy 1:1snap1-0ubuntu2 all\n",
            "  Transitional package - firefox-locale-gd -> firefox snap\n",
            "\n",
            "\u001b[32mfirefox-locale-gl\u001b[0m/jammy 1:1snap1-0ubuntu2 all\n",
            "  Transitional package - firefox-locale-gl -> firefox snap\n",
            "\n",
            "\u001b[32mfirefox-locale-gn\u001b[0m/jammy 1:1snap1-0ubuntu2 all\n",
            "  Transitional package - firefox-locale-gn -> firefox snap\n",
            "\n",
            "\u001b[32mfirefox-locale-gu\u001b[0m/jammy 1:1snap1-0ubuntu2 all\n",
            "  Transitional package - firefox-locale-gu -> firefox snap\n",
            "\n",
            "\u001b[32mfirefox-locale-he\u001b[0m/jammy 1:1snap1-0ubuntu2 all\n",
            "  Transitional package - firefox-locale-he -> firefox snap\n",
            "\n",
            "\u001b[32mfirefox-locale-hi\u001b[0m/jammy 1:1snap1-0ubuntu2 all\n",
            "  Transitional package - firefox-locale-hi -> firefox snap\n",
            "\n",
            "\u001b[32mfirefox-locale-hr\u001b[0m/jammy 1:1snap1-0ubuntu2 all\n",
            "  Transitional package - firefox-locale-hr -> firefox snap\n",
            "\n",
            "\u001b[32mfirefox-locale-hsb\u001b[0m/jammy 1:1snap1-0ubuntu2 all\n",
            "  Transitional package - firefox-locale-hsb -> firefox snap\n",
            "\n",
            "\u001b[32mfirefox-locale-hu\u001b[0m/jammy 1:1snap1-0ubuntu2 all\n",
            "  Transitional package - firefox-locale-hu -> firefox snap\n",
            "\n",
            "\u001b[32mfirefox-locale-hy\u001b[0m/jammy 1:1snap1-0ubuntu2 all\n",
            "  Transitional package - firefox-locale-hy -> firefox snap\n",
            "\n",
            "\u001b[32mfirefox-locale-ia\u001b[0m/jammy 1:1snap1-0ubuntu2 all\n",
            "  Transitional package - firefox-locale-ia -> firefox snap\n",
            "\n",
            "\u001b[32mfirefox-locale-id\u001b[0m/jammy 1:1snap1-0ubuntu2 all\n",
            "  Transitional package - firefox-locale-id -> firefox snap\n",
            "\n",
            "\u001b[32mfirefox-locale-is\u001b[0m/jammy 1:1snap1-0ubuntu2 all\n",
            "  Transitional package - firefox-locale-is -> firefox snap\n",
            "\n",
            "\u001b[32mfirefox-locale-it\u001b[0m/jammy 1:1snap1-0ubuntu2 all\n",
            "  Transitional package - firefox-locale-it -> firefox snap\n",
            "\n",
            "\u001b[32mfirefox-locale-ja\u001b[0m/jammy 1:1snap1-0ubuntu2 all\n",
            "  Transitional package - firefox-locale-ja -> firefox snap\n",
            "\n",
            "\u001b[32mfirefox-locale-ka\u001b[0m/jammy 1:1snap1-0ubuntu2 all\n",
            "  Transitional package - firefox-locale-ka -> firefox snap\n",
            "\n",
            "\u001b[32mfirefox-locale-kab\u001b[0m/jammy 1:1snap1-0ubuntu2 all\n",
            "  Transitional package - firefox-locale-kab -> firefox snap\n",
            "\n",
            "\u001b[32mfirefox-locale-kk\u001b[0m/jammy 1:1snap1-0ubuntu2 all\n",
            "  Transitional package - firefox-locale-kk -> firefox snap\n",
            "\n",
            "\u001b[32mfirefox-locale-km\u001b[0m/jammy 1:1snap1-0ubuntu2 all\n",
            "  Transitional package - firefox-locale-km -> firefox snap\n",
            "\n",
            "\u001b[32mfirefox-locale-kn\u001b[0m/jammy 1:1snap1-0ubuntu2 all\n",
            "  Transitional package - firefox-locale-kn -> firefox snap\n",
            "\n",
            "\u001b[32mfirefox-locale-ko\u001b[0m/jammy 1:1snap1-0ubuntu2 all\n",
            "  Transitional package - firefox-locale-ko -> firefox snap\n",
            "\n",
            "\u001b[32mfirefox-locale-ku\u001b[0m/jammy 1:1snap1-0ubuntu2 all\n",
            "  Transitional package - firefox-locale-ku -> firefox snap\n",
            "\n",
            "\u001b[32mfirefox-locale-lg\u001b[0m/jammy 1:1snap1-0ubuntu2 all\n",
            "  Transitional package - firefox-locale-lg -> firefox snap\n",
            "\n",
            "\u001b[32mfirefox-locale-lt\u001b[0m/jammy 1:1snap1-0ubuntu2 all\n",
            "  Transitional package - firefox-locale-lt -> firefox snap\n",
            "\n",
            "\u001b[32mfirefox-locale-lv\u001b[0m/jammy 1:1snap1-0ubuntu2 all\n",
            "  Transitional package - firefox-locale-lv -> firefox snap\n",
            "\n",
            "\u001b[32mfirefox-locale-mai\u001b[0m/jammy 1:1snap1-0ubuntu2 all\n",
            "  Transitional package - firefox-locale-mai -> firefox snap\n",
            "\n",
            "\u001b[32mfirefox-locale-mk\u001b[0m/jammy 1:1snap1-0ubuntu2 all\n",
            "  Transitional package - firefox-locale-mk -> firefox snap\n",
            "\n",
            "\u001b[32mfirefox-locale-ml\u001b[0m/jammy 1:1snap1-0ubuntu2 all\n",
            "  Transitional package - firefox-locale-ml -> firefox snap\n",
            "\n",
            "\u001b[32mfirefox-locale-mn\u001b[0m/jammy 1:1snap1-0ubuntu2 all\n",
            "  Transitional package - firefox-locale-mn -> firefox snap\n",
            "\n",
            "\u001b[32mfirefox-locale-mr\u001b[0m/jammy 1:1snap1-0ubuntu2 all\n",
            "  Transitional package - firefox-locale-mr -> firefox snap\n",
            "\n",
            "\u001b[32mfirefox-locale-ms\u001b[0m/jammy 1:1snap1-0ubuntu2 all\n",
            "  Transitional package - firefox-locale-ms -> firefox snap\n",
            "\n",
            "\u001b[32mfirefox-locale-my\u001b[0m/jammy 1:1snap1-0ubuntu2 all\n",
            "  Transitional package - firefox-locale-my -> firefox snap\n",
            "\n",
            "\u001b[32mfirefox-locale-nb\u001b[0m/jammy 1:1snap1-0ubuntu2 all\n",
            "  Transitional package - firefox-locale-nb -> firefox snap\n",
            "\n",
            "\u001b[32mfirefox-locale-ne\u001b[0m/jammy 1:1snap1-0ubuntu2 all\n",
            "  Transitional package - firefox-locale-ne -> firefox snap\n",
            "\n",
            "\u001b[32mfirefox-locale-nl\u001b[0m/jammy 1:1snap1-0ubuntu2 all\n",
            "  Transitional package - firefox-locale-nl -> firefox snap\n",
            "\n",
            "\u001b[32mfirefox-locale-nn\u001b[0m/jammy 1:1snap1-0ubuntu2 all\n",
            "  Transitional package - firefox-locale-nn -> firefox snap\n",
            "\n",
            "\u001b[32mfirefox-locale-nso\u001b[0m/jammy 1:1snap1-0ubuntu2 all\n",
            "  Transitional package - firefox-locale-nso -> firefox snap\n",
            "\n",
            "\u001b[32mfirefox-locale-oc\u001b[0m/jammy 1:1snap1-0ubuntu2 all\n",
            "  Transitional package - firefox-locale-oc -> firefox snap\n",
            "\n",
            "\u001b[32mfirefox-locale-or\u001b[0m/jammy 1:1snap1-0ubuntu2 all\n",
            "  Transitional package - firefox-locale-or -> firefox snap\n",
            "\n",
            "\u001b[32mfirefox-locale-pa\u001b[0m/jammy 1:1snap1-0ubuntu2 all\n",
            "  Transitional package - firefox-locale-pa -> firefox snap\n",
            "\n",
            "\u001b[32mfirefox-locale-pl\u001b[0m/jammy 1:1snap1-0ubuntu2 all\n",
            "  Transitional package - firefox-locale-pl -> firefox snap\n",
            "\n",
            "\u001b[32mfirefox-locale-pt\u001b[0m/jammy 1:1snap1-0ubuntu2 all\n",
            "  Transitional package - firefox-locale-pt -> firefox snap\n",
            "\n",
            "\u001b[32mfirefox-locale-ro\u001b[0m/jammy 1:1snap1-0ubuntu2 all\n",
            "  Transitional package - firefox-locale-ro -> firefox snap\n",
            "\n",
            "\u001b[32mfirefox-locale-ru\u001b[0m/jammy 1:1snap1-0ubuntu2 all\n",
            "  Transitional package - firefox-locale-ru -> firefox snap\n",
            "\n",
            "\u001b[32mfirefox-locale-si\u001b[0m/jammy 1:1snap1-0ubuntu2 all\n",
            "  Transitional package - firefox-locale-si -> firefox snap\n",
            "\n",
            "\u001b[32mfirefox-locale-sk\u001b[0m/jammy 1:1snap1-0ubuntu2 all\n",
            "  Transitional package - firefox-locale-sk -> firefox snap\n",
            "\n",
            "\u001b[32mfirefox-locale-sl\u001b[0m/jammy 1:1snap1-0ubuntu2 all\n",
            "  Transitional package - firefox-locale-sl -> firefox snap\n",
            "\n",
            "\u001b[32mfirefox-locale-sq\u001b[0m/jammy 1:1snap1-0ubuntu2 all\n",
            "  Transitional package - firefox-locale-sq -> firefox snap\n",
            "\n",
            "\u001b[32mfirefox-locale-sr\u001b[0m/jammy 1:1snap1-0ubuntu2 all\n",
            "  Transitional package - firefox-locale-sr -> firefox snap\n",
            "\n",
            "\u001b[32mfirefox-locale-sv\u001b[0m/jammy 1:1snap1-0ubuntu2 all\n",
            "  Transitional package - firefox-locale-sv -> firefox snap\n",
            "\n",
            "\u001b[32mfirefox-locale-sw\u001b[0m/jammy 1:1snap1-0ubuntu2 all\n",
            "  Transitional package - firefox-locale-sw -> firefox snap\n",
            "\n",
            "\u001b[32mfirefox-locale-szl\u001b[0m/jammy 1:1snap1-0ubuntu2 all\n",
            "  Transitional package - firefox-locale-szl -> firefox snap\n",
            "\n",
            "\u001b[32mfirefox-locale-ta\u001b[0m/jammy 1:1snap1-0ubuntu2 all\n",
            "  Transitional package - firefox-locale-ta -> firefox snap\n",
            "\n",
            "\u001b[32mfirefox-locale-te\u001b[0m/jammy 1:1snap1-0ubuntu2 all\n",
            "  Transitional package - firefox-locale-te -> firefox snap\n",
            "\n",
            "\u001b[32mfirefox-locale-th\u001b[0m/jammy 1:1snap1-0ubuntu2 all\n",
            "  Transitional package - firefox-locale-th -> firefox snap\n",
            "\n",
            "\u001b[32mfirefox-locale-tr\u001b[0m/jammy 1:1snap1-0ubuntu2 all\n",
            "  Transitional package - firefox-locale-tr -> firefox snap\n",
            "\n",
            "\u001b[32mfirefox-locale-uk\u001b[0m/jammy 1:1snap1-0ubuntu2 all\n",
            "  Transitional package - firefox-locale-uk -> firefox snap\n",
            "\n",
            "\u001b[32mfirefox-locale-ur\u001b[0m/jammy 1:1snap1-0ubuntu2 all\n",
            "  Transitional package - firefox-locale-ur -> firefox snap\n",
            "\n",
            "\u001b[32mfirefox-locale-uz\u001b[0m/jammy 1:1snap1-0ubuntu2 all\n",
            "  Transitional package - firefox-locale-uz -> firefox snap\n",
            "\n",
            "\u001b[32mfirefox-locale-vi\u001b[0m/jammy 1:1snap1-0ubuntu2 all\n",
            "  Transitional package - firefox-locale-vi -> firefox snap\n",
            "\n",
            "\u001b[32mfirefox-locale-xh\u001b[0m/jammy 1:1snap1-0ubuntu2 all\n",
            "  Transitional package - firefox-locale-xh -> firefox snap\n",
            "\n",
            "\u001b[32mfirefox-locale-zh-hans\u001b[0m/jammy 1:1snap1-0ubuntu2 all\n",
            "  Transitional package - firefox-locale-zh-hans -> firefox snap\n",
            "\n",
            "\u001b[32mfirefox-locale-zh-hant\u001b[0m/jammy 1:1snap1-0ubuntu2 all\n",
            "  Transitional package - firefox-locale-zh-hant -> firefox snap\n",
            "\n",
            "\u001b[32mfirefox-locale-zu\u001b[0m/jammy 1:1snap1-0ubuntu2 all\n",
            "  Transitional package - firefox-locale-zu -> firefox snap\n",
            "\n",
            "\u001b[32mlibfirefox-marionette-perl\u001b[0m/jammy 1.22-1 all\n",
            "  module to automate the Firefox browser with the Marionette protocol\n",
            "\n",
            "\u001b[32mplasma-browser-integration\u001b[0m/jammy 5.24.4-0ubuntu1 amd64\n",
            "  Chromium, Google Chrome, Firefox integration for Plasma\n",
            "\n",
            "\u001b[32mr-cran-locatexec\u001b[0m/jammy 0.1.1-1.ca2204.1 all\n",
            "  CRAN Package 'locatexec' (Detection and Localization of Executable Files)\n",
            "\n",
            "\u001b[32mr-cran-threebrain\u001b[0m/jammy 1.0.1-1.ca2204.1 all\n",
            "  CRAN Package 'threeBrain' (3D Brain Visualization)\n",
            "\n",
            "\u001b[32mwebext-foxyproxy\u001b[0m/jammy 7.5.1+dfsg-2 all\n",
            "  Advanced proxy management for Firefox\n",
            "\n",
            "\u001b[32mwebext-ublock-origin-firefox\u001b[0m/jammy 1.40.2+dfsg-1 all\n",
            "  lightweight and efficient ads, malware, trackers blocker (Firefox)\n",
            "\n",
            "\u001b[32mxul-ext-ubufox\u001b[0m/jammy 3.4-0ubuntu1.17.10.1 all\n",
            "  Ubuntu modifications for Firefox\n",
            "\n"
          ]
        },
        {
          "data": {
            "text/plain": []
          },
          "execution_count": 29,
          "metadata": {},
          "output_type": "execute_result"
        }
      ],
      "source": [
        "%%shell\n",
        "apt search firefox"
      ]
    }
  ],
  "metadata": {
    "colab": {
      "provenance": []
    },
    "kernelspec": {
      "display_name": "Python 3 (ipykernel)",
      "language": "python",
      "name": "python3"
    },
    "language_info": {
      "codemirror_mode": {
        "name": "ipython",
        "version": 3
      },
      "file_extension": ".py",
      "mimetype": "text/x-python",
      "name": "python",
      "nbconvert_exporter": "python",
      "pygments_lexer": "ipython3",
      "version": "3.11.4"
    }
  },
  "nbformat": 4,
  "nbformat_minor": 5
}
