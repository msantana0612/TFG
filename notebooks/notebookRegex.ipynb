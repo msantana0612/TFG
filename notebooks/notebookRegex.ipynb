{
  "cells": [
    {
      "cell_type": "markdown",
      "id": "56371638-880a-4e02-9544-c2f9709c0372",
      "metadata": {
        "id": "56371638-880a-4e02-9544-c2f9709c0372"
      },
      "source": [
        "<!--NAVIGATION-->\n",
        "\n",
        "\n",
        "<a href=\"https://colab.research.google.com/github/msantana0612/TFG/blob/main/notebooks/notebookRegex.ipynb\" target=\"_blank\" rel=\"noopener noreferrer\"><img align=\"left\" src=\"https://colab.research.google.com/assets/colab-badge.svg\" alt=\"Open in Colab\" title=\"Open and Execute in Google Colaboratory\"></a>"
      ]
    },
    {
      "cell_type": "markdown",
      "id": "2288f56a-1d55-40e3-ae6d-62865d2d5242",
      "metadata": {
        "id": "2288f56a-1d55-40e3-ae6d-62865d2d5242",
        "tags": []
      },
      "source": [
        "<h1> Expresiones regulares </h1>"
      ]
    },
    {
      "cell_type": "markdown",
      "id": "oCAbpowmvQqT",
      "metadata": {
        "id": "oCAbpowmvQqT"
      },
      "source": [
        "<div style=\"font-size: 17px\">\n",
        "Las expresiones regulares, también conocidas como \"regex\", son patrones utilizados para hacer coincidir combinaciones de caracteres en texto. El uso de este tipo de expresiones permite buscar, filtrar, y manipular texto de forma eficiente. En Linux, algunos comandos admiten expresiones regulares como argumentos, como podrían ser <code>grep</code> (añadiendo el modificador <code>-E</code>), <code>find</code> o <code>sed</code>.\n",
        "\n",
        "Las expresiones regulares contienen dos tipos de caracteres: ordinarios y especiales (metacaracteres):\n",
        "  \n",
        "- **Caracteres ordinarios**: Son todos aquellos caracteres que coinciden con ellos mismos. Esto son letras, números u otros símbolos que no sean metacaracteres.\n",
        "\n",
        "**Ejemplo**: Usando el comando <code>grep</code>, busca en el archivo \"caracterOrdinario.txt\" las líneas que contengan los literales \"u\", \"n\" y \"a\" seguidos (la segunda línea no coincide porque las expresiones regulares son \"case sensitive\", es decir, diferencian mayúsculas y minúsculas).\n",
        "</div>"
      ]
    },
    {
      "cell_type": "code",
      "execution_count": null,
      "id": "Sf0vxz8e08ah",
      "metadata": {
        "colab": {
          "base_uri": "https://localhost:8080/"
        },
        "id": "Sf0vxz8e08ah",
        "outputId": "7b385b4b-61e2-4c17-a4a9-43c59ca04450"
      },
      "outputs": [
        {
          "name": "stdout",
          "output_type": "stream",
          "text": [
            "una prueba de expresiones regulares\n"
          ]
        },
        {
          "data": {
            "text/plain": []
          },
          "execution_count": 23,
          "metadata": {},
          "output_type": "execute_result"
        }
      ],
      "source": [
        "%%shell\n",
        "echo -e \"una prueba de expresiones regulares\\nUna prueba de expresiones regulares\\nEl rio Sena\" > caracterOrdinario.txt\n",
        "grep -E \"una\" caracterOrdinario.txt\n",
        "rm caracterOrdinario.txt"
      ]
    },
    {
      "cell_type": "markdown",
      "id": "CxZCh8kS08oc",
      "metadata": {
        "id": "CxZCh8kS08oc"
      },
      "source": [
        "<div style=\"font-size: 17px\">\n",
        "\n",
        "- **Caracteres especiales**: Son caracteres que tienen un significado diferente a su literal, que sirve para indicar diferentes funcionalidades:\n",
        "\n",
        "| Metacaracter | Descripción                                                                 |\n",
        "|--------------|-----------------------------------------------------------------------------|\n",
        "| .            | Coincide con cualquier carácter excepto el salto de línea.                  |\n",
        "| ^            | Coincide con el inicio de una línea.                                        |\n",
        "| $            | Coincide con el final de una línea.                                         |\n",
        "| []           | Define un conjunto de caracteres. Ejemplo: [aeiou] coincide con una vocal.  |\n",
        "| [^]          | Coincide con cualquier carácter que no esté en el conjunto. Ejemplo: [^0-9].|\n",
        "| *            | Coincide con cero o más repeticiones del carácter o grupo anterior.         |\n",
        "| +            | Coincide con una o más repeticiones del carácter o grupo anterior.          |\n",
        "| ?            | Coincide con cero o una repetición del carácter o grupo anterior.           |\n",
        "| \\            | Escapa un carácter especial para tratarlo como carácter ordinario. Ejemplo: \\. coincide con un punto literal. |\n",
        "| (abc)           | Agrupa caracteres. Ejemplo: (abc)+ coincide con una o más repeticiones de \"abc\". |\n",
        "| {n,m}           | Corresponde a, al menos, \"n\" repeticiones de un carácter, pero no más de \"m\" veces. |\n",
        "\n",
        "**Ejemplo**: Usando el comando grep, busca en el archivo \"caracterEspecial.txt\" las líneas que contenga cualquier carácter, \"n\" y \"a\" seguidos. De esta forma, también coinciden la segunda línea (carácter \"U\" en \"Una\") y la tercera línea (carácter \"e\" en \"Sena\").\n",
        "</div>"
      ]
    },
    {
      "cell_type": "code",
      "execution_count": null,
      "id": "x_0ZwStawiGm",
      "metadata": {
        "colab": {
          "base_uri": "https://localhost:8080/"
        },
        "id": "x_0ZwStawiGm",
        "outputId": "0c46d70f-c4bc-4119-b780-ababd376bdd9"
      },
      "outputs": [
        {
          "name": "stdout",
          "output_type": "stream",
          "text": [
            "una prueba de expresiones regulares\n",
            "Una prueba de expresiones regulares\n",
            "El rio Sena\n"
          ]
        },
        {
          "data": {
            "text/plain": []
          },
          "execution_count": 24,
          "metadata": {},
          "output_type": "execute_result"
        }
      ],
      "source": [
        "%%shell\n",
        "echo -e \"una prueba de expresiones regulares\\nUna prueba de expresiones regulares\\nEl rio Sena\" > caracterEspecial.txt\n",
        "grep -E \".na\" caracterEspecial.txt\n",
        "rm caracterEspecial.txt"
      ]
    },
    {
      "cell_type": "markdown",
      "id": "A2YitvHN4Uwm",
      "metadata": {
        "id": "A2YitvHN4Uwm"
      },
      "source": [
        "<h3>Ejemplos de uso</h3>"
      ]
    },
    {
      "cell_type": "markdown",
      "id": "f9JCCccT4exP",
      "metadata": {
        "id": "f9JCCccT4exP"
      },
      "source": [
        "<div style=\"font-size: 17px\">\n",
        "Combinando los metacaracteres <code>^</code> y <code>$</code>, podemos indicar que los caracteres de la expresión regular deberán coincidir con la línea entera:\n",
        "</div>"
      ]
    },
    {
      "cell_type": "code",
      "execution_count": null,
      "id": "Au-EDBo74q_E",
      "metadata": {
        "colab": {
          "base_uri": "https://localhost:8080/"
        },
        "id": "Au-EDBo74q_E",
        "outputId": "bdb55d82-751f-4c4b-a066-89d69db3ff97"
      },
      "outputs": [
        {
          "name": "stdout",
          "output_type": "stream",
          "text": [
            "123456789\n"
          ]
        },
        {
          "data": {
            "text/plain": []
          },
          "execution_count": 26,
          "metadata": {},
          "output_type": "execute_result"
        }
      ],
      "source": [
        "%%shell\n",
        "echo -e \"123456789\\nABC456789\" > numeros.txt\n",
        "grep -E \"^[0-9]+$\" numeros.txt #Acepta líneas compuestas de solo números(uno o más)\n",
        "rm numeros.txt"
      ]
    },
    {
      "cell_type": "markdown",
      "id": "GEv9e-2I6IvE",
      "metadata": {
        "id": "GEv9e-2I6IvE"
      },
      "source": [
        "<div style=\"font-size: 17px\">\n",
        "Al introducir el carácter <code>^</code> después del corchete de apertura, niega el conjunto de caracteres dentro de los corchetes:\n",
        "</div>"
      ]
    },
    {
      "cell_type": "code",
      "execution_count": null,
      "id": "PzkQlWLn6I6E",
      "metadata": {
        "colab": {
          "base_uri": "https://localhost:8080/"
        },
        "id": "PzkQlWLn6I6E",
        "outputId": "8bc96a4d-21ca-4d77-96d6-2161f0f83185"
      },
      "outputs": [
        {
          "name": "stdout",
          "output_type": "stream",
          "text": [
            "una prueba de expresiones regulares\n",
            "Una prueba de expresiones regulares\n"
          ]
        },
        {
          "data": {
            "text/plain": []
          },
          "execution_count": 27,
          "metadata": {},
          "output_type": "execute_result"
        }
      ],
      "source": [
        "%%shell\n",
        "echo -e \"una prueba de expresiones regulares\\nUna prueba de expresiones regulares\\nEl rio Sena\" > caracterEspecial.txt\n",
        "grep -E \"[^e]na\" caracterEspecial.txt\n",
        "rm caracterEspecial.txt"
      ]
    },
    {
      "cell_type": "markdown",
      "id": "Twzbp1RX6tt9",
      "metadata": {
        "id": "Twzbp1RX6tt9"
      },
      "source": [
        "<div style=\"font-size: 17px\">\n",
        "Al añadir el carácter <code>?</code>, hacemos opcional el precedente: es decir, coincide con 0 ó 1 repeticiones:\n",
        "</div>"
      ]
    },
    {
      "cell_type": "code",
      "execution_count": null,
      "id": "HxnfxkA86t5D",
      "metadata": {
        "colab": {
          "base_uri": "https://localhost:8080/"
        },
        "id": "HxnfxkA86t5D",
        "outputId": "26e71beb-2f40-4d67-f182-1cd48af5dd06"
      },
      "outputs": [
        {
          "name": "stdout",
          "output_type": "stream",
          "text": [
            "una prueba de expresiones regulares\n",
            "Una prueba de expresiones regulares\n",
            "El rio Sena\n"
          ]
        },
        {
          "data": {
            "text/plain": []
          },
          "execution_count": 30,
          "metadata": {},
          "output_type": "execute_result"
        }
      ],
      "source": [
        "%%shell\n",
        "echo -e \"una prueba de expresiones regulares\\nUna prueba de expresiones regulares\\nEl rio Sena\" > caracterEspecial.txt\n",
        "grep -E \"[U]?na\" caracterEspecial.txt #Detecta expresiones de la forma \"Una\" o \"na\"\n",
        "rm caracterEspecial.txt"
      ]
    },
    {
      "cell_type": "markdown",
      "id": "G8sBxOAN7Rec",
      "metadata": {
        "id": "G8sBxOAN7Rec"
      },
      "source": [
        "<div style=\"font-size: 17px\">\n",
        "Con el uso de llaves, podemos indicar el número de repeticiones exacto que queremos que aparezca un conjunto:\n",
        "</div>"
      ]
    },
    {
      "cell_type": "code",
      "execution_count": null,
      "id": "H3-XUclf7SHN",
      "metadata": {
        "colab": {
          "base_uri": "https://localhost:8080/"
        },
        "id": "H3-XUclf7SHN",
        "outputId": "165127b5-6ce5-4349-dd91-f23fcdbb7916"
      },
      "outputs": [
        {
          "name": "stdout",
          "output_type": "stream",
          "text": [
            "12345\n",
            "123\n",
            "1234567\n"
          ]
        },
        {
          "data": {
            "text/plain": []
          },
          "execution_count": 38,
          "metadata": {},
          "output_type": "execute_result"
        }
      ],
      "source": [
        "%%shell\n",
        "echo -e \"12345\\n123\\n1234567\\n1\\n123456789\" > numeros.txt\n",
        "grep -E \"^[0-9]{3,7}$\" numeros.txt #Coincide con líneas que contengan de 3 a 7 números\n",
        "rm numeros.txt"
      ]
    },
    {
      "cell_type": "markdown",
      "id": "e3Me6hH88Q0e",
      "metadata": {
        "id": "e3Me6hH88Q0e"
      },
      "source": [
        "<div style=\"font-size: 17px\">\n",
        "Al usar un carácter especial como <code>*</code>, <code>+</code>, <code>?</code> o <code>{n,m}</code>, se aplica sólo a el último carácter, pero si previo a estos metacaracteres hay unos paréntesis, se aplica al conjunto dentro de los paréntesis:\n",
        "</div>"
      ]
    },
    {
      "cell_type": "code",
      "execution_count": null,
      "id": "eso9De5l8tH_",
      "metadata": {
        "colab": {
          "base_uri": "https://localhost:8080/"
        },
        "id": "eso9De5l8tH_",
        "outputId": "6634afb5-b83d-497d-fa7c-e87234cda34a"
      },
      "outputs": [
        {
          "name": "stdout",
          "output_type": "stream",
          "text": [
            "Accesos denegados\n"
          ]
        },
        {
          "data": {
            "text/plain": []
          },
          "execution_count": 40,
          "metadata": {},
          "output_type": "execute_result"
        }
      ],
      "source": [
        "%%shell\n",
        "echo -e \"Accesos denegados\\nPermiso concedido\" > parentesis.txt\n",
        "grep -E \"(c){2,}\" parentesis.txt #Coincide con 2 o más \"c\" consecutivas\n",
        "rm parentesis.txt"
      ]
    },
    {
      "cell_type": "markdown",
      "id": "Ou9tRwmx91lL",
      "metadata": {
        "id": "Ou9tRwmx91lL"
      },
      "source": [
        "<div style=\"font-size: 17px\">\n",
        "Para poder usar metacaracteres como literales, basta con poner delante un <code>\\</code>:\n",
        "</div>"
      ]
    },
    {
      "cell_type": "code",
      "execution_count": null,
      "id": "WEGXi65H91vM",
      "metadata": {
        "colab": {
          "base_uri": "https://localhost:8080/"
        },
        "id": "WEGXi65H91vM",
        "outputId": "2903598a-1466-4613-8060-fe716e056ff6"
      },
      "outputs": [
        {
          "name": "stdout",
          "output_type": "stream",
          "text": [
            "Punto final.\n"
          ]
        },
        {
          "data": {
            "text/plain": []
          },
          "execution_count": 42,
          "metadata": {},
          "output_type": "execute_result"
        }
      ],
      "source": [
        "%%shell\n",
        "echo -e \"Punto final.\\nSin punto final. Solo punto y seguido\" > punto.txt\n",
        "grep -E \"\\.$\" punto.txt #Detecta el carácter literal \".\" solo al final de la linea\n",
        "rm punto.txt"
      ]
    },
    {
      "cell_type": "markdown",
      "id": "-6IzrUIU_MCO",
      "metadata": {
        "id": "-6IzrUIU_MCO"
      },
      "source": [
        "<h3>Conjuntos abreviados</h3>"
      ]
    },
    {
      "cell_type": "markdown",
      "id": "399gPN22_ahs",
      "metadata": {
        "id": "399gPN22_ahs"
      },
      "source": [
        "<div style=\"font-size: 17px\">\n",
        "Para conjuntos comúnmente utilizados, existen abreviaciones para indicar estos conjuntos:\n",
        "\n",
        "| Abreviatura | Descripción                                                      |\n",
        "|-------------|------------------------------------------------------------------|\n",
        "| .           | Cualquier carácter excepto nueva línea                           |\n",
        "| \\w          | Coincide con los caracteres alfanuméricos: [a-zA-Z0-9_]          |\n",
        "| \\W          | Coincide con los caracteres no alfanuméricos: [^\\w]              |\n",
        "| \\d          | Coincide con los dígitos: [0-9]                                  |\n",
        "| \\D          | Coincide con los no dígitos: [^\\d]                               |\n",
        "| \\s          | Coincide con los caracteres espaciales: [\\t\\n\\f\\r\\p{Z}]          |\n",
        "| \\S          | Coincide con los caracteres no espaciales: [^\\s]                 |\n",
        "\n",
        "**Ejemplo**: Se puede reescribir uno de los ejemplos anteriores usando estas abreviaciones (Para que <code>grep</code> admita estos subconjuntos, es necesario cambiar el modificador <code>-E</code> por <code>-P</code>):\n",
        "</div>\n"
      ]
    },
    {
      "cell_type": "code",
      "execution_count": null,
      "id": "Qyz4fqeoAFZD",
      "metadata": {
        "colab": {
          "base_uri": "https://localhost:8080/"
        },
        "id": "Qyz4fqeoAFZD",
        "outputId": "70b89f0e-b56c-4c35-de4a-41f23fcc126a"
      },
      "outputs": [
        {
          "name": "stdout",
          "output_type": "stream",
          "text": [
            "12345\n",
            "123\n",
            "1234567\n"
          ]
        },
        {
          "data": {
            "text/plain": []
          },
          "execution_count": 44,
          "metadata": {},
          "output_type": "execute_result"
        }
      ],
      "source": [
        "%%shell\n",
        "echo -e \"12345\\n123\\n1234567\\n1\\n123456789\" > numeros.txt\n",
        "grep -P \"^\\d{3,7}$\" numeros.txt #Coincide con líneas que contengan de 3 a 7 números\n",
        "rm numeros.txt"
      ]
    },
    {
      "cell_type": "markdown",
      "id": "unn8sY3Lx5Gy",
      "metadata": {
        "id": "unn8sY3Lx5Gy"
      },
      "source": [
        "<h3>Ejercicio</h3>"
      ]
    },
    {
      "cell_type": "markdown",
      "id": "0mGeMdAyx5MG",
      "metadata": {
        "id": "0mGeMdAyx5MG"
      },
      "source": [
        "<div style=\"font-size: 17px\">\n",
        "\n",
        "Dado el archivo empleados.txt, que muestra los datos de los empleados de una empresa, muestra los datos de los empleados cuyo salario es mayor o igual que 60000:\n",
        "</div>"
      ]
    },
    {
      "cell_type": "code",
      "execution_count": null,
      "id": "JoHUvhIZx5VU",
      "metadata": {
        "colab": {
          "base_uri": "https://localhost:8080/"
        },
        "id": "JoHUvhIZx5VU",
        "outputId": "bba0c92a-27f0-4452-8e2a-12e5f69f5c5d"
      },
      "outputs": [],
      "source": [
        "%%shell\n",
        "echo \"ID,Nombre,Departamento,Salario\" >> empleados.txt\n",
        "echo \"1,Juan Pérez,Administración,50000\" >> empleados.txt\n",
        "echo \"2,Ana López,Recursos Humanos,60000\" >> empleados.txt\n",
        "echo \"3,Fernando Fernandez,IT,70000\" >> empleados.txt\n",
        "echo \"4,Paula Garcia,Administración,55000\" >> empleados.txt\n",
        "echo \"5,Rodrigo Rodriguez,IT,72000\" >> empleados.txt\n",
        "\n",
        "#Borra este comentario e introduce aquí el/los comando/s necesario/s\n",
        "\n",
        "rm empleados.txt"
      ]
    },
    {
      "cell_type": "markdown",
      "id": "eBa3bsbqA0KD",
      "metadata": {
        "id": "eBa3bsbqA0KD"
      },
      "source": [
        "<h3>Expresión regular compleja</h3>"
      ]
    },
    {
      "cell_type": "markdown",
      "id": "z8iCtcQeBQWZ",
      "metadata": {
        "id": "z8iCtcQeBQWZ"
      },
      "source": [
        "<div style=\"font-size: 17px\">\n",
        "Finalmente, para ver todo lo visto anteriormente, un ejemplo que detecta correos electrónicos válidos:\n",
        "</div>"
      ]
    },
    {
      "cell_type": "code",
      "execution_count": null,
      "id": "3uYmBI6dBE0H",
      "metadata": {
        "colab": {
          "base_uri": "https://localhost:8080/"
        },
        "id": "3uYmBI6dBE0H",
        "outputId": "689ca650-b1a4-437f-d03d-a6d258987fc3"
      },
      "outputs": [
        {
          "name": "stdout",
          "output_type": "stream",
          "text": [
            "usuario1@correo.com\n",
            "usuario.externo3@correo.com\n",
            "usuario_externo4@correo.es\n"
          ]
        },
        {
          "data": {
            "text/plain": []
          },
          "execution_count": 50,
          "metadata": {},
          "output_type": "execute_result"
        }
      ],
      "source": [
        "%%shell\n",
        "echo \"usuario1@correo.com\" >> correos.txt #Válido\n",
        "echo \"usu@rio2@correo.com\" >> correos.txt #Inválido\n",
        "echo \"usuario.externo3@correo.com\" >> correos.txt #Válido\n",
        "echo \"usuario_externo4@correo.es\" >> correos.txt #Válido\n",
        "echo \"usuario.externo5@correo.c\" >> correos.txt #Inválido\n",
        "echo \"usuario#correo.es\" >> correos.txt #Inválido\n",
        "grep -E \"^[a-zA-Z0-9._%+-]+@[a-zA-Z0-9.-]+\\.[a-zA-Z]{2,}$\" correos.txt\n",
        "rm correos.txt"
      ]
    },
    {
      "cell_type": "markdown",
      "id": "MN7LG7ApzBwS",
      "metadata": {
        "id": "MN7LG7ApzBwS"
      },
      "source": [
        "<h3>Ejercicio</h3>"
      ]
    },
    {
      "cell_type": "markdown",
      "id": "QM89G6rtzB1Y",
      "metadata": {
        "id": "QM89G6rtzB1Y"
      },
      "source": [
        "<div style=\"font-size: 17px\">\n",
        "\n",
        "Dado el archivo logs.txt, que guarda la información de un sistema, muestra los errores que hayan ocurrido entre las 10:00 y las 16:00:\n",
        "</div>"
      ]
    },
    {
      "cell_type": "code",
      "execution_count": null,
      "id": "Rn8msCCKzB9s",
      "metadata": {
        "colab": {
          "base_uri": "https://localhost:8080/"
        },
        "id": "Rn8msCCKzB9s",
        "outputId": "ba6c4cd0-7f1d-4ee4-faa9-5f2e0d83080b"
      },
      "outputs": [],
      "source": [
        "%%shell\n",
        "echo \"2023-12-01 14:32:10 [INFO] Usuario Juan ha iniciado sesión desde 192.168.1.10\" >> logs.txt\n",
        "echo \"2023-12-01 14:35:42 [ERROR] Fallo al conectar a la base de datos desde 10.0.0.15\" >> logs.txt\n",
        "echo \"2023-12-01 15:01:03 [WARNING] Uso elevado de CPU en el servidor 172.16.0.1\" >> logs.txt\n",
        "echo \"2023-12-02 08:15:27 [INFO] Usuario Ana ha cerrado sesión desde 192.168.1.11\" >> logs.txt\n",
        "echo \"2023-12-02 08:20:11 [ERROR] Fallo en el servicio de correo en 10.0.0.20\" >> logs.txt\n",
        "\n",
        "#Borra este comentario e introduce aquí el/los comando/s necesario/s\n",
        "\n",
        "rm logs.txt"
      ]
    }
  ],
  "metadata": {
    "colab": {
      "provenance": []
    },
    "kernelspec": {
      "display_name": "Python 3 (ipykernel)",
      "language": "python",
      "name": "python3"
    },
    "language_info": {
      "codemirror_mode": {
        "name": "ipython",
        "version": 3
      },
      "file_extension": ".py",
      "mimetype": "text/x-python",
      "name": "python",
      "nbconvert_exporter": "python",
      "pygments_lexer": "ipython3",
      "version": "3.11.4"
    }
  },
  "nbformat": 4,
  "nbformat_minor": 5
}
