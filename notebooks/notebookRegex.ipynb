{
  "cells": [
    {
      "cell_type": "markdown",
      "id": "56371638-880a-4e02-9544-c2f9709c0372",
      "metadata": {
        "id": "56371638-880a-4e02-9544-c2f9709c0372"
      },
      "source": [
        "<!--NAVIGATION-->\n",
        "\n",
        "\n",
        "<a href=\"https://colab.research.google.com/github/msantana0612/TFG/blob/main/notebooks/notebookRegex.ipynb\" target=\"_blank\" rel=\"noopener noreferrer\"><img align=\"left\" src=\"https://colab.research.google.com/assets/colab-badge.svg\" alt=\"Open in Colab\" title=\"Open and Execute in Google Colaboratory\"></a>"
      ]
    },
    {
      "cell_type": "markdown",
      "id": "2288f56a-1d55-40e3-ae6d-62865d2d5242",
      "metadata": {
        "id": "2288f56a-1d55-40e3-ae6d-62865d2d5242",
        "tags": []
      },
      "source": [
        "<h1> Expresiones regulares </h1>"
      ]
    },
    {
      "cell_type": "markdown",
      "id": "oCAbpowmvQqT",
      "metadata": {
        "id": "oCAbpowmvQqT"
      },
      "source": [
        "Las expresiones regulares, también conocidas como \"regex\", son patrones utilizados para hacer coincidir combinaciones de caracteres en texto. El uso de este tipo de expresiones permite buscar, filtrar, y manipular texto de forma eficiente. EN Linux, algunos comandos admiten expresiones regulares como argumentos, como podrían ser **grep** (añadiendo el modificador \"-E\"), **find** o **sed**."
      ]
    },
    {
      "cell_type": "markdown",
      "id": "LZr5pRXozZhA",
      "metadata": {
        "id": "LZr5pRXozZhA"
      },
      "source": [
        "Las expresiones regulares contienen dos tipos de caracteres: ordinarios y especiales (metacaracteres):\n",
        "  \n",
        "- **Caracteres ordinarios**: Son todos aquellos caracteres que coinciden con ellos mismos. Esto son letras, números u otros símbolos que no sean metacaracteres.\n",
        "\n",
        "**Ejemplo**: Usando el comando grep, busca en el archivo \"caracterOrdinario.txt\" las líneas que contengan los literales \"u\", \"n\" y \"a\" seguidos (la segunda línea no coincide porque las expresiones regulares son \"case sensitive\" (diferencian mayúsculas y minúsculas).\n",
        "\n"
      ]
    },
    {
      "cell_type": "code",
      "execution_count": 23,
      "id": "Sf0vxz8e08ah",
      "metadata": {
        "colab": {
          "base_uri": "https://localhost:8080/"
        },
        "id": "Sf0vxz8e08ah",
        "outputId": "7b385b4b-61e2-4c17-a4a9-43c59ca04450"
      },
      "outputs": [
        {
          "name": "stdout",
          "output_type": "stream",
          "text": [
            "una prueba de expresiones regulares\n"
          ]
        },
        {
          "data": {
            "text/plain": []
          },
          "execution_count": 23,
          "metadata": {},
          "output_type": "execute_result"
        }
      ],
      "source": [
        "%%shell\n",
        "echo -e \"una prueba de expresiones regulares\\nUna prueba de expresiones regulares\\nEl rio Sena\" > caracterOrdinario.txt\n",
        "grep -E \"una\" caracterOrdinario.txt\n",
        "rm caracterOrdinario.txt"
      ]
    },
    {
      "cell_type": "markdown",
      "id": "CxZCh8kS08oc",
      "metadata": {
        "id": "CxZCh8kS08oc"
      },
      "source": [
        "- **Caracteres especiales**: Son caracteres que tienen un significado diferente a su literal, que sirve para indicar diferentes funcionalidades:\n",
        "\n",
        "| Metacaracter | Descripción                                                                 |\n",
        "|--------------|-----------------------------------------------------------------------------|\n",
        "| .            | Coincide con cualquier carácter excepto el salto de línea.                  |\n",
        "| ^            | Coincide con el inicio de una línea.                                        |\n",
        "| $            | Coincide con el final de una línea.                                         |\n",
        "| []           | Define un conjunto de caracteres. Ejemplo: [aeiou] coincide con una vocal.  |\n",
        "| [^]          | Coincide con cualquier carácter que no esté en el conjunto. Ejemplo: [^0-9].|\n",
        "| *            | Coincide con cero o más repeticiones del carácter o grupo anterior.         |\n",
        "| +            | Coincide con una o más repeticiones del carácter o grupo anterior.          |\n",
        "| ?            | Coincide con cero o una repetición del carácter o grupo anterior.           |\n",
        "| \\            | Escapa un carácter especial para tratarlo como carácter ordinario. Ejemplo: \\. coincide con un punto literal. |\n",
        "| (abc)           | Agrupa caracteres. Ejemplo: (abc)+ coincide con una o más repeticiones de \"abc\". |\n",
        "| {n,m}           | Corresponde a, al menos, \"n\" repeticiones de un carácter, pero no más de \"m\" veces. |\n",
        "\n",
        "**Ejemplo**: Usando el comando grep, busca en el archivo \"caracterEspecial.txt\" las líneas que contenga cualquier carácter, \"n\" y \"a\" seguidos. De esta forma, también coinciden la segunda línea (carácter \"U\" en \"Una\") y la tercera línea (carácter \"e\" en \"Sena\")."
      ]
    },
    {
      "cell_type": "code",
      "execution_count": 24,
      "id": "x_0ZwStawiGm",
      "metadata": {
        "colab": {
          "base_uri": "https://localhost:8080/"
        },
        "id": "x_0ZwStawiGm",
        "outputId": "0c46d70f-c4bc-4119-b780-ababd376bdd9"
      },
      "outputs": [
        {
          "name": "stdout",
          "output_type": "stream",
          "text": [
            "una prueba de expresiones regulares\n",
            "Una prueba de expresiones regulares\n",
            "El rio Sena\n"
          ]
        },
        {
          "data": {
            "text/plain": []
          },
          "execution_count": 24,
          "metadata": {},
          "output_type": "execute_result"
        }
      ],
      "source": [
        "%%shell\n",
        "echo -e \"una prueba de expresiones regulares\\nUna prueba de expresiones regulares\\nEl rio Sena\" > caracterEspecial.txt\n",
        "grep -E \".na\" caracterEspecial.txt\n",
        "rm caracterEspecial.txt"
      ]
    },
    {
      "cell_type": "markdown",
      "id": "A2YitvHN4Uwm",
      "metadata": {
        "id": "A2YitvHN4Uwm"
      },
      "source": [
        "<h3>Ejemplos de uso</h3>"
      ]
    },
    {
      "cell_type": "markdown",
      "id": "f9JCCccT4exP",
      "metadata": {
        "id": "f9JCCccT4exP"
      },
      "source": [
        "Combinando los metacaracteres \"^\" y \"$\", podemos indicar que los caracteres de la expresión regular deberán coincidir con la línea entera:"
      ]
    },
    {
      "cell_type": "code",
      "execution_count": 26,
      "id": "Au-EDBo74q_E",
      "metadata": {
        "colab": {
          "base_uri": "https://localhost:8080/"
        },
        "id": "Au-EDBo74q_E",
        "outputId": "bdb55d82-751f-4c4b-a066-89d69db3ff97"
      },
      "outputs": [
        {
          "name": "stdout",
          "output_type": "stream",
          "text": [
            "123456789\n"
          ]
        },
        {
          "data": {
            "text/plain": []
          },
          "execution_count": 26,
          "metadata": {},
          "output_type": "execute_result"
        }
      ],
      "source": [
        "%%shell\n",
        "echo -e \"123456789\\nABC456789\" > numeros.txt\n",
        "grep -E \"^[0-9]+$\" numeros.txt #Acepta líneas compuestas de solo números(uno o más)\n",
        "rm numeros.txt"
      ]
    },
    {
      "cell_type": "markdown",
      "id": "GEv9e-2I6IvE",
      "metadata": {
        "id": "GEv9e-2I6IvE"
      },
      "source": [
        "Al introducir el caracter \"^\" después del corchete de apertura, niega el conjunto de caracteres dentro de los corchetes:"
      ]
    },
    {
      "cell_type": "code",
      "execution_count": 27,
      "id": "PzkQlWLn6I6E",
      "metadata": {
        "colab": {
          "base_uri": "https://localhost:8080/"
        },
        "id": "PzkQlWLn6I6E",
        "outputId": "8bc96a4d-21ca-4d77-96d6-2161f0f83185"
      },
      "outputs": [
        {
          "name": "stdout",
          "output_type": "stream",
          "text": [
            "una prueba de expresiones regulares\n",
            "Una prueba de expresiones regulares\n"
          ]
        },
        {
          "data": {
            "text/plain": []
          },
          "execution_count": 27,
          "metadata": {},
          "output_type": "execute_result"
        }
      ],
      "source": [
        "%%shell\n",
        "echo -e \"una prueba de expresiones regulares\\nUna prueba de expresiones regulares\\nEl rio Sena\" > caracterEspecial.txt\n",
        "grep -E \"[^e]na\" caracterEspecial.txt\n",
        "rm caracterEspecial.txt"
      ]
    },
    {
      "cell_type": "markdown",
      "id": "Twzbp1RX6tt9",
      "metadata": {
        "id": "Twzbp1RX6tt9"
      },
      "source": [
        "Al añadir el carácter \"?\", hacemos opcional el precedente: es decir, coincide con 0 o 1 repetición:"
      ]
    },
    {
      "cell_type": "code",
      "execution_count": 30,
      "id": "HxnfxkA86t5D",
      "metadata": {
        "colab": {
          "base_uri": "https://localhost:8080/"
        },
        "id": "HxnfxkA86t5D",
        "outputId": "26e71beb-2f40-4d67-f182-1cd48af5dd06"
      },
      "outputs": [
        {
          "name": "stdout",
          "output_type": "stream",
          "text": [
            "una prueba de expresiones regulares\n",
            "Una prueba de expresiones regulares\n",
            "El rio Sena\n"
          ]
        },
        {
          "data": {
            "text/plain": []
          },
          "execution_count": 30,
          "metadata": {},
          "output_type": "execute_result"
        }
      ],
      "source": [
        "%%shell\n",
        "echo -e \"una prueba de expresiones regulares\\nUna prueba de expresiones regulares\\nEl rio Sena\" > caracterEspecial.txt\n",
        "grep -E \"[U]?na\" caracterEspecial.txt #Detecta expresiones de la forma \"Una\" o \"na\"\n",
        "rm caracterEspecial.txt"
      ]
    },
    {
      "cell_type": "markdown",
      "id": "G8sBxOAN7Rec",
      "metadata": {
        "id": "G8sBxOAN7Rec"
      },
      "source": [
        "Con el uso de llaves, podemos indicar el número de repeticiones exacto que queremos que aparezca un conjunto:"
      ]
    },
    {
      "cell_type": "code",
      "execution_count": 38,
      "id": "H3-XUclf7SHN",
      "metadata": {
        "colab": {
          "base_uri": "https://localhost:8080/"
        },
        "id": "H3-XUclf7SHN",
        "outputId": "165127b5-6ce5-4349-dd91-f23fcdbb7916"
      },
      "outputs": [
        {
          "name": "stdout",
          "output_type": "stream",
          "text": [
            "12345\n",
            "123\n",
            "1234567\n"
          ]
        },
        {
          "data": {
            "text/plain": []
          },
          "execution_count": 38,
          "metadata": {},
          "output_type": "execute_result"
        }
      ],
      "source": [
        "%%shell\n",
        "echo -e \"12345\\n123\\n1234567\\n1\\n123456789\" > numeros.txt\n",
        "grep -E \"^[0-9]{3,7}$\" numeros.txt #Coincide con líneas que contengan de 3 a 7 números\n",
        "rm numeros.txt"
      ]
    },
    {
      "cell_type": "markdown",
      "id": "e3Me6hH88Q0e",
      "metadata": {
        "id": "e3Me6hH88Q0e"
      },
      "source": [
        "Al usar un carácter especial como \"*\", \"+\", \"?\" o {n,m}, se aplica sólo a el último carácter, pero si previo a estos metacaracteres hay unos paréntesis, se aplica al conjunto dentro de los paréntesis:"
      ]
    },
    {
      "cell_type": "code",
      "execution_count": 40,
      "id": "eso9De5l8tH_",
      "metadata": {
        "colab": {
          "base_uri": "https://localhost:8080/"
        },
        "id": "eso9De5l8tH_",
        "outputId": "6634afb5-b83d-497d-fa7c-e87234cda34a"
      },
      "outputs": [
        {
          "name": "stdout",
          "output_type": "stream",
          "text": [
            "Accesos denegados\n"
          ]
        },
        {
          "data": {
            "text/plain": []
          },
          "execution_count": 40,
          "metadata": {},
          "output_type": "execute_result"
        }
      ],
      "source": [
        "%%shell\n",
        "echo -e \"Accesos denegados\\nPermiso concedido\" > parentesis.txt\n",
        "grep -E \"(c){2,}\" parentesis.txt #Coincide con 2 o más \"c\" consecutivas\n",
        "rm parentesis.txt"
      ]
    },
    {
      "cell_type": "markdown",
      "id": "Ou9tRwmx91lL",
      "metadata": {
        "id": "Ou9tRwmx91lL"
      },
      "source": [
        "Para poder usar metacaracteres como literales, basta con poner delante un \"\\\":"
      ]
    },
    {
      "cell_type": "code",
      "execution_count": 42,
      "id": "WEGXi65H91vM",
      "metadata": {
        "colab": {
          "base_uri": "https://localhost:8080/"
        },
        "id": "WEGXi65H91vM",
        "outputId": "2903598a-1466-4613-8060-fe716e056ff6"
      },
      "outputs": [
        {
          "name": "stdout",
          "output_type": "stream",
          "text": [
            "Punto final.\n"
          ]
        },
        {
          "data": {
            "text/plain": []
          },
          "execution_count": 42,
          "metadata": {},
          "output_type": "execute_result"
        }
      ],
      "source": [
        "%%shell\n",
        "echo -e \"Punto final.\\nSin punto final. Solo punto y seguido\" > punto.txt\n",
        "grep -E \"\\.$\" punto.txt #Detecta el carácter literal \".\" solo al final de la linea\n",
        "rm punto.txt"
      ]
    },
    {
      "cell_type": "markdown",
      "id": "-6IzrUIU_MCO",
      "metadata": {
        "id": "-6IzrUIU_MCO"
      },
      "source": [
        "<h3>Conjuntos abreviados</h3>"
      ]
    },
    {
      "cell_type": "markdown",
      "id": "399gPN22_ahs",
      "metadata": {
        "id": "399gPN22_ahs"
      },
      "source": [
        "Para conjuntos comúnmente utilizados, existen abreviaciones para indicar estos conjuntos:\n",
        "\n",
        "| Abreviatura | Descripción                                                      |\n",
        "|-------------|------------------------------------------------------------------|\n",
        "| .           | Cualquier carácter excepto nueva línea                           |\n",
        "| \\w          | Coincide con los caracteres alfanuméricos: [a-zA-Z0-9_]          |\n",
        "| \\W          | Coincide con los caracteres no alfanuméricos: [^\\w]              |\n",
        "| \\d          | Coincide con los dígitos: [0-9]                                  |\n",
        "| \\D          | Coincide con los no dígitos: [^\\d]                               |\n",
        "| \\s          | Coincide con los caracteres espaciales: [\\t\\n\\f\\r\\p{Z}]          |\n",
        "| \\S          | Coincide con los caracteres no espaciales: [^\\s]                 |\n"
      ]
    },
    {
      "cell_type": "markdown",
      "id": "qW9Ek5U2AAeG",
      "metadata": {
        "id": "qW9Ek5U2AAeG"
      },
      "source": [
        "**Ejemplo**: Se puede reescribir uno de los ejemplos anteriores usando estas abreviaciones (Para que **grep** admita estos subconjuntos, es necesario cambiar el modificador -E por -P):"
      ]
    },
    {
      "cell_type": "code",
      "execution_count": 44,
      "id": "Qyz4fqeoAFZD",
      "metadata": {
        "colab": {
          "base_uri": "https://localhost:8080/"
        },
        "id": "Qyz4fqeoAFZD",
        "outputId": "70b89f0e-b56c-4c35-de4a-41f23fcc126a"
      },
      "outputs": [
        {
          "name": "stdout",
          "output_type": "stream",
          "text": [
            "12345\n",
            "123\n",
            "1234567\n"
          ]
        },
        {
          "data": {
            "text/plain": []
          },
          "execution_count": 44,
          "metadata": {},
          "output_type": "execute_result"
        }
      ],
      "source": [
        "%%shell\n",
        "echo -e \"12345\\n123\\n1234567\\n1\\n123456789\" > numeros.txt\n",
        "grep -P \"^\\d{3,7}$\" numeros.txt #Coincide con líneas que contengan de 3 a 7 números\n",
        "rm numeros.txt"
      ]
    },
    {
      "cell_type": "markdown",
      "id": "eBa3bsbqA0KD",
      "metadata": {
        "id": "eBa3bsbqA0KD"
      },
      "source": [
        "<h3>Expresión regular compleja</h3>"
      ]
    },
    {
      "cell_type": "markdown",
      "id": "z8iCtcQeBQWZ",
      "metadata": {
        "id": "z8iCtcQeBQWZ"
      },
      "source": [
        "Finalmente, para ver todo lo visto anteriormente, un ejemplo que detecta correos electrónicos válidos:"
      ]
    },
    {
      "cell_type": "code",
      "execution_count": 50,
      "id": "3uYmBI6dBE0H",
      "metadata": {
        "colab": {
          "base_uri": "https://localhost:8080/"
        },
        "id": "3uYmBI6dBE0H",
        "outputId": "689ca650-b1a4-437f-d03d-a6d258987fc3"
      },
      "outputs": [
        {
          "name": "stdout",
          "output_type": "stream",
          "text": [
            "usuario1@correo.com\n",
            "usuario.externo3@correo.com\n",
            "usuario_externo4@correo.es\n"
          ]
        },
        {
          "data": {
            "text/plain": []
          },
          "execution_count": 50,
          "metadata": {},
          "output_type": "execute_result"
        }
      ],
      "source": [
        "%%shell\n",
        "echo \"usuario1@correo.com\" >> correos.txt #Válido\n",
        "echo \"usu@rio2@correo.com\" >> correos.txt #Inválido\n",
        "echo \"usuario.externo3@correo.com\" >> correos.txt #Válido\n",
        "echo \"usuario_externo4@correo.es\" >> correos.txt #Válido\n",
        "echo \"usuario.externo5@correo.c\" >> correos.txt #Inválido\n",
        "echo \"usuario#correo.es\" >> correos.txt #Inválido\n",
        "grep -E \"^[a-zA-Z0-9._%+-]+@[a-zA-Z0-9.-]+\\.[a-zA-Z]{2,}$\" correos.txt\n",
        "rm correos.txt"
      ]
    }
  ],
  "metadata": {
    "colab": {
      "provenance": []
    },
    "kernelspec": {
      "display_name": "Python 3 (ipykernel)",
      "language": "python",
      "name": "python3"
    },
    "language_info": {
      "codemirror_mode": {
        "name": "ipython",
        "version": 3
      },
      "file_extension": ".py",
      "mimetype": "text/x-python",
      "name": "python",
      "nbconvert_exporter": "python",
      "pygments_lexer": "ipython3",
      "version": "3.11.4"
    }
  },
  "nbformat": 4,
  "nbformat_minor": 5
}
