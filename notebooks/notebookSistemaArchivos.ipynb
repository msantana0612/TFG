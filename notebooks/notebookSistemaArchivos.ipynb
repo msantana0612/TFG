{
 "cells": [
  {
   "cell_type": "markdown",
   "id": "56371638-880a-4e02-9544-c2f9709c0372",
   "metadata": {
    "id": "56371638-880a-4e02-9544-c2f9709c0372"
   },
   "source": [
    "<!--NAVIGATION-->\n",
    "\n",
    "\n",
    "<a href=\"https://colab.research.google.com/github/msantana0612/TFG/blob/main/notebooks/notebookSistemaArchivos.ipynb\" target=\"_blank\" rel=\"noopener noreferrer\"><img align=\"left\" src=\"https://colab.research.google.com/assets/colab-badge.svg\" alt=\"Open in Colab\" title=\"Open and Execute in Google Colaboratory\"></a>"
   ]
  },
  {
   "cell_type": "markdown",
   "id": "2288f56a-1d55-40e3-ae6d-62865d2d5242",
   "metadata": {
    "id": "2288f56a-1d55-40e3-ae6d-62865d2d5242",
    "tags": []
   },
   "source": [
    "<h1> El sistema de archivos </h1>"
   ]
  },
  {
   "cell_type": "markdown",
   "id": "v914UE3UfPTn",
   "metadata": {
    "id": "v914UE3UfPTn"
   },
   "source": [
    "<h2>Estructura Unix</h2>"
   ]
  },
  {
   "cell_type": "markdown",
   "id": "JwOXVKwaQzlV",
   "metadata": {
    "id": "JwOXVKwaQzlV"
   },
   "source": [
    "<div style=\"font-size: 17px\">\n",
    "En un sistema Unix/Linux, la estructura de directorios sigue una jerarquía bien definida, donde cada directorio tiene un propósito específico. A continuación, se destacan los directorios más importantes y se explica brevemente su contenido:\n",
    "</div>"
   ]
  },
  {
   "cell_type": "markdown",
   "id": "XeeYY9SsUGcy",
   "metadata": {
    "id": "XeeYY9SsUGcy"
   },
   "source": [
    "![Directorios](https://raw.githubusercontent.com/msantana0612/TFG/gh-pages/images/directorios.jpg)"
   ]
  },
  {
   "cell_type": "markdown",
   "id": "U79sTVfgUGjO",
   "metadata": {
    "id": "U79sTVfgUGjO"
   },
   "source": [
    "<div style=\"font-size: 17px\">\n",
    "\n",
    "**<code>/</code>**: Directorio raíz que contiene todos los archivos y directorios del sistema.\n",
    "\n",
    "**<code>/bin</code>**: Almacena archivos ejecutables de comandos esenciales para el sistema y los usuarios.\n",
    "\n",
    "**<code>/boot</code>**: Contiene los archivos necesarios para arrancar el sistema, como el kernel y el bootloader.\n",
    "\n",
    "**<code>/dev</code>**: Almacena archivos especiales que representan dispositivos de hardware del sistema.\n",
    "\n",
    "**<code>/etc</code>**: Directorio de configuración que guarda archivos de configuración del sistema y servicios.\n",
    "\n",
    "**<code>/home</code>**: Contiene los directorios personales de los usuarios, con sus archivos y configuraciones.\n",
    "\n",
    "**<code>/lib</code>**: Guarda las bibliotecas compartidas necesarias para que los programas en /bin y /sbin funcionen.\n",
    "\n",
    "**<code>/mnt</code>**: Directorio en donde comúnmente se montan los sistemas de archivos. Por ejemplo,\n",
    "si se quiere acceder a una memoria USB, se debe montar este dispositivo sobre el\n",
    "directorio <code>/mnt</code>, de manera que todo lo que cuelgue de <code>/mnt</code> sería el contenido de la\n",
    "memoria.\n",
    "\n",
    "**<code>/root</code>**: Directorio <code>home</code> del administrador del sistema, conocido como usuario root o superusuario\n",
    "\n",
    "**<code>/tmp</code>**: Directorio temporal donde los programas almacenan archivos que suelen ser eliminados al reiniciar.\n",
    "\n",
    "**<code>/usr</code>**: Incluye aplicaciones y archivos del sistema no esenciales para el arranque, como programas instalados.\n",
    "\n",
    "**<code>/sbin</code>**: Contiene binarios para la administración del sistema, generalmente usados por el superusuario.\n",
    "</div>"
   ]
  },
  {
   "cell_type": "markdown",
   "id": "CgaUXM1RYAI5",
   "metadata": {
    "id": "CgaUXM1RYAI5"
   },
   "source": [
    "<div style=\"font-size: 17px\">\n",
    "\n",
    "Para cambiar el directorio en el que ejecutamos los comandos existe el comando <code>cd</code>, que nos llevará al directorio que indiquemos. Si se introduce el comando sin ningún argumento, éste nos llevará al conocido como directorio de conexión, que es el lugar privado del usuario en el que puede crear archivos y directorios, y salvo el administrador, nadie podrá acceder a ellos a menos que tenga los permisos requeridos. En este caso, como el usuario es el administrador, este directorio de conexión (indicado con <code>~</code>) es el ya nombrado <code>/root</code>.\n",
    "\n",
    "Otro comando útil es <code>pwd</code>, que nos muestra el directorio en el que nos encontramos actualmente.\n",
    "</div>"
   ]
  },
  {
   "cell_type": "code",
   "execution_count": null,
   "id": "xJZelSCuaDwG",
   "metadata": {
    "colab": {
     "base_uri": "https://localhost:8080/"
    },
    "id": "xJZelSCuaDwG",
    "outputId": "3ff4eeca-d712-4b64-9fbb-87a508ac4b08"
   },
   "outputs": [
    {
     "name": "stdout",
     "output_type": "stream",
     "text": [
      "/root\n"
     ]
    },
    {
     "data": {
      "text/plain": []
     },
     "execution_count": 25,
     "metadata": {},
     "output_type": "execute_result"
    }
   ],
   "source": [
    "%%shell\n",
    "cd\n",
    "pwd"
   ]
  },
  {
   "cell_type": "markdown",
   "id": "NQ2CUsj3aVAd",
   "metadata": {
    "id": "NQ2CUsj3aVAd"
   },
   "source": [
    "<div style=\"font-size: 17px\">\n",
    "Además del directorio de conexión, otros directorios indicados con caracteres especiales son <code>.</code> y <code>..</code>. Un único punto es equivalente al directorio actual (el que mostrará <code>pwd</code>), mientras que dos puntos indican el directorio padre del directorio actual (si usamos los dos puntos junto con el comando <code>cd</code> nos \"salimos\" de la carpeta).\n",
    "\n",
    "**Ejemplo**: Si vamos al directorio de conexión e introducimos el comando <code>cd ..</code>, cambiaremos el directorio actual (<code>.</code>) por el directorio padre del directorio de conexión (<code>/root</code>), que en nuestro caso es el directorio raíz:\n",
    "</div>"
   ]
  },
  {
   "cell_type": "code",
   "execution_count": null,
   "id": "guCJJNFUbaKy",
   "metadata": {
    "colab": {
     "base_uri": "https://localhost:8080/"
    },
    "id": "guCJJNFUbaKy",
    "outputId": "53158731-83ab-4f2d-8da5-d08771f00b95"
   },
   "outputs": [
    {
     "name": "stdout",
     "output_type": "stream",
     "text": [
      "/\n"
     ]
    },
    {
     "data": {
      "text/plain": []
     },
     "execution_count": 27,
     "metadata": {},
     "output_type": "execute_result"
    }
   ],
   "source": [
    "%%shell\n",
    "cd ~/..\n",
    "pwd"
   ]
  },
  {
   "cell_type": "markdown",
   "id": "VNKgPJ2icMfK",
   "metadata": {
    "id": "VNKgPJ2icMfK"
   },
   "source": [
    "<h3>Ejercicio</h3>"
   ]
  },
  {
   "cell_type": "markdown",
   "id": "sMCVoCiNcSOq",
   "metadata": {
    "id": "sMCVoCiNcSOq"
   },
   "source": [
    "<div style=\"font-size: 17px\">\n",
    "Completa la siguiente cadena de comandos para que al final se muestre que el directorio actual es <code>/home</code>:\n",
    "</div>"
   ]
  },
  {
   "cell_type": "code",
   "execution_count": null,
   "id": "yWHQsIL3cduk",
   "metadata": {
    "id": "yWHQsIL3cduk"
   },
   "outputs": [],
   "source": [
    "%%shell\n",
    "cd /\n",
    "#Borra este comentario e introduce aquí el comando necesario\n",
    "pwd"
   ]
  },
  {
   "cell_type": "markdown",
   "id": "Azhh_T_3fv2u",
   "metadata": {
    "id": "Azhh_T_3fv2u"
   },
   "source": [
    "<div style=\"font-size: 17px\">\n",
    "Para hacer referencia a un directorio o un archivo, hay dos formas principales de hacerlo:\n",
    "\n",
    "  - Ruta absoluta: Esto es, partiendo del directorio raíz (empezando por <code>/</code>) y pasando por todos los directorios hasta llegar al directorio deseado.\n",
    "  \n",
    "  - Ruta relativa: A partir del directorio actual (<code>.</code>) o del directorio de conexión (<code>~</code>) se puede especificar la ruta para llegar hasta el directorio deseado.\n",
    "\n",
    "**Ejemplos**: Para llegar a la carpeta <code>bin</code> ubicada debajo de <code>/usr</code>, hay tres formas de hacerlo:\n",
    "</div>"
   ]
  },
  {
   "cell_type": "code",
   "execution_count": null,
   "id": "wTPZnd3zgtR1",
   "metadata": {
    "colab": {
     "base_uri": "https://localhost:8080/"
    },
    "id": "wTPZnd3zgtR1",
    "outputId": "eabe498b-6032-4a59-c65d-7d2443b96de0"
   },
   "outputs": [
    {
     "name": "stdout",
     "output_type": "stream",
     "text": [
      "/usr/bin\n"
     ]
    },
    {
     "data": {
      "text/plain": []
     },
     "execution_count": 30,
     "metadata": {},
     "output_type": "execute_result"
    }
   ],
   "source": [
    "%%shell\n",
    "#Ruta absoluta\n",
    "cd /usr/bin\n",
    "pwd"
   ]
  },
  {
   "cell_type": "code",
   "execution_count": null,
   "id": "KxuQuK8CgtXQ",
   "metadata": {
    "colab": {
     "base_uri": "https://localhost:8080/"
    },
    "id": "KxuQuK8CgtXQ",
    "outputId": "d1f3e303-7f1a-4a2c-ad8d-07b8d280a5ba"
   },
   "outputs": [
    {
     "name": "stdout",
     "output_type": "stream",
     "text": [
      "/usr/bin\n"
     ]
    },
    {
     "data": {
      "text/plain": []
     },
     "execution_count": 33,
     "metadata": {},
     "output_type": "execute_result"
    }
   ],
   "source": [
    "%%shell\n",
    "#Ruta relativa a partir del directorio actual\n",
    "cd ../usr/bin\n",
    "pwd"
   ]
  },
  {
   "cell_type": "code",
   "execution_count": null,
   "id": "FIiGnHwmg6kX",
   "metadata": {
    "colab": {
     "base_uri": "https://localhost:8080/"
    },
    "id": "FIiGnHwmg6kX",
    "outputId": "4cabcf0f-6f7e-4ad3-e8ed-899644acc292"
   },
   "outputs": [
    {
     "name": "stdout",
     "output_type": "stream",
     "text": [
      "/usr/bin\n"
     ]
    },
    {
     "data": {
      "text/plain": []
     },
     "execution_count": 34,
     "metadata": {},
     "output_type": "execute_result"
    }
   ],
   "source": [
    "%%shell\n",
    "#Ruta relativa a partir del directorio de conexión\n",
    "cd ~/../usr/bin\n",
    "pwd"
   ]
  },
  {
   "cell_type": "markdown",
   "id": "zPBH9yF0fZkA",
   "metadata": {
    "id": "zPBH9yF0fZkA"
   },
   "source": [
    "<h2>Visualización, creado, borrado y modificación de archivos</h2>"
   ]
  },
  {
   "cell_type": "markdown",
   "id": "mcHPKqNOhKO3",
   "metadata": {
    "id": "mcHPKqNOhKO3"
   },
   "source": [
    "<div style=\"font-size: 17px\">\n",
    "Es importante ser capaz de visualizar los contenidos tanto de directorios como de archivos. En el caso de un directorio, el comando más usado es <code>ls</code>. Con este comando, podemos visualizar todos los directorios y los archivos de una ruta concreta, aunque en caso de no pasar ninguna ruta usará el directorio actual. Además, se le pueden introducir modificadores utilizando el símbolo <code>-</code> antes, que modifican el comportamiento de la orden, como por ejemplo <code>-l</code>, que muestra más detalles sobre los archivos y directorios:\n",
    "</div>"
   ]
  },
  {
   "cell_type": "code",
   "execution_count": null,
   "id": "cNv5E3q1heVs",
   "metadata": {
    "colab": {
     "base_uri": "https://localhost:8080/"
    },
    "id": "cNv5E3q1heVs",
    "outputId": "117d0085-22f0-44b0-c9fa-56aa6de5b2bc"
   },
   "outputs": [
    {
     "name": "stdout",
     "output_type": "stream",
     "text": [
      "sample_data\n"
     ]
    },
    {
     "data": {
      "text/plain": []
     },
     "execution_count": 41,
     "metadata": {},
     "output_type": "execute_result"
    }
   ],
   "source": [
    "%%shell\n",
    "ls"
   ]
  },
  {
   "cell_type": "code",
   "execution_count": null,
   "id": "hiNWRmkiicGh",
   "metadata": {
    "colab": {
     "base_uri": "https://localhost:8080/"
    },
    "id": "hiNWRmkiicGh",
    "outputId": "844dc662-0331-407a-93c9-ce900327ffff"
   },
   "outputs": [
    {
     "name": "stdout",
     "output_type": "stream",
     "text": [
      "total 4\n",
      "drwxr-xr-x 1 root root 4096 Aug 22 13:24 sample_data\n"
     ]
    },
    {
     "data": {
      "text/plain": []
     },
     "execution_count": 42,
     "metadata": {},
     "output_type": "execute_result"
    }
   ],
   "source": [
    "%%shell\n",
    "ls -l"
   ]
  },
  {
   "cell_type": "markdown",
   "id": "SAlymuZIim0n",
   "metadata": {
    "id": "SAlymuZIim0n"
   },
   "source": [
    "<div style=\"font-size: 17px\">\n",
    "Para poder visualizar un archivo, existen diversas opciones, aunque las más utilizadas son:\n",
    "\n",
    "  - **<code>cat</code>**: Para utilizar esta instrucción, basta con introducir la ruta del archivo que se quiere visualizar a continuación del comando.\n",
    "  - **<code>head</code>**: Sirve para mostrar solo las primeras líneas de un archivo, por defecto 10. Para modificar este número, hay que añadir el modificador <code>-n</code> seguido del número de líneas a mostrar.\n",
    "  - **<code>tail</code>**: Funciona igual que la orden <code>head</code>, pero muestra las últimas líneas en vez de las primeras.\n",
    "</div>"
   ]
  },
  {
   "cell_type": "code",
   "execution_count": null,
   "id": "p3BXkfXXlOjB",
   "metadata": {
    "colab": {
     "base_uri": "https://localhost:8080/"
    },
    "id": "p3BXkfXXlOjB",
    "outputId": "7c79bb29-614c-4d64-f8ef-9d6750485eb3"
   },
   "outputs": [
    {
     "name": "stdout",
     "output_type": "stream",
     "text": [
      "NVIDIA DEEP LEARNING CONTAINER LICENSE\n",
      "\n",
      "This license is a legal agreement between you and NVIDIA Corporation (\"NVIDIA\")\n",
      "and governs the use of the NVIDIA container and all its contents (“CONTAINER”).\n"
     ]
    },
    {
     "data": {
      "text/plain": []
     },
     "execution_count": 52,
     "metadata": {},
     "output_type": "execute_result"
    }
   ],
   "source": [
    "%%shell\n",
    "head -n 4 /NGC-DL-CONTAINER-LICENSE"
   ]
  },
  {
   "cell_type": "code",
   "execution_count": null,
   "id": "hbVMkNTVlOoJ",
   "metadata": {
    "colab": {
     "base_uri": "https://localhost:8080/"
    },
    "id": "hbVMkNTVlOoJ",
    "outputId": "1e39dae3-0fc4-4886-ac49-eeecc7c63e3e"
   },
   "outputs": [
    {
     "name": "stdout",
     "output_type": "stream",
     "text": [
      "19. LICENSING. If the distribution terms in this license are not suitable for\n",
      "your organization, or for any questions regarding this license, please contact\n",
      "NVIDIA at nvidia-compute-license-questions@nvidia.com.\n",
      "\n",
      "(v. September 14, 2021)\n"
     ]
    },
    {
     "data": {
      "text/plain": []
     },
     "execution_count": 53,
     "metadata": {},
     "output_type": "execute_result"
    }
   ],
   "source": [
    "%%shell\n",
    "tail -n 5 /NGC-DL-CONTAINER-LICENSE"
   ]
  },
  {
   "cell_type": "markdown",
   "id": "VG3OWEJUnEV4",
   "metadata": {
    "id": "VG3OWEJUnEV4"
   },
   "source": [
    "<div style=\"font-size: 17px\">\n",
    "Para crear archivos y directorios, existen las siguientes instrucciones:\n",
    "\n",
    "  - **<code>touch</code>**: Crea un archivo vacío, indicándole el nombre del archivo a crear.\n",
    "  - **<code>mkdir</code>**: Crea un directorio vacío, indicándole el nombre del directorio a crear.\n",
    "</div>"
   ]
  },
  {
   "cell_type": "code",
   "execution_count": null,
   "id": "Eq_8r895nVaG",
   "metadata": {
    "colab": {
     "base_uri": "https://localhost:8080/"
    },
    "id": "Eq_8r895nVaG",
    "outputId": "f1ff4105-72ca-4a59-d2df-81417915de20"
   },
   "outputs": [
    {
     "name": "stdout",
     "output_type": "stream",
     "text": [
      "archivo.txt\n"
     ]
    },
    {
     "data": {
      "text/plain": []
     },
     "execution_count": 60,
     "metadata": {},
     "output_type": "execute_result"
    }
   ],
   "source": [
    "%%shell\n",
    "mkdir directorioPrueba\n",
    "cd directorioPrueba/\n",
    "touch archivo.txt\n",
    "ls"
   ]
  },
  {
   "cell_type": "markdown",
   "id": "HyeOaTS7mocq",
   "metadata": {
    "id": "HyeOaTS7mocq"
   },
   "source": [
    "<div style=\"font-size: 17px\">\n",
    "Para copiar y borrar archivos, existen las siguientes instrucciones:\n",
    "\n",
    "  - **<code>rm</code>**: Sirve para eliminar archivos, indicándole el nombre del archivo a borrar.\n",
    "  - **<code>rmdir</code>**: Borra el directorio indicado, aunque debe de estar vacío.\n",
    "  - **<code>cp</code>**: Copia un archivo o un directorio a otra ubicación, indicando primero el origen, y finalmente el destino. En caso de ser un directorio lo que se desea copiar, se ha de indicar con la opción <code>-r</code>.\n",
    "  - **<code>mv</code>**: Funciona igual que <code>cp</code>, pero en vez de copiar, mueve los archivos (desaparecen de su dirección inicial)\n",
    "</div>"
   ]
  },
  {
   "cell_type": "markdown",
   "id": "c761fbd2",
   "metadata": {},
   "source": [
    "<h3>Ejercicio</h3>"
   ]
  },
  {
   "cell_type": "markdown",
   "id": "906db4b9",
   "metadata": {},
   "source": [
    "<div style=\"font-size: 17px\">\n",
    "Al igual que en el ejemplo anterior, mueve el archivo prueba.txt a la carpeta <code>/home</code>, de tal forma que ya no esté en el directorio actual sin moverte de este directorio:\n",
    "</div>"
   ]
  },
  {
   "cell_type": "code",
   "execution_count": null,
   "id": "Cxr9feQeo4wa",
   "metadata": {
    "colab": {
     "base_uri": "https://localhost:8080/"
    },
    "id": "Cxr9feQeo4wa",
    "outputId": "4eb51f1f-3b6b-428f-a6d3-49fce5908efd"
   },
   "outputs": [
    {
     "name": "stdout",
     "output_type": "stream",
     "text": [
      "archivo.txt  directorioPrueba  sample_data\n",
      "prueba.txt\n"
     ]
    },
    {
     "data": {
      "text/plain": []
     },
     "execution_count": 63,
     "metadata": {},
     "output_type": "execute_result"
    }
   ],
   "source": [
    "%%shell\n",
    "touch prueba.txt\n",
    "#Borra este comentario e introduce aquí el/los comando/s necesario/s\n",
    "ls\n",
    "ls /home\n"
   ]
  }
 ],
 "metadata": {
  "colab": {
   "provenance": []
  },
  "kernelspec": {
   "display_name": "Python 3 (ipykernel)",
   "language": "python",
   "name": "python3"
  },
  "language_info": {
   "codemirror_mode": {
    "name": "ipython",
    "version": 3
   },
   "file_extension": ".py",
   "mimetype": "text/x-python",
   "name": "python",
   "nbconvert_exporter": "python",
   "pygments_lexer": "ipython3",
   "version": "3.11.4"
  }
 },
 "nbformat": 4,
 "nbformat_minor": 5
}
