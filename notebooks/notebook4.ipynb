{
  "cells": [
    {
      "cell_type": "markdown",
      "id": "56371638-880a-4e02-9544-c2f9709c0372",
      "metadata": {
        "id": "56371638-880a-4e02-9544-c2f9709c0372"
      },
      "source": [
        "<!--NAVIGATION-->\n",
        "\n",
        "\n",
        "<a href=\"https://colab.research.google.com/github/msantana0612/TFG/blob/main/notebooks/notebook4.ipynb\" target=\"_blank\" rel=\"noopener noreferrer\"><img align=\"left\" src=\"https://colab.research.google.com/assets/colab-badge.svg\" alt=\"Open in Colab\" title=\"Open and Execute in Google Colaboratory\"></a>"
      ]
    },
    {
      "cell_type": "markdown",
      "id": "WRJyTw3Zhs_B",
      "metadata": {
        "id": "WRJyTw3Zhs_B"
      },
      "source": [
        "<h1>Gestión de Variables y Procesos</h1>"
      ]
    },
    {
      "cell_type": "markdown",
      "id": "ZurIahLNeLG9",
      "metadata": {
        "id": "ZurIahLNeLG9"
      },
      "source": [
        "<h2>Variables shell y variables de entorno</h2>"
      ]
    },
    {
      "cell_type": "markdown",
      "id": "AB682ImFeLPv",
      "metadata": {
        "id": "AB682ImFeLPv"
      },
      "source": [
        "La terminal incorpora dos tipos de variables que cubren funciones diferentes: las variables shell y las variables de entorno. \\\n",
        "Las variables de entorno son pares clave-valor que almacenan información accesible globalmente en el sistema. Esta información puede incluir detalles sobre el entorno de trabajo del usuario, como el nombre del usuario actual (USER) o la ruta del directorio de conexión (HOME) . Las variables de entorno son heredadas por todos los procesos hijos de un proceso padre, lo que permite a las aplicaciones y scripts utilizar esta información para su configuración y operación. \\\n",
        "Las variables shell pueden incluir tanto variables de entorno como variables locales y son específicas de la sesión de shell actual (no se heredan automáticamente a los procesos hijos). Para declarar una variable shell, basta con indicar el nombre de la variable, seguido por el símbolo \"=\" y el valor que se le quiere dar a dicha variable. Una vez declarada esta variable, podemos usar la orden **echo** para ver su contenido. Es importante usar el carácter \"$\" para poder acceder a una variable, ya que si no se tomará como una cadena de texto:"
      ]
    },
    {
      "cell_type": "code",
      "execution_count": 2,
      "id": "shK8eps_kmIp",
      "metadata": {
        "colab": {
          "base_uri": "https://localhost:8080/"
        },
        "id": "shK8eps_kmIp",
        "outputId": "82f554b5-081b-44e1-fb10-358996bf6e79"
      },
      "outputs": [
        {
          "name": "stdout",
          "output_type": "stream",
          "text": [
            "prueba\n",
            "Hola Mundo\n"
          ]
        },
        {
          "data": {
            "text/plain": []
          },
          "execution_count": 2,
          "metadata": {},
          "output_type": "execute_result"
        }
      ],
      "source": [
        "%%shell\n",
        "prueba=\"Hola Mundo\"\n",
        "echo prueba\n",
        "echo $prueba"
      ]
    },
    {
      "cell_type": "markdown",
      "id": "UH3JplGjm4xf",
      "metadata": {
        "id": "UH3JplGjm4xf"
      },
      "source": [
        "Si queremos que una variable shell se importe a procesos hijos, podemos usar la orden **export** para realizar este cambio:"
      ]
    },
    {
      "cell_type": "code",
      "execution_count": 5,
      "id": "FfFyEBDknBwe",
      "metadata": {
        "colab": {
          "base_uri": "https://localhost:8080/"
        },
        "id": "FfFyEBDknBwe",
        "outputId": "bb7286b2-a39f-4c73-aead-1a1b64acb99f"
      },
      "outputs": [
        {
          "name": "stdout",
          "output_type": "stream",
          "text": [
            "SHELL=/bin/bash\n",
            "NV_LIBCUBLAS_VERSION=12.2.5.6-1\n",
            "NVIDIA_VISIBLE_DEVICES=all\n",
            "COLAB_JUPYTER_TRANSPORT=ipc\n",
            "NV_NVML_DEV_VERSION=12.2.140-1\n",
            "NV_CUDNN_PACKAGE_NAME=libcudnn8\n",
            "CGROUP_MEMORY_EVENTS=/sys/fs/cgroup/memory.events /var/colab/cgroup/jupyter-children/memory.events\n",
            "NV_LIBNCCL_DEV_PACKAGE=libnccl-dev=2.19.3-1+cuda12.2\n",
            "NV_LIBNCCL_DEV_PACKAGE_VERSION=2.19.3-1\n",
            "VM_GCE_METADATA_HOST=169.254.169.253\n",
            "HOSTNAME=ff482cc7204a\n",
            "LANGUAGE=en_US\n",
            "TBE_RUNTIME_ADDR=172.28.0.1:8011\n",
            "COLAB_TPU_1VM=\n",
            "GCE_METADATA_TIMEOUT=3\n",
            "NVIDIA_REQUIRE_CUDA=cuda>=12.2 brand=tesla,driver>=470,driver<471 brand=unknown,driver>=470,driver<471 brand=nvidia,driver>=470,driver<471 brand=nvidiartx,driver>=470,driver<471 brand=geforce,driver>=470,driver<471 brand=geforcertx,driver>=470,driver<471 brand=quadro,driver>=470,driver<471 brand=quadrortx,driver>=470,driver<471 brand=titan,driver>=470,driver<471 brand=titanrtx,driver>=470,driver<471 brand=tesla,driver>=525,driver<526 brand=unknown,driver>=525,driver<526 brand=nvidia,driver>=525,driver<526 brand=nvidiartx,driver>=525,driver<526 brand=geforce,driver>=525,driver<526 brand=geforcertx,driver>=525,driver<526 brand=quadro,driver>=525,driver<526 brand=quadrortx,driver>=525,driver<526 brand=titan,driver>=525,driver<526 brand=titanrtx,driver>=525,driver<526\n",
            "NV_LIBCUBLAS_DEV_PACKAGE=libcublas-dev-12-2=12.2.5.6-1\n",
            "NV_NVTX_VERSION=12.2.140-1\n",
            "COLAB_JUPYTER_IP=172.28.0.12\n",
            "NV_CUDA_CUDART_DEV_VERSION=12.2.140-1\n",
            "NV_LIBCUSPARSE_VERSION=12.1.2.141-1\n",
            "COLAB_LANGUAGE_SERVER_PROXY_ROOT_URL=http://172.28.0.1:8013/\n",
            "NV_LIBNPP_VERSION=12.2.1.4-1\n",
            "NCCL_VERSION=2.19.3-1\n",
            "KMP_LISTEN_PORT=6000\n",
            "TF_FORCE_GPU_ALLOW_GROWTH=true\n",
            "ENV=/root/.bashrc\n",
            "PWD=/content\n",
            "COLAB_LANGUAGE_SERVER_PROXY_REQUEST_TIMEOUT=30s\n",
            "TBE_EPHEM_CREDS_ADDR=172.28.0.1:8009\n",
            "TBE_CREDS_ADDR=172.28.0.1:8008\n",
            "NV_CUDNN_PACKAGE=libcudnn8=8.9.6.50-1+cuda12.2\n",
            "NVIDIA_DRIVER_CAPABILITIES=compute,utility\n",
            "COLAB_JUPYTER_TOKEN=\n",
            "LAST_FORCED_REBUILD=20240627\n",
            "NV_NVPROF_DEV_PACKAGE=cuda-nvprof-12-2=12.2.142-1\n",
            "NV_LIBNPP_PACKAGE=libnpp-12-2=12.2.1.4-1\n",
            "NV_LIBNCCL_DEV_PACKAGE_NAME=libnccl-dev\n",
            "TCLLIBPATH=/usr/share/tcltk/tcllib1.20\n",
            "NV_LIBCUBLAS_DEV_VERSION=12.2.5.6-1\n",
            "COLAB_KERNEL_MANAGER_PROXY_HOST=172.28.0.12\n",
            "NVIDIA_PRODUCT_NAME=CUDA\n",
            "NV_LIBCUBLAS_DEV_PACKAGE_NAME=libcublas-dev-12-2\n",
            "USE_AUTH_EPHEM=1\n",
            "NV_CUDA_CUDART_VERSION=12.2.140-1\n",
            "COLAB_WARMUP_DEFAULTS=1\n",
            "HOME=/root\n",
            "prueba=Hola Mundo\n",
            "LANG=en_US.UTF-8\n",
            "COLUMNS=100\n",
            "CUDA_VERSION=12.2.2\n",
            "CLOUDSDK_CONFIG=/content/.config\n",
            "NV_LIBCUBLAS_PACKAGE=libcublas-12-2=12.2.5.6-1\n",
            "NV_CUDA_NSIGHT_COMPUTE_DEV_PACKAGE=cuda-nsight-compute-12-2=12.2.2-1\n",
            "COLAB_RELEASE_TAG=release-colab_20240826-060125_RC00\n",
            "PYDEVD_USE_FRAME_EVAL=NO\n",
            "KMP_TARGET_PORT=9000\n",
            "CLICOLOR=1\n",
            "KMP_EXTRA_ARGS=--logtostderr --listen_host=172.28.0.12 --target_host=172.28.0.12 --tunnel_background_save_url=https://colab.research.google.com/tun/m/cc48301118ce562b961b3c22d803539adc1e0c19/m-s-2vtz53xjjzzqo --tunnel_background_save_delay=10s --tunnel_periodic_background_save_frequency=30m0s --enable_output_coalescing=true --output_coalescing_required=true --log_code_content\n",
            "NV_LIBNPP_DEV_PACKAGE=libnpp-dev-12-2=12.2.1.4-1\n",
            "COLAB_LANGUAGE_SERVER_PROXY_LSP_DIRS=/datalab/web/pyright/typeshed-fallback/stdlib,/usr/local/lib/python3.10/dist-packages\n",
            "NV_LIBCUBLAS_PACKAGE_NAME=libcublas-12-2\n",
            "COLAB_KERNEL_MANAGER_PROXY_PORT=6000\n",
            "CLOUDSDK_PYTHON=python3\n",
            "NV_LIBNPP_DEV_VERSION=12.2.1.4-1\n",
            "ENABLE_DIRECTORYPREFETCHER=1\n",
            "NO_GCE_CHECK=False\n",
            "JPY_PARENT_PID=80\n",
            "PYTHONPATH=/env/python\n",
            "TERM=xterm-color\n",
            "NV_LIBCUSPARSE_DEV_VERSION=12.1.2.141-1\n",
            "GIT_PAGER=cat\n",
            "LIBRARY_PATH=/usr/local/cuda/lib64/stubs\n",
            "NV_CUDNN_VERSION=8.9.6.50\n",
            "SHLVL=0\n",
            "PAGER=cat\n",
            "COLAB_LANGUAGE_SERVER_PROXY=/usr/colab/bin/language_service\n",
            "NV_CUDA_LIB_VERSION=12.2.2-1\n",
            "NVARCH=x86_64\n",
            "NV_CUDNN_PACKAGE_DEV=libcudnn8-dev=8.9.6.50-1+cuda12.2\n",
            "NV_CUDA_COMPAT_PACKAGE=cuda-compat-12-2\n",
            "MPLBACKEND=module://ipykernel.pylab.backend_inline\n",
            "NV_LIBNCCL_PACKAGE=libnccl2=2.19.3-1+cuda12.2\n",
            "LD_LIBRARY_PATH=/usr/local/nvidia/lib:/usr/local/nvidia/lib64\n",
            "COLAB_GPU=\n",
            "GCS_READ_CACHE_BLOCK_SIZE_MB=16\n",
            "NV_CUDA_NSIGHT_COMPUTE_VERSION=12.2.2-1\n",
            "NV_NVPROF_VERSION=12.2.142-1\n",
            "LC_ALL=en_US.UTF-8\n",
            "COLAB_FILE_HANDLER_ADDR=localhost:3453\n",
            "PATH=/opt/bin:/usr/local/nvidia/bin:/usr/local/cuda/bin:/usr/local/sbin:/usr/local/bin:/usr/sbin:/usr/bin:/sbin:/bin:/tools/node/bin:/tools/google-cloud-sdk/bin\n",
            "NV_LIBNCCL_PACKAGE_NAME=libnccl2\n",
            "COLAB_DEBUG_ADAPTER_MUX_PATH=/usr/local/bin/dap_multiplexer\n",
            "NV_LIBNCCL_PACKAGE_VERSION=2.19.3-1\n",
            "PYTHONWARNINGS=ignore:::pip._internal.cli.base_command\n",
            "DEBIAN_FRONTEND=noninteractive\n",
            "COLAB_BACKEND_VERSION=next\n",
            "OLDPWD=/\n",
            "_=/usr/bin/printenv\n"
          ]
        },
        {
          "data": {
            "text/plain": []
          },
          "execution_count": 5,
          "metadata": {},
          "output_type": "execute_result"
        }
      ],
      "source": [
        "%%shell\n",
        "prueba=\"Hola Mundo\"\n",
        "export prueba\n",
        "printenv #Muestra todas las variables de entorno"
      ]
    },
    {
      "cell_type": "markdown",
      "id": "qsAxyUBona_f",
      "metadata": {
        "id": "qsAxyUBona_f"
      },
      "source": []
    },
    {
      "cell_type": "markdown",
      "id": "94TUsZ0BhzaC",
      "metadata": {
        "id": "94TUsZ0BhzaC"
      },
      "source": [
        "<h2>Estado de los procesos</h2>"
      ]
    },
    {
      "cell_type": "markdown",
      "id": "SlQ69kIiow1v",
      "metadata": {
        "id": "SlQ69kIiow1v"
      },
      "source": [
        "Un proceso en un sistema UNIX es una instancia en ejecución de un programa. Cada vez que se ejecuta un programa, el sistema operativo crea un proceso para gestionar su ejecución. \\\n",
        "En un sistema, varios procesos se ejecutan a la vez, por lo que el sistema operativo se encarga de decidir cuánto tiempo dedica a cada proceso y debe gestionar los recursos que asigna a cada uno. Además, para poder identificar a cada proceso, se le asigna un ID para identificarlo, que se conoce como su PID (Process ID).\n",
        "\n",
        "Para gestionar eficientemente los recursos del sistema y la ejecución de los procesos, el sistema operativo asigna a cada proceso un estado diferente. Estos estados reflejan la situación actual del proceso respecto a su ejecución y sus interacciones con el sistema. Los principales estados que un proceso puede tener son:\n",
        "\n",
        "  - **Activo** (Running): El proceso está actualmente utilizando la CPU para realizar su tarea.\n",
        "\n",
        "  - **Dormido** (Sleeping): El proceso está esperando que ocurra un evento o que se libere un recurso. Este estado puede dividirse en:\n",
        "\n",
        "    - **Detenido**: El proceso está esperando un evento que puede ser interrumpido por señales.\n",
        "    - **Espera**: El proceso está esperando una operación de entrada/salida y no puede ser interrumpido.\n",
        "\n",
        "  - **Zombi** (Zombie): El proceso ha terminado su ejecución, pero su entrada en la tabla de procesos aún no ha sido eliminada porque su proceso padre no ha leído su código de salida. Los procesos zombis mantienen su PID hasta que el proceso padre recoja el estado de salida."
      ]
    },
    {
      "cell_type": "markdown",
      "id": "XeeYY9SsUGcy",
      "metadata": {
        "id": "XeeYY9SsUGcy"
      },
      "source": [
        "![Estado de los procesos](https://raw.githubusercontent.com/msantana0612/TFG/gh-pages/images/procesos.jpg)"
      ]
    },
    {
      "cell_type": "markdown",
      "id": "ce8TOVtSrZCz",
      "metadata": {
        "id": "ce8TOVtSrZCz"
      },
      "source": [
        "**Ejemplo**: Para mostrar un proceso en estado zombi:\n",
        "  - Ejecutamos un **sleep** (duerme el proceso durante unos segundos) junto con el carácter \"&\" para que se ejecute en segundo plano\n",
        "  - Obtenemos su PID mediante la variable $! (almacena el PID del último programa que se ejecutó en segundo plano) y lo guardamos en una variable shell\n",
        "  - Mostramos el PID, el estado y la orden del proceso anterior mediante la orden **ps** (muestra información sore los procesos en eejcución) con el modificador \"-p\" junto con la variable SHELL, y el modificador \"-o\" para indicar qué campos mostrar\n",
        "  - Esperamos unos segundos\n",
        "  - Con la orden **kill** (envía una señal a un proceso) finalizamos el proceso inicial\n",
        "  - Volvemos a mostrar los datos del proceso"
      ]
    },
    {
      "cell_type": "code",
      "execution_count": 9,
      "id": "Q3d5beuqoRmx",
      "metadata": {
        "colab": {
          "base_uri": "https://localhost:8080/"
        },
        "id": "Q3d5beuqoRmx",
        "outputId": "4fba5ea2-bfc8-4774-8914-ee11cbeb5c21"
      },
      "outputs": [
        {
          "name": "stdout",
          "output_type": "stream",
          "text": [
            "Process ID (PID): 8316\n",
            "    PID STAT COMMAND\n",
            "   8316 S    sleep 100\n",
            "Process 8316 killed\n",
            "    PID STAT COMMAND\n",
            "   8316 Z    [sleep] <defunct>\n"
          ]
        },
        {
          "data": {
            "text/plain": []
          },
          "execution_count": 9,
          "metadata": {},
          "output_type": "execute_result"
        }
      ],
      "source": [
        "%%shell\n",
        "sleep 100 &\n",
        "PID=$!\n",
        "echo \"Process ID (PID): $PID\"\n",
        "ps -p $PID -o pid,stat,command\n",
        "sleep 5\n",
        "kill $PID\n",
        "echo \"Process $PID killed\"\n",
        "ps -p $PID -o pid,stat,command"
      ]
    },
    {
      "cell_type": "markdown",
      "id": "YWdemG45tWYr",
      "metadata": {
        "id": "YWdemG45tWYr"
      },
      "source": [
        "En el campo STAT, se muestra como mientras se está ejecutando está en el estado S (sleep), pero al matar el proceso queda en el estado Z (zombie)."
      ]
    }
  ],
  "metadata": {
    "colab": {
      "provenance": []
    },
    "kernelspec": {
      "display_name": "Python 3 (ipykernel)",
      "language": "python",
      "name": "python3"
    },
    "language_info": {
      "codemirror_mode": {
        "name": "ipython",
        "version": 3
      },
      "file_extension": ".py",
      "mimetype": "text/x-python",
      "name": "python",
      "nbconvert_exporter": "python",
      "pygments_lexer": "ipython3",
      "version": "3.11.4"
    }
  },
  "nbformat": 4,
  "nbformat_minor": 5
}
