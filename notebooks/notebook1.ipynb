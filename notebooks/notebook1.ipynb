# Puedes crear un archivo .ipynb en tu entorno local o abrir un nuevo Jupyter Notebook y copiar este código.

# Ejecuta un comando shell 'ls' en Jupyter Notebook
!ls
