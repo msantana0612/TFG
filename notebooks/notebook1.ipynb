{
  "cells": [
    {
      "cell_type": "markdown",
      "id": "2288f56a-1d55-40e3-ae6d-62865d2d5242",
      "metadata": {
        "id": "2288f56a-1d55-40e3-ae6d-62865d2d5242",
        "tags": []
      },
      "source": [
        "<h1>Introducción</h1>"
      ]
    },
    {
      "cell_type": "markdown",
      "id": "3TPmaiKJ0fbu",
      "metadata": {
        "id": "3TPmaiKJ0fbu"
      },
      "source": [
        "<h2>¿Qué es un Sistema Operativo?</h2>"
      ]
    },
    {
      "cell_type": "markdown",
      "id": "g_SWuLhg0mgj",
      "metadata": {
        "id": "g_SWuLhg0mgj"
      },
      "source": [
        "Un sistema operativo es el conjunto de programas encargados de manejar los diferentes recursos software y hardware de un computador. Son indispensables porque, sin ellos, los usuarios no podrían interactuar eficientemente con el hardware del dispositivo. A través del sistema operativo, los usuarios pueden ejecutar aplicaciones, gestionar archivos y conectarse a redes, entre otras funciones esenciales.\n",
        "\n",
        "Existen muchos tipos de sistemas operativos,y entre todos ellos destacan los sistemas Unix, ya que son de los más usados y estudiados. El motivo de su popularidad es que se muestra de forma muy clara los conceptos básicos de los sistemas operativos, que en otros SSOO quedan ocultos."
      ]
    },
    {
      "cell_type": "markdown",
      "id": "64b49852-cf45-445b-b334-26674f3ef795",
      "metadata": {
        "id": "64b49852-cf45-445b-b334-26674f3ef795"
      },
      "source": [
        "![Sistema Operativo](https://raw.githubusercontent.com/msantana0612/TFG/gh-pages/images/ssoo.jpeg)"
      ]
    },
    {
      "cell_type": "markdown",
      "id": "8V8eXpcB4hfI",
      "metadata": {
        "id": "8V8eXpcB4hfI"
      },
      "source": [
        "<h2>Diferencias entre sistema operativo y distribución</h2>"
      ]
    },
    {
      "cell_type": "markdown",
      "id": "3bsNCD6v4qRO",
      "metadata": {
        "id": "3bsNCD6v4qRO"
      },
      "source": [
        "Una vez entendido qué es un sistema operativo, es importante diferenciarlo de lo que se conoce como distribución.\n",
        "\n",
        "Mientras que el sistema operativo es el núcleo que gestiona los recursos y la interacción entre el hardware y el software, una distribución se refiere a una versión específica de ese sistema operativo, empaquetada con un conjunto particular de aplicaciones, herramientas y configuraciones. Las distribuciones están diseñadas para cumplir con diferentes propósitos o preferencias de los usuarios.\n",
        "\n",
        "Por ejemplo, en el ecosistema de Linux (Sistema Operativo) existen diversas distribuciones como Ubuntu, Fedora y Debian. Cada una de estas distribuciones ofrece una experiencia de usuario distinta, con diferentes entornos de escritorio, gestores de paquetes y configuraciones predeterminadas, aunque todas comparten el mismo núcleo Linux.\n",
        "\n",
        "Para saber en qué distribucion estamos trabajando, se puede usar el siguiente comando:"
      ]
    },
    {
      "cell_type": "code",
      "execution_count": 3,
      "id": "9a9dc33a-14ab-46b4-ade3-6a1afb1d65d1",
      "metadata": {
        "colab": {
          "base_uri": "https://localhost:8080/"
        },
        "id": "9a9dc33a-14ab-46b4-ade3-6a1afb1d65d1",
        "outputId": "c61a961e-49a6-4fc7-f64d-faf98472e010"
      },
      "outputs": [
        {
          "name": "stdout",
          "output_type": "stream",
          "text": [
            "Description:\tUbuntu 22.04.3 LTS\n"
          ]
        },
        {
          "data": {
            "text/plain": []
          },
          "execution_count": 3,
          "metadata": {},
          "output_type": "execute_result"
        }
      ],
      "source": [
        "%%shell\n",
        "lsb_release -d"
      ]
    },
    {
      "cell_type": "markdown",
      "id": "RlX6ayAu6qTU",
      "metadata": {
        "id": "RlX6ayAu6qTU"
      },
      "source": [
        "<h2>La terminal</h2>"
      ]
    },
    {
      "cell_type": "markdown",
      "id": "431FEE4A61Wa",
      "metadata": {
        "id": "431FEE4A61Wa"
      },
      "source": [
        "Para poder introducir el comando usado para ver la distribución, los SSOO tienen una interfaz de línea de comandos (CLI) que permite a los usuarios interactuar directamente con el sistema operativo mediante texto. Esto a veces es necesario para tener una comunicación más directa con el sistema operativo.\n",
        "\n",
        "Un intérprete de órdenes es un programa normal y corriente. De hecho, existen varios intérpretes disponibles: tch, sh, o csh, por ejemplo. Con diferencia, el intérprete más\n",
        "extendido es bash (Bourne Again SHell). Por\n",
        "ejemplo, para ver la version de bash que se está ejecutando se puede introducir la siguiente orden:\n",
        "\n"
      ]
    },
    {
      "cell_type": "code",
      "execution_count": 4,
      "id": "4bgOKNde7s21",
      "metadata": {
        "colab": {
          "base_uri": "https://localhost:8080/"
        },
        "id": "4bgOKNde7s21",
        "outputId": "fd255f44-d868-41e1-ab83-4c353dd20564"
      },
      "outputs": [
        {
          "name": "stdout",
          "output_type": "stream",
          "text": [
            "GNU bash, version 5.1.16(1)-release (x86_64-pc-linux-gnu)\n",
            "Copyright (C) 2020 Free Software Foundation, Inc.\n",
            "License GPLv3+: GNU GPL version 3 or later <http://gnu.org/licenses/gpl.html>\n",
            "\n",
            "This is free software; you are free to change and redistribute it.\n",
            "There is NO WARRANTY, to the extent permitted by law.\n"
          ]
        },
        {
          "data": {
            "text/plain": []
          },
          "execution_count": 4,
          "metadata": {},
          "output_type": "execute_result"
        }
      ],
      "source": [
        "%%shell\n",
        "bash --version"
      ]
    }
  ],
  "metadata": {
    "colab": {
      "provenance": []
    },
    "kernelspec": {
      "display_name": "Python 3 (ipykernel)",
      "language": "python",
      "name": "python3"
    },
    "language_info": {
      "codemirror_mode": {
        "name": "ipython",
        "version": 3
      },
      "file_extension": ".py",
      "mimetype": "text/x-python",
      "name": "python",
      "nbconvert_exporter": "python",
      "pygments_lexer": "ipython3",
      "version": "3.11.4"
    }
  },
  "nbformat": 4,
  "nbformat_minor": 5
}
