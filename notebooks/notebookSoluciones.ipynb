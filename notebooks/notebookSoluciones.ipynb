{
  "cells": [
    {
      "cell_type": "markdown",
      "id": "56371638-880a-4e02-9544-c2f9709c0372",
      "metadata": {
        "id": "56371638-880a-4e02-9544-c2f9709c0372"
      },
      "source": [
        "<!--NAVIGATION-->\n",
        "\n",
        "\n",
        "<a href=\"https://colab.research.google.com/github/msantana0612/TFG/blob/main/notebooks/notebookSoluciones.ipynb\" target=\"_blank\" rel=\"noopener noreferrer\"><img align=\"left\" src=\"https://colab.research.google.com/assets/colab-badge.svg\" alt=\"Open in Colab\" title=\"Open and Execute in Google Colaboratory\"></a>"
      ]
    },
    {
      "cell_type": "markdown",
      "id": "WRJyTw3Zhs_B",
      "metadata": {
        "id": "WRJyTw3Zhs_B"
      },
      "source": [
        "<h1>Autoevaluación (Soluciones)</h1>"
      ]
    },
    {
      "cell_type": "markdown",
      "id": "xLS_fc9stCwK",
      "metadata": {
        "id": "xLS_fc9stCwK"
      },
      "source": [
        "<h2>Ejercicio 1</h2>"
      ]
    },
    {
      "cell_type": "markdown",
      "id": "g43LWHpwvU_y",
      "metadata": {
        "id": "g43LWHpwvU_y"
      },
      "source": [
        "![Arbol de directorios](https://raw.githubusercontent.com/msantana0612/TFG/gh-pages/images/ejercicio1.jpg)"
      ]
    },
    {
      "cell_type": "markdown",
      "id": "_HgBRmh137ST",
      "metadata": {
        "id": "_HgBRmh137ST"
      },
      "source": [
        "<div style=\"font-size: 17px\">\n",
        "Para todo el ejercicio, será necesario situarse en el directorio de conexión a menos que se indique lo contrario.\n",
        "</div>"
      ]
    },
    {
      "cell_type": "markdown",
      "id": "ZM7m2Cxiv0m9",
      "metadata": {
        "id": "ZM7m2Cxiv0m9"
      },
      "source": [
        "<h3>1.1</h3>"
      ]
    },
    {
      "cell_type": "markdown",
      "id": "Chm2VUoWvgZc",
      "metadata": {
        "id": "Chm2VUoWvgZc"
      },
      "source": [
        "<div style=\"font-size: 17px\">\n",
        "Crear la estructura de archivos de la imagen anterior sin moverse de directorio y muestra el árbol resultante:\n",
        "</div>"
      ]
    },
    {
      "cell_type": "code",
      "execution_count": null,
      "id": "E7rB8QebtC3e",
      "metadata": {
        "colab": {
          "base_uri": "https://localhost:8080/"
        },
        "id": "E7rB8QebtC3e",
        "outputId": "a45a86a9-4ad9-41d4-bc72-799d02e9ec59"
      },
      "outputs": [
        {
          "name": "stdout",
          "output_type": "stream",
          "text": [
            "Reading package lists... Done\n",
            "Building dependency tree... Done\n",
            "Reading state information... Done\n",
            "tree is already the newest version (2.0.2-1).\n",
            "0 upgraded, 0 newly installed, 0 to remove and 49 not upgraded.\n",
            "\u001b[01;34m.\u001b[0m\n",
            "├── \u001b[01;34mcopias\u001b[0m\n",
            "├── \u001b[01;34mTEMPORAL\u001b[0m\n",
            "│   └── \u001b[01;34mInformes\u001b[0m\n",
            "└── \u001b[01;34mTrabajos\u001b[0m\n",
            "    ├── \u001b[01;34mmodelos\u001b[0m\n",
            "    │   ├── \u001b[01;34minformes\u001b[0m\n",
            "    │   └── \u001b[01;34minstancias\u001b[0m\n",
            "    └── \u001b[01;34mtextos\u001b[0m\n",
            "\n",
            "8 directories, 0 files\n"
          ]
        },
        {
          "data": {
            "text/plain": []
          },
          "execution_count": 12,
          "metadata": {},
          "output_type": "execute_result"
        }
      ],
      "source": [
        "%%shell\n",
        "cd ~\n",
        "mkdir Trabajos\n",
        "mkdir copias\n",
        "mkdir TEMPORAL\n",
        "mkdir Trabajos/textos\n",
        "mkdir Trabajos/modelos\n",
        "mkdir Trabajos/modelos/instancias\n",
        "mkdir Trabajos/modelos/informes\n",
        "mkdir TEMPORAL/Informes\n",
        "apt-get install tree\n",
        "tree"
      ]
    },
    {
      "cell_type": "markdown",
      "id": "NJJGZKBawCnh",
      "metadata": {
        "id": "NJJGZKBawCnh"
      },
      "source": [
        "<h3>1.2</h3>"
      ]
    },
    {
      "cell_type": "markdown",
      "id": "9fKyqv-FwBLS",
      "metadata": {
        "id": "9fKyqv-FwBLS"
      },
      "source": [
        "<div style=\"font-size: 17px\">\n",
        "Situarse en el directorio <code>~/Trabajos/modelos/informes</code> y crear un archivo \"informe.txt\" con el contenido \"Este es el primer informe\":\n",
        "</div>"
      ]
    },
    {
      "cell_type": "code",
      "execution_count": null,
      "id": "x1bMqs_fwBRW",
      "metadata": {
        "colab": {
          "base_uri": "https://localhost:8080/"
        },
        "id": "x1bMqs_fwBRW",
        "outputId": "a5c51e43-628b-4b2d-cf40-3bdfd3e33b8d"
      },
      "outputs": [
        {
          "name": "stdout",
          "output_type": "stream",
          "text": [
            "Este es el primer informe\n"
          ]
        },
        {
          "data": {
            "text/plain": []
          },
          "execution_count": 13,
          "metadata": {},
          "output_type": "execute_result"
        }
      ],
      "source": [
        "%%shell\n",
        "cd ~/Trabajos/modelos/informes\n",
        "echo \"Este es el primer informe\" > informe.txt\n",
        "cat informe.txt"
      ]
    },
    {
      "cell_type": "markdown",
      "id": "M6Xolq9ewiJh",
      "metadata": {
        "id": "M6Xolq9ewiJh"
      },
      "source": [
        "<h3>1.3</h3>"
      ]
    },
    {
      "cell_type": "markdown",
      "id": "RCj026wmwiM3",
      "metadata": {
        "id": "RCj026wmwiM3"
      },
      "source": [
        "<div style=\"font-size: 17px\">\n",
        "Situarse en el directorio <code>~/Trabajos/modelos/informes</code> y cambiar los permisos de ese archivo para que sean todos los usuarios puedan leer el archivo, pero solo el propietario pueda modificarlo:\n",
        "</div>"
      ]
    },
    {
      "cell_type": "code",
      "execution_count": null,
      "id": "yLaoklK3wiUb",
      "metadata": {
        "colab": {
          "base_uri": "https://localhost:8080/"
        },
        "id": "yLaoklK3wiUb",
        "outputId": "96dd9322-a5cf-4774-cf41-0bccff4a19d6"
      },
      "outputs": [
        {
          "name": "stdout",
          "output_type": "stream",
          "text": [
            "total 4\n",
            "-rw-r--r-- 1 root root 26 Sep  1 09:30 informe.txt\n"
          ]
        },
        {
          "data": {
            "text/plain": []
          },
          "execution_count": 14,
          "metadata": {},
          "output_type": "execute_result"
        }
      ],
      "source": [
        "%%shell\n",
        "cd ~\n",
        "chmod 644 Trabajos/modelos/informes/informe.txt\n",
        "ls -l Trabajos/modelos/informes"
      ]
    },
    {
      "cell_type": "markdown",
      "id": "5vdZS_oRxPd3",
      "metadata": {
        "id": "5vdZS_oRxPd3"
      },
      "source": [
        "<h3>1.4</h3>"
      ]
    },
    {
      "cell_type": "markdown",
      "id": "8Ud7cr8vxPkB",
      "metadata": {
        "id": "8Ud7cr8vxPkB"
      },
      "source": [
        "<div style=\"font-size: 17px\">\n",
        "Situarse en el directorio <code>~/Trabajos/modelos/informes</code> y crear un enlace del archivo creado anteriormente en la carpeta <code>~/TEMPORAL/Informes</code> utilizando rutas relativas. El enlace debe permitir que, si se borra el archivo original, se pueda seguir accediendo al archivo:\n",
        "</div>"
      ]
    },
    {
      "cell_type": "code",
      "execution_count": null,
      "id": "4_eZkHYKxPp4",
      "metadata": {
        "colab": {
          "base_uri": "https://localhost:8080/"
        },
        "id": "4_eZkHYKxPp4",
        "outputId": "cc4e94d4-e1bd-484f-e20a-d0f9a04b9c87"
      },
      "outputs": [
        {
          "name": "stdout",
          "output_type": "stream",
          "text": [
            "Este es el primer informe\n"
          ]
        },
        {
          "data": {
            "text/plain": []
          },
          "execution_count": 15,
          "metadata": {},
          "output_type": "execute_result"
        }
      ],
      "source": [
        "%%shell\n",
        "cd ~/Trabajos/modelos/informes\n",
        "ln informe.txt ../../../TEMPORAL/Informes\n",
        "cat ../../../TEMPORAL/Informes/informe.txt"
      ]
    },
    {
      "cell_type": "markdown",
      "id": "dD4N4tnqxkjo",
      "metadata": {
        "id": "dD4N4tnqxkjo"
      },
      "source": [
        "<h3>1.5</h3>"
      ]
    },
    {
      "cell_type": "markdown",
      "id": "kv32DTLuxkpq",
      "metadata": {
        "id": "kv32DTLuxkpq"
      },
      "source": [
        "<div style=\"font-size: 17px\">\n",
        "Borrar toda la estructura de archivos creada en el apartado 1.1\n",
        "</div>"
      ]
    },
    {
      "cell_type": "code",
      "execution_count": null,
      "id": "1c7HSv0kxkw3",
      "metadata": {
        "colab": {
          "base_uri": "https://localhost:8080/"
        },
        "id": "1c7HSv0kxkw3",
        "outputId": "f2ed2d0a-a440-46cb-b8e2-579d1ddf6c02"
      },
      "outputs": [
        {
          "data": {
            "text/plain": []
          },
          "execution_count": 16,
          "metadata": {},
          "output_type": "execute_result"
        }
      ],
      "source": [
        "%%shell\n",
        "cd ~\n",
        "rm Trabajos/modelos/informes/informe.txt\n",
        "rmdir Trabajos/modelos/informes\n",
        "rmdir Trabajos/modelos/instancias\n",
        "rmdir Trabajos/modelos\n",
        "rmdir Trabajos/textos\n",
        "rmdir Trabajos\n",
        "rmdir copias\n",
        "rm TEMPORAL/Informes/informe.txt\n",
        "rmdir TEMPORAL/Informes\n",
        "rmdir TEMPORAL\n"
      ]
    },
    {
      "cell_type": "markdown",
      "id": "zwoXzCEkx4Ic",
      "metadata": {
        "id": "zwoXzCEkx4Ic"
      },
      "source": [
        "<h2>Ejercicio 2</h2>"
      ]
    },
    {
      "cell_type": "markdown",
      "id": "3afe49ef",
      "metadata": {
        "id": "3afe49ef"
      },
      "source": [
        "<h3>2.1</h3>"
      ]
    },
    {
      "cell_type": "markdown",
      "id": "2eb3c048",
      "metadata": {
        "id": "2eb3c048"
      },
      "source": [
        "<div style=\"font-size: 17px\">\n",
        "\n",
        "El siguiente *shell script* denominado \"scriptprueba.sh\" muestra por pantalla el valor de la variable <code>VARIABLE</code>, que almacena la ruta absoluta de la *shell*; sin embargo, no está definida dentro del *script*. Añade el valor de la variable para que pueda acceder el *script*, crea el *script* y ejecútalo:\n",
        "```\n",
        "1. #!/bin/bash\n",
        "2. sleep 6\n",
        "3. echo \"La shell está en $VARIABLE\"\n",
        "```\n",
        "\n",
        "</div>"
      ]
    },
    {
      "cell_type": "code",
      "execution_count": 7,
      "id": "3cdbb16b",
      "metadata": {
        "colab": {
          "base_uri": "https://localhost:8080/"
        },
        "id": "3cdbb16b",
        "outputId": "719aa82f-fe6b-4f92-c319-e8259df4cbcd"
      },
      "outputs": [
        {
          "name": "stdout",
          "output_type": "stream",
          "text": [
            "Imprime /bin/bash\n"
          ]
        },
        {
          "data": {
            "text/plain": []
          },
          "execution_count": 7,
          "metadata": {},
          "output_type": "execute_result"
        }
      ],
      "source": [
        "%%shell\n",
        "VARIABLE=$SHELL\n",
        "export VARIABLE\n",
        "echo '#!/bin/bash' > scriptprueba.sh\n",
        "echo 'sleep 6' >> scriptprueba.sh\n",
        "echo 'echo \"Imprime $VARIABLE\"' >> scriptprueba.sh\n",
        "\n",
        "bash scriptprueba.sh"
      ]
    },
    {
      "cell_type": "markdown",
      "id": "95c2ebe8",
      "metadata": {
        "id": "95c2ebe8"
      },
      "source": [
        "<h3>2.2</h3>"
      ]
    },
    {
      "cell_type": "markdown",
      "id": "dfd67bdb",
      "metadata": {
        "id": "dfd67bdb"
      },
      "source": [
        "<div style=\"font-size: 17px\">\n",
        "\n",
        "Ejecuta el script anterior en segundo plano y monitoriza su estado durante el tiempo que se está ejecutando:\n",
        "</div>"
      ]
    },
    {
      "cell_type": "code",
      "execution_count": 8,
      "id": "c336fe5e",
      "metadata": {
        "colab": {
          "base_uri": "https://localhost:8080/"
        },
        "id": "c336fe5e",
        "outputId": "66e7d07f-66fd-478f-c9bf-ac286317c518"
      },
      "outputs": [
        {
          "name": "stdout",
          "output_type": "stream",
          "text": [
            "\u001b[?1h\u001b=\u001b[H\u001b[2J\u001b[mtop - 06:54:10 up 2 min,  0 users,  load average: 0.80, 0.70, 0.30\u001b[m\u001b[m\u001b[m\u001b[m\u001b[K\n",
            "Tasks:\u001b[m\u001b[m\u001b[1m   1 \u001b[m\u001b[mtotal,\u001b[m\u001b[m\u001b[1m   0 \u001b[m\u001b[mrunning,\u001b[m\u001b[m\u001b[1m   1 \u001b[m\u001b[msleeping,\u001b[m\u001b[m\u001b[1m   0 \u001b[m\u001b[mstopped,\u001b[m\u001b[m\u001b[1m   0 \u001b[m\u001b[mzombie\u001b[m\u001b[m\u001b[m\u001b[m\u001b[K\n",
            "%Cpu(s):\u001b[m\u001b[m\u001b[1m  0.0 \u001b[m\u001b[mus,\u001b[m\u001b[m\u001b[1m  0.0 \u001b[m\u001b[msy,\u001b[m\u001b[m\u001b[1m  0.0 \u001b[m\u001b[mni,\u001b[m\u001b[m\u001b[1m100.0 \u001b[m\u001b[mid,\u001b[m\u001b[m\u001b[1m  0.0 \u001b[m\u001b[mwa,\u001b[m\u001b[m\u001b[1m  0.0 \u001b[m\u001b[mhi,\u001b[m\u001b[m\u001b[1m  0.0 \u001b[m\u001b[msi,\u001b[m\u001b[m\u001b[1m  0.0 \u001b[m\u001b[mst\u001b[m\u001b[m\u001b[m\u001b[m\u001b[K\n",
            "MiB Mem :\u001b[m\u001b[m\u001b[1m  12979.0 \u001b[m\u001b[mtotal,\u001b[m\u001b[m\u001b[1m   8867.5 \u001b[m\u001b[mfree,\u001b[m\u001b[m\u001b[1m    858.5 \u001b[m\u001b[mused,\u001b[m\u001b[m\u001b[1m   3253.0 \u001b[m\u001b[mbuff/cache\u001b[m\u001b[m\u001b[m\u001b[m\u001b[K\n",
            "MiB Swap:\u001b[m\u001b[m\u001b[1m      0.0 \u001b[m\u001b[mtotal,\u001b[m\u001b[m\u001b[1m      0.0 \u001b[m\u001b[mfree,\u001b[m\u001b[m\u001b[1m      0.0 \u001b[m\u001b[mused.\u001b[m\u001b[m\u001b[1m  11804.4 \u001b[m\u001b[mavail Mem \u001b[m\u001b[m\u001b[m\u001b[m\u001b[K\n",
            "\u001b[K\n",
            "\u001b[7m    PID USER      PR  NI    VIRT    RES    SHR S  %CPU  %MEM     TIME+ COMMAND                      \u001b[m\u001b[m\u001b[K\n",
            "\u001b[m    756 root      20   0    7376   3524   3248 S   0.0   0.0   0:00.00 bash                         \u001b[m\u001b[m\u001b[K\n",
            "\u001b[J\u001b[H\u001b[mtop - 06:54:13 up 2 min,  0 users,  load average: 0.73, 0.69, 0.30\u001b[m\u001b[m\u001b[m\u001b[m\u001b[K\n",
            "\n",
            "%Cpu(s):\u001b[m\u001b[m\u001b[1m  2.2 \u001b[m\u001b[mus,\u001b[m\u001b[m\u001b[1m  1.8 \u001b[m\u001b[msy,\u001b[m\u001b[m\u001b[1m  0.0 \u001b[m\u001b[mni,\u001b[m\u001b[m\u001b[1m 95.3 \u001b[m\u001b[mid,\u001b[m\u001b[m\u001b[1m  0.3 \u001b[m\u001b[mwa,\u001b[m\u001b[m\u001b[1m  0.0 \u001b[m\u001b[mhi,\u001b[m\u001b[m\u001b[1m  0.3 \u001b[m\u001b[msi,\u001b[m\u001b[m\u001b[1m  0.0 \u001b[m\u001b[mst\u001b[m\u001b[m\u001b[m\u001b[m\u001b[K\n",
            "MiB Mem :\u001b[m\u001b[m\u001b[1m  12979.0 \u001b[m\u001b[mtotal,\u001b[m\u001b[m\u001b[1m   8867.5 \u001b[m\u001b[mfree,\u001b[m\u001b[m\u001b[1m    858.3 \u001b[m\u001b[mused,\u001b[m\u001b[m\u001b[1m   3253.2 \u001b[m\u001b[mbuff/cache\u001b[m\u001b[m\u001b[m\u001b[m\u001b[K\n",
            "MiB Swap:\u001b[m\u001b[m\u001b[1m      0.0 \u001b[m\u001b[mtotal,\u001b[m\u001b[m\u001b[1m      0.0 \u001b[m\u001b[mfree,\u001b[m\u001b[m\u001b[1m      0.0 \u001b[m\u001b[mused.\u001b[m\u001b[m\u001b[1m  11804.5 \u001b[m\u001b[mavail Mem \u001b[m\u001b[m\u001b[m\u001b[m\u001b[K\n",
            "\u001b[K\n",
            "\n",
            "\n",
            "\u001b[J\u001b[?1l\u001b>\u001b[25;1H\n",
            "\u001b[KImprime \n"
          ]
        },
        {
          "data": {
            "text/plain": []
          },
          "execution_count": 8,
          "metadata": {},
          "output_type": "execute_result"
        }
      ],
      "source": [
        "%%shell\n",
        "bash scriptprueba.sh &\n",
        "PID=$!\n",
        "top -n 2 -p $PID"
      ]
    },
    {
      "cell_type": "markdown",
      "id": "572b0711",
      "metadata": {
        "id": "572b0711"
      },
      "source": [
        "<h2>Ejercicio 3</h2>"
      ]
    },
    {
      "cell_type": "markdown",
      "id": "4rQzzFWWx6jW",
      "metadata": {
        "id": "4rQzzFWWx6jW"
      },
      "source": [
        "<h3>3.1</h3>"
      ]
    },
    {
      "cell_type": "markdown",
      "id": "IbO33bR2zm4o",
      "metadata": {
        "id": "IbO33bR2zm4o"
      },
      "source": [
        "<div style=\"font-size: 17px\">\n",
        "Utilizando redirecciones, obtener el número de usuarios en \"/etc/passwd\" que tienen como intérprete de órdenes \"/bin/bash\" en la columna 7 del archivo (cada columna está separada por un \":\").\n",
        "</div>"
      ]
    },
    {
      "cell_type": "code",
      "execution_count": null,
      "id": "z2esOT5lzC5s",
      "metadata": {
        "colab": {
          "base_uri": "https://localhost:8080/"
        },
        "id": "z2esOT5lzC5s",
        "outputId": "d8b31923-86c7-4c85-b206-7e5fa113d3da"
      },
      "outputs": [
        {
          "name": "stdout",
          "output_type": "stream",
          "text": [
            "1\n"
          ]
        },
        {
          "data": {
            "text/plain": []
          },
          "execution_count": 17,
          "metadata": {},
          "output_type": "execute_result"
        }
      ],
      "source": [
        "%%shell\n",
        "cut -d ':' -f 7 /etc/passwd > tmp1\n",
        "grep '/bin/bash' < tmp1 > tmp2\n",
        "wc -l < tmp2\n",
        "rm tmp1\n",
        "rm tmp2"
      ]
    },
    {
      "cell_type": "markdown",
      "id": "TuTeWD_P04PY",
      "metadata": {
        "id": "TuTeWD_P04PY"
      },
      "source": [
        "<h3>3.2</h3>"
      ]
    },
    {
      "cell_type": "markdown",
      "id": "mCtATbbn04VO",
      "metadata": {
        "id": "mCtATbbn04VO"
      },
      "source": [
        "<div style=\"font-size: 17px\">\n",
        "Utilizando tuberías, obtener el número de usuarios en \"/etc/passwd\" que tienen como intérprete de órdenes \"/bin/bash\" en la columna 7 del archivo (cada columna está separada por un \":\").\n",
        "</div>"
      ]
    },
    {
      "cell_type": "code",
      "execution_count": null,
      "id": "QoUA5MwL04a6",
      "metadata": {
        "colab": {
          "base_uri": "https://localhost:8080/"
        },
        "id": "QoUA5MwL04a6",
        "outputId": "76f21dc1-a6ae-4acc-ae3d-d6b5ccad4d37"
      },
      "outputs": [
        {
          "name": "stdout",
          "output_type": "stream",
          "text": [
            "1\n"
          ]
        },
        {
          "data": {
            "text/plain": []
          },
          "execution_count": 18,
          "metadata": {},
          "output_type": "execute_result"
        }
      ],
      "source": [
        "%%shell\n",
        "cut -d ':' -f 7 /etc/passwd | grep '/bin/bash'  | wc -l"
      ]
    }
  ],
  "metadata": {
    "colab": {
      "provenance": []
    },
    "kernelspec": {
      "display_name": "Python 3 (ipykernel)",
      "language": "python",
      "name": "python3"
    },
    "language_info": {
      "codemirror_mode": {
        "name": "ipython",
        "version": 3
      },
      "file_extension": ".py",
      "mimetype": "text/x-python",
      "name": "python",
      "nbconvert_exporter": "python",
      "pygments_lexer": "ipython3",
      "version": "3.11.4"
    }
  },
  "nbformat": 4,
  "nbformat_minor": 5
}
