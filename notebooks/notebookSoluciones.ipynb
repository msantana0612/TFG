{
  "cells": [
    {
      "cell_type": "markdown",
      "id": "56371638-880a-4e02-9544-c2f9709c0372",
      "metadata": {
        "id": "56371638-880a-4e02-9544-c2f9709c0372"
      },
      "source": [
        "<!--NAVIGATION-->\n",
        "\n",
        "\n",
        "<a href=\"https://colab.research.google.com/github/msantana0612/TFG/blob/main/notebooks/notebookSoluciones.ipynb\" target=\"_blank\" rel=\"noopener noreferrer\"><img align=\"left\" src=\"https://colab.research.google.com/assets/colab-badge.svg\" alt=\"Open in Colab\" title=\"Open and Execute in Google Colaboratory\"></a>"
      ]
    },
    {
      "cell_type": "markdown",
      "id": "WRJyTw3Zhs_B",
      "metadata": {
        "id": "WRJyTw3Zhs_B"
      },
      "source": [
        "<h1>Autoevaluación (Soluciones)</h1>"
      ]
    },
    {
      "cell_type": "markdown",
      "id": "xLS_fc9stCwK",
      "metadata": {
        "id": "xLS_fc9stCwK"
      },
      "source": [
        "<h2>Ejercicio 1</h2>"
      ]
    },
    {
      "cell_type": "markdown",
      "id": "g43LWHpwvU_y",
      "metadata": {
        "id": "g43LWHpwvU_y"
      },
      "source": [
        "![Arbol de directorios](https://raw.githubusercontent.com/msantana0612/TFG/gh-pages/images/ejercicio1.jpg)"
      ]
    },
    {
      "cell_type": "markdown",
      "id": "_HgBRmh137ST",
      "metadata": {
        "id": "_HgBRmh137ST"
      },
      "source": [
        "Para todo el ejercicio, será necesario situarse en el directorio de conexión a menos que se indique lo contrario."
      ]
    },
    {
      "cell_type": "markdown",
      "id": "ZM7m2Cxiv0m9",
      "metadata": {
        "id": "ZM7m2Cxiv0m9"
      },
      "source": [
        "<h3>1.1</h3>"
      ]
    },
    {
      "cell_type": "markdown",
      "id": "Chm2VUoWvgZc",
      "metadata": {
        "id": "Chm2VUoWvgZc"
      },
      "source": [
        "Crear la estructura de archivos de la imagen anterior sin moverse de directorio y muestra el árbol resultante:"
      ]
    },
    {
      "cell_type": "code",
      "execution_count": 12,
      "id": "E7rB8QebtC3e",
      "metadata": {
        "colab": {
          "base_uri": "https://localhost:8080/"
        },
        "id": "E7rB8QebtC3e",
        "outputId": "a45a86a9-4ad9-41d4-bc72-799d02e9ec59"
      },
      "outputs": [
        {
          "name": "stdout",
          "output_type": "stream",
          "text": [
            "Reading package lists... Done\n",
            "Building dependency tree... Done\n",
            "Reading state information... Done\n",
            "tree is already the newest version (2.0.2-1).\n",
            "0 upgraded, 0 newly installed, 0 to remove and 49 not upgraded.\n",
            "\u001b[01;34m.\u001b[0m\n",
            "├── \u001b[01;34mcopias\u001b[0m\n",
            "├── \u001b[01;34mTEMPORAL\u001b[0m\n",
            "│   └── \u001b[01;34mInformes\u001b[0m\n",
            "└── \u001b[01;34mTrabajos\u001b[0m\n",
            "    ├── \u001b[01;34mmodelos\u001b[0m\n",
            "    │   ├── \u001b[01;34minformes\u001b[0m\n",
            "    │   └── \u001b[01;34minstancias\u001b[0m\n",
            "    └── \u001b[01;34mtextos\u001b[0m\n",
            "\n",
            "8 directories, 0 files\n"
          ]
        },
        {
          "data": {
            "text/plain": []
          },
          "execution_count": 12,
          "metadata": {},
          "output_type": "execute_result"
        }
      ],
      "source": [
        "%%shell\n",
        "cd ~\n",
        "mkdir Trabajos\n",
        "mkdir copias\n",
        "mkdir TEMPORAL\n",
        "mkdir Trabajos/textos\n",
        "mkdir Trabajos/modelos\n",
        "mkdir Trabajos/modelos/instancias\n",
        "mkdir Trabajos/modelos/informes\n",
        "mkdir TEMPORAL/Informes\n",
        "apt-get install tree\n",
        "tree"
      ]
    },
    {
      "cell_type": "markdown",
      "id": "NJJGZKBawCnh",
      "metadata": {
        "id": "NJJGZKBawCnh"
      },
      "source": [
        "<h3>1.2</h3>"
      ]
    },
    {
      "cell_type": "markdown",
      "id": "9fKyqv-FwBLS",
      "metadata": {
        "id": "9fKyqv-FwBLS"
      },
      "source": [
        "Situarse en el directorio ~/Trabajos/modelos/informes y crear un archivo \"informe.txt\" con el contenido \"Este es el primer informe\":"
      ]
    },
    {
      "cell_type": "code",
      "execution_count": 13,
      "id": "x1bMqs_fwBRW",
      "metadata": {
        "colab": {
          "base_uri": "https://localhost:8080/"
        },
        "id": "x1bMqs_fwBRW",
        "outputId": "a5c51e43-628b-4b2d-cf40-3bdfd3e33b8d"
      },
      "outputs": [
        {
          "name": "stdout",
          "output_type": "stream",
          "text": [
            "Este es el primer informe\n"
          ]
        },
        {
          "data": {
            "text/plain": []
          },
          "execution_count": 13,
          "metadata": {},
          "output_type": "execute_result"
        }
      ],
      "source": [
        "%%shell\n",
        "cd ~/Trabajos/modelos/informes\n",
        "echo \"Este es el primer informe\" > informe.txt\n",
        "cat informe.txt"
      ]
    },
    {
      "cell_type": "markdown",
      "id": "M6Xolq9ewiJh",
      "metadata": {
        "id": "M6Xolq9ewiJh"
      },
      "source": [
        "<h3>1.3</h3>"
      ]
    },
    {
      "cell_type": "markdown",
      "id": "RCj026wmwiM3",
      "metadata": {
        "id": "RCj026wmwiM3"
      },
      "source": [
        "Situarse en el directorio ~/Trabajos/modelos/informes y cambiar los permisos de ese archivo para que sean todos los usuarios puedan leer el archivo, pero solo el propietario pueda modificarlo:"
      ]
    },
    {
      "cell_type": "code",
      "execution_count": 14,
      "id": "yLaoklK3wiUb",
      "metadata": {
        "colab": {
          "base_uri": "https://localhost:8080/"
        },
        "id": "yLaoklK3wiUb",
        "outputId": "96dd9322-a5cf-4774-cf41-0bccff4a19d6"
      },
      "outputs": [
        {
          "name": "stdout",
          "output_type": "stream",
          "text": [
            "total 4\n",
            "-rw-r--r-- 1 root root 26 Sep  1 09:30 informe.txt\n"
          ]
        },
        {
          "data": {
            "text/plain": []
          },
          "execution_count": 14,
          "metadata": {},
          "output_type": "execute_result"
        }
      ],
      "source": [
        "%%shell\n",
        "cd ~\n",
        "chmod 644 Trabajos/modelos/informes/informe.txt\n",
        "ls -l Trabajos/modelos/informes"
      ]
    },
    {
      "cell_type": "markdown",
      "id": "5vdZS_oRxPd3",
      "metadata": {
        "id": "5vdZS_oRxPd3"
      },
      "source": [
        "<h3>1.4</h3>"
      ]
    },
    {
      "cell_type": "markdown",
      "id": "8Ud7cr8vxPkB",
      "metadata": {
        "id": "8Ud7cr8vxPkB"
      },
      "source": [
        "Situarse en el directorio ~/Trabajos/modelos/informes y crear un enlace del archivo creado anteriormente en la carpeta ~/TEMPORAL/Informes utilizando rutas relativas. El enlace debe permitir que, si se borra el archivo original, se pueda seguir accediendo al archivo:"
      ]
    },
    {
      "cell_type": "code",
      "execution_count": 15,
      "id": "4_eZkHYKxPp4",
      "metadata": {
        "colab": {
          "base_uri": "https://localhost:8080/"
        },
        "id": "4_eZkHYKxPp4",
        "outputId": "cc4e94d4-e1bd-484f-e20a-d0f9a04b9c87"
      },
      "outputs": [
        {
          "name": "stdout",
          "output_type": "stream",
          "text": [
            "Este es el primer informe\n"
          ]
        },
        {
          "data": {
            "text/plain": []
          },
          "execution_count": 15,
          "metadata": {},
          "output_type": "execute_result"
        }
      ],
      "source": [
        "%%shell\n",
        "cd ~/Trabajos/modelos/informes\n",
        "ln informe.txt ../../../TEMPORAL/Informes\n",
        "cat ../../../TEMPORAL/Informes/informe.txt"
      ]
    },
    {
      "cell_type": "markdown",
      "id": "dD4N4tnqxkjo",
      "metadata": {
        "id": "dD4N4tnqxkjo"
      },
      "source": [
        "<h3>1.5</h3>"
      ]
    },
    {
      "cell_type": "markdown",
      "id": "kv32DTLuxkpq",
      "metadata": {
        "id": "kv32DTLuxkpq"
      },
      "source": [
        "Borrar toda la estructura de archivos creada en el apartado 1.1"
      ]
    },
    {
      "cell_type": "code",
      "execution_count": 16,
      "id": "1c7HSv0kxkw3",
      "metadata": {
        "colab": {
          "base_uri": "https://localhost:8080/"
        },
        "id": "1c7HSv0kxkw3",
        "outputId": "f2ed2d0a-a440-46cb-b8e2-579d1ddf6c02"
      },
      "outputs": [
        {
          "data": {
            "text/plain": []
          },
          "execution_count": 16,
          "metadata": {},
          "output_type": "execute_result"
        }
      ],
      "source": [
        "%%shell\n",
        "cd ~\n",
        "rm Trabajos/modelos/informes/informe.txt\n",
        "rmdir Trabajos/modelos/informes\n",
        "rmdir Trabajos/modelos/instancias\n",
        "rmdir Trabajos/modelos\n",
        "rmdir Trabajos/textos\n",
        "rmdir Trabajos\n",
        "rmdir copias\n",
        "rm TEMPORAL/Informes/informe.txt\n",
        "rmdir TEMPORAL/Informes\n",
        "rmdir TEMPORAL\n"
      ]
    },
    {
      "cell_type": "markdown",
      "id": "zwoXzCEkx4Ic",
      "metadata": {
        "id": "zwoXzCEkx4Ic"
      },
      "source": [
        "<h2>Ejercicio 2</h2>"
      ]
    },
    {
      "cell_type": "markdown",
      "id": "4rQzzFWWx6jW",
      "metadata": {
        "id": "4rQzzFWWx6jW"
      },
      "source": [
        "<h3>2.1</h3>"
      ]
    },
    {
      "cell_type": "markdown",
      "id": "IbO33bR2zm4o",
      "metadata": {
        "id": "IbO33bR2zm4o"
      },
      "source": [
        "Utilizando redirecciones, obtener el número de usuarios en \"/etc/passwd\" que tienen como intérprete de órdenes \"/bin/bash\" en la columna 7 del archivo (cada columna está separada por un \":\")."
      ]
    },
    {
      "cell_type": "code",
      "execution_count": 17,
      "id": "z2esOT5lzC5s",
      "metadata": {
        "colab": {
          "base_uri": "https://localhost:8080/"
        },
        "id": "z2esOT5lzC5s",
        "outputId": "d8b31923-86c7-4c85-b206-7e5fa113d3da"
      },
      "outputs": [
        {
          "name": "stdout",
          "output_type": "stream",
          "text": [
            "1\n"
          ]
        },
        {
          "data": {
            "text/plain": []
          },
          "execution_count": 17,
          "metadata": {},
          "output_type": "execute_result"
        }
      ],
      "source": [
        "%%shell\n",
        "cut -d ':' -f 7 /etc/passwd > tmp1\n",
        "grep '/bin/bash' < tmp1 > tmp2\n",
        "wc -l < tmp2\n",
        "rm tmp1\n",
        "rm tmp2"
      ]
    },
    {
      "cell_type": "markdown",
      "id": "TuTeWD_P04PY",
      "metadata": {
        "id": "TuTeWD_P04PY"
      },
      "source": [
        "<h3>2.2</h3>"
      ]
    },
    {
      "cell_type": "markdown",
      "id": "mCtATbbn04VO",
      "metadata": {
        "id": "mCtATbbn04VO"
      },
      "source": [
        "Utilizando tuberías, obtener el número de usuarios en \"/etc/passwd\" que tienen como intérprete de órdenes \"/bin/bash\" en la columna 7 del archivo (cada columna está separada por un \":\")."
      ]
    },
    {
      "cell_type": "code",
      "execution_count": 18,
      "id": "QoUA5MwL04a6",
      "metadata": {
        "colab": {
          "base_uri": "https://localhost:8080/"
        },
        "id": "QoUA5MwL04a6",
        "outputId": "76f21dc1-a6ae-4acc-ae3d-d6b5ccad4d37"
      },
      "outputs": [
        {
          "name": "stdout",
          "output_type": "stream",
          "text": [
            "1\n"
          ]
        },
        {
          "data": {
            "text/plain": []
          },
          "execution_count": 18,
          "metadata": {},
          "output_type": "execute_result"
        }
      ],
      "source": [
        "%%shell\n",
        "cut -d ':' -f 7 /etc/passwd | grep '/bin/bash'  | wc -l"
      ]
    }
  ],
  "metadata": {
    "colab": {
      "provenance": []
    },
    "kernelspec": {
      "display_name": "Python 3 (ipykernel)",
      "language": "python",
      "name": "python3"
    },
    "language_info": {
      "codemirror_mode": {
        "name": "ipython",
        "version": 3
      },
      "file_extension": ".py",
      "mimetype": "text/x-python",
      "name": "python",
      "nbconvert_exporter": "python",
      "pygments_lexer": "ipython3",
      "version": "3.11.4"
    }
  },
  "nbformat": 4,
  "nbformat_minor": 5
}
