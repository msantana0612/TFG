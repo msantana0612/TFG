{
 "cells": [
  {
   "cell_type": "markdown",
   "id": "56371638-880a-4e02-9544-c2f9709c0372",
   "metadata": {
    "id": "56371638-880a-4e02-9544-c2f9709c0372"
   },
   "source": [
    "<!--NAVIGATION-->\n",
    "\n",
    "\n",
    "<a href=\"https://colab.research.google.com/github/msantana0612/TFG/blob/main/notebooks/notebookProcesos.ipynb\" target=\"_blank\" rel=\"noopener noreferrer\"><img align=\"left\" src=\"https://colab.research.google.com/assets/colab-badge.svg\" alt=\"Open in Colab\" title=\"Open and Execute in Google Colaboratory\"></a>"
   ]
  },
  {
   "cell_type": "markdown",
   "id": "WRJyTw3Zhs_B",
   "metadata": {
    "id": "WRJyTw3Zhs_B"
   },
   "source": [
    "<h1>Procesos</h1>"
   ]
  },
  {
   "cell_type": "markdown",
   "id": "94TUsZ0BhzaC",
   "metadata": {
    "id": "94TUsZ0BhzaC"
   },
   "source": [
    "<h2>Estado de los procesos</h2>"
   ]
  },
  {
   "cell_type": "markdown",
   "id": "SlQ69kIiow1v",
   "metadata": {
    "id": "SlQ69kIiow1v"
   },
   "source": [
    "<div style=\"font-size: 17px\">\n",
    "Un proceso en un sistema UNIX es una instancia en ejecución de un programa. Cada vez que se ejecuta un programa, el sistema operativo crea un proceso para gestionar su ejecución. <br>\n",
    "En un sistema, varios procesos se ejecutan a la vez, por lo que el sistema operativo se encarga de decidir cuánto tiempo dedica a cada proceso y debe gestionar los recursos que asigna a cada uno. Además, para poder identificar a cada proceso, se le asigna un ID para identificarlo, que se conoce como su PID (Process ID).\n",
    "\n",
    "Para gestionar eficientemente los recursos del sistema y la ejecución de los procesos, el sistema operativo asigna a cada proceso un estado diferente. Estos estados reflejan la situación actual del proceso respecto a su ejecución y sus interacciones con el sistema. Los principales estados que un proceso puede tener son:\n",
    "\n",
    "  - **Activo** (Running): El proceso está actualmente utilizando la CPU para realizar su tarea.\n",
    "\n",
    "  - **Dormido** (Sleeping): El proceso está esperando que ocurra un evento o que se libere un recurso. Para llegar a este estado, se puede usar el comando **sleep** seguido de los segundos que estará dormido. Este estado puede dividirse en:\n",
    "\n",
    "    - **Detenido**: El proceso está esperando un evento que puede ser interrumpido por señales.\n",
    "    - **Espera**: El proceso está esperando una operación de entrada/salida y no puede ser interrumpido.\n",
    "\n",
    "\n",
    "  - **Zombi** (Zombie): El proceso ha terminado su ejecución, pero su entrada en la tabla de procesos aún no ha sido eliminada porque su proceso padre no ha leído su código de salida. Los procesos zombis mantienen su PID hasta que el proceso padre recoja el estado de salida.\n",
    "</div>"
   ]
  },
  {
   "cell_type": "markdown",
   "id": "XeeYY9SsUGcy",
   "metadata": {
    "id": "XeeYY9SsUGcy"
   },
   "source": [
    "![Estado de los procesos](https://raw.githubusercontent.com/msantana0612/TFG/gh-pages/images/procesos.jpg)"
   ]
  },
  {
   "cell_type": "markdown",
   "id": "fWMRZPX_KTuz",
   "metadata": {
    "id": "fWMRZPX_KTuz"
   },
   "source": [
    "<h2>Monitorizar procesos</h2>"
   ]
  },
  {
   "cell_type": "markdown",
   "id": "2OsAYBYJK1Ph",
   "metadata": {
    "id": "2OsAYBYJK1Ph"
   },
   "source": [
    "<div style=\"font-size: 17px\">\n",
    "La monitorización de procesos es una tarea fundamental para mantener el sistema en buen estado y asegurarse de que todo funcione correctamente. Al monitorear los procesos, podemos ver información de los procesos como su PID, su estado, los recursos utilizados y, en general, tener un mayor control sobre lo que sucede en el sistema. Existen diferentes órdenes que cumplen esta función:\n",
    "\n",
    "  - **<code>ps</code>**: Muestra información de los procesos en ejecución en un momento determinado de diferentes formas, ya que cuenta con muchas opciones diferentes, entre ellas destacan:\n",
    "\n",
    "    - **<code>aux</code>**: Es una combinación de las opciones <code>-a</code> (muestra todos los procesos de todos los usuarios), <code>-u</code> (muestra información como el nombre de usuario, uso de CPU y memoria, etc) y <code>-x</code> (incluye procesos que no están asociados a una terminal)\n",
    "\n",
    "    - **<code>-ef</code>**: Combina las opciones <code>-e</code> (todos los procesos del sistema, similar a <code>-a</code>) y <code>--f</code> (información en formato completo)\n",
    "</div>"
   ]
  },
  {
   "cell_type": "code",
   "execution_count": 14,
   "id": "pkWvyRIxRZ-k",
   "metadata": {
    "colab": {
     "base_uri": "https://localhost:8080/"
    },
    "id": "pkWvyRIxRZ-k",
    "outputId": "65933930-15b9-4da3-fcf9-7d32985ecf0e"
   },
   "outputs": [
    {
     "name": "stdout",
     "output_type": "stream",
     "text": [
      "USER         PID %CPU %MEM    VSZ   RSS TTY      STAT START   TIME COMMAND\n",
      "root           1  0.0  0.0   1076     8 ?        Ss   12:15   0:00 /sbin/docker-init -- /datalab/run\n",
      "root           7  0.4  0.4 897488 58160 ?        Rl   12:15   0:03 /tools/node/bin/node /datalab/web\n",
      "root           9  0.0  0.0   7376  3532 ?        S    12:15   0:00 /bin/bash -e /usr/local/colab/bin\n",
      "root          11  0.0  0.0   7376  1984 ?        S    12:15   0:00 /bin/bash -e /datalab/run.sh\n",
      "root          12  0.0  0.0 1236580 12828 ?       Sl   12:15   0:00 /usr/colab/bin/kernel_manager_pro\n",
      "root          39  0.0  0.0   5808   996 ?        Ss   12:15   0:00 tail -n +0 -F /root/.config/Googl\n",
      "root          45  0.0  0.0   5808  1016 ?        Ss   12:15   0:00 tail -n +0 -F /root/.config/Googl\n",
      "root          72  2.0  0.0      0     0 ?        Z    12:15   0:14 [python3] <defunct>\n",
      "root          73  0.1  0.3  67744 52396 ?        S    12:15   0:00 python3 /usr/local/bin/colab-file\n",
      "root          94  0.9  1.3 577488 178096 ?       Rl   12:15   0:06 /usr/bin/python3 /usr/local/bin/j\n",
      "root          95  0.1  0.0 1230268 9292 ?        Sl   12:15   0:00 /usr/local/bin/dap_multiplexer --\n",
      "root         315  1.7  1.9 1367616 265044 ?      Ssl  12:16   0:11 /usr/bin/python3 -m colab_kernel_\n",
      "root         354  0.2  0.1 540716 15572 ?        Sl   12:16   0:01 /usr/bin/python3 /usr/local/lib/p\n",
      "root         386  0.1  0.1 1239828 19664 ?       Sl   12:16   0:00 /usr/colab/bin/language_service -\n",
      "root         392  1.7  0.9 908848 129396 ?       Sl   12:16   0:11 node /datalab/web/pyright/pyright\n",
      "root        3027  0.0  0.0   5776  1020 ?        S    12:27   0:00 sleep 1\n",
      "root        3028  0.0  0.0  10076  1620 ?        R    12:27   0:00 ps aux\n"
     ]
    },
    {
     "data": {
      "text/plain": []
     },
     "execution_count": 14,
     "metadata": {},
     "output_type": "execute_result"
    }
   ],
   "source": [
    "%%shell\n",
    "ps aux"
   ]
  },
  {
   "cell_type": "code",
   "execution_count": 15,
   "id": "ovhoshkMTHFA",
   "metadata": {
    "colab": {
     "base_uri": "https://localhost:8080/"
    },
    "id": "ovhoshkMTHFA",
    "outputId": "930cffd6-35ef-469a-bc3e-2593e36f81d9"
   },
   "outputs": [
    {
     "name": "stdout",
     "output_type": "stream",
     "text": [
      "UID          PID    PPID  C STIME TTY          TIME CMD\n",
      "root           1       0  0 12:15 ?        00:00:00 /sbin/docker-init -- /datalab/run.sh\n",
      "root           7       1  0 12:15 ?        00:00:03 /tools/node/bin/node /datalab/web/app.js\n",
      "root           9       7  0 12:15 ?        00:00:00 /bin/bash -e /usr/local/colab/bin/oom_monitor.sh\n",
      "root          11       1  0 12:15 ?        00:00:00 /bin/bash -e /datalab/run.sh\n",
      "root          12      11  0 12:15 ?        00:00:00 /usr/colab/bin/kernel_manager_proxy --listen_por\n",
      "root          39       0  0 12:15 ?        00:00:00 tail -n +0 -F /root/.config/Google/DriveFS/Logs/\n",
      "root          45       0  0 12:15 ?        00:00:00 tail -n +0 -F /root/.config/Google/DriveFS/Logs/\n",
      "root          72       7  2 12:15 ?        00:00:14 [python3] <defunct>\n",
      "root          73       7  0 12:15 ?        00:00:00 python3 /usr/local/bin/colab-fileshim.py\n",
      "root          94       7  0 12:15 ?        00:00:06 /usr/bin/python3 /usr/local/bin/jupyter-notebook\n",
      "root          95       7  0 12:15 ?        00:00:00 /usr/local/bin/dap_multiplexer --domain_socket_p\n",
      "root         315      94  1 12:16 ?        00:00:12 /usr/bin/python3 -m colab_kernel_launcher -f /ro\n",
      "root         354       1  0 12:16 ?        00:00:01 /usr/bin/python3 /usr/local/lib/python3.10/dist-\n",
      "root         386       7  0 12:16 ?        00:00:00 /usr/colab/bin/language_service --lsp_search_dir\n",
      "root         392     386  1 12:16 ?        00:00:11 node /datalab/web/pyright/pyright-langserver.js \n",
      "root        3072       9  0 12:27 ?        00:00:00 sleep 1\n",
      "root        3073     315  0 12:28 ?        00:00:00 ps -ef\n"
     ]
    },
    {
     "data": {
      "text/plain": []
     },
     "execution_count": 15,
     "metadata": {},
     "output_type": "execute_result"
    }
   ],
   "source": [
    "%%shell\n",
    "ps -ef"
   ]
  },
  {
   "cell_type": "markdown",
   "id": "ifIe9zJ-TYJZ",
   "metadata": {
    "id": "ifIe9zJ-TYJZ"
   },
   "source": [
    "<div style=\"font-size: 17px\">\n",
    "\n",
    "  - **<code>top</code>**: Es un comando interactivo que muestra la información de los procesos en tiempo real, actualizándose cada pocos segundos que permite, por ejemplo, matar procesos desde la propia interfaz pulsando la tecla \"k\". Para salir de esta interfaz, hay que pulsar la tecla \"q\". Existe una versión actualizada de este comando (<code>htop</code>) con una interfaz más atractiva y mayor interactividad. También cuenta con diferentes opciones:\n",
    "\n",
    "    - **<code>-n</code>**: Permite indicar un número de actualizaciones concreto hasta pararse. Si no se indica, se actualizará hasta que se indique la salida del proceso.\n",
    "    - **<code>-p PID</code>**: Con esta opción y un PID, se muestra solo la información de un proceso concreto.\n",
    "    - **<code>-b</code>**: Indica al proceso que se debe ejecutar en segundo plano (background).\n",
    "</div>"
   ]
  },
  {
   "cell_type": "code",
   "execution_count": 19,
   "id": "na1UxlxLUNVp",
   "metadata": {
    "colab": {
     "base_uri": "https://localhost:8080/"
    },
    "id": "na1UxlxLUNVp",
    "outputId": "af2c0038-7234-4192-8bb4-1a71eed8a02d"
   },
   "outputs": [
    {
     "name": "stdout",
     "output_type": "stream",
     "text": [
      "\u001b[?1h\u001b=\u001b[H\u001b[2J\u001b[mtop - 12:40:48 up 25 min,  0 users,  load average: 0.30, 0.32, 0.33\u001b[m\u001b[m\u001b[m\u001b[m\u001b[K\n",
      "Tasks:\u001b[m\u001b[m\u001b[1m  17 \u001b[m\u001b[mtotal,\u001b[m\u001b[m\u001b[1m   1 \u001b[m\u001b[mrunning,\u001b[m\u001b[m\u001b[1m  15 \u001b[m\u001b[msleeping,\u001b[m\u001b[m\u001b[1m   0 \u001b[m\u001b[mstopped,\u001b[m\u001b[m\u001b[1m   1 \u001b[m\u001b[mzombie\u001b[m\u001b[m\u001b[m\u001b[m\u001b[K\n",
      "%Cpu(s):\u001b[m\u001b[m\u001b[1m  6.2 \u001b[m\u001b[mus,\u001b[m\u001b[m\u001b[1m  3.1 \u001b[m\u001b[msy,\u001b[m\u001b[m\u001b[1m  0.0 \u001b[m\u001b[mni,\u001b[m\u001b[m\u001b[1m 87.5 \u001b[m\u001b[mid,\u001b[m\u001b[m\u001b[1m  0.0 \u001b[m\u001b[mwa,\u001b[m\u001b[m\u001b[1m  0.0 \u001b[m\u001b[mhi,\u001b[m\u001b[m\u001b[1m  0.0 \u001b[m\u001b[msi,\u001b[m\u001b[m\u001b[1m  3.1 \u001b[m\u001b[mst\u001b[m\u001b[m\u001b[m\u001b[m\u001b[K\n",
      "MiB Mem :\u001b[m\u001b[m\u001b[1m  12979.0 \u001b[m\u001b[mtotal,\u001b[m\u001b[m\u001b[1m   9379.3 \u001b[m\u001b[mfree,\u001b[m\u001b[m\u001b[1m    916.1 \u001b[m\u001b[mused,\u001b[m\u001b[m\u001b[1m   2683.6 \u001b[m\u001b[mbuff/cache\u001b[m\u001b[m\u001b[m\u001b[m\u001b[K\n",
      "MiB Swap:\u001b[m\u001b[m\u001b[1m      0.0 \u001b[m\u001b[mtotal,\u001b[m\u001b[m\u001b[1m      0.0 \u001b[m\u001b[mfree,\u001b[m\u001b[m\u001b[1m      0.0 \u001b[m\u001b[mused.\u001b[m\u001b[m\u001b[1m  11740.2 \u001b[m\u001b[mavail Mem \u001b[m\u001b[m\u001b[m\u001b[m\u001b[K\n",
      "\u001b[K\n",
      "\u001b[7m    PID USER      PR  NI    VIRT    RES    SHR S  %CPU  %MEM     TIME+ COMMAND                      \u001b[m\u001b[m\u001b[K\n",
      "\u001b[m     12 root      20   0 1236580  12884   8156 S   6.2   0.1   0:00.68 kernel_manager_              \u001b[m\u001b[m\u001b[K\n",
      "\u001b[m    315 root      20   0 1368640 265044  79688 S   6.2   2.0   0:16.10 python3                      \u001b[m\u001b[m\u001b[K\n",
      "\u001b[m      1 root      20   0    1076      8      0 S   0.0   0.0   0:00.06 docker-init                  \u001b[m\u001b[m\u001b[K\n",
      "\u001b[m      7 root      20   0  898420  61852  33920 S   0.0   0.5   0:06.21 node                         \u001b[m\u001b[m\u001b[K\n",
      "\u001b[m      9 root      20   0    7376   3532   3232 S   0.0   0.0   0:00.94 oom_monitor.sh               \u001b[m\u001b[m\u001b[K\n",
      "\u001b[m     11 root      20   0    7376   1984   1696 S   0.0   0.0   0:00.00 run.sh                       \u001b[m\u001b[m\u001b[K\n",
      "\u001b[m     39 root      20   0    5808    996    908 S   0.0   0.0   0:00.09 tail                         \u001b[m\u001b[m\u001b[K\n",
      "\u001b[m     45 root      20   0    5808   1016    920 S   0.0   0.0   0:00.09 tail                         \u001b[m\u001b[m\u001b[K\n",
      "\u001b[m     72 root      20   0       0      0      0 Z   0.0   0.0   0:14.81 python3                      \u001b[m\u001b[m\u001b[K\n",
      "\u001b[m     73 root      20   0   67744  52396  18656 S   0.0   0.4   0:00.96 colab-fileshim.              \u001b[m\u001b[m\u001b[K\n",
      "\u001b[m     94 root      20   0  577488 178616  61748 S   0.0   1.3   0:07.21 jupyter-noteboo              \u001b[m\u001b[m\u001b[K\n",
      "\u001b[m     95 root      20   0 1230268   9488   3520 S   0.0   0.1   0:01.75 dap_multiplexer              \u001b[m\u001b[m\u001b[K\n",
      "\u001b[m    354 root      20   0  540716  15904   5256 S   0.0   0.1   0:03.47 python3                      \u001b[m\u001b[m\u001b[K\n",
      "\u001b[m   3602 root      20   0 1239828  17632  10372 S   0.0   0.1   0:00.92 language_servic              \u001b[m\u001b[m\u001b[K\n",
      "\u001b[m   3608 root      20   0  896304 141052  33628 S   0.0   1.1   0:11.92 node                         \u001b[m\u001b[m\u001b[K\n",
      "\u001b[m   6154 root      20   0    5776   1000    908 S   0.0   0.0   0:00.00 sleep                        \u001b[m\u001b[m\u001b[K\n",
      "\u001b[m\u001b[1m   6155 root      20   0   10352   3416   3060 R   0.0   0.0   0:00.00 top                          \u001b[m\u001b[m\u001b[K\u001b[H\u001b[mtop - 12:40:51 up 25 min,  0 users,  load average: 0.30, 0.32, 0.33\u001b[m\u001b[m\u001b[m\u001b[m\u001b[K\n",
      "\n",
      "%Cpu(s):\u001b[m\u001b[m\u001b[1m  2.5 \u001b[m\u001b[mus,\u001b[m\u001b[m\u001b[1m  1.8 \u001b[m\u001b[msy,\u001b[m\u001b[m\u001b[1m  0.0 \u001b[m\u001b[mni,\u001b[m\u001b[m\u001b[1m 94.8 \u001b[m\u001b[mid,\u001b[m\u001b[m\u001b[1m  0.5 \u001b[m\u001b[mwa,\u001b[m\u001b[m\u001b[1m  0.0 \u001b[m\u001b[mhi,\u001b[m\u001b[m\u001b[1m  0.3 \u001b[m\u001b[msi,\u001b[m\u001b[m\u001b[1m  0.0 \u001b[m\u001b[mst\u001b[m\u001b[m\u001b[m\u001b[m\u001b[K\n",
      "MiB Mem :\u001b[m\u001b[m\u001b[1m  12979.0 \u001b[m\u001b[mtotal,\u001b[m\u001b[m\u001b[1m   9383.2 \u001b[m\u001b[mfree,\u001b[m\u001b[m\u001b[1m    912.1 \u001b[m\u001b[mused,\u001b[m\u001b[m\u001b[1m   2683.7 \u001b[m\u001b[mbuff/cache\u001b[m\u001b[m\u001b[m\u001b[m\u001b[K\n",
      "MiB Swap:\u001b[m\u001b[m\u001b[1m      0.0 \u001b[m\u001b[mtotal,\u001b[m\u001b[m\u001b[1m      0.0 \u001b[m\u001b[mfree,\u001b[m\u001b[m\u001b[1m      0.0 \u001b[m\u001b[mused.\u001b[m\u001b[m\u001b[1m  11744.1 \u001b[m\u001b[mavail Mem \u001b[m\u001b[m\u001b[m\u001b[m\u001b[K\n",
      "\u001b[K\n",
      "\n",
      "\u001b[m    315 root      20   0 1368640 265044  79688 S   1.0   2.0   0:16.13 python3                      \u001b[m\u001b[m\u001b[K\n",
      "\u001b[m      7 root      20   0  898420  61244  33920 S   0.7   0.5   0:06.23 node                         \u001b[m\u001b[m\u001b[K\n",
      "\u001b[m      9 root      20   0    7376   3532   3232 S   0.3   0.0   0:00.95 oom_monitor.sh               \u001b[m\u001b[m\u001b[K\n",
      "\u001b[m    354 root      20   0  540716  15904   5256 S   0.3   0.1   0:03.48 python3                      \u001b[m\u001b[m\u001b[K\n",
      "\u001b[m      1 root      20   0    1076      8      0 S   0.0   0.0   0:00.06 docker-init                  \u001b[m\u001b[m\u001b[K\n",
      "\n",
      "\u001b[m     12 root      20   0 1236580  12884   8156 S   0.0   0.1   0:00.68 kernel_manager_              \u001b[m\u001b[m\u001b[K\n",
      "\u001b[m     39 root      20   0    5808    996    908 S   0.0   0.0   0:00.09 tail                         \u001b[m\u001b[m\u001b[K\n",
      "\u001b[m     45 root      20   0    5808   1016    920 S   0.0   0.0   0:00.09 tail                         \u001b[m\u001b[m\u001b[K\n",
      "\u001b[m     72 root      20   0       0      0      0 Z   0.0   0.0   0:14.81 python3                      \u001b[m\u001b[m\u001b[K\n",
      "\u001b[m     73 root      20   0   67744  52396  18656 S   0.0   0.4   0:00.96 colab-fileshim.              \u001b[m\u001b[m\u001b[K\n",
      "\u001b[m     94 root      20   0  577488 178616  61748 S   0.0   1.3   0:07.21 jupyter-noteboo              \u001b[m\u001b[m\u001b[K\n",
      "\u001b[m     95 root      20   0 1230268   9488   3520 S   0.0   0.1   0:01.75 dap_multiplexer              \u001b[m\u001b[m\u001b[K\n",
      "\n",
      "\n",
      "\u001b[m\u001b[1m   6155 root      20   0   10352   3416   3060 R   0.0   0.0   0:00.00 top                          \u001b[m\u001b[m\u001b[K\n",
      "\u001b[m   6167 root      20   0    5776    988    892 S   0.0   0.0   0:00.00 sleep                        \u001b[m\u001b[m\u001b[K\u001b[?1l\u001b>\u001b[25;1H\n",
      "\u001b[K"
     ]
    },
    {
     "data": {
      "text/plain": []
     },
     "execution_count": 19,
     "metadata": {},
     "output_type": "execute_result"
    }
   ],
   "source": [
    "%%shell\n",
    "top -n 2"
   ]
  },
  {
   "cell_type": "markdown",
   "id": "azu6z5SDJnkP",
   "metadata": {
    "id": "azu6z5SDJnkP"
   },
   "source": [
    "<h2>Señales</h2>"
   ]
  },
  {
   "cell_type": "markdown",
   "id": "VJ01gGxFJtLl",
   "metadata": {
    "id": "VJ01gGxFJtLl"
   },
   "source": [
    "<div style=\"font-size: 17px\">\n",
    "Las señales son una forma de comunicación entre procesos que permite enviar órdenes simples como finalizar, pausar, o reiniciar un proceso. Estas señales están identificadas mediante un número, que indica al proceso que la recibe qué debe hacer. Las señales más comunes son:\n",
    "\n",
    "| Número | Señal    | Descripción                                                                         |\n",
    "|--------|----------|-------------------------------------------------------------------------------------|\n",
    "| 0      | `EXIT`   | Señal que se envía cuando un script finaliza. |\n",
    "| 1      | `SIGHUP` | Señal de \"cuelgue\" o desconexión. Reinicia el proceso o recarga su configuración.    |\n",
    "| 2      | `SIGINT` | Señal de interrupción. Generalmente activada al presionar `Ctrl + C`.                |\n",
    "| 9      | `SIGKILL`| Termina el proceso de inmediato, sin permitir limpieza o guardado de estado.         |\n",
    "| 15     | `SIGTERM`| Señal de terminación estándar, permite al proceso finalizar de forma ordenada.       |\n",
    "| 17     | `SIGSTOP`| Pausa la ejecución del proceso. No puede ser ignorada por el proceso.                |\n",
    "| 18     | `SIGCONT`| Reanuda la ejecución de un proceso que fue pausado con `SIGSTOP`.                    |\n",
    "\n",
    "Para mandar estas señales, existen los siguientes comandos:\n",
    "\n",
    "  - **<code>kill PID</code>**: Manda una señal al proceso identificado con el PID correspondiente.Aunque su nombre sugiere que solo se usa para terminar procesos, en realidad puede enviar varias señales. Si no se indica explícitamente mediante un guión y el número de la señal (<code>-9</code> manda un <code>SIGKILL</code>), manda por defecto un <code>SIGTERM</code>.\n",
    "  - **<code>killall nombre</code>**: Envía señales a todos los procesos que coincidan con un nombre específico, en lugar de tener que buscar un PID concreto.\n",
    "</div>\n"
   ]
  },
  {
   "cell_type": "code",
   "execution_count": 28,
   "id": "3wjXfuh_YNRq",
   "metadata": {
    "colab": {
     "base_uri": "https://localhost:8080/"
    },
    "id": "3wjXfuh_YNRq",
    "outputId": "73813f5c-4dea-4980-a48c-2c7cbc55fe5e"
   },
   "outputs": [
    {
     "data": {
      "text/plain": []
     },
     "execution_count": 28,
     "metadata": {},
     "output_type": "execute_result"
    }
   ],
   "source": [
    "%%shell\n",
    "sleep 5 &\n",
    "killall sleep"
   ]
  },
  {
   "cell_type": "markdown",
   "id": "nytzFof-Yuim",
   "metadata": {
    "id": "nytzFof-Yuim"
   },
   "source": [
    "<div style=\"font-size: 17px\">\n",
    "\n",
    "Para capturar estas señales, el comando <code>trap</code> nos permite ejecutar un comando concreto solo con la llegada de una señal:\n",
    "</div>"
   ]
  },
  {
   "cell_type": "code",
   "execution_count": 30,
   "id": "dZrvTbTLZB_b",
   "metadata": {
    "colab": {
     "base_uri": "https://localhost:8080/"
    },
    "id": "dZrvTbTLZB_b",
    "outputId": "5d6bd1d8-68b6-497a-c13e-cdf528a8558f"
   },
   "outputs": [
    {
     "name": "stdout",
     "output_type": "stream",
     "text": [
      "Done sleeping\n",
      "Script is exiting!\n"
     ]
    },
    {
     "data": {
      "text/plain": []
     },
     "execution_count": 30,
     "metadata": {},
     "output_type": "execute_result"
    }
   ],
   "source": [
    "%%shell\n",
    "trap 'echo \"Script is exiting!\"' EXIT\n",
    "sleep 2\n",
    "echo \"Done sleeping\""
   ]
  },
  {
   "cell_type": "markdown",
   "id": "2zkLxEjVZvoM",
   "metadata": {
    "id": "2zkLxEjVZvoM"
   },
   "source": [
    "<div style=\"font-size: 17px\">\n",
    "\n",
    "Pese a que la orden <code>trap</code> esté la primera, el comando <code>echo</code> no se ejecuta hasta que detecte la señal de EXIT, es decir, acabe el programa.\n",
    "</div>"
   ]
  },
  {
   "cell_type": "markdown",
   "id": "C-z13z7dZR2N",
   "metadata": {
    "id": "C-z13z7dZR2N"
   },
   "source": [
    "<h2>Obtener un \"zombie\"</h2>"
   ]
  },
  {
   "cell_type": "markdown",
   "id": "ce8TOVtSrZCz",
   "metadata": {
    "id": "ce8TOVtSrZCz"
   },
   "source": [
    "<div style=\"font-size: 17px\">\n",
    "\n",
    "**Ejemplo**: Para mostrar un proceso en estado zombi:\n",
    "  - Ejecutamos un <code>sleep</code> (duerme el proceso durante unos segundos) junto con el carácter <code>&</code> para que se ejecute en segundo plano\n",
    "  - Obtenemos su PID mediante la variable <code>$!</code> (almacena el PID del último programa que se ejecutó en segundo plano) y lo guardamos en una variable shell\n",
    "  - Mostramos el PID, el estado y la orden del proceso anterior mediante la orden <code>ps</code> (muestra información sore los procesos en eejcución) con el modificador <code>-p</code> junto con la variable SHELL, y el modificador <code>-o</code> para indicar qué campos mostrar\n",
    "  - Esperamos unos segundos\n",
    "  - Con la orden <code>kill</code> (envía una señal a un proceso) finalizamos el proceso inicial\n",
    "  - Volvemos a mostrar los datos del proceso\n",
    "</div>"
   ]
  },
  {
   "cell_type": "code",
   "execution_count": null,
   "id": "Q3d5beuqoRmx",
   "metadata": {
    "colab": {
     "base_uri": "https://localhost:8080/"
    },
    "id": "Q3d5beuqoRmx",
    "outputId": "4fba5ea2-bfc8-4774-8914-ee11cbeb5c21"
   },
   "outputs": [
    {
     "name": "stdout",
     "output_type": "stream",
     "text": [
      "Process ID (PID): 8316\n",
      "    PID STAT COMMAND\n",
      "   8316 S    sleep 100\n",
      "Process 8316 killed\n",
      "    PID STAT COMMAND\n",
      "   8316 Z    [sleep] <defunct>\n"
     ]
    },
    {
     "data": {
      "text/plain": []
     },
     "execution_count": 9,
     "metadata": {},
     "output_type": "execute_result"
    }
   ],
   "source": [
    "%%shell\n",
    "sleep 100 &\n",
    "PID=$!\n",
    "echo \"Process ID (PID): $PID\"\n",
    "ps -p $PID -o pid,stat,command\n",
    "sleep 5\n",
    "kill $PID\n",
    "echo \"Process $PID killed\"\n",
    "ps -p $PID -o pid,stat,command"
   ]
  },
  {
   "cell_type": "markdown",
   "id": "YWdemG45tWYr",
   "metadata": {
    "id": "YWdemG45tWYr"
   },
   "source": [
    "<div style=\"font-size: 17px\">\n",
    "\n",
    "En el campo STAT, se muestra como mientras se está ejecutando está en el estado \"S\" (Sleep), pero al matar el proceso queda en el estado \"Z\" (Zombie).\n",
    "</div>"
   ]
  }
 ],
 "metadata": {
  "colab": {
   "provenance": []
  },
  "kernelspec": {
   "display_name": "Python 3 (ipykernel)",
   "language": "python",
   "name": "python3"
  },
  "language_info": {
   "codemirror_mode": {
    "name": "ipython",
    "version": 3
   },
   "file_extension": ".py",
   "mimetype": "text/x-python",
   "name": "python",
   "nbconvert_exporter": "python",
   "pygments_lexer": "ipython3",
   "version": "3.11.4"
  }
 },
 "nbformat": 4,
 "nbformat_minor": 5
}
