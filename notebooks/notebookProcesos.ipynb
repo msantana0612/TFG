{
  "cells": [
    {
      "cell_type": "markdown",
      "id": "56371638-880a-4e02-9544-c2f9709c0372",
      "metadata": {
        "id": "56371638-880a-4e02-9544-c2f9709c0372"
      },
      "source": [
        "<!--NAVIGATION-->\n",
        "\n",
        "\n",
        "<a href=\"https://colab.research.google.com/github/msantana0612/TFG/blob/main/notebooks/notebookProcesos.ipynb\" target=\"_blank\" rel=\"noopener noreferrer\"><img align=\"left\" src=\"https://colab.research.google.com/assets/colab-badge.svg\" alt=\"Open in Colab\" title=\"Open and Execute in Google Colaboratory\"></a>"
      ]
    },
    {
      "cell_type": "markdown",
      "id": "WRJyTw3Zhs_B",
      "metadata": {
        "id": "WRJyTw3Zhs_B"
      },
      "source": [
        "<h1>Procesos</h1>"
      ]
    },
    {
      "cell_type": "markdown",
      "id": "8733692b",
      "metadata": {
        "id": "8733692b"
      },
      "source": [
        "<div style=\"font-size: 17px\">\n",
        "\n",
        "Un **proceso** en un sistema *Linux* es una instancia en ejecución de un programa. Cada vez que se ejecuta un programa, el *kernel* del sistema operativo crea un proceso que gestiona su ejecución, asignándole los recursos necesarios, como *CPU* y memoria.\n",
        "\n",
        "Dado que en un sistema pueden ejecutarse múltiples procesos simultáneamente, el sistema operativo emplea un **planificador** (*scheduler*) para determinar cuánto tiempo asignar a cada proceso y cómo distribuir los recursos de manera eficiente.\n",
        "\n",
        "Para gestionar estos procesos, cada uno recibe un identificador único llamado ***PID*** (*Process ID*), que permite al sistema y a los usuarios **referenciar**, **controlar** y **administrar** cada proceso de manera individual.\n",
        "\n",
        "En *Linux*, un proceso puede ejecutarse en primer plano o en segundo plano. Un proceso en primer plano es aquel que ocupa la terminal hasta que finaliza, impidiendo al usuario ejecutar otros comandos en esa sesión mientras esté activo. Por ejemplo, cuando se ejecuta un comando simple como <code>cat archivo.txt</code>, este se ejecuta en primer plano. En cambio, un proceso en segundo plano se ejecuta sin bloquear la terminal, permitiendo al usuario seguir trabajando.\n",
        "\n",
        "Los procesos forman una jerarquía, donde cada uno es creado por otro proceso, que es llamado su **padre**. El *PID* identifica al proceso, y el ***PPID*** (*Parent Process ID*) identifica a su proceso padre. Esta relación permite organizar los procesos y rastrear su origen. Un proceso **huérfano** es aquel cuyo proceso padre ha terminado antes que él. En ese caso, el sistema lo asigna automáticamente como nuevo padre al proceso <code>init</code> o <code>systemd</code>.\n",
        "\n",
        "Un proceso ***zombie*** es un proceso que ya ha finalizado, pero su entrada sigue en la tabla de procesos porque su padre aún no ha recogido su estado. Aunque no consumen recursos como *CPU* o memoria, muchos *zombies* pueden afectar al sistema si no se gestionan correctamente.\n",
        "</div>"
      ]
    },
    {
      "cell_type": "markdown",
      "id": "94TUsZ0BhzaC",
      "metadata": {
        "id": "94TUsZ0BhzaC"
      },
      "source": [
        "<h2>Estado de los procesos</h2>"
      ]
    },
    {
      "cell_type": "markdown",
      "id": "SlQ69kIiow1v",
      "metadata": {
        "id": "SlQ69kIiow1v"
      },
      "source": [
        "<div style=\"font-size: 17px\">\n",
        "\n",
        "Para gestionar eficientemente los recursos del sistema, *Linux* asigna a cada proceso un estado que refleja su situación actual. Estos estados indican si el proceso está ejecutándose, esperando recursos o si ha finalizado. Esto permite al sistema operativo gestionar de manera eficiente la *CPU*, la memoria y otros recursos, tomando decisiones sobre cómo manejar cada proceso según su estado.\n",
        "\n",
        "  | Estado | Descripción | Constante en el Kernel |\n",
        "|--------|------------|----------------------|\n",
        "| **Ejecutando (*Running*)** | En ejecución o esperando CPU. | `TASK_RUNNING` |\n",
        "| **Listo (*Ready*)** | Preparado para ejecutarse cuando haya CPU disponible. | `TASK_RUNNING` |\n",
        "| **Dormido Interrumpible (*Sleeping*)** | Espera un evento y puede ser despertado por señales. | `TASK_INTERRUPTIBLE` |\n",
        "| **Dormido No Interrumpible (*Waiting* / *Uninterruptible Sleep*)** | Espera una operación de E/S y **no puede** ser interrumpido. | `TASK_UNINTERRUPTIBLE` |\n",
        "| **Detenido (*Stopped*)** | Pausado por una señal (`SIGSTOP`, `SIGTSTP`). | `TASK_STOPPED` |\n",
        "| ***Zombie*** | Ha terminado, pero su padre aún no ha leído su estado de salida. | `TASK_ZOMBIE` |\n",
        "| **Muerto (*Dead* / *Exit Dead*)** | Eliminado del sistema tras `wait()`. | `TASK_DEAD` |\n",
        "</div>"
      ]
    },
    {
      "cell_type": "markdown",
      "id": "XeeYY9SsUGcy",
      "metadata": {
        "id": "XeeYY9SsUGcy"
      },
      "source": [
        "<div style=\"text-align: center;\">\n",
        "    <img src=\"https://raw.githubusercontent.com/msantana0612/TFG/gh-pages/images/estadoProcesos.png\" alt=\"Estado de los procesos\" width=\"822\" height=\"582\">\n",
        "</div>"
      ]
    },
    {
      "cell_type": "markdown",
      "id": "fWMRZPX_KTuz",
      "metadata": {
        "id": "fWMRZPX_KTuz"
      },
      "source": [
        "<h2>Monitorizar procesos</h2>"
      ]
    },
    {
      "cell_type": "markdown",
      "id": "2OsAYBYJK1Ph",
      "metadata": {
        "id": "2OsAYBYJK1Ph"
      },
      "source": [
        "<div style=\"font-size: 17px\">\n",
        "\n",
        "La monitorización de procesos es una tarea fundamental para mantener el sistema en buen estado y asegurarse de que todo funcione correctamente. Al monitorizar los procesos, podemos obtener información esencial de los procesos como su *PID*, su estado, los recursos utilizados y, en general, tener un mayor control sobre lo que sucede en el sistema. Existen diferentes órdenes que cumplen esta función:\n",
        "\n",
        "  - **<code>ps</code>**: Muestra información de los procesos en ejecución en un momento determinado. Tiene muchas opciones que permiten adaptar la información obtenida. Entre las más habituales destacan las siguientes:\n",
        "\n",
        "    - **<code>aux</code>**: Es una combinación de las opciones <code>-a</code> (muestra todos los procesos de todos los usuarios a excepción de aquellos que no están asociados a una terminal), <code>-u</code> (muestra información como el nombre de usuario, uso de CPU y memoria, etc) y <code>-x</code> (incluye procesos que no están asociados a una terminal)\n",
        "\n",
        "    - **<code>-ef</code>**: Combina las opciones <code>-e</code> (todos los procesos en ejecución del sistema, similar a <code>-a</code>) y <code>-f</code> (información en forma de árbol, reflejando las relaciones entre procesos)\n",
        "</div>"
      ]
    },
    {
      "cell_type": "code",
      "execution_count": null,
      "id": "pkWvyRIxRZ-k",
      "metadata": {
        "colab": {
          "base_uri": "https://localhost:8080/"
        },
        "id": "pkWvyRIxRZ-k",
        "outputId": "65933930-15b9-4da3-fcf9-7d32985ecf0e"
      },
      "outputs": [
        {
          "name": "stdout",
          "output_type": "stream",
          "text": [
            "USER         PID %CPU %MEM    VSZ   RSS TTY      STAT START   TIME COMMAND\n",
            "root           1  0.0  0.0   1076     8 ?        Ss   12:15   0:00 /sbin/docker-init -- /datalab/run\n",
            "root           7  0.4  0.4 897488 58160 ?        Rl   12:15   0:03 /tools/node/bin/node /datalab/web\n",
            "root           9  0.0  0.0   7376  3532 ?        S    12:15   0:00 /bin/bash -e /usr/local/colab/bin\n",
            "root          11  0.0  0.0   7376  1984 ?        S    12:15   0:00 /bin/bash -e /datalab/run.sh\n",
            "root          12  0.0  0.0 1236580 12828 ?       Sl   12:15   0:00 /usr/colab/bin/kernel_manager_pro\n",
            "root          39  0.0  0.0   5808   996 ?        Ss   12:15   0:00 tail -n +0 -F /root/.config/Googl\n",
            "root          45  0.0  0.0   5808  1016 ?        Ss   12:15   0:00 tail -n +0 -F /root/.config/Googl\n",
            "root          72  2.0  0.0      0     0 ?        Z    12:15   0:14 [python3] <defunct>\n",
            "root          73  0.1  0.3  67744 52396 ?        S    12:15   0:00 python3 /usr/local/bin/colab-file\n",
            "root          94  0.9  1.3 577488 178096 ?       Rl   12:15   0:06 /usr/bin/python3 /usr/local/bin/j\n",
            "root          95  0.1  0.0 1230268 9292 ?        Sl   12:15   0:00 /usr/local/bin/dap_multiplexer --\n",
            "root         315  1.7  1.9 1367616 265044 ?      Ssl  12:16   0:11 /usr/bin/python3 -m colab_kernel_\n",
            "root         354  0.2  0.1 540716 15572 ?        Sl   12:16   0:01 /usr/bin/python3 /usr/local/lib/p\n",
            "root         386  0.1  0.1 1239828 19664 ?       Sl   12:16   0:00 /usr/colab/bin/language_service -\n",
            "root         392  1.7  0.9 908848 129396 ?       Sl   12:16   0:11 node /datalab/web/pyright/pyright\n",
            "root        3027  0.0  0.0   5776  1020 ?        S    12:27   0:00 sleep 1\n",
            "root        3028  0.0  0.0  10076  1620 ?        R    12:27   0:00 ps aux\n"
          ]
        },
        {
          "data": {
            "text/plain": []
          },
          "execution_count": 14,
          "metadata": {},
          "output_type": "execute_result"
        }
      ],
      "source": [
        "%%shell\n",
        "ps aux"
      ]
    },
    {
      "cell_type": "code",
      "execution_count": null,
      "id": "ovhoshkMTHFA",
      "metadata": {
        "colab": {
          "base_uri": "https://localhost:8080/"
        },
        "id": "ovhoshkMTHFA",
        "outputId": "930cffd6-35ef-469a-bc3e-2593e36f81d9"
      },
      "outputs": [
        {
          "name": "stdout",
          "output_type": "stream",
          "text": [
            "UID          PID    PPID  C STIME TTY          TIME CMD\n",
            "root           1       0  0 12:15 ?        00:00:00 /sbin/docker-init -- /datalab/run.sh\n",
            "root           7       1  0 12:15 ?        00:00:03 /tools/node/bin/node /datalab/web/app.js\n",
            "root           9       7  0 12:15 ?        00:00:00 /bin/bash -e /usr/local/colab/bin/oom_monitor.sh\n",
            "root          11       1  0 12:15 ?        00:00:00 /bin/bash -e /datalab/run.sh\n",
            "root          12      11  0 12:15 ?        00:00:00 /usr/colab/bin/kernel_manager_proxy --listen_por\n",
            "root          39       0  0 12:15 ?        00:00:00 tail -n +0 -F /root/.config/Google/DriveFS/Logs/\n",
            "root          45       0  0 12:15 ?        00:00:00 tail -n +0 -F /root/.config/Google/DriveFS/Logs/\n",
            "root          72       7  2 12:15 ?        00:00:14 [python3] <defunct>\n",
            "root          73       7  0 12:15 ?        00:00:00 python3 /usr/local/bin/colab-fileshim.py\n",
            "root          94       7  0 12:15 ?        00:00:06 /usr/bin/python3 /usr/local/bin/jupyter-notebook\n",
            "root          95       7  0 12:15 ?        00:00:00 /usr/local/bin/dap_multiplexer --domain_socket_p\n",
            "root         315      94  1 12:16 ?        00:00:12 /usr/bin/python3 -m colab_kernel_launcher -f /ro\n",
            "root         354       1  0 12:16 ?        00:00:01 /usr/bin/python3 /usr/local/lib/python3.10/dist-\n",
            "root         386       7  0 12:16 ?        00:00:00 /usr/colab/bin/language_service --lsp_search_dir\n",
            "root         392     386  1 12:16 ?        00:00:11 node /datalab/web/pyright/pyright-langserver.js \n",
            "root        3072       9  0 12:27 ?        00:00:00 sleep 1\n",
            "root        3073     315  0 12:28 ?        00:00:00 ps -ef\n"
          ]
        },
        {
          "data": {
            "text/plain": []
          },
          "execution_count": 15,
          "metadata": {},
          "output_type": "execute_result"
        }
      ],
      "source": [
        "%%shell\n",
        "ps -ef"
      ]
    },
    {
      "cell_type": "markdown",
      "id": "ifIe9zJ-TYJZ",
      "metadata": {
        "id": "ifIe9zJ-TYJZ"
      },
      "source": [
        "<div style=\"font-size: 17px\">\n",
        "\n",
        "  - **<code>top</code>**: Es un comando interactivo que muestra la información de los procesos en tiempo real. Esta información se actualiza cada pocos segundos (en general, 3 segundos). Permite gestionar procesos, por ejemplo, matar procesos desde la propia interfaz pulsando la tecla \"k\". Para salir de la interfaz de <code>top</code>, hay que pulsar la tecla \"q\". Existe una versión actualizada de este comando (<code>htop</code>) con una interfaz más atractiva y mayor interactividad. También cuenta con diferentes opciones:\n",
        "\n",
        "    - **<code>-n</code>**: Permite indicar un número de actualizaciones concreto hasta pararse. Si no se indica, se actualizará hasta que se indique la salida del proceso.\n",
        "    - **<code>-p PID</code>**: Con esta opción y un *PID*, se muestra solo la información de un proceso concreto.\n",
        "    - **<code>-b</code>**: Indica al proceso que se debe ejecutar en segundo plano (*background*). Esto permite, por ejemplo, redirigir la salida a un archivo.\n",
        "\n",
        "**Ejemplo**: Se muestra la información de los procesos del sistema en tiempo real usando <code>top</code> dos veces:\n",
        "</div>"
      ]
    },
    {
      "cell_type": "code",
      "execution_count": null,
      "id": "na1UxlxLUNVp",
      "metadata": {
        "colab": {
          "base_uri": "https://localhost:8080/"
        },
        "id": "na1UxlxLUNVp",
        "outputId": "af2c0038-7234-4192-8bb4-1a71eed8a02d"
      },
      "outputs": [
        {
          "name": "stdout",
          "output_type": "stream",
          "text": [
            "\u001b[?1h\u001b=\u001b[H\u001b[2J\u001b[mtop - 12:40:48 up 25 min,  0 users,  load average: 0.30, 0.32, 0.33\u001b[m\u001b[m\u001b[m\u001b[m\u001b[K\n",
            "Tasks:\u001b[m\u001b[m\u001b[1m  17 \u001b[m\u001b[mtotal,\u001b[m\u001b[m\u001b[1m   1 \u001b[m\u001b[mrunning,\u001b[m\u001b[m\u001b[1m  15 \u001b[m\u001b[msleeping,\u001b[m\u001b[m\u001b[1m   0 \u001b[m\u001b[mstopped,\u001b[m\u001b[m\u001b[1m   1 \u001b[m\u001b[mzombie\u001b[m\u001b[m\u001b[m\u001b[m\u001b[K\n",
            "%Cpu(s):\u001b[m\u001b[m\u001b[1m  6.2 \u001b[m\u001b[mus,\u001b[m\u001b[m\u001b[1m  3.1 \u001b[m\u001b[msy,\u001b[m\u001b[m\u001b[1m  0.0 \u001b[m\u001b[mni,\u001b[m\u001b[m\u001b[1m 87.5 \u001b[m\u001b[mid,\u001b[m\u001b[m\u001b[1m  0.0 \u001b[m\u001b[mwa,\u001b[m\u001b[m\u001b[1m  0.0 \u001b[m\u001b[mhi,\u001b[m\u001b[m\u001b[1m  0.0 \u001b[m\u001b[msi,\u001b[m\u001b[m\u001b[1m  3.1 \u001b[m\u001b[mst\u001b[m\u001b[m\u001b[m\u001b[m\u001b[K\n",
            "MiB Mem :\u001b[m\u001b[m\u001b[1m  12979.0 \u001b[m\u001b[mtotal,\u001b[m\u001b[m\u001b[1m   9379.3 \u001b[m\u001b[mfree,\u001b[m\u001b[m\u001b[1m    916.1 \u001b[m\u001b[mused,\u001b[m\u001b[m\u001b[1m   2683.6 \u001b[m\u001b[mbuff/cache\u001b[m\u001b[m\u001b[m\u001b[m\u001b[K\n",
            "MiB Swap:\u001b[m\u001b[m\u001b[1m      0.0 \u001b[m\u001b[mtotal,\u001b[m\u001b[m\u001b[1m      0.0 \u001b[m\u001b[mfree,\u001b[m\u001b[m\u001b[1m      0.0 \u001b[m\u001b[mused.\u001b[m\u001b[m\u001b[1m  11740.2 \u001b[m\u001b[mavail Mem \u001b[m\u001b[m\u001b[m\u001b[m\u001b[K\n",
            "\u001b[K\n",
            "\u001b[7m    PID USER      PR  NI    VIRT    RES    SHR S  %CPU  %MEM     TIME+ COMMAND                      \u001b[m\u001b[m\u001b[K\n",
            "\u001b[m     12 root      20   0 1236580  12884   8156 S   6.2   0.1   0:00.68 kernel_manager_              \u001b[m\u001b[m\u001b[K\n",
            "\u001b[m    315 root      20   0 1368640 265044  79688 S   6.2   2.0   0:16.10 python3                      \u001b[m\u001b[m\u001b[K\n",
            "\u001b[m      1 root      20   0    1076      8      0 S   0.0   0.0   0:00.06 docker-init                  \u001b[m\u001b[m\u001b[K\n",
            "\u001b[m      7 root      20   0  898420  61852  33920 S   0.0   0.5   0:06.21 node                         \u001b[m\u001b[m\u001b[K\n",
            "\u001b[m      9 root      20   0    7376   3532   3232 S   0.0   0.0   0:00.94 oom_monitor.sh               \u001b[m\u001b[m\u001b[K\n",
            "\u001b[m     11 root      20   0    7376   1984   1696 S   0.0   0.0   0:00.00 run.sh                       \u001b[m\u001b[m\u001b[K\n",
            "\u001b[m     39 root      20   0    5808    996    908 S   0.0   0.0   0:00.09 tail                         \u001b[m\u001b[m\u001b[K\n",
            "\u001b[m     45 root      20   0    5808   1016    920 S   0.0   0.0   0:00.09 tail                         \u001b[m\u001b[m\u001b[K\n",
            "\u001b[m     72 root      20   0       0      0      0 Z   0.0   0.0   0:14.81 python3                      \u001b[m\u001b[m\u001b[K\n",
            "\u001b[m     73 root      20   0   67744  52396  18656 S   0.0   0.4   0:00.96 colab-fileshim.              \u001b[m\u001b[m\u001b[K\n",
            "\u001b[m     94 root      20   0  577488 178616  61748 S   0.0   1.3   0:07.21 jupyter-noteboo              \u001b[m\u001b[m\u001b[K\n",
            "\u001b[m     95 root      20   0 1230268   9488   3520 S   0.0   0.1   0:01.75 dap_multiplexer              \u001b[m\u001b[m\u001b[K\n",
            "\u001b[m    354 root      20   0  540716  15904   5256 S   0.0   0.1   0:03.47 python3                      \u001b[m\u001b[m\u001b[K\n",
            "\u001b[m   3602 root      20   0 1239828  17632  10372 S   0.0   0.1   0:00.92 language_servic              \u001b[m\u001b[m\u001b[K\n",
            "\u001b[m   3608 root      20   0  896304 141052  33628 S   0.0   1.1   0:11.92 node                         \u001b[m\u001b[m\u001b[K\n",
            "\u001b[m   6154 root      20   0    5776   1000    908 S   0.0   0.0   0:00.00 sleep                        \u001b[m\u001b[m\u001b[K\n",
            "\u001b[m\u001b[1m   6155 root      20   0   10352   3416   3060 R   0.0   0.0   0:00.00 top                          \u001b[m\u001b[m\u001b[K\u001b[H\u001b[mtop - 12:40:51 up 25 min,  0 users,  load average: 0.30, 0.32, 0.33\u001b[m\u001b[m\u001b[m\u001b[m\u001b[K\n",
            "\n",
            "%Cpu(s):\u001b[m\u001b[m\u001b[1m  2.5 \u001b[m\u001b[mus,\u001b[m\u001b[m\u001b[1m  1.8 \u001b[m\u001b[msy,\u001b[m\u001b[m\u001b[1m  0.0 \u001b[m\u001b[mni,\u001b[m\u001b[m\u001b[1m 94.8 \u001b[m\u001b[mid,\u001b[m\u001b[m\u001b[1m  0.5 \u001b[m\u001b[mwa,\u001b[m\u001b[m\u001b[1m  0.0 \u001b[m\u001b[mhi,\u001b[m\u001b[m\u001b[1m  0.3 \u001b[m\u001b[msi,\u001b[m\u001b[m\u001b[1m  0.0 \u001b[m\u001b[mst\u001b[m\u001b[m\u001b[m\u001b[m\u001b[K\n",
            "MiB Mem :\u001b[m\u001b[m\u001b[1m  12979.0 \u001b[m\u001b[mtotal,\u001b[m\u001b[m\u001b[1m   9383.2 \u001b[m\u001b[mfree,\u001b[m\u001b[m\u001b[1m    912.1 \u001b[m\u001b[mused,\u001b[m\u001b[m\u001b[1m   2683.7 \u001b[m\u001b[mbuff/cache\u001b[m\u001b[m\u001b[m\u001b[m\u001b[K\n",
            "MiB Swap:\u001b[m\u001b[m\u001b[1m      0.0 \u001b[m\u001b[mtotal,\u001b[m\u001b[m\u001b[1m      0.0 \u001b[m\u001b[mfree,\u001b[m\u001b[m\u001b[1m      0.0 \u001b[m\u001b[mused.\u001b[m\u001b[m\u001b[1m  11744.1 \u001b[m\u001b[mavail Mem \u001b[m\u001b[m\u001b[m\u001b[m\u001b[K\n",
            "\u001b[K\n",
            "\n",
            "\u001b[m    315 root      20   0 1368640 265044  79688 S   1.0   2.0   0:16.13 python3                      \u001b[m\u001b[m\u001b[K\n",
            "\u001b[m      7 root      20   0  898420  61244  33920 S   0.7   0.5   0:06.23 node                         \u001b[m\u001b[m\u001b[K\n",
            "\u001b[m      9 root      20   0    7376   3532   3232 S   0.3   0.0   0:00.95 oom_monitor.sh               \u001b[m\u001b[m\u001b[K\n",
            "\u001b[m    354 root      20   0  540716  15904   5256 S   0.3   0.1   0:03.48 python3                      \u001b[m\u001b[m\u001b[K\n",
            "\u001b[m      1 root      20   0    1076      8      0 S   0.0   0.0   0:00.06 docker-init                  \u001b[m\u001b[m\u001b[K\n",
            "\n",
            "\u001b[m     12 root      20   0 1236580  12884   8156 S   0.0   0.1   0:00.68 kernel_manager_              \u001b[m\u001b[m\u001b[K\n",
            "\u001b[m     39 root      20   0    5808    996    908 S   0.0   0.0   0:00.09 tail                         \u001b[m\u001b[m\u001b[K\n",
            "\u001b[m     45 root      20   0    5808   1016    920 S   0.0   0.0   0:00.09 tail                         \u001b[m\u001b[m\u001b[K\n",
            "\u001b[m     72 root      20   0       0      0      0 Z   0.0   0.0   0:14.81 python3                      \u001b[m\u001b[m\u001b[K\n",
            "\u001b[m     73 root      20   0   67744  52396  18656 S   0.0   0.4   0:00.96 colab-fileshim.              \u001b[m\u001b[m\u001b[K\n",
            "\u001b[m     94 root      20   0  577488 178616  61748 S   0.0   1.3   0:07.21 jupyter-noteboo              \u001b[m\u001b[m\u001b[K\n",
            "\u001b[m     95 root      20   0 1230268   9488   3520 S   0.0   0.1   0:01.75 dap_multiplexer              \u001b[m\u001b[m\u001b[K\n",
            "\n",
            "\n",
            "\u001b[m\u001b[1m   6155 root      20   0   10352   3416   3060 R   0.0   0.0   0:00.00 top                          \u001b[m\u001b[m\u001b[K\n",
            "\u001b[m   6167 root      20   0    5776    988    892 S   0.0   0.0   0:00.00 sleep                        \u001b[m\u001b[m\u001b[K\u001b[?1l\u001b>\u001b[25;1H\n",
            "\u001b[K"
          ]
        },
        {
          "data": {
            "text/plain": []
          },
          "execution_count": 19,
          "metadata": {},
          "output_type": "execute_result"
        }
      ],
      "source": [
        "%%shell\n",
        "top -n 2"
      ]
    },
    {
      "cell_type": "markdown",
      "id": "6eb00029",
      "metadata": {
        "id": "6eb00029"
      },
      "source": [
        "<div style=\"font-size: 17px\">\n",
        "\n",
        "- <code>strace</code>: Permite rastrear las llamadas al sistema y señales realizadas por un proceso. Es una herramienta muy útil para depurar, analizar el comportamiento de programas y entender cómo interactúan con el sistema operativo. Entre sus opciones más comunes se encuentran:\n",
        "\n",
        "    - <code>-p</code>: Permite adjuntar strace a un proceso ya en ejecución especificando su *PID*. Muy útil para observar el comportamiento de un proceso en tiempo real sin tener que reiniciarlo.\n",
        "\n",
        "    - <code>-e trace=</code>: Restringe la salida a un tipo específico de llamadas al sistema, como file, process, network, etc. Por ejemplo, <code>-e trace=network</code> muestra solo las llamadas relacionadas con la red.\n",
        "\n",
        "    - <code>-o</code>: Redirige la salida de strace a un archivo en lugar de mostrarla por pantalla. Ideal para analizar con calma o compartir con otros para depuración.\n",
        "\n",
        "    - <code>-c</code>: Muestra un resumen de las llamadas al sistema: cuántas veces se invocaron, cuánto tiempo consumieron, y qué porcentaje del total representan.\n",
        "\n",
        "**Ejemplo**: Se muestra la cantidad de veces que se han invocado a diferentes llamadas al sistema al usar el comando <code>ls</code>:\n",
        "\n",
        "</div>"
      ]
    },
    {
      "cell_type": "code",
      "execution_count": 3,
      "id": "14c478ab",
      "metadata": {
        "colab": {
          "base_uri": "https://localhost:8080/"
        },
        "id": "14c478ab",
        "outputId": "4ecd0fab-7d2b-418b-dcee-4638abd572dc"
      },
      "outputs": [
        {
          "name": "stdout",
          "output_type": "stream",
          "text": [
            "sample_data\n",
            "% time     seconds  usecs/call     calls    errors syscall\n",
            "------ ----------- ----------- --------- --------- ----------------\n",
            " 26.26    0.000307          17        18           mmap\n",
            " 22.07    0.000258         258         1           execve\n",
            " 20.96    0.000245           9        27        20 openat\n",
            " 16.42    0.000192           6        28        20 newfstatat\n",
            "  3.85    0.000045           6         7           mprotect\n",
            "  3.25    0.000038           4         9           close\n",
            "  2.82    0.000033           8         4           pread64\n",
            "  1.28    0.000015           3         5           read\n",
            "  1.03    0.000012           6         2         1 arch_prctl\n",
            "  0.77    0.000009           4         2         2 access\n",
            "  0.43    0.000005           5         1           set_tid_address\n",
            "  0.34    0.000004           4         1           set_robust_list\n",
            "  0.34    0.000004           4         1           rseq\n",
            "  0.17    0.000002           0         3           brk\n",
            "  0.00    0.000000           0         1           write\n",
            "  0.00    0.000000           0         1           munmap\n",
            "  0.00    0.000000           0         2           ioctl\n",
            "  0.00    0.000000           0         2         2 statfs\n",
            "  0.00    0.000000           0         2           getdents64\n",
            "  0.00    0.000000           0         1           prlimit64\n",
            "  0.00    0.000000           0         1           getrandom\n",
            "------ ----------- ----------- --------- --------- ----------------\n",
            "100.00    0.001169           9       119        45 total\n"
          ]
        },
        {
          "data": {
            "text/plain": []
          },
          "execution_count": 3,
          "metadata": {},
          "output_type": "execute_result"
        }
      ],
      "source": [
        "%%shell\n",
        "#apt-get install strace #Necesario instalar el comando primero -> Se verá más adelante\n",
        "strace -c ls"
      ]
    },
    {
      "cell_type": "markdown",
      "id": "0c7ddeca",
      "metadata": {
        "id": "0c7ddeca"
      },
      "source": [
        "<h2>Control de ejecución de procesos</h2>"
      ]
    },
    {
      "cell_type": "markdown",
      "id": "e83f6c68",
      "metadata": {
        "id": "e83f6c68"
      },
      "source": [
        "<div style=\"font-size: 17px\">\n",
        "\n",
        "Los comandos de control de ejecución de procesos permiten gestionar cómo y cuándo se ejecutan los procesos en el sistema. Estos comandos son útiles para cambiar el comportamiento de los procesos, asignarles prioridades, ejecutarlos en segundo plano o introducir pausas entre las operaciones. Son muy importantes en la automatización de tareas y en la gestión eficiente de los recursos del sistema.\n",
        "\n",
        "A continuación se presentan algunos de los comandos más comunes utilizados para controlar la ejecución de procesos en Linux:\n",
        "\n",
        "- <code>sleep</code>: Se utiliza para suspender temporalmente la ejecución de un proceso durante un período de tiempo determinado. Es muy útil cuando se necesita espaciar acciones o cuando se quiere retrasar la ejecución de algún comando.\n",
        "\n",
        "**Ejemplo**: Se imprime el primer mensaje inmediatamente, pero el segundo espera a que pasen 2 segundos:\n",
        "</div>"
      ]
    },
    {
      "cell_type": "code",
      "execution_count": 4,
      "id": "a42f7f6f",
      "metadata": {
        "colab": {
          "base_uri": "https://localhost:8080/"
        },
        "id": "a42f7f6f",
        "outputId": "248c7693-7ca9-4c44-dc6f-5200125e801f"
      },
      "outputs": [
        {
          "name": "stdout",
          "output_type": "stream",
          "text": [
            "Primer comentario al instante.\n",
            "Segundo comentario después de 2 segundos.\n"
          ]
        },
        {
          "data": {
            "text/plain": []
          },
          "execution_count": 4,
          "metadata": {},
          "output_type": "execute_result"
        }
      ],
      "source": [
        "%%shell\n",
        "echo \"Primer comentario al instante.\"\n",
        "sleep 2\n",
        "echo \"Segundo comentario después de 2 segundos.\""
      ]
    },
    {
      "cell_type": "markdown",
      "id": "9c0ca0da",
      "metadata": {
        "id": "9c0ca0da"
      },
      "source": [
        "<div style=\"font-size: 17px\">\n",
        "\n",
        "- <code>fg</code>: Reanuda un trabajo detenido o en segundo plano y lo coloca en primer plano. Es muy útil cuando se necesita volver a interactuar con un proceso suspendido o que estaba corriendo en segundo plano.\n",
        "\n",
        "- <code>bg</code>: Reanuda un trabajo detenido, pero lo deja ejecutándose en segundo plano. Permite seguir usando la terminal mientras el proceso continúa ejecutándose sin bloquear la entrada.\n",
        "\n",
        "Para <code>fg</code> y <code>bg</code>, se puede indicar qué proceso se desea reanudar utilizando el identificador del trabajo en formato <code>%n</code> (por ejemplo, <code>%1</code>), o simplemente omitirlo para actuar sobre el trabajo más reciente. Para ver los identificadores de trabajo, es útil la orden <code>jobs</code>:\n",
        "\n",
        "**Ejemplo**: Se muestra el identificador de trabajo de los dos siguientes procesos:\n",
        "</div>"
      ]
    },
    {
      "cell_type": "code",
      "execution_count": 5,
      "id": "78f7aec8",
      "metadata": {
        "colab": {
          "base_uri": "https://localhost:8080/"
        },
        "id": "78f7aec8",
        "outputId": "731c2b6d-be90-4c50-9e45-ca8cb95c12a8"
      },
      "outputs": [
        {
          "name": "stdout",
          "output_type": "stream",
          "text": [
            "[1]-  Running                 sleep 6 &\n",
            "[2]+  Running                 sleep 4 &\n"
          ]
        },
        {
          "data": {
            "text/plain": []
          },
          "execution_count": 5,
          "metadata": {},
          "output_type": "execute_result"
        }
      ],
      "source": [
        "%%shell\n",
        "sleep 6 &\n",
        "sleep 4 &\n",
        "jobs"
      ]
    },
    {
      "cell_type": "markdown",
      "id": "628e4ae2",
      "metadata": {
        "id": "628e4ae2"
      },
      "source": [
        "<div style=\"font-size: 17px\">\n",
        "\n",
        "Pese a no ser un comando, es útil conocer el operador <code>&</code>. Este operador se añade a los comandos para indicar que han de ser ejecutados en segundo plano\n",
        "</div>"
      ]
    },
    {
      "cell_type": "markdown",
      "id": "45b07642",
      "metadata": {
        "id": "45b07642"
      },
      "source": [
        "<div style=\"font-size: 17px\">\n",
        "\n",
        "- <code>nohup</code>: Ejecuta un comando de forma que no se detenga incluso si se cierra la sesión o se cierra la terminal (<code>SIGHUP</code>). Es especialmente útil para ejecutar procesos largos o persistentes en segundo plano.\n",
        "\n",
        "**Ejemplo**: Simular cerrar una terminal (mandando la señal <code>SIGHUP</code>) mientras se ejecuta un comando con <code>nohup</code>:\n",
        "</div>"
      ]
    },
    {
      "cell_type": "code",
      "execution_count": 65,
      "id": "b230ac61",
      "metadata": {
        "colab": {
          "base_uri": "https://localhost:8080/"
        },
        "id": "b230ac61",
        "outputId": "71017be4-8818-481c-c391-ca3e3d91eadb"
      },
      "outputs": [
        {
          "name": "stdout",
          "output_type": "stream",
          "text": [
            "nohup: appending output to 'nohup.out'\n",
            "Paso 1\n",
            "Paso 2\n",
            "Paso 3\n",
            "Paso 4\n",
            "Paso 5\n",
            "Paso 6\n",
            "Paso 7\n"
          ]
        },
        {
          "data": {
            "text/plain": []
          },
          "execution_count": 65,
          "metadata": {},
          "output_type": "execute_result"
        }
      ],
      "source": [
        "%%shell\n",
        "#Se ejecuta un bucle que muestra un mensaje cada segundo CON nohup\n",
        "nohup bash -c 'for i in {1..10}; do echo \"Paso $i\"; sleep 1; done' &\n",
        "sleep 2\n",
        "PID=$!\n",
        "sleep 3\n",
        "kill -SIGHUP $PID #Se manda la señal SIGHUP pasados 5 segundos (se ignora por nohup)\n",
        "sleep 2\n",
        "cat nohup.out #Se muestra pasados 7 segundos (7 mensajes esperados)\n",
        "rm nohup.out"
      ]
    },
    {
      "cell_type": "markdown",
      "id": "f97a235b",
      "metadata": {},
      "source": [
        "<div style=\"font-size: 17px\">\n",
        "\n",
        "**Ejemplo**: Simular cerrar una terminal (mandando la señal <code>SIGHUP</code>) mientras se ejecuta un comando sin <code>nohup</code>:\n",
        "</div>"
      ]
    },
    {
      "cell_type": "code",
      "execution_count": 64,
      "id": "2373861f",
      "metadata": {
        "colab": {
          "base_uri": "https://localhost:8080/"
        },
        "id": "2373861f",
        "outputId": "dbbc782f-ddf3-47de-926b-f83a8c02ada8"
      },
      "outputs": [
        {
          "name": "stdout",
          "output_type": "stream",
          "text": [
            "/bin/bash: line 7:  5955 Hangup                  bash -c 'for i in {1..10}; do echo \"Paso $i\"; sleep 1; done' > salida.txt\n",
            "Paso 1\n",
            "Paso 2\n",
            "Paso 3\n",
            "Paso 4\n",
            "Paso 5\n"
          ]
        },
        {
          "data": {
            "text/plain": []
          },
          "execution_count": 64,
          "metadata": {},
          "output_type": "execute_result"
        }
      ],
      "source": [
        "%%shell\n",
        "#Se ejecuta un bucle que muestra un mensaje cada segundo SIN nohup\n",
        "bash -c 'for i in {1..10}; do echo \"Paso $i\"; sleep 1; done' > salida.txt &\n",
        "sleep 2\n",
        "PID=$!\n",
        "sleep 3\n",
        "kill -SIGHUP $PID #Se manda la señal SIGHUP pasados 5 segundos\n",
        "sleep 2\n",
        "cat salida.txt #Se muestra pasados 7 segundos (5 mensajes esperados)\n",
        "rm salida.txt"
      ]
    },
    {
      "cell_type": "markdown",
      "id": "ce8TOVtSrZCz",
      "metadata": {
        "id": "ce8TOVtSrZCz"
      },
      "source": [
        "<div style=\"font-size: 17px\">\n",
        "\n",
        "**Ejemplo**: Para mostrar un proceso en estado *zombie*:\n",
        "  - Ejecutamos un <code>sleep</code> (duerme el proceso durante unos segundos) junto con el operador <code>&</code> para que se ejecute en segundo plano\n",
        "  - Obtenemos su *PID* mediante la variable <code>$!</code> (almacena el *PID* del último programa que se ejecutó en segundo plano) y lo guardamos en una variable shell\n",
        "  - Mostramos el *PID*, el estado y la orden del proceso anterior mediante la orden <code>ps</code> (muestra información sore los procesos en eejcución) con el modificador <code>-p</code> junto con la variable SHELL, y el modificador <code>-o</code> para indicar qué campos mostrar\n",
        "  - Esperamos unos segundos\n",
        "  - Con la orden <code>kill</code> (envía una señal a un proceso) finalizamos el proceso inicial\n",
        "  - Volvemos a mostrar los datos del proceso\n",
        "</div>"
      ]
    },
    {
      "cell_type": "code",
      "execution_count": null,
      "id": "Q3d5beuqoRmx",
      "metadata": {
        "colab": {
          "base_uri": "https://localhost:8080/"
        },
        "id": "Q3d5beuqoRmx",
        "outputId": "4fba5ea2-bfc8-4774-8914-ee11cbeb5c21"
      },
      "outputs": [
        {
          "name": "stdout",
          "output_type": "stream",
          "text": [
            "Process ID (PID): 8316\n",
            "    PID STAT COMMAND\n",
            "   8316 S    sleep 100\n",
            "Process 8316 killed\n",
            "    PID STAT COMMAND\n",
            "   8316 Z    [sleep] <defunct>\n"
          ]
        },
        {
          "data": {
            "text/plain": []
          },
          "execution_count": 9,
          "metadata": {},
          "output_type": "execute_result"
        }
      ],
      "source": [
        "%%shell\n",
        "sleep 100 &\n",
        "PID=$!\n",
        "echo \"Process ID (PID): $PID\"\n",
        "ps -p $PID -o pid,stat,command\n",
        "sleep 5\n",
        "kill $PID\n",
        "echo \"Process $PID killed\"\n",
        "ps -p $PID -o pid,stat,command"
      ]
    },
    {
      "cell_type": "markdown",
      "id": "YWdemG45tWYr",
      "metadata": {
        "id": "YWdemG45tWYr"
      },
      "source": [
        "<div style=\"font-size: 17px\">\n",
        "\n",
        "En el campo *STAT*, se muestra como mientras se está ejecutando está en el estado \"S\" (*Sleep*), pero al matar el proceso queda en el estado \"Z\" (*Zombie*).\n",
        "</div>"
      ]
    },
    {
      "cell_type": "markdown",
      "id": "X2bqdR3oiCU_",
      "metadata": {
        "id": "X2bqdR3oiCU_"
      },
      "source": [
        "<h3>Ejercicio</h3>"
      ]
    },
    {
      "cell_type": "markdown",
      "id": "zbrrFO4niCcz",
      "metadata": {
        "id": "zbrrFO4niCcz"
      },
      "source": [
        "<div style=\"font-size: 17px\">\n",
        "\n",
        "Usa un comando que muestre por pantalla el uso de CPU de todos los procesos del sistema:\n",
        "</div>"
      ]
    },
    {
      "cell_type": "code",
      "execution_count": null,
      "id": "9mhoJpxciCqg",
      "metadata": {
        "id": "9mhoJpxciCqg"
      },
      "outputs": [],
      "source": [
        "%%shell\n",
        "#Borra este comentario e introduce aquí el/los comando/s necesario/s"
      ]
    },
    {
      "cell_type": "markdown",
      "id": "f2785208",
      "metadata": {},
      "source": [
        "<div style=\"font-size: 17px\">\n",
        "\n",
        "El comando <code>yes \"Hola!\"</code> muestra infinitamente el mensaje \"Hola!\", pero con <code>> /dev/null</code> (se explicará más adelante) suprimimos su salida y con <code>kill -9 $PID</code> lo terminamos (se explicará más adelante). Obtén el *PID* del proceso y muestra su información durante 4 veces:\n",
        "</div>"
      ]
    },
    {
      "cell_type": "code",
      "execution_count": null,
      "id": "13d310d4",
      "metadata": {},
      "outputs": [],
      "source": [
        "%%shell\n",
        "yes \"Hola!\"> /dev/null &\n",
        "#Borra este comentario e introduce aquí el/los comando/s necesario/s\n",
        "kill -9 $PID"
      ]
    }
  ],
  "metadata": {
    "colab": {
      "provenance": []
    },
    "kernelspec": {
      "display_name": "Python 3 (ipykernel)",
      "language": "python",
      "name": "python3"
    },
    "language_info": {
      "codemirror_mode": {
        "name": "ipython",
        "version": 3
      },
      "file_extension": ".py",
      "mimetype": "text/x-python",
      "name": "python",
      "nbconvert_exporter": "python",
      "pygments_lexer": "ipython3",
      "version": "3.11.4"
    }
  },
  "nbformat": 4,
  "nbformat_minor": 5
}
