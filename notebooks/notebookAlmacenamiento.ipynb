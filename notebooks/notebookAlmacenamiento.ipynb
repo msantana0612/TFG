{
  "cells": [
    {
      "cell_type": "markdown",
      "id": "56371638-880a-4e02-9544-c2f9709c0372",
      "metadata": {
        "id": "56371638-880a-4e02-9544-c2f9709c0372"
      },
      "source": [
        "<!--NAVIGATION-->\n",
        "\n",
        "\n",
        "<a href=\"https://colab.research.google.com/github/msantana0612/TFG/blob/main/notebooks/notebookAlmacenamiento.ipynb\" target=\"_blank\" rel=\"noopener noreferrer\"><img align=\"left\" src=\"https://colab.research.google.com/assets/colab-badge.svg\" alt=\"Open in Colab\" title=\"Open and Execute in Google Colaboratory\"></a>"
      ]
    },
    {
      "cell_type": "markdown",
      "id": "WRJyTw3Zhs_B",
      "metadata": {
        "id": "WRJyTw3Zhs_B"
      },
      "source": [
        "<h1>Uso de disco </h1>\n",
        "\n"
      ]
    },
    {
      "cell_type": "markdown",
      "id": "Xi194Wc4Dcq5",
      "metadata": {
        "id": "Xi194Wc4Dcq5"
      },
      "source": [
        "<div style=\"font-size: 17px\">\n",
        "\n",
        "El comando <code>du</code> se utiliza para verificar cuánto espacio en disco ocupa un archivo o directorio. Si no se indica un archivo o directorio, muestra la información del directorio actual.<br>\n",
        "Con este comando, puedes obtener información detallada sobre el uso de almacenamiento en diferentes niveles de un directorio. Cuenta con varias opciones:\n",
        "\n",
        "  - **<code>-h</code>**: Muestra el almacenamiento en *bytes* (*KB*, *GB*, *MG*, etc) (por defecto lo muestra en bloques, que es la unidad de almacenamiento básica en el sistema de archivos).\n",
        "  - **<code>-s</code>**: Muestra solo el uso total del directorio especificado, en lugar de mostrar el uso por cada archivo o subdirectorio.\n",
        "  - **<code>-a</code>**: Muestra el uso de todos los archivos y directorios.\n",
        "\n",
        "**Ejemplo**: Muestra el uso de almacenamiento de todos los archivos y directorios en *bytes*:\n",
        "</div>"
      ]
    },
    {
      "cell_type": "code",
      "execution_count": null,
      "id": "OS8Jh76LE7fm",
      "metadata": {
        "colab": {
          "base_uri": "https://localhost:8080/"
        },
        "id": "OS8Jh76LE7fm",
        "outputId": "02735920-0749-40f1-daf9-0ff19a8f9aad"
      },
      "outputs": [
        {
          "name": "stdout",
          "output_type": "stream",
          "text": [
            "4.0K\t./.config/.last_update_check.json\n",
            "4.0K\t./.config/.last_opt_in_prompt.yaml\n",
            "4.0K\t./.config/configurations/config_default\n",
            "8.0K\t./.config/configurations\n",
            "4.0K\t./.config/logs/2024.10.14/13.22.39.146829.log\n",
            "4.0K\t./.config/logs/2024.10.14/13.22.28.151005.log\n",
            "48K\t./.config/logs/2024.10.14/13.22.07.775513.log\n",
            "12K\t./.config/logs/2024.10.14/13.22.38.263602.log\n",
            "4.0K\t./.config/logs/2024.10.14/13.22.49.518111.log\n",
            "4.0K\t./.config/logs/2024.10.14/13.22.50.121513.log\n",
            "80K\t./.config/logs/2024.10.14\n",
            "84K\t./.config/logs\n",
            "4.0K\t./.config/active_config\n",
            "4.0K\t./.config/.last_survey_prompt.yaml\n",
            "4.0K\t./.config/gce\n",
            "12K\t./.config/default_configs.db\n",
            "0\t./.config/config_sentinel\n",
            "12K\t./.config/hidden_gcloud_config_universe_descriptor_data_cache_configs.db\n",
            "140K\t./.config\n",
            "4.0K\t./sample_data/anscombe.json\n",
            "4.0K\t./sample_data/README.md\n",
            "35M\t./sample_data/mnist_train_small.csv\n",
            "1.7M\t./sample_data/california_housing_train.csv\n",
            "296K\t./sample_data/california_housing_test.csv\n",
            "18M\t./sample_data/mnist_test.csv\n",
            "55M\t./sample_data\n",
            "55M\t.\n"
          ]
        },
        {
          "data": {
            "text/plain": []
          },
          "execution_count": 13,
          "metadata": {},
          "output_type": "execute_result"
        }
      ],
      "source": [
        "%%shell\n",
        "du -h -a"
      ]
    },
    {
      "cell_type": "markdown",
      "id": "MwwtDp-HFZc_",
      "metadata": {
        "id": "MwwtDp-HFZc_"
      },
      "source": [
        "<div style=\"font-size: 17px\">\n",
        "\n",
        "El comando <code>df</code> se utiliza para ver la cantidad de espacio libre y utilizado\n",
        "en las particiones del sistema de archivos. Es útil para obtener una vista general del uso del disco, incluyendo cuánto espacio está ocupado y cuánto está disponible. Cuenta con varias opciones:\n",
        "\n",
        "  - **<code>-h</code>**: Muestra el almacenamiento en *bytes* (*KB*, *GB*, *MG*, etc) (por defecto lo muestra en bloques, que es la unidad de almacenamiento básica en el sistema de archivos).\n",
        "  - **<code>-T</code>**: Muestra el tipo de sistema de archivos.\n",
        "  - **<code>-i</code>**: Muestra información sobre el uso de inodos en lugar de bloques de disco.\n",
        "\n",
        "**Ejemplo**: Muestra el espacio usado y el espacio libre de cada sistema de archivos en *bytes*, mostrando también el tipo:\n",
        "  </div>"
      ]
    },
    {
      "cell_type": "code",
      "execution_count": null,
      "id": "VHtLUiqzFZoc",
      "metadata": {
        "colab": {
          "base_uri": "https://localhost:8080/"
        },
        "id": "VHtLUiqzFZoc",
        "outputId": "e4216ac4-e8c0-4e6e-c471-4977f2725031"
      },
      "outputs": [
        {
          "name": "stdout",
          "output_type": "stream",
          "text": [
            "Filesystem     Type     Size  Used Avail Use% Mounted on\n",
            "overlay        overlay  108G   30G   79G  28% /\n",
            "tmpfs          tmpfs     64M     0   64M   0% /dev\n",
            "shm            tmpfs    5.8G     0  5.8G   0% /dev/shm\n",
            "/dev/root      ext2     2.0G  1.2G  820M  59% /usr/sbin/docker-init\n",
            "tmpfs          tmpfs    6.4G  596K  6.4G   1% /var/colab\n",
            "/dev/sda1      ext4      77G   54G   23G  71% /etc/hosts\n",
            "tmpfs          tmpfs    6.4G     0  6.4G   0% /proc/acpi\n",
            "tmpfs          tmpfs    6.4G     0  6.4G   0% /proc/scsi\n",
            "tmpfs          tmpfs    6.4G     0  6.4G   0% /sys/firmware\n"
          ]
        },
        {
          "data": {
            "text/plain": []
          },
          "execution_count": 23,
          "metadata": {},
          "output_type": "execute_result"
        }
      ],
      "source": [
        "%%shell\n",
        "df -hT"
      ]
    },
    {
      "cell_type": "markdown",
      "id": "ULRYHSYuscSm",
      "metadata": {
        "id": "ULRYHSYuscSm"
      },
      "source": [
        "<h3>Ejercicio</h3>"
      ]
    },
    {
      "cell_type": "markdown",
      "id": "ShmU8k5_scZ4",
      "metadata": {
        "id": "ShmU8k5_scZ4"
      },
      "source": [
        "<div style=\"font-size: 17px\">\n",
        "\n",
        "Muestra los 10 archivos o directorios que más bloques ocupan en disco ordenados\n",
        "de mayor a menor:\n",
        "</div>"
      ]
    },
    {
      "cell_type": "code",
      "execution_count": null,
      "id": "ORCTdmbisckX",
      "metadata": {
        "id": "ORCTdmbisckX"
      },
      "outputs": [],
      "source": [
        "%%shell\n",
        "#Borra este comentario e introduce aquí el comando necesario"
      ]
    }
  ],
  "metadata": {
    "colab": {
      "provenance": []
    },
    "kernelspec": {
      "display_name": "Python 3 (ipykernel)",
      "language": "python",
      "name": "python3"
    },
    "language_info": {
      "codemirror_mode": {
        "name": "ipython",
        "version": 3
      },
      "file_extension": ".py",
      "mimetype": "text/x-python",
      "name": "python",
      "nbconvert_exporter": "python",
      "pygments_lexer": "ipython3",
      "version": "3.11.4"
    }
  },
  "nbformat": 4,
  "nbformat_minor": 5
}
