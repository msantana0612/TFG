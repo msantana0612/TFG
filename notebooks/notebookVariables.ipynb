{
  "cells": [
    {
      "cell_type": "markdown",
      "id": "56371638-880a-4e02-9544-c2f9709c0372",
      "metadata": {
        "id": "56371638-880a-4e02-9544-c2f9709c0372"
      },
      "source": [
        "<!--NAVIGATION-->\n",
        "\n",
        "\n",
        "<a href=\"https://colab.research.google.com/github/msantana0612/TFG/blob/main/notebooks/notebookVariables.ipynb\" target=\"_blank\" rel=\"noopener noreferrer\"><img align=\"left\" src=\"https://colab.research.google.com/assets/colab-badge.svg\" alt=\"Open in Colab\" title=\"Open and Execute in Google Colaboratory\"></a>"
      ]
    },
    {
      "cell_type": "markdown",
      "id": "83712f1a",
      "metadata": {},
      "source": [
        "<h1>Variables de shell y archivos de configuración</h1>"
      ]
    },
    {
      "cell_type": "markdown",
      "id": "ZurIahLNeLG9",
      "metadata": {
        "id": "ZurIahLNeLG9"
      },
      "source": [
        "<h2>Variables locales y variables de entorno</h2>"
      ]
    },
    {
      "cell_type": "markdown",
      "id": "1d7136a0",
      "metadata": {},
      "source": [
        "<div style=\"font-size: 17px\">\n",
        "\n",
        "En *Linux*, las variables de *shell* son elementos que almacenan información utilizada por la *shell* y los procesos que se ejecutan en ella. Estas variables permiten configurar el comportamiento del sistema, almacenar rutas, parámetros y otros datos importantes para la ejecución de comandos y programas. <br>\n",
        "Existen dos tipos principales de variables de *shell*: las variables locales y las variables de entorno. La terminología utilizada para describirlas a menudo genera confusión, ya que, aunque ambas son variables dentro de la *shell*, se les conoce comúnmente como \"variables de entorno\" y \"variables *shell*\". Esta distinción puede resultar engañosa, ya que en realidad ambas son variables que forman parte del entorno de la *shell*. Para evitar malentendidos, se hará referencia a ellas como variables de entorno y variables locales.\n",
        "</div>"
      ]
    },
    {
      "cell_type": "markdown",
      "id": "ScCvdj4IAoRv",
      "metadata": {
        "id": "ScCvdj4IAoRv"
      },
      "source": [
        "<div style=\"font-size: 17px\">\n",
        "\n",
        "  - Las **variables locales** en el *shell* de *Linux* son pares de clave-valor que se definen y se utilizan solo dentro del contexto de la sesión o del proceso en el que se crean. A diferencia de las variables de entorno, las variables locales no se heredan por los procesos hijos, lo que significa que solo afectan a la terminal o *script* en el que se definen. Para crear una variable *shell*, se indica el nombre de la variable seguida del símbolo <code>=</code> y el valor que se le quiere dar, sin espacios. Para acceder al valor de cualquier variable, basta con usar el símbolo <code>$</code> antes de la variable.\n",
        "\n",
        "**Ejemplo**: Se crea la variable <code>VAR</code> y se intenta mostrar su contenido (no se muestra porque falta añadir <code>$</code>):\n",
        "</div>"
      ]
    },
    {
      "cell_type": "code",
      "execution_count": null,
      "id": "shK8eps_kmIp",
      "metadata": {
        "colab": {
          "base_uri": "https://localhost:8080/"
        },
        "id": "shK8eps_kmIp",
        "outputId": "6febdf0e-1e65-4d14-9f0a-720d1fa02e81"
      },
      "outputs": [
        {
          "name": "stdout",
          "output_type": "stream",
          "text": [
            "VAR\n"
          ]
        },
        {
          "data": {
            "text/plain": []
          },
          "execution_count": 6,
          "metadata": {},
          "output_type": "execute_result"
        }
      ],
      "source": [
        "%%shell\n",
        "VAR=\"Hola Mundo\"\n",
        "echo VAR"
      ]
    },
    {
      "cell_type": "markdown",
      "id": "631be8e9",
      "metadata": {},
      "source": [
        "<div style=\"font-size: 17px\">\n",
        "\n",
        "**Ejemplo**: Se crea la variable <code>VAR</code> y se muestra su contenido:\n",
        "</div>"
      ]
    },
    {
      "cell_type": "code",
      "execution_count": null,
      "id": "rmp5g-oy-Paa",
      "metadata": {
        "colab": {
          "base_uri": "https://localhost:8080/"
        },
        "id": "rmp5g-oy-Paa",
        "outputId": "4d426975-2135-4a7c-da99-e7f5ed04dd53"
      },
      "outputs": [
        {
          "name": "stdout",
          "output_type": "stream",
          "text": [
            "Hola Mundo\n"
          ]
        },
        {
          "data": {
            "text/plain": []
          },
          "execution_count": 7,
          "metadata": {},
          "output_type": "execute_result"
        }
      ],
      "source": [
        "%%shell\n",
        "VAR=\"Hola Mundo\"\n",
        "echo $VAR"
      ]
    },
    {
      "cell_type": "markdown",
      "id": "AB682ImFeLPv",
      "metadata": {
        "id": "AB682ImFeLPv"
      },
      "source": [
        "<div style=\"font-size: 17px\">\n",
        "\n",
        "  - Las **variables de entorno**   son pares de clave-valor que se almacenan en el entorno del proceso y se heredan por los procesos hijos, lo que permite compartir configuraciones sin necesidad de codificarlas directamente. Se pueden definir de forma temporal (válidas solo en la terminal actual) usando el comando <code>export</code> sobre una variable local, o de forma permanente editando archivos como \".bashrc\", \".profile\" o \"/etc/environment\". Ejemplos de variables de entorno definidas por el sistema son:\n",
        "\n",
        "  \n",
        "\n",
        "\n",
        "      - **<code>HOSTNAME</code>**:  Nombre de la máquina en la que se está trabajando.\n",
        "      - **<code>USER</code>**:  Nombre del usuario actual.\n",
        "      - **<code>UID</code>**:  Número identificador del usuario actual.\n",
        "      - **<code>HOME</code>**:  Ruta absoluta del directorio personal de <code>USER</code>.\n",
        "      - **<code>PWD</code>**:  Ruta absoluta del directorio de trabajo (muestra lo mismo que la orden <code>pwd</code>).\n",
        "      - **<code>SHELL</code>**:  Ruta absoluta de la *shell*.\n",
        "      - **<code>PATH</code>**:  Lista de rutas donde se encuentran los ejecutables de los comandos.\n",
        "      - **<code>PS1</code>**: El valor de esta variable se utiliza como inductor de órdenes primario (<code>prompt</code>) del intérprete de órdenes.\n",
        "      - **<code>PS2</code>**: El valor de esta variable se utiliza como inductor de órdenes secundario (por ejemplo, cuando se introducen bucles) del intérprete de órdenes.\n",
        "      - **<code>?</code>**: Valor decimal retornado por la última orden ejecutada; si es 0 indica que la orden se ejecutó correctamente, mientras que si es 1 indica que hubo algún tipo de error. Si es mayor que 1 significa que el proceso terminó como consecuencia de haber recibido una **señal**.\n",
        "      - **Conjunto de variables <code>\\$</code>**: Existe un conjunto de variables de entorno muy usadas en *scripts* que recogen información sobre el entorno y la ejecución actual, caracterizadas por empezar por el carácter \"\\$\". Existen muchas variables de este tipo, entre las que destacan <code>\\$0</code> (muestra el nombre del *script* que se está ejecutando), <code>\\$#</code> (muestra el número de argumentos que se ha pasado a un *script*) o <code>\\$!</code> (contiene el *PID* del último proceso ejecutado en segundo plano).\n",
        "\n",
        "      \n",
        "  Con el comando <code>printenv</code> o <code>env</code>, se pueden ver todas las variables de entorno del sistema.\n",
        "\n",
        "  **Ejemplo**: Se muestran todas las variables del entorno:\n",
        "  </div>"
      ]
    },
    {
      "cell_type": "code",
      "execution_count": null,
      "id": "CjPul2r1BrU9",
      "metadata": {
        "colab": {
          "base_uri": "https://localhost:8080/"
        },
        "id": "CjPul2r1BrU9",
        "outputId": "8810e932-121d-4876-c7dd-e6cec4e5c420"
      },
      "outputs": [
        {
          "name": "stdout",
          "output_type": "stream",
          "text": [
            "SHELL=/bin/bash\n",
            "NV_LIBCUBLAS_VERSION=12.2.5.6-1\n",
            "NVIDIA_VISIBLE_DEVICES=all\n",
            "COLAB_JUPYTER_TRANSPORT=ipc\n",
            "NV_NVML_DEV_VERSION=12.2.140-1\n",
            "NV_CUDNN_PACKAGE_NAME=libcudnn8\n",
            "CGROUP_MEMORY_EVENTS=/sys/fs/cgroup/memory.events /var/colab/cgroup/jupyter-children/memory.events\n",
            "NV_LIBNCCL_DEV_PACKAGE=libnccl-dev=2.19.3-1+cuda12.2\n",
            "NV_LIBNCCL_DEV_PACKAGE_VERSION=2.19.3-1\n",
            "VM_GCE_METADATA_HOST=169.254.169.253\n",
            "HOSTNAME=6acd3a7b2050\n",
            "LANGUAGE=en_US\n",
            "TBE_RUNTIME_ADDR=172.28.0.1:8011\n",
            "COLAB_TPU_1VM=\n",
            "GCE_METADATA_TIMEOUT=3\n",
            "NVIDIA_REQUIRE_CUDA=cuda>=12.2 brand=tesla,driver>=470,driver<471 brand=unknown,driver>=470,driver<471 brand=nvidia,driver>=470,driver<471 brand=nvidiartx,driver>=470,driver<471 brand=geforce,driver>=470,driver<471 brand=geforcertx,driver>=470,driver<471 brand=quadro,driver>=470,driver<471 brand=quadrortx,driver>=470,driver<471 brand=titan,driver>=470,driver<471 brand=titanrtx,driver>=470,driver<471 brand=tesla,driver>=525,driver<526 brand=unknown,driver>=525,driver<526 brand=nvidia,driver>=525,driver<526 brand=nvidiartx,driver>=525,driver<526 brand=geforce,driver>=525,driver<526 brand=geforcertx,driver>=525,driver<526 brand=quadro,driver>=525,driver<526 brand=quadrortx,driver>=525,driver<526 brand=titan,driver>=525,driver<526 brand=titanrtx,driver>=525,driver<526\n",
            "NV_LIBCUBLAS_DEV_PACKAGE=libcublas-dev-12-2=12.2.5.6-1\n",
            "NV_NVTX_VERSION=12.2.140-1\n",
            "COLAB_JUPYTER_IP=172.28.0.12\n",
            "NV_CUDA_CUDART_DEV_VERSION=12.2.140-1\n",
            "NV_LIBCUSPARSE_VERSION=12.1.2.141-1\n",
            "COLAB_LANGUAGE_SERVER_PROXY_ROOT_URL=http://172.28.0.1:8013/\n",
            "NV_LIBNPP_VERSION=12.2.1.4-1\n",
            "NCCL_VERSION=2.19.3-1\n",
            "KMP_LISTEN_PORT=6000\n",
            "TF_FORCE_GPU_ALLOW_GROWTH=true\n",
            "ENV=/root/.bashrc\n",
            "PWD=/content\n",
            "TBE_EPHEM_CREDS_ADDR=172.28.0.1:8009\n",
            "COLAB_LANGUAGE_SERVER_PROXY_REQUEST_TIMEOUT=30s\n",
            "TBE_CREDS_ADDR=172.28.0.1:8008\n",
            "NV_CUDNN_PACKAGE=libcudnn8=8.9.6.50-1+cuda12.2\n",
            "NVIDIA_DRIVER_CAPABILITIES=compute,utility\n",
            "COLAB_JUPYTER_TOKEN=\n",
            "LAST_FORCED_REBUILD=20241007\n",
            "NV_NVPROF_DEV_PACKAGE=cuda-nvprof-12-2=12.2.142-1\n",
            "NV_LIBNPP_PACKAGE=libnpp-12-2=12.2.1.4-1\n",
            "NV_LIBNCCL_DEV_PACKAGE_NAME=libnccl-dev\n",
            "TCLLIBPATH=/usr/share/tcltk/tcllib1.20\n",
            "NV_LIBCUBLAS_DEV_VERSION=12.2.5.6-1\n",
            "COLAB_KERNEL_MANAGER_PROXY_HOST=172.28.0.12\n",
            "NVIDIA_PRODUCT_NAME=CUDA\n",
            "NV_LIBCUBLAS_DEV_PACKAGE_NAME=libcublas-dev-12-2\n",
            "USE_AUTH_EPHEM=1\n",
            "NV_CUDA_CUDART_VERSION=12.2.140-1\n",
            "COLAB_WARMUP_DEFAULTS=1\n",
            "HOME=/root\n",
            "LANG=en_US.UTF-8\n",
            "COLUMNS=100\n",
            "CUDA_VERSION=12.2.2\n",
            "CLOUDSDK_CONFIG=/content/.config\n",
            "NV_LIBCUBLAS_PACKAGE=libcublas-12-2=12.2.5.6-1\n",
            "NV_CUDA_NSIGHT_COMPUTE_DEV_PACKAGE=cuda-nsight-compute-12-2=12.2.2-1\n",
            "COLAB_RELEASE_TAG=release-colab_20241021-060107_RC00\n",
            "PYDEVD_USE_FRAME_EVAL=NO\n",
            "KMP_TARGET_PORT=9000\n",
            "CLICOLOR=1\n",
            "KMP_EXTRA_ARGS=--logtostderr --listen_host=172.28.0.12 --target_host=172.28.0.12 --tunnel_background_save_url=https://colab.research.google.com/tun/m/cc48301118ce562b961b3c22d803539adc1e0c19/m-s-14oulcz17b5ut --tunnel_background_save_delay=10s --tunnel_periodic_background_save_frequency=30m0s --enable_output_coalescing=true --output_coalescing_required=true\n",
            "NV_LIBNPP_DEV_PACKAGE=libnpp-dev-12-2=12.2.1.4-1\n",
            "COLAB_LANGUAGE_SERVER_PROXY_LSP_DIRS=/datalab/web/pyright/typeshed-fallback/stdlib,/usr/local/lib/python3.10/dist-packages\n",
            "NV_LIBCUBLAS_PACKAGE_NAME=libcublas-12-2\n",
            "COLAB_KERNEL_MANAGER_PROXY_PORT=6000\n",
            "CLOUDSDK_PYTHON=python3\n",
            "NV_LIBNPP_DEV_VERSION=12.2.1.4-1\n",
            "ENABLE_DIRECTORYPREFETCHER=1\n",
            "NO_GCE_CHECK=False\n",
            "JPY_PARENT_PID=91\n",
            "PYTHONPATH=/env/python\n",
            "TERM=xterm-color\n",
            "NV_LIBCUSPARSE_DEV_VERSION=12.1.2.141-1\n",
            "GIT_PAGER=cat\n",
            "LIBRARY_PATH=/usr/local/cuda/lib64/stubs\n",
            "NV_CUDNN_VERSION=8.9.6.50\n",
            "SHLVL=0\n",
            "PAGER=cat\n",
            "COLAB_LANGUAGE_SERVER_PROXY=/usr/colab/bin/language_service\n",
            "NV_CUDA_LIB_VERSION=12.2.2-1\n",
            "NVARCH=x86_64\n",
            "NV_CUDNN_PACKAGE_DEV=libcudnn8-dev=8.9.6.50-1+cuda12.2\n",
            "NV_CUDA_COMPAT_PACKAGE=cuda-compat-12-2\n",
            "MPLBACKEND=module://ipykernel.pylab.backend_inline\n",
            "NV_LIBNCCL_PACKAGE=libnccl2=2.19.3-1+cuda12.2\n",
            "LD_LIBRARY_PATH=/usr/local/nvidia/lib:/usr/local/nvidia/lib64\n",
            "COLAB_GPU=\n",
            "GCS_READ_CACHE_BLOCK_SIZE_MB=16\n",
            "NV_CUDA_NSIGHT_COMPUTE_VERSION=12.2.2-1\n",
            "NV_NVPROF_VERSION=12.2.142-1\n",
            "LC_ALL=en_US.UTF-8\n",
            "COLAB_FILE_HANDLER_ADDR=localhost:3453\n",
            "PATH=/opt/bin:/usr/local/nvidia/bin:/usr/local/cuda/bin:/usr/local/sbin:/usr/local/bin:/usr/sbin:/usr/bin:/sbin:/bin:/tools/node/bin:/tools/google-cloud-sdk/bin\n",
            "NV_LIBNCCL_PACKAGE_NAME=libnccl2\n",
            "COLAB_DEBUG_ADAPTER_MUX_PATH=/usr/local/bin/dap_multiplexer\n",
            "NV_LIBNCCL_PACKAGE_VERSION=2.19.3-1\n",
            "PYTHONWARNINGS=ignore:::pip._internal.cli.base_command\n",
            "DEBIAN_FRONTEND=noninteractive\n",
            "COLAB_BACKEND_VERSION=next\n",
            "OLDPWD=/\n",
            "_=/usr/bin/env\n"
          ]
        },
        {
          "data": {
            "text/plain": []
          },
          "execution_count": 10,
          "metadata": {},
          "output_type": "execute_result"
        }
      ],
      "source": [
        "%%shell\n",
        "env"
      ]
    },
    {
      "cell_type": "markdown",
      "id": "UH3JplGjm4xf",
      "metadata": {
        "id": "UH3JplGjm4xf"
      },
      "source": [
        "<div style=\"font-size: 17px\">\n",
        "\n",
        "Para que una variable *shell* sea accesible por procesos hijos, se usa la orden <code>export</code> para realizar este cambio:\n",
        "</div>"
      ]
    },
    {
      "cell_type": "code",
      "execution_count": null,
      "id": "FfFyEBDknBwe",
      "metadata": {
        "colab": {
          "base_uri": "https://localhost:8080/"
        },
        "id": "FfFyEBDknBwe",
        "outputId": "dd0a4c21-f26d-49d3-e5bf-bb9dc83300ad"
      },
      "outputs": [
        {
          "data": {
            "text/plain": []
          },
          "execution_count": 11,
          "metadata": {},
          "output_type": "execute_result"
        }
      ],
      "source": [
        "%%shell\n",
        "export VAR=\"Hola Mundo\""
      ]
    },
    {
      "cell_type": "markdown",
      "id": "08361c40",
      "metadata": {},
      "source": [
        "<h3>Diferencias entre Variables Locales y Variables de Entorno</h3>"
      ]
    },
    {
      "cell_type": "markdown",
      "id": "4fdf28fb",
      "metadata": {},
      "source": [
        "| **Criterio**            | **Variables Locales del *Shell*** | **Variables de Entorno** |\n",
        "|-------------------------|--------------------------------|------------------------|\n",
        "| **Definición**          | Son variables creadas dentro de una sesión de *shell* y solo accesibles en ella. | Son variables del *shell* que han sido exportadas y pueden ser accedidas por procesos hijos. |\n",
        "| **Alcance**             | Solo dentro del *shell* donde se definen. No se heredan a procesos hijos. | Global dentro de la sesión y heredadas a procesos hijos. |\n",
        "| **Persistencia**        | Existen solo en la sesión actual y desaparecen al cerrarla. | También desaparecen al cerrar la sesión, a menos que se definan en archivos de configuración permanente. |\n",
        "| **Dónde se almacenan**  | En la memoria del proceso del *shell* actual. | En la memoria del sistema y heredadas por procesos hijos. |\n",
        "| **Cómo se definen**     | Con una simple asignación: <br> `MI_VAR=\"Hola\"` | Con `export` para que sean accesibles a procesos hijos: <br> `export MI_VAR=\"Hola\"` |\n",
        "| **Cómo se modifican**   | Se reasignan con una simple asignación. | Se reasignan con `export` o en un archivo de configuración. |\n",
        "| **Cómo se eliminan**    | Con `unset NOMBRE_VAR`. | Con `unset NOMBRE_VAR`. |\n",
        "| **Ejemplo de alcance**  | `MI_VAR=\"Hola\"` en un terminal y ejecutar un script con `echo $MI_VAR` → No imprimirá nada. | `export MI_VAR=\"Hola\"` en un terminal y ejecutar un script con `echo $MI_VAR` → Imprimirá \"Hola\". |"
      ]
    },
    {
      "cell_type": "markdown",
      "id": "a59ca05c",
      "metadata": {},
      "source": [
        "<h2>Archivos de configuración</h2>"
      ]
    },
    {
      "cell_type": "markdown",
      "id": "9254eb5c",
      "metadata": {},
      "source": [
        "<div style=\"font-size: 17px\">\n",
        "\n",
        "*Linux* cuenta con gran variedad de funcionalidades y servicios, cada uno con distintos parámetros que determinan su comportamiento y modo de operación. Desde la gestión de usuarios y permisos hasta la configuración de servicios y aplicaciones, es esencial contar con un mecanismo que permita definirlos de manera precisa y estructurada para que el sistema funcione de manera adecuada y pueda adaptarse a diferentes necesidades. Para ello, el sistema utiliza un conjunto de archivos específicos donde se registran estas configuraciones, conocidos como **archivos de configuración**.\n",
        "\n",
        "Los archivos de configuración en *Linux* se encuentran en diversas ubicaciones, dependiendo de su propósito. Algunas de las rutas más utilizadas incluyen las siguientes:\n",
        "\n",
        "- **<code>/etc/</code>**: Contiene la mayoría de los archivos de configuración del sistema y de los servicios globales.  \n",
        "  **Ejemplo:** \"/etc/passwd\" (gestión de usuarios), \"/etc/ssh/sshd_config\" (configuración del servidor *SSH*).\n",
        "\n",
        "- **<code>~/.config/</code>**: Almacena configuraciones específicas del usuario para aplicaciones modernas que siguen el estándar *XDG Base Directory*.  \n",
        "  **Ejemplo:** \"~/.config/gtk-3.0/settings.ini\" (configuración de *GTK*).\n",
        "\n",
        "- **<code>/usr/local/etc/</code>**: Se usa para la configuración de programas instalados manualmente en <code>/usr/local/</code>, en lugar de los gestionados por el sistema.  \n",
        "  **Ejemplo:** \"/usr/local/etc/nginx/nginx.conf\" (configuración de *Nginx* instalado manualmente).\n",
        "\n",
        "- **<code>/var/lib/</code>**: Algunos programas almacenan configuraciones dinámicas o datos de estado aquí, aunque no es un directorio estándar para archivos de configuración.  \n",
        "  **Ejemplo:** <code>/var/lib/mysql/</code> (datos de bases de datos MySQL).\n",
        "\n",
        "A continuación, se describen los archivos de configuración más importantes en <code>/etc</code>:\n",
        "\n",
        "| Archivo                        | Función                                                           |\n",
        "|--------------------------------|-------------------------------------------------------------------|\n",
        "| <code>/etc/hosts</code>        | Define asociaciones entre nombres de *host* y direcciones *IP*.   |\n",
        "| <code>/etc/fstab</code>        | Especifica los sistemas de archivos que deben montarse al inicio. |\n",
        "| <code>/etc/passwd</code>       | Contiene información sobre las cuentas de usuario.                |\n",
        "| <code>/etc/shadow</code>          | Almacena las contraseñas encriptadas de los usuarios.                |\n",
        "| <code>/etc/group</code>        | Define los grupos del sistema.                                    |\n",
        "| <code>/etc/resolv.conf</code>  | Configura los servidores *DNS*.                                   |\n",
        "| <code>/etc/sysctl.conf</code>  | Permite modificar parámetros del *kernel*.                        |\n",
        "| <code>/etc/hostname</code>     | Define el nombre del equipo.                                      |\n",
        "| <code>/etc/crontab</code>      | Permite programar tareas automatizadas.                           |\n",
        "| <code>/etc/sudoers</code>      | Controla los permisos de sudo (administrador).                    |\n",
        "| <code>/etc/profile</code>       | Configuraciones globales del *shell* para todos los usuarios. |\n",
        "| <code>/etc/bash.bashrc</code>   | Archivo global de configuración de <code>bashrc</code> para todos los usuarios. |\n",
        "</div>"
      ]
    },
    {
      "cell_type": "markdown",
      "id": "fda33c92",
      "metadata": {},
      "source": [
        "<h3>Ejercicios</h3>"
      ]
    },
    {
      "cell_type": "markdown",
      "id": "c5fb9952",
      "metadata": {},
      "source": [
        "<div style=\"font-size: 17px\">\n",
        "Consulta las rutas donde se encuentran los archivos ejecutables usando una variable de entorno:\n",
        "</div>"
      ]
    },
    {
      "cell_type": "code",
      "execution_count": null,
      "id": "a69a6610",
      "metadata": {},
      "outputs": [],
      "source": [
        "%%shell\n",
        "#Borra este comentario e introduce aquí el/los comando/s necesario/s"
      ]
    },
    {
      "cell_type": "markdown",
      "id": "ba422d3f",
      "metadata": {},
      "source": [
        "<div style=\"font-size: 17px\">\n",
        "Crea una nueva variable de entorno y comprueba que se haya añadido correctamente:\n",
        "</div>"
      ]
    },
    {
      "cell_type": "code",
      "execution_count": null,
      "id": "38febb00",
      "metadata": {},
      "outputs": [],
      "source": [
        "%%shell\n",
        "#Borra este comentario e introduce aquí el/los comando/s necesario/s"
      ]
    },
    {
      "cell_type": "markdown",
      "id": "391c9ef4",
      "metadata": {},
      "source": [
        "<div style=\"font-size: 17px\">\n",
        "Crea y rellena las variables pedidas para completar la siguiente frase:\n",
        "</div>"
      ]
    },
    {
      "cell_type": "code",
      "execution_count": null,
      "id": "9b96aaa4",
      "metadata": {},
      "outputs": [],
      "source": [
        "%%shell\n",
        "#Borra este comentario e introduce aquí el/los comando/s necesario/s\n",
        "echo \"En la máquina $MAQUINA la shell de encuentra en $RUTASHELL\""
      ]
    },
    {
      "cell_type": "markdown",
      "id": "d0ee13d4",
      "metadata": {},
      "source": [
        "<div style=\"font-size: 17px\">\n",
        "\n",
        "El siguiente *shell script* denominado \"scriptprueba.sh\" muestra un breve mensaje almacenado en la variable <code>TEXT</code>. Define el texto a mostrar y permite al *script* usar la variable solo la segunda vez que se ejecute:\n",
        "```\n",
        "1. #!/bin/bash\n",
        "3. echo $TEXT\n",
        "```\n",
        "\n",
        "</div>"
      ]
    },
    {
      "cell_type": "code",
      "execution_count": null,
      "id": "8a7816d3",
      "metadata": {},
      "outputs": [],
      "source": [
        "%%shell\n",
        "echo '#!/bin/bash' > scriptprueba.sh\n",
        "echo 'echo $TEXT' >> scriptprueba.sh\n",
        "#Borra este comentario e introduce aquí el/los comando/s necesario/s\n",
        "bash scriptprueba.sh\n",
        "#Borra este comentario e introduce aquí el/los comando/s necesario/s\n",
        "bash scriptprueba.sh\n",
        "\n",
        "rm scriptprueba.sh"
      ]
    },
    {
      "cell_type": "markdown",
      "id": "0ad4eea0",
      "metadata": {},
      "source": [
        "<div style=\"font-size: 17px\">\n",
        "\n",
        "Compara el nombre del equipo mostrado utilizando variables de entorno y archivos de configuración. ¿Es el mismo?\n",
        "</div>"
      ]
    },
    {
      "cell_type": "code",
      "execution_count": null,
      "id": "d37184d6",
      "metadata": {},
      "outputs": [],
      "source": [
        "%%shell\n",
        "#Borra este comentario e introduce aquí el/los comando/s necesario/s"
      ]
    }
  ],
  "metadata": {
    "colab": {
      "provenance": []
    },
    "kernelspec": {
      "display_name": "Python 3 (ipykernel)",
      "language": "python",
      "name": "python3"
    },
    "language_info": {
      "codemirror_mode": {
        "name": "ipython",
        "version": 3
      },
      "file_extension": ".py",
      "mimetype": "text/x-python",
      "name": "python",
      "nbconvert_exporter": "python",
      "pygments_lexer": "ipython3",
      "version": "3.11.4"
    }
  },
  "nbformat": 4,
  "nbformat_minor": 5
}
