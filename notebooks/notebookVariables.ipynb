{
  "cells": [
    {
      "cell_type": "markdown",
      "id": "56371638-880a-4e02-9544-c2f9709c0372",
      "metadata": {
        "id": "56371638-880a-4e02-9544-c2f9709c0372"
      },
      "source": [
        "<!--NAVIGATION-->\n",
        "\n",
        "\n",
        "<a href=\"https://colab.research.google.com/github/msantana0612/TFG/blob/main/notebooks/notebookVariables.ipynb\" target=\"_blank\" rel=\"noopener noreferrer\"><img align=\"left\" src=\"https://colab.research.google.com/assets/colab-badge.svg\" alt=\"Open in Colab\" title=\"Open and Execute in Google Colaboratory\"></a>"
      ]
    },
    {
      "cell_type": "markdown",
      "id": "ZurIahLNeLG9",
      "metadata": {
        "id": "ZurIahLNeLG9"
      },
      "source": [
        "<h1>Variables shell y variables de entorno</h1>"
      ]
    },
    {
      "cell_type": "markdown",
      "id": "AB682ImFeLPv",
      "metadata": {
        "id": "AB682ImFeLPv"
      },
      "source": [
        "<div style=\"font-size: 17px\">\n",
        "\n",
        "En Linux, cuando trabajamos con la terminal, nos encontramos con dos tipos de variables clave: variables de entorno y variables de shell. Aunque ambas son fundamentales para la gestión de la configuración y el funcionamiento del sistema, tienen características y usos diferentes.\n",
        "\n",
        "  - Las variables de entorno son pares de clave-valor que contienen información accesible por todos los procesos en el sistema, como el usuario, los scripts y las aplicaciones. Estas variables son \"globales\" en el sentido de que cualquier proceso hijo que se ejecute desde la terminal puede acceder a ellas. Ejemplos de variables de entorno definidas por el sistema son:\n",
        "\n",
        "      - **<code>HOSTNAME</code>**:  Nombre de la máquina en la que se está trabajando.\n",
        "      - **<code>USER</code>**:  Nombre del usuario actual.\n",
        "      - **<code>UID</code>**:  Número identificador del usuario actual.\n",
        "      - **<code>HOME</code>**:  Ruta absoluta del directorio personal de <code>USER</code>.\n",
        "      - **<code>PWD</code>**:  Ruta absoluta del directorio de trabajo (muestra lo mismo que la orden <code>pwd</code>).\n",
        "      - **<code>SHELL</code>**:  Ruta absoluta de la shell.\n",
        "      - **<code>PATH</code>**:  Lista de rutas donde se encuentran los ejecutables de los comandos.\n",
        "      - **<code>PS1</code>**: El valor de esta variable se utiliza como inductor de órdenes primario (<code>prompt</code>) del intérprete de órdenes.\n",
        "      - **<code>PS2</code>**: El valor de esta variable se utiliza como inductor de órdenes secundario (por ejemplo, cuando se introducen bucles) del intérprete de órdenes.\n",
        "      - **<code>?</code>**: Valor decimal retornado por la última orden ejecutada; si es 0 indica que la orden se ejecutó correctamente, mientras que si es 1 indica que hubo algún tipo de error. Si es mayor que 1 significa que el proceso terminó como consecuencia de haber recibido una **señal**.\n",
        "      - **Conjunto de variables <code>$</code>**: Existe un conjunto de variables de entorno muy usadas en scripts que recogen información sobre el entorno y la ejecución actual, caracterizadas por empezar por el carácter \"$\". Existen muchas variables de este tipo, entre las que destacan <code>$0</code> (muestra el nombre del script que se está ejecutando), <code>$#</code> (muestra el número de argumentos que se ha pasado a un script) o <code>$!</code> (contiene el PID del último proceso ejecutado en segundo plano).\n",
        "\n",
        "      \n",
        "  Con el comando <code>printenv</code> o <code>env</code>, podemos ver todas las variables de entorno del sistema:\n",
        "  </div>"
      ]
    },
    {
      "cell_type": "code",
      "source": [
        "%%shell\n",
        "echo \"This script is called: $#\""
      ],
      "metadata": {
        "id": "E7W1AsKIXmGP",
        "outputId": "c60e245b-2527-4425-e396-ab081ffb37e0",
        "colab": {
          "base_uri": "https://localhost:8080/"
        }
      },
      "id": "E7W1AsKIXmGP",
      "execution_count": 2,
      "outputs": [
        {
          "output_type": "stream",
          "name": "stdout",
          "text": [
            "This script is called: 0\n"
          ]
        },
        {
          "output_type": "execute_result",
          "data": {
            "text/plain": []
          },
          "metadata": {},
          "execution_count": 2
        }
      ]
    },
    {
      "cell_type": "code",
      "execution_count": null,
      "id": "CjPul2r1BrU9",
      "metadata": {
        "colab": {
          "base_uri": "https://localhost:8080/"
        },
        "id": "CjPul2r1BrU9",
        "outputId": "8810e932-121d-4876-c7dd-e6cec4e5c420"
      },
      "outputs": [
        {
          "name": "stdout",
          "output_type": "stream",
          "text": [
            "SHELL=/bin/bash\n",
            "NV_LIBCUBLAS_VERSION=12.2.5.6-1\n",
            "NVIDIA_VISIBLE_DEVICES=all\n",
            "COLAB_JUPYTER_TRANSPORT=ipc\n",
            "NV_NVML_DEV_VERSION=12.2.140-1\n",
            "NV_CUDNN_PACKAGE_NAME=libcudnn8\n",
            "CGROUP_MEMORY_EVENTS=/sys/fs/cgroup/memory.events /var/colab/cgroup/jupyter-children/memory.events\n",
            "NV_LIBNCCL_DEV_PACKAGE=libnccl-dev=2.19.3-1+cuda12.2\n",
            "NV_LIBNCCL_DEV_PACKAGE_VERSION=2.19.3-1\n",
            "VM_GCE_METADATA_HOST=169.254.169.253\n",
            "HOSTNAME=6acd3a7b2050\n",
            "LANGUAGE=en_US\n",
            "TBE_RUNTIME_ADDR=172.28.0.1:8011\n",
            "COLAB_TPU_1VM=\n",
            "GCE_METADATA_TIMEOUT=3\n",
            "NVIDIA_REQUIRE_CUDA=cuda>=12.2 brand=tesla,driver>=470,driver<471 brand=unknown,driver>=470,driver<471 brand=nvidia,driver>=470,driver<471 brand=nvidiartx,driver>=470,driver<471 brand=geforce,driver>=470,driver<471 brand=geforcertx,driver>=470,driver<471 brand=quadro,driver>=470,driver<471 brand=quadrortx,driver>=470,driver<471 brand=titan,driver>=470,driver<471 brand=titanrtx,driver>=470,driver<471 brand=tesla,driver>=525,driver<526 brand=unknown,driver>=525,driver<526 brand=nvidia,driver>=525,driver<526 brand=nvidiartx,driver>=525,driver<526 brand=geforce,driver>=525,driver<526 brand=geforcertx,driver>=525,driver<526 brand=quadro,driver>=525,driver<526 brand=quadrortx,driver>=525,driver<526 brand=titan,driver>=525,driver<526 brand=titanrtx,driver>=525,driver<526\n",
            "NV_LIBCUBLAS_DEV_PACKAGE=libcublas-dev-12-2=12.2.5.6-1\n",
            "NV_NVTX_VERSION=12.2.140-1\n",
            "COLAB_JUPYTER_IP=172.28.0.12\n",
            "NV_CUDA_CUDART_DEV_VERSION=12.2.140-1\n",
            "NV_LIBCUSPARSE_VERSION=12.1.2.141-1\n",
            "COLAB_LANGUAGE_SERVER_PROXY_ROOT_URL=http://172.28.0.1:8013/\n",
            "NV_LIBNPP_VERSION=12.2.1.4-1\n",
            "NCCL_VERSION=2.19.3-1\n",
            "KMP_LISTEN_PORT=6000\n",
            "TF_FORCE_GPU_ALLOW_GROWTH=true\n",
            "ENV=/root/.bashrc\n",
            "PWD=/content\n",
            "TBE_EPHEM_CREDS_ADDR=172.28.0.1:8009\n",
            "COLAB_LANGUAGE_SERVER_PROXY_REQUEST_TIMEOUT=30s\n",
            "TBE_CREDS_ADDR=172.28.0.1:8008\n",
            "NV_CUDNN_PACKAGE=libcudnn8=8.9.6.50-1+cuda12.2\n",
            "NVIDIA_DRIVER_CAPABILITIES=compute,utility\n",
            "COLAB_JUPYTER_TOKEN=\n",
            "LAST_FORCED_REBUILD=20241007\n",
            "NV_NVPROF_DEV_PACKAGE=cuda-nvprof-12-2=12.2.142-1\n",
            "NV_LIBNPP_PACKAGE=libnpp-12-2=12.2.1.4-1\n",
            "NV_LIBNCCL_DEV_PACKAGE_NAME=libnccl-dev\n",
            "TCLLIBPATH=/usr/share/tcltk/tcllib1.20\n",
            "NV_LIBCUBLAS_DEV_VERSION=12.2.5.6-1\n",
            "COLAB_KERNEL_MANAGER_PROXY_HOST=172.28.0.12\n",
            "NVIDIA_PRODUCT_NAME=CUDA\n",
            "NV_LIBCUBLAS_DEV_PACKAGE_NAME=libcublas-dev-12-2\n",
            "USE_AUTH_EPHEM=1\n",
            "NV_CUDA_CUDART_VERSION=12.2.140-1\n",
            "COLAB_WARMUP_DEFAULTS=1\n",
            "HOME=/root\n",
            "LANG=en_US.UTF-8\n",
            "COLUMNS=100\n",
            "CUDA_VERSION=12.2.2\n",
            "CLOUDSDK_CONFIG=/content/.config\n",
            "NV_LIBCUBLAS_PACKAGE=libcublas-12-2=12.2.5.6-1\n",
            "NV_CUDA_NSIGHT_COMPUTE_DEV_PACKAGE=cuda-nsight-compute-12-2=12.2.2-1\n",
            "COLAB_RELEASE_TAG=release-colab_20241021-060107_RC00\n",
            "PYDEVD_USE_FRAME_EVAL=NO\n",
            "KMP_TARGET_PORT=9000\n",
            "CLICOLOR=1\n",
            "KMP_EXTRA_ARGS=--logtostderr --listen_host=172.28.0.12 --target_host=172.28.0.12 --tunnel_background_save_url=https://colab.research.google.com/tun/m/cc48301118ce562b961b3c22d803539adc1e0c19/m-s-14oulcz17b5ut --tunnel_background_save_delay=10s --tunnel_periodic_background_save_frequency=30m0s --enable_output_coalescing=true --output_coalescing_required=true\n",
            "NV_LIBNPP_DEV_PACKAGE=libnpp-dev-12-2=12.2.1.4-1\n",
            "COLAB_LANGUAGE_SERVER_PROXY_LSP_DIRS=/datalab/web/pyright/typeshed-fallback/stdlib,/usr/local/lib/python3.10/dist-packages\n",
            "NV_LIBCUBLAS_PACKAGE_NAME=libcublas-12-2\n",
            "COLAB_KERNEL_MANAGER_PROXY_PORT=6000\n",
            "CLOUDSDK_PYTHON=python3\n",
            "NV_LIBNPP_DEV_VERSION=12.2.1.4-1\n",
            "ENABLE_DIRECTORYPREFETCHER=1\n",
            "NO_GCE_CHECK=False\n",
            "JPY_PARENT_PID=91\n",
            "PYTHONPATH=/env/python\n",
            "TERM=xterm-color\n",
            "NV_LIBCUSPARSE_DEV_VERSION=12.1.2.141-1\n",
            "GIT_PAGER=cat\n",
            "LIBRARY_PATH=/usr/local/cuda/lib64/stubs\n",
            "NV_CUDNN_VERSION=8.9.6.50\n",
            "SHLVL=0\n",
            "PAGER=cat\n",
            "COLAB_LANGUAGE_SERVER_PROXY=/usr/colab/bin/language_service\n",
            "NV_CUDA_LIB_VERSION=12.2.2-1\n",
            "NVARCH=x86_64\n",
            "NV_CUDNN_PACKAGE_DEV=libcudnn8-dev=8.9.6.50-1+cuda12.2\n",
            "NV_CUDA_COMPAT_PACKAGE=cuda-compat-12-2\n",
            "MPLBACKEND=module://ipykernel.pylab.backend_inline\n",
            "NV_LIBNCCL_PACKAGE=libnccl2=2.19.3-1+cuda12.2\n",
            "LD_LIBRARY_PATH=/usr/local/nvidia/lib:/usr/local/nvidia/lib64\n",
            "COLAB_GPU=\n",
            "GCS_READ_CACHE_BLOCK_SIZE_MB=16\n",
            "NV_CUDA_NSIGHT_COMPUTE_VERSION=12.2.2-1\n",
            "NV_NVPROF_VERSION=12.2.142-1\n",
            "LC_ALL=en_US.UTF-8\n",
            "COLAB_FILE_HANDLER_ADDR=localhost:3453\n",
            "PATH=/opt/bin:/usr/local/nvidia/bin:/usr/local/cuda/bin:/usr/local/sbin:/usr/local/bin:/usr/sbin:/usr/bin:/sbin:/bin:/tools/node/bin:/tools/google-cloud-sdk/bin\n",
            "NV_LIBNCCL_PACKAGE_NAME=libnccl2\n",
            "COLAB_DEBUG_ADAPTER_MUX_PATH=/usr/local/bin/dap_multiplexer\n",
            "NV_LIBNCCL_PACKAGE_VERSION=2.19.3-1\n",
            "PYTHONWARNINGS=ignore:::pip._internal.cli.base_command\n",
            "DEBIAN_FRONTEND=noninteractive\n",
            "COLAB_BACKEND_VERSION=next\n",
            "OLDPWD=/\n",
            "_=/usr/bin/env\n"
          ]
        },
        {
          "data": {
            "text/plain": []
          },
          "execution_count": 10,
          "metadata": {},
          "output_type": "execute_result"
        }
      ],
      "source": [
        "%%shell\n",
        "env"
      ]
    },
    {
      "cell_type": "markdown",
      "id": "ScCvdj4IAoRv",
      "metadata": {
        "id": "ScCvdj4IAoRv"
      },
      "source": [
        "<div style=\"font-size: 17px\">\n",
        "\n",
        "  - Las variables shell son aquellas que solo existen en la sesión de shell actual. Pueden ser tanto variables locales como variables de entorno, pero las locales solo están disponibles dentro de la sesión de terminal donde se crean, y no se transmiten automáticamente a los procesos hijos. <br>\n",
        "  Para crear una variable shell, se indica el nombre de la variable seguida del símbolo <code>=</code> y el valor que se le quiere dar, sin espacios. Para acceder al valor de cualquier variable, basta con usar el símbolo <code>$</code> antes de la variable:\n",
        "</div>"
      ]
    },
    {
      "cell_type": "code",
      "execution_count": null,
      "id": "shK8eps_kmIp",
      "metadata": {
        "colab": {
          "base_uri": "https://localhost:8080/"
        },
        "id": "shK8eps_kmIp",
        "outputId": "6febdf0e-1e65-4d14-9f0a-720d1fa02e81"
      },
      "outputs": [
        {
          "name": "stdout",
          "output_type": "stream",
          "text": [
            "VAR\n"
          ]
        },
        {
          "data": {
            "text/plain": []
          },
          "execution_count": 6,
          "metadata": {},
          "output_type": "execute_result"
        }
      ],
      "source": [
        "%%shell\n",
        "VAR=\"Hola Mundo\"\n",
        "echo VAR"
      ]
    },
    {
      "cell_type": "code",
      "execution_count": null,
      "id": "rmp5g-oy-Paa",
      "metadata": {
        "colab": {
          "base_uri": "https://localhost:8080/"
        },
        "id": "rmp5g-oy-Paa",
        "outputId": "4d426975-2135-4a7c-da99-e7f5ed04dd53"
      },
      "outputs": [
        {
          "name": "stdout",
          "output_type": "stream",
          "text": [
            "Hola Mundo\n"
          ]
        },
        {
          "data": {
            "text/plain": []
          },
          "execution_count": 7,
          "metadata": {},
          "output_type": "execute_result"
        }
      ],
      "source": [
        "%%shell\n",
        "VAR=\"Hola Mundo\"\n",
        "echo $VAR"
      ]
    },
    {
      "cell_type": "markdown",
      "id": "UH3JplGjm4xf",
      "metadata": {
        "id": "UH3JplGjm4xf"
      },
      "source": [
        "<div style=\"font-size: 17px\">\n",
        "Si queremos que una variable shell se importe a procesos hijos, podemos usar la orden <code>export</code> para realizar este cambio:\n",
        "</div>"
      ]
    },
    {
      "cell_type": "code",
      "execution_count": null,
      "id": "FfFyEBDknBwe",
      "metadata": {
        "colab": {
          "base_uri": "https://localhost:8080/"
        },
        "id": "FfFyEBDknBwe",
        "outputId": "dd0a4c21-f26d-49d3-e5bf-bb9dc83300ad"
      },
      "outputs": [
        {
          "data": {
            "text/plain": []
          },
          "execution_count": 11,
          "metadata": {},
          "output_type": "execute_result"
        }
      ],
      "source": [
        "%%shell\n",
        "VAR=\"Hola Mundo\"\n",
        "export VAR"
      ]
    }
  ],
  "metadata": {
    "colab": {
      "provenance": []
    },
    "kernelspec": {
      "display_name": "Python 3 (ipykernel)",
      "language": "python",
      "name": "python3"
    },
    "language_info": {
      "codemirror_mode": {
        "name": "ipython",
        "version": 3
      },
      "file_extension": ".py",
      "mimetype": "text/x-python",
      "name": "python",
      "nbconvert_exporter": "python",
      "pygments_lexer": "ipython3",
      "version": "3.11.4"
    }
  },
  "nbformat": 4,
  "nbformat_minor": 5
}