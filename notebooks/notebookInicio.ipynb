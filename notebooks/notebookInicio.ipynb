{
 "cells": [
  {
   "cell_type": "markdown",
   "id": "2288f56a-1d55-40e3-ae6d-62865d2d5242",
   "metadata": {
    "id": "2288f56a-1d55-40e3-ae6d-62865d2d5242",
    "tags": []
   },
   "source": [
    "<h1>Inicio</h1>"
   ]
  },
  {
   "cell_type": "markdown",
   "id": "7f540935",
   "metadata": {
    "id": "7f540935"
   },
   "source": [
    "<div style=\"font-size: 17px\">\n",
    "\n",
    "¡Bienvenidos a **Aprendiendo la CLI de Linux**! \\\n",
    "**Aprendiendo la CLI de Linux** es una página web basada en un repositorio de GitHub que pretende explicar los conceptos básicos de la terminal de Linux y comandos útiles para poder empezar a utilizarla usando Jupyter Notebook. Jupyter Notebook permite introducir texto y celdas en las que introducir código para poder ejecutar, en este caso bash (lenguaje usado por la CLI).\n",
    "\n",
    "En la esquina superior derecha, al pulsar sobre el icono de GitHub, te llevará al repositorio origen de esta página web\n",
    "\n",
    "Está dividida en tres secciones principales:\n",
    "  - **Inicio**: Explica qué es **Aprendiendo la CLI de Linux**, los temas que explica y su organización (es esta página).\n",
    "  - **Temario**: Se compone de 6 unidades temáticas, que cada una explica conceptos diferentes. Las unidades cuentan con ejemplos prácticos además de las explicaciones. Las unidades son la siguientes:\n",
    "    - **Introducción**: Una breve introducción a los conceptos de Sistema Operativo, distribución y la terminal.\n",
    "    - **Comandos básicos**: Una colección de comandos básicos y comandos usados para la búsqueda de información.\n",
    "    - **El sistema de archivos**: Explica la organización de los archivos en sistemas Unix junto a órdenes útiles relacionadas con los el sistema de archivos y su contenido.\n",
    "    - **Permisos**: Explica qué son los permisos, para qué sirven y cómo manejarlos y modificarlos.\n",
    "    - **Enlaces**: Enseña los diferentes tipos de enlaces presentes en Linux y su utilidad.\n",
    "    - **Tipos de variables**: Introduce las diferentes variables que existen en la CLI y para qué sirve cada una.\n",
    "    - **Procesos**: Explica qué es un proceso, que función tienen, sus estados y comandos para monitorizar su actividad.\n",
    "    - **Redirecciones y tuberías**: Describe la utilidad de las redirecciones y las tuberías, junto con su uso.\n",
    "    - **Uso de filtros**: Explica qué es un filtro y menciona los filtros más usados y cómo usarlos.\n",
    "    - **Expresiones Regulares**: Introduce el concepto de expresión regular e introduce las diferentes formas de usarlas.\n",
    "    - **Instalación de paquetes**: Enseña la forma de instalar, actualizar y desinstalar software en Linux.\n",
    "    - **Empaquetado de archivos**: Enumera y explica los comandos que se pueden utilizar para comprimir y descomprimir archivos.\n",
    "    - **Uso de disco**: Introduce los comandos más utilizados en Linux para ver y gestionar el espacio de almacenaminto del sistema.\n",
    "  - **Autoevaluación**: Una colección breve de ejercicios junto a sus soluciones para ayudar al alumno a practicar más y ver si ha interiorizado los conceptos correctamente. Recomendado resolver los ejercicios primero antes de ver las soluciones (las soluciones están para comprobar si se han hecho bien los ejercicios, o si el resultado es el que se pide, porque no hay una única manera de hacer las cosas en Linux).\n",
    "\n",
    "Tanto en el temario como en las autoevaluaciones, en la parte superior hay un botón para poder abrir el Jupyter Notebook correspondiente en Google Colab. Google Colab permite ejecutar en la nube (sin descargar nada) las celdas con comandos para comprobar qué resultado tendría ejecutar esas órdenes. Para guardar el progreso de un Jupyter Notebook, puedes descargártelo, y más adelante volver a abrirlo para poder seguir con él.\\\n",
    "En todas las celdas la primera línea es <code>%%shell</code>, que sirve para indicar el lenguaje que queremos en la celda.\n",
    "</div>    "
   ]
  },
  {
   "cell_type": "code",
   "execution_count": null,
   "id": "52rM-MKWKdIk",
   "metadata": {
    "id": "52rM-MKWKdIk"
   },
   "outputs": [],
   "source": [
    "%%shell\n",
    "#Aquí van los comandos"
   ]
  },
  {
   "cell_type": "markdown",
   "id": "NpTjJDw2L6xu",
   "metadata": {
    "id": "NpTjJDw2L6xu"
   },
   "source": [
    "![Logo de Linux](https://raw.githubusercontent.com/msantana0612/TFG/gh-pages/images/logo-linux.png)"
   ]
  }
 ],
 "metadata": {
  "colab": {
   "provenance": []
  },
  "kernelspec": {
   "display_name": "Python 3 (ipykernel)",
   "language": "python",
   "name": "python3"
  },
  "language_info": {
   "codemirror_mode": {
    "name": "ipython",
    "version": 3
   },
   "file_extension": ".py",
   "mimetype": "text/x-python",
   "name": "python",
   "nbconvert_exporter": "python",
   "pygments_lexer": "ipython3",
   "version": "3.11.4"
  }
 },
 "nbformat": 4,
 "nbformat_minor": 5
}
