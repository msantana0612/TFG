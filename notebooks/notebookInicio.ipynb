{
 "cells": [
  {
   "cell_type": "markdown",
   "id": "2288f56a-1d55-40e3-ae6d-62865d2d5242",
   "metadata": {
    "id": "2288f56a-1d55-40e3-ae6d-62865d2d5242",
    "tags": []
   },
   "source": [
    "<h1>Inicio</h1>"
   ]
  },
  {
   "cell_type": "markdown",
   "id": "7f540935",
   "metadata": {
    "id": "7f540935"
   },
   "source": [
    "<div style=\"font-size: 17px\">\n",
    "\n",
    "¡Bienvenidos a **Aprendiendo la CLI de Linux**! \\\n",
    "**Aprendiendo la CLI de Linux** es una herramienta basada en un repositorio de *GitHub* cuyo objetivo es enseñar de forma interactiva los comandos básicos de *Linux* junto con los conocimientos necesarios para poder utilizarlos eficientemente y de forma autónoma. Para que el alumno pueda probar los comandos que se enseñan desde la propia herramienta, se usa *Jupyter Notebook*, que es un documento interactivo que permite combinar texto explicativo con imágenes, gráficos y celdas de código ejecutables en varios lenguajes como *Python*, *R*, *Julia* o *bash* (lenguaje usado por la *CLI*). Este formato permite que, mientras se aprende, se puedan ejecutar los comandos que se están aprendiendo para ver los resultados en el mismo documento.\n",
    "\n",
    "\n",
    "Esta herramienta está dividida en tres secciones principales:\n",
    "  - **Inicio**: Explica qué es **Aprendiendo la CLI de Linux**, sus partes, temas y organización.\n",
    "  - **Temario**: Está dividido en 7 bloques, que en total explican 14 unidades temáticas, que explican los conceptos básicos sobre la terminal y su uso. Las unidades cuentan tanto con ejemplos prácticos como ejercicios además de las explicaciones. Las unidades son la siguientes:\n",
    "    - **Introducción**: Una breve introducción a los conceptos de Sistema Operativo, distribución y la terminal.\n",
    "    - **Comandos básicos**: Una colección de comandos básicos y comandos útiles para la búsqueda de información.\n",
    "    - **El sistema de archivos**: Explica la organización de los archivos en sistemas *Unix* junto a órdenes útiles relacionadas con el sistema de archivos y su contenido.\n",
    "      - **Permisos**: Explica qué son los permisos, para qué sirven y cómo manejarlos y modificarlos.\n",
    "      - **Enlaces**: Enseña los diferentes tipos de enlaces presentes en *Linux* y su utilidad.\n",
    "    - **Variables y archivos de configuración**: Introduce los diferentes tipos de variables que existen en la *CLI* y para qué sirve cada una.\n",
    "    - **Procesos**: Explica qué es un proceso, que función tienen, sus estados y comandos para monitorizar su actividad.\n",
    "    - **Comunicación y sincronización de procesos**\n",
    "      - **Redirecciones y tuberías**: Describe la utilidad de las redirecciones y las tuberías, junto con su uso.\n",
    "      - **Uso de filtros**: Explica qué es un filtro y menciona los filtros más usados y cómo usarlos.\n",
    "      - **Señales**: Presenta las señales en Linux, cómo se envían y reciben, y su papel en la gestión y control de la ejecución.\n",
    "    - **Miscelánea**\n",
    "      - **Expresiones Regulares**: Introduce el concepto de expresión regular e introduce las diferentes formas de usarlas.\n",
    "      - **Instalación de paquetes**: Enseña la forma de instalar, actualizar y desinstalar software en Linux.\n",
    "      - **Empaquetado de archivos**: Enumera y explica los comandos que se pueden utilizar para comprimir y descomprimir archivos.\n",
    "      - **Uso de disco**: Introduce los comandos más utilizados en *Linux* para ver y gestionar el espacio de almacenamiento del sistema.\n",
    "  - **Autoevaluación**: Una colección de ejercicios junto a sus soluciones para comprobar si el alumno ha interiorizado los conceptos correctamente. Recomendado resolver los ejercicios primero antes de ver las soluciones (las soluciones están para comprobar si se han hecho bien los ejercicios, o si el resultado es el que se pide, porque no hay una única manera de hacer las cosas en *Linux*).\n",
    "\n",
    "Tanto en el temario como en las autoevaluaciones, en la parte superior hay un botón para poder abrir el Jupyter Notebook correspondiente en *Google Colab*. *Google Colab* permite ejecutar en la nube (sin descargar nada) las celdas con comandos para comprobar qué resultado tendría ejecutar esas órdenes. Para guardar el progreso de un *Jupyter Notebook*, puedes descargártelo, y más adelante volver a abrirlo para poder seguir con él.\\\n",
    "En todas las celdas la primera línea es <code>%%shell</code>, que sirve para indicar el lenguaje que queremos ejecutar en la celda de código.\n",
    "</div>    "
   ]
  },
  {
   "cell_type": "code",
   "execution_count": null,
   "id": "52rM-MKWKdIk",
   "metadata": {
    "id": "52rM-MKWKdIk"
   },
   "outputs": [],
   "source": [
    "%%shell\n",
    "#Aquí van los comandos"
   ]
  },
  {
   "cell_type": "markdown",
   "id": "NpTjJDw2L6xu",
   "metadata": {
    "id": "NpTjJDw2L6xu"
   },
   "source": [
    "<div style=\"text-align: center;\">\n",
    "    <img src=\"https://raw.githubusercontent.com/msantana0612/TFG/gh-pages/images/logo-linux.png\" alt=\"Logo de Linux\" width=\"768\" height=\"273\">\n",
    "</div>"
   ]
  }
 ],
 "metadata": {
  "colab": {
   "provenance": []
  },
  "kernelspec": {
   "display_name": "Python 3 (ipykernel)",
   "language": "python",
   "name": "python3"
  },
  "language_info": {
   "codemirror_mode": {
    "name": "ipython",
    "version": 3
   },
   "file_extension": ".py",
   "mimetype": "text/x-python",
   "name": "python",
   "nbconvert_exporter": "python",
   "pygments_lexer": "ipython3",
   "version": "3.11.4"
  }
 },
 "nbformat": 4,
 "nbformat_minor": 5
}
